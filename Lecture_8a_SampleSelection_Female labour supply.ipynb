{
 "cells": [
  {
   "cell_type": "code",
   "execution_count": 3,
   "metadata": {},
   "outputs": [
    {
     "name": "stderr",
     "output_type": "stream",
     "text": [
      "Installing package into 'C:/Users/cl44343/Documents/R/win-library/3.4'\n",
      "(as 'lib' is unspecified)\n",
      "also installing the dependencies 'sandwich', 'maxLik', 'miscTools', 'systemfit', 'VGAM'\n",
      "\n"
     ]
    },
    {
     "name": "stdout",
     "output_type": "stream",
     "text": [
      "package 'sandwich' successfully unpacked and MD5 sums checked\n",
      "package 'maxLik' successfully unpacked and MD5 sums checked\n",
      "package 'miscTools' successfully unpacked and MD5 sums checked\n",
      "package 'systemfit' successfully unpacked and MD5 sums checked\n",
      "package 'VGAM' successfully unpacked and MD5 sums checked\n",
      "package 'sampleSelection' successfully unpacked and MD5 sums checked\n",
      "\n",
      "The downloaded binary packages are in\n",
      "\tC:\\Temp\\RtmpgJyHQ6\\downloaded_packages\n"
     ]
    },
    {
     "name": "stderr",
     "output_type": "stream",
     "text": [
      "Loading required package: maxLik\n",
      "Loading required package: miscTools\n",
      "\n",
      "Please cite the 'maxLik' package as:\n",
      "Henningsen, Arne and Toomet, Ott (2011). maxLik: A package for maximum likelihood estimation in R. Computational Statistics 26(3), 443-458. DOI 10.1007/s00180-010-0217-1.\n",
      "\n",
      "If you have questions, suggestions, or comments regarding the 'maxLik' package, please use a forum or 'tracker' at maxLik's R-Forge site:\n",
      "https://r-forge.r-project.org/projects/maxlik/\n"
     ]
    }
   ],
   "source": [
    "install.packages('sampleSelection')\n",
    "library(sampleSelection)"
   ]
  },
  {
   "cell_type": "code",
   "execution_count": 6,
   "metadata": {},
   "outputs": [],
   "source": [
    "data('Mroz87')\n",
    "write.csv(Mroz87, file='Mroz87.csv')"
   ]
  },
  {
   "cell_type": "code",
   "execution_count": 8,
   "metadata": {},
   "outputs": [],
   "source": [
    "Mroz87$kids = (Mroz87$kids5 + Mroz87$kids618 > 0)"
   ]
  },
  {
   "cell_type": "code",
   "execution_count": 9,
   "metadata": {},
   "outputs": [],
   "source": [
    "Mroz87.ml = selection(lfp ~ age + I(age^2) + faminc + kids + educ, \n",
    "                      wage~exper+I(exper^2)+educ+city, data=Mroz87, \n",
    "                      maxMethod='BHHH', iterlim=500)"
   ]
  },
  {
   "cell_type": "code",
   "execution_count": 10,
   "metadata": {},
   "outputs": [
    {
     "data": {
      "text/plain": [
       "--------------------------------------------\n",
       "Tobit 2 model (sample selection model)\n",
       "Maximum Likelihood estimation\n",
       "BHHH maximisation, 62 iterations\n",
       "Return code 2: successive function values within tolerance limit\n",
       "Log-Likelihood: -1581.259 \n",
       "753 observations (325 censored and 428 observed)\n",
       "13 free parameters (df = 740)\n",
       "Probit selection equation:\n",
       "              Estimate Std. error t value  Pr(> t)    \n",
       "(Intercept) -4.120e+00  1.410e+00  -2.921 0.003487 ** \n",
       "age          1.840e-01  6.584e-02   2.795 0.005189 ** \n",
       "I(age^2)    -2.409e-03  7.735e-04  -3.115 0.001843 ** \n",
       "faminc       5.676e-06  3.890e-06   1.459 0.144506    \n",
       "kidsTRUE    -4.507e-01  1.367e-01  -3.298 0.000974 ***\n",
       "educ         9.533e-02  2.400e-02   3.973  7.1e-05 ***\n",
       "Outcome equation:\n",
       "              Estimate Std. error t value  Pr(> t)    \n",
       "(Intercept) -1.9537242  1.6745690  -1.167    0.243    \n",
       "exper        0.0284295  0.0753989   0.377    0.706    \n",
       "I(exper^2)  -0.0001151  0.0023339  -0.049    0.961    \n",
       "educ         0.4562471  0.0959626   4.754 1.99e-06 ***\n",
       "city         0.4451424  0.4255420   1.046    0.296    \n",
       "   Error terms:\n",
       "      Estimate Std. error t value Pr(> t)    \n",
       "sigma  3.10350    0.08368  37.088  <2e-16 ***\n",
       "rho   -0.13328    0.22296  -0.598    0.55    \n",
       "---\n",
       "Signif. codes:  0 '***' 0.001 '**' 0.01 '*' 0.05 '.' 0.1 ' ' 1\n",
       "--------------------------------------------"
      ]
     },
     "metadata": {},
     "output_type": "display_data"
    }
   ],
   "source": [
    "summary(Mroz87.ml)"
   ]
  },
  {
   "cell_type": "code",
   "execution_count": 11,
   "metadata": {},
   "outputs": [],
   "source": [
    "?I"
   ]
  }
 ],
 "metadata": {
  "kernelspec": {
   "display_name": "R",
   "language": "R",
   "name": "ir"
  },
  "language_info": {
   "codemirror_mode": "r",
   "file_extension": ".r",
   "mimetype": "text/x-r-source",
   "name": "R",
   "pygments_lexer": "r",
   "version": "3.4.3"
  }
 },
 "nbformat": 4,
 "nbformat_minor": 2
}
