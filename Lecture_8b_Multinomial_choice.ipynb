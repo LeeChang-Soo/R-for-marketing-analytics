{
 "cells": [
  {
   "cell_type": "markdown",
   "metadata": {},
   "source": [
    "# Choice Model Data"
   ]
  },
  {
   "cell_type": "markdown",
   "metadata": {},
   "source": [
    "- Travel Mode Data <p>\n",
    "- Long format: there is one row for each alternative and, therefore, as many rows as there are alternatives for each choice situation"
   ]
  },
  {
   "cell_type": "code",
   "execution_count": 1,
   "metadata": {
    "scrolled": false
   },
   "outputs": [
    {
     "name": "stderr",
     "output_type": "stream",
     "text": [
      "Warning message:\n",
      "\"package 'mlogit' was built under R version 3.4.4\"Loading required package: Formula\n",
      "Loading required package: maxLik\n",
      "Warning message:\n",
      "\"package 'maxLik' was built under R version 3.4.4\"Loading required package: miscTools\n",
      "Warning message:\n",
      "\"package 'miscTools' was built under R version 3.4.4\"\n",
      "Please cite the 'maxLik' package as:\n",
      "Henningsen, Arne and Toomet, Ott (2011). maxLik: A package for maximum likelihood estimation in R. Computational Statistics 26(3), 443-458. DOI 10.1007/s00180-010-0217-1.\n",
      "\n",
      "If you have questions, suggestions, or comments regarding the 'maxLik' package, please use a forum or 'tracker' at maxLik's R-Forge site:\n",
      "https://r-forge.r-project.org/projects/maxlik/\n"
     ]
    }
   ],
   "source": [
    "library(mlogit)"
   ]
  },
  {
   "cell_type": "code",
   "execution_count": 2,
   "metadata": {},
   "outputs": [],
   "source": [
    "TravelMode = read.csv('TravelMode_data.csv', header=T)"
   ]
  },
  {
   "cell_type": "code",
   "execution_count": 3,
   "metadata": {},
   "outputs": [],
   "source": [
    "travel.logit = mlogit.data(TravelMode, shape='long', choice='choice',\n",
    "                           alt.levels = c('air', 'train', 'bus', 'car'))"
   ]
  },
  {
   "cell_type": "markdown",
   "metadata": {},
   "source": [
    "### A simple choice model for travel mode"
   ]
  },
  {
   "cell_type": "code",
   "execution_count": 5,
   "metadata": {},
   "outputs": [],
   "source": [
    "travel.m1    = mlogit(choice ~ wait + vcost + travel, travel.logit, \n",
    "                      reflevel = 'bus')    "
   ]
  },
  {
   "cell_type": "code",
   "execution_count": 7,
   "metadata": {
    "scrolled": true
   },
   "outputs": [
    {
     "data": {
      "text/plain": [
       "\n",
       "Call:\n",
       "mlogit(formula = choice ~ wait + vcost + travel, data = travel.logit, \n",
       "    reflevel = \"bus\", method = \"nr\", print.level = 0)\n",
       "\n",
       "Frequencies of alternatives:\n",
       "    bus     air   train     car \n",
       "0.14286 0.27619 0.30000 0.28095 \n",
       "\n",
       "nr method\n",
       "5 iterations, 0h:0m:0s \n",
       "g'(-H)^-1g = 0.000192 \n",
       "successive function values within tolerance limits \n",
       "\n",
       "Coefficients :\n",
       "                     Estimate  Std. Error t-value  Pr(>|t|)    \n",
       "air:(intercept)    1.43363372  0.68071345  2.1061   0.03520 *  \n",
       "train:(intercept)  0.64696705  0.29739688  2.1754   0.02960 *  \n",
       "car:(intercept)   -3.30622276  0.45832999 -7.2136 5.449e-13 ***\n",
       "wait              -0.09688675  0.01034202 -9.3683 < 2.2e-16 ***\n",
       "vcost             -0.01391160  0.00665133 -2.0916   0.03648 *  \n",
       "travel            -0.00399468  0.00084915 -4.7043 2.547e-06 ***\n",
       "---\n",
       "Signif. codes:  0 '***' 0.001 '**' 0.01 '*' 0.05 '.' 0.1 ' ' 1\n",
       "\n",
       "Log-Likelihood: -192.89\n",
       "McFadden R^2:  0.32024 \n",
       "Likelihood ratio test : chisq = 181.74 (p.value = < 2.22e-16)"
      ]
     },
     "metadata": {},
     "output_type": "display_data"
    }
   ],
   "source": [
    "summary(travel.m1)"
   ]
  },
  {
   "cell_type": "markdown",
   "metadata": {},
   "source": [
    "### Another choice model for travel mode"
   ]
  },
  {
   "cell_type": "code",
   "execution_count": 9,
   "metadata": {},
   "outputs": [],
   "source": [
    "travel.m2 = mlogit(choice ~ wait + vcost + travel | income, travel.logit, \n",
    "                   reflevel='bus')"
   ]
  },
  {
   "cell_type": "code",
   "execution_count": 10,
   "metadata": {
    "scrolled": true
   },
   "outputs": [
    {
     "data": {
      "text/plain": [
       "\n",
       "Call:\n",
       "mlogit(formula = choice ~ wait + vcost + travel | income, data = travel.logit, \n",
       "    reflevel = \"bus\", method = \"nr\", print.level = 0)\n",
       "\n",
       "Frequencies of alternatives:\n",
       "    bus     air   train     car \n",
       "0.14286 0.27619 0.30000 0.28095 \n",
       "\n",
       "nr method\n",
       "5 iterations, 0h:0m:0s \n",
       "g'(-H)^-1g = 0.000546 \n",
       "successive function values within tolerance limits \n",
       "\n",
       "Coefficients :\n",
       "                     Estimate  Std. Error t-value  Pr(>|t|)    \n",
       "air:(intercept)    0.18436561  0.89664384  0.2056   0.83709    \n",
       "train:(intercept)  1.42648960  0.55740326  2.5592   0.01049 *  \n",
       "car:(intercept)   -4.06305942  0.68715749 -5.9129 3.362e-09 ***\n",
       "wait              -0.09528341  0.01035524 -9.2015 < 2.2e-16 ***\n",
       "vcost             -0.00449878  0.00721124 -0.6239   0.53272    \n",
       "travel            -0.00366471  0.00086797 -4.2222 2.420e-05 ***\n",
       "air:income         0.02311070  0.01645639  1.4044   0.16021    \n",
       "train:income      -0.03278436  0.01708649 -1.9187   0.05502 .  \n",
       "car:income         0.02521351  0.01567725  1.6083   0.10777    \n",
       "---\n",
       "Signif. codes:  0 '***' 0.001 '**' 0.01 '*' 0.05 '.' 0.1 ' ' 1\n",
       "\n",
       "Log-Likelihood: -182.22\n",
       "McFadden R^2:  0.35784 \n",
       "Likelihood ratio test : chisq = 203.08 (p.value = < 2.22e-16)"
      ]
     },
     "metadata": {},
     "output_type": "display_data"
    }
   ],
   "source": [
    "summary(travel.m2)"
   ]
  },
  {
   "cell_type": "markdown",
   "metadata": {},
   "source": [
    "## Another Data Example"
   ]
  },
  {
   "cell_type": "markdown",
   "metadata": {},
   "source": [
    "- The data set \"Heating\" is about the choice of heating system in California houses\n",
    "- 900 observations in wide format\n",
    "- Variables:\n",
    "    - Idcase: id; Depvar: choice in {gc, gr, ec, er, hp},\n",
    "    - ic.alt: installation cost\n",
    "    - oc.alt: annual operating cost\n",
    "    - Income, agehed, rooms, region"
   ]
  },
  {
   "cell_type": "code",
   "execution_count": 11,
   "metadata": {},
   "outputs": [],
   "source": [
    "data('Heating', package='mlogit')"
   ]
  },
  {
   "cell_type": "code",
   "execution_count": 12,
   "metadata": {},
   "outputs": [
    {
     "data": {
      "text/html": [
       "<table>\n",
       "<thead><tr><th scope=col>idcase</th><th scope=col>depvar</th><th scope=col>ic.gc</th><th scope=col>ic.gr</th><th scope=col>ic.ec</th><th scope=col>ic.er</th><th scope=col>ic.hp</th><th scope=col>oc.gc</th><th scope=col>oc.gr</th><th scope=col>oc.ec</th><th scope=col>oc.er</th><th scope=col>oc.hp</th><th scope=col>income</th><th scope=col>agehed</th><th scope=col>rooms</th><th scope=col>region</th></tr></thead>\n",
       "<tbody>\n",
       "\t<tr><td>1      </td><td>gc     </td><td>866.00 </td><td>962.64 </td><td>859.90 </td><td>995.76 </td><td>1135.50</td><td>199.69 </td><td>151.72 </td><td>553.34 </td><td>505.60 </td><td>237.88 </td><td>7      </td><td>25     </td><td>6      </td><td>ncostl </td></tr>\n",
       "\t<tr><td>2      </td><td>gc     </td><td>727.93 </td><td>758.89 </td><td>796.82 </td><td>894.69 </td><td> 968.90</td><td>168.66 </td><td>168.66 </td><td>520.24 </td><td>486.49 </td><td>199.19 </td><td>5      </td><td>60     </td><td>5      </td><td>scostl </td></tr>\n",
       "\t<tr><td>3      </td><td>gc     </td><td>599.48 </td><td>783.05 </td><td>719.86 </td><td>900.11 </td><td>1048.30</td><td>165.58 </td><td>137.80 </td><td>439.06 </td><td>404.74 </td><td>171.47 </td><td>4      </td><td>65     </td><td>2      </td><td>ncostl </td></tr>\n",
       "\t<tr><td>4      </td><td>er     </td><td>835.17 </td><td>793.06 </td><td>761.25 </td><td>831.04 </td><td>1048.70</td><td>180.88 </td><td>147.14 </td><td>483.00 </td><td>425.22 </td><td>222.95 </td><td>2      </td><td>50     </td><td>4      </td><td>scostl </td></tr>\n",
       "\t<tr><td>5      </td><td>er     </td><td>755.59 </td><td>846.29 </td><td>858.86 </td><td>985.64 </td><td> 883.05</td><td>174.91 </td><td>138.90 </td><td>404.41 </td><td>389.52 </td><td>178.49 </td><td>2      </td><td>25     </td><td>6      </td><td>valley </td></tr>\n",
       "\t<tr><td>6      </td><td>gc     </td><td>666.11 </td><td>841.71 </td><td>693.74 </td><td>862.56 </td><td> 859.18</td><td>135.67 </td><td>140.97 </td><td>398.22 </td><td>371.04 </td><td>209.27 </td><td>6      </td><td>65     </td><td>7      </td><td>scostl </td></tr>\n",
       "</tbody>\n",
       "</table>\n"
      ],
      "text/latex": [
       "\\begin{tabular}{r|llllllllllllllll}\n",
       " idcase & depvar & ic.gc & ic.gr & ic.ec & ic.er & ic.hp & oc.gc & oc.gr & oc.ec & oc.er & oc.hp & income & agehed & rooms & region\\\\\n",
       "\\hline\n",
       "\t 1       & gc      & 866.00  & 962.64  & 859.90  & 995.76  & 1135.50 & 199.69  & 151.72  & 553.34  & 505.60  & 237.88  & 7       & 25      & 6       & ncostl \\\\\n",
       "\t 2       & gc      & 727.93  & 758.89  & 796.82  & 894.69  &  968.90 & 168.66  & 168.66  & 520.24  & 486.49  & 199.19  & 5       & 60      & 5       & scostl \\\\\n",
       "\t 3       & gc      & 599.48  & 783.05  & 719.86  & 900.11  & 1048.30 & 165.58  & 137.80  & 439.06  & 404.74  & 171.47  & 4       & 65      & 2       & ncostl \\\\\n",
       "\t 4       & er      & 835.17  & 793.06  & 761.25  & 831.04  & 1048.70 & 180.88  & 147.14  & 483.00  & 425.22  & 222.95  & 2       & 50      & 4       & scostl \\\\\n",
       "\t 5       & er      & 755.59  & 846.29  & 858.86  & 985.64  &  883.05 & 174.91  & 138.90  & 404.41  & 389.52  & 178.49  & 2       & 25      & 6       & valley \\\\\n",
       "\t 6       & gc      & 666.11  & 841.71  & 693.74  & 862.56  &  859.18 & 135.67  & 140.97  & 398.22  & 371.04  & 209.27  & 6       & 65      & 7       & scostl \\\\\n",
       "\\end{tabular}\n"
      ],
      "text/markdown": [
       "\n",
       "idcase | depvar | ic.gc | ic.gr | ic.ec | ic.er | ic.hp | oc.gc | oc.gr | oc.ec | oc.er | oc.hp | income | agehed | rooms | region | \n",
       "|---|---|---|---|---|---|\n",
       "| 1       | gc      | 866.00  | 962.64  | 859.90  | 995.76  | 1135.50 | 199.69  | 151.72  | 553.34  | 505.60  | 237.88  | 7       | 25      | 6       | ncostl  | \n",
       "| 2       | gc      | 727.93  | 758.89  | 796.82  | 894.69  |  968.90 | 168.66  | 168.66  | 520.24  | 486.49  | 199.19  | 5       | 60      | 5       | scostl  | \n",
       "| 3       | gc      | 599.48  | 783.05  | 719.86  | 900.11  | 1048.30 | 165.58  | 137.80  | 439.06  | 404.74  | 171.47  | 4       | 65      | 2       | ncostl  | \n",
       "| 4       | er      | 835.17  | 793.06  | 761.25  | 831.04  | 1048.70 | 180.88  | 147.14  | 483.00  | 425.22  | 222.95  | 2       | 50      | 4       | scostl  | \n",
       "| 5       | er      | 755.59  | 846.29  | 858.86  | 985.64  |  883.05 | 174.91  | 138.90  | 404.41  | 389.52  | 178.49  | 2       | 25      | 6       | valley  | \n",
       "| 6       | gc      | 666.11  | 841.71  | 693.74  | 862.56  |  859.18 | 135.67  | 140.97  | 398.22  | 371.04  | 209.27  | 6       | 65      | 7       | scostl  | \n",
       "\n",
       "\n"
      ],
      "text/plain": [
       "  idcase depvar ic.gc  ic.gr  ic.ec  ic.er  ic.hp   oc.gc  oc.gr  oc.ec  oc.er \n",
       "1 1      gc     866.00 962.64 859.90 995.76 1135.50 199.69 151.72 553.34 505.60\n",
       "2 2      gc     727.93 758.89 796.82 894.69  968.90 168.66 168.66 520.24 486.49\n",
       "3 3      gc     599.48 783.05 719.86 900.11 1048.30 165.58 137.80 439.06 404.74\n",
       "4 4      er     835.17 793.06 761.25 831.04 1048.70 180.88 147.14 483.00 425.22\n",
       "5 5      er     755.59 846.29 858.86 985.64  883.05 174.91 138.90 404.41 389.52\n",
       "6 6      gc     666.11 841.71 693.74 862.56  859.18 135.67 140.97 398.22 371.04\n",
       "  oc.hp  income agehed rooms region\n",
       "1 237.88 7      25     6     ncostl\n",
       "2 199.19 5      60     5     scostl\n",
       "3 171.47 4      65     2     ncostl\n",
       "4 222.95 2      50     4     scostl\n",
       "5 178.49 2      25     6     valley\n",
       "6 209.27 6      65     7     scostl"
      ]
     },
     "metadata": {},
     "output_type": "display_data"
    }
   ],
   "source": [
    "head(Heating)"
   ]
  },
  {
   "cell_type": "code",
   "execution_count": 13,
   "metadata": {},
   "outputs": [],
   "source": [
    "H.data = mlogit.data(Heating, shape='wide', choice ='depvar', \n",
    "                     varying=c(3:12))"
   ]
  },
  {
   "cell_type": "code",
   "execution_count": 15,
   "metadata": {
    "scrolled": true
   },
   "outputs": [
    {
     "data": {
      "text/plain": [
       "\n",
       "Call:\n",
       "mlogit(formula = depvar ~ ic + oc | 0, data = H.data, reflevel = \"hp\", \n",
       "    method = \"nr\", print.level = 0)\n",
       "\n",
       "Frequencies of alternatives:\n",
       "      hp       ec       er       gc       gr \n",
       "0.055556 0.071111 0.093333 0.636667 0.143333 \n",
       "\n",
       "nr method\n",
       "4 iterations, 0h:0m:0s \n",
       "g'(-H)^-1g = 1.56E-07 \n",
       "gradient close to zero \n",
       "\n",
       "Coefficients :\n",
       "      Estimate  Std. Error t-value  Pr(>|t|)    \n",
       "ic -0.00623187  0.00035277 -17.665 < 2.2e-16 ***\n",
       "oc -0.00458008  0.00032216 -14.217 < 2.2e-16 ***\n",
       "---\n",
       "Signif. codes:  0 '***' 0.001 '**' 0.01 '*' 0.05 '.' 0.1 ' ' 1\n",
       "\n",
       "Log-Likelihood: -1095.2"
      ]
     },
     "metadata": {},
     "output_type": "display_data"
    }
   ],
   "source": [
    "heating.m1 = mlogit(depvar ~ ic + oc | 0, H.data, reflevel = 'hp')\n",
    "summary(heating.m1)"
   ]
  },
  {
   "cell_type": "markdown",
   "metadata": {},
   "source": [
    "To see how the model fit the original data, let's look at the market shares:"
   ]
  },
  {
   "cell_type": "code",
   "execution_count": 16,
   "metadata": {},
   "outputs": [
    {
     "data": {
      "text/html": [
       "<dl class=dl-horizontal>\n",
       "\t<dt>hp</dt>\n",
       "\t\t<dd>0.087189145698782</dd>\n",
       "\t<dt>ec</dt>\n",
       "\t\t<dd>0.104130572375179</dd>\n",
       "\t<dt>er</dt>\n",
       "\t\t<dd>0.0514147742983051</dd>\n",
       "\t<dt>gc</dt>\n",
       "\t\t<dd>0.516956532280289</dd>\n",
       "\t<dt>gr</dt>\n",
       "\t\t<dd>0.240308975347445</dd>\n",
       "</dl>\n"
      ],
      "text/latex": [
       "\\begin{description*}\n",
       "\\item[hp] 0.087189145698782\n",
       "\\item[ec] 0.104130572375179\n",
       "\\item[er] 0.0514147742983051\n",
       "\\item[gc] 0.516956532280289\n",
       "\\item[gr] 0.240308975347445\n",
       "\\end{description*}\n"
      ],
      "text/markdown": [
       "hp\n",
       ":   0.087189145698782ec\n",
       ":   0.104130572375179er\n",
       ":   0.0514147742983051gc\n",
       ":   0.516956532280289gr\n",
       ":   0.240308975347445\n",
       "\n"
      ],
      "text/plain": [
       "        hp         ec         er         gc         gr \n",
       "0.08718915 0.10413057 0.05141477 0.51695653 0.24030898 "
      ]
     },
     "metadata": {},
     "output_type": "display_data"
    }
   ],
   "source": [
    "heating.fit1 = fitted(heating.m1, outcome=F)\n",
    "colMeans(heating.fit1)"
   ]
  },
  {
   "cell_type": "markdown",
   "metadata": {},
   "source": [
    "## Fit the Fixed Effect Model"
   ]
  },
  {
   "cell_type": "markdown",
   "metadata": {},
   "source": [
    "The model with choice-specific intercepts"
   ]
  },
  {
   "cell_type": "code",
   "execution_count": 18,
   "metadata": {
    "scrolled": true
   },
   "outputs": [
    {
     "data": {
      "text/plain": [
       "\n",
       "Call:\n",
       "mlogit(formula = depvar ~ ic + oc, data = H.data, reflevel = \"hp\", \n",
       "    method = \"nr\", print.level = 0)\n",
       "\n",
       "Frequencies of alternatives:\n",
       "      hp       ec       er       gc       gr \n",
       "0.055556 0.071111 0.093333 0.636667 0.143333 \n",
       "\n",
       "nr method\n",
       "6 iterations, 0h:0m:0s \n",
       "g'(-H)^-1g = 9.58E-06 \n",
       "successive function values within tolerance limits \n",
       "\n",
       "Coefficients :\n",
       "                  Estimate  Std. Error t-value  Pr(>|t|)    \n",
       "ec:(intercept)  1.65884594  0.44841936  3.6993 0.0002162 ***\n",
       "er:(intercept)  1.85343697  0.36195509  5.1206 3.045e-07 ***\n",
       "gc:(intercept)  1.71097930  0.22674214  7.5459 4.485e-14 ***\n",
       "gr:(intercept)  0.30826328  0.20659222  1.4921 0.1356640    \n",
       "ic             -0.00153315  0.00062086 -2.4694 0.0135333 *  \n",
       "oc             -0.00699637  0.00155408 -4.5019 6.734e-06 ***\n",
       "---\n",
       "Signif. codes:  0 '***' 0.001 '**' 0.01 '*' 0.05 '.' 0.1 ' ' 1\n",
       "\n",
       "Log-Likelihood: -1008.2\n",
       "McFadden R^2:  0.013691 \n",
       "Likelihood ratio test : chisq = 27.99 (p.value = 8.3572e-07)"
      ]
     },
     "metadata": {},
     "output_type": "display_data"
    }
   ],
   "source": [
    "heating.m2 = mlogit(depvar ~ ic + oc, H.data, reflevel='hp')\n",
    "summary(heating.m2)"
   ]
  },
  {
   "cell_type": "code",
   "execution_count": 19,
   "metadata": {},
   "outputs": [
    {
     "data": {
      "text/html": [
       "<dl class=dl-horizontal>\n",
       "\t<dt>hp</dt>\n",
       "\t\t<dd>0.0555555555555556</dd>\n",
       "\t<dt>ec</dt>\n",
       "\t\t<dd>0.0711111111111111</dd>\n",
       "\t<dt>er</dt>\n",
       "\t\t<dd>0.0933333333333333</dd>\n",
       "\t<dt>gc</dt>\n",
       "\t\t<dd>0.636666666666667</dd>\n",
       "\t<dt>gr</dt>\n",
       "\t\t<dd>0.143333333333333</dd>\n",
       "</dl>\n"
      ],
      "text/latex": [
       "\\begin{description*}\n",
       "\\item[hp] 0.0555555555555556\n",
       "\\item[ec] 0.0711111111111111\n",
       "\\item[er] 0.0933333333333333\n",
       "\\item[gc] 0.636666666666667\n",
       "\\item[gr] 0.143333333333333\n",
       "\\end{description*}\n"
      ],
      "text/markdown": [
       "hp\n",
       ":   0.0555555555555556ec\n",
       ":   0.0711111111111111er\n",
       ":   0.0933333333333333gc\n",
       ":   0.636666666666667gr\n",
       ":   0.143333333333333\n",
       "\n"
      ],
      "text/plain": [
       "        hp         ec         er         gc         gr \n",
       "0.05555556 0.07111111 0.09333333 0.63666667 0.14333333 "
      ]
     },
     "metadata": {},
     "output_type": "display_data"
    }
   ],
   "source": [
    "heating.fit2 = fitted(heating.m2, outcome=F)\n",
    "colMeans(heating.fit2)"
   ]
  },
  {
   "cell_type": "markdown",
   "metadata": {},
   "source": [
    "The fitted market shares are identical to the observed market shares"
   ]
  },
  {
   "cell_type": "markdown",
   "metadata": {},
   "source": [
    "A more complicated model"
   ]
  },
  {
   "cell_type": "code",
   "execution_count": 21,
   "metadata": {
    "scrolled": true
   },
   "outputs": [
    {
     "data": {
      "text/plain": [
       "\n",
       "Call:\n",
       "mlogit(formula = depvar ~ ic + oc | income + agehed + rooms + \n",
       "    region, data = H.data, reflevel = \"hp\", method = \"nr\", print.level = 0)\n",
       "\n",
       "Frequencies of alternatives:\n",
       "      hp       ec       er       gc       gr \n",
       "0.055556 0.071111 0.093333 0.636667 0.143333 \n",
       "\n",
       "nr method\n",
       "6 iterations, 0h:0m:0s \n",
       "g'(-H)^-1g = 0.000205 \n",
       "successive function values within tolerance limits \n",
       "\n",
       "Coefficients :\n",
       "                   Estimate  Std. Error t-value  Pr(>|t|)    \n",
       "ec:(intercept)   0.74157651  1.11159204  0.6671   0.50469    \n",
       "er:(intercept)   2.39869671  1.00459037  2.3877   0.01695 *  \n",
       "gc:(intercept)   1.18644866  0.81402383  1.4575   0.14498    \n",
       "gr:(intercept)   0.34596215  0.90359240  0.3829   0.70181    \n",
       "ic              -0.00151382  0.00062611 -2.4178   0.01561 *  \n",
       "oc              -0.00695406  0.00156315 -4.4488 8.637e-06 ***\n",
       "ec:income       -0.05946817  0.11392698 -0.5220   0.60168    \n",
       "er:income       -0.09752868  0.10803426 -0.9028   0.36665    \n",
       "gc:income       -0.06630568  0.08943008 -0.7414   0.45844    \n",
       "gr:income       -0.17627637  0.10071270 -1.7503   0.08007 .  \n",
       "ec:agehed        0.01939645  0.01363131  1.4229   0.15476    \n",
       "er:agehed       -0.00635761  0.01304673 -0.4873   0.62605    \n",
       "gc:agehed        0.01506065  0.01069387  1.4083   0.15903    \n",
       "gr:agehed        0.01811376  0.01209160  1.4980   0.13412    \n",
       "ec:rooms         0.04383822  0.10872170  0.4032   0.68679    \n",
       "er:rooms         0.01807448  0.10305501  0.1754   0.86078    \n",
       "gc:rooms        -0.00836625  0.08510568 -0.0983   0.92169    \n",
       "gr:rooms        -0.02457506  0.09631717 -0.2551   0.79861    \n",
       "ec:regionscostl  0.17499333  0.50256236  0.3482   0.72769    \n",
       "er:regionscostl  0.18581837  0.46656095  0.3983   0.69043    \n",
       "gc:regionscostl  0.22004603  0.38500291  0.5715   0.56763    \n",
       "gr:regionscostl  0.24439738  0.43518088  0.5616   0.57439    \n",
       "ec:regionmountn  0.07507769  0.65815292  0.1141   0.90918    \n",
       "er:regionmountn -0.03756876  0.61332299 -0.0613   0.95116    \n",
       "gc:regionmountn -0.04592982  0.50445090 -0.0910   0.92745    \n",
       "gr:regionmountn  0.06981477  0.57076608  0.1223   0.90265    \n",
       "ec:regionncostl  0.39192623  0.55673253  0.7040   0.48145    \n",
       "er:regionncostl  0.04167718  0.53645473  0.0777   0.93807    \n",
       "gc:regionncostl  0.64073383  0.43647931  1.4680   0.14212    \n",
       "gr:regionncostl  0.06475694  0.50081205  0.1293   0.89712    \n",
       "---\n",
       "Signif. codes:  0 '***' 0.001 '**' 0.01 '*' 0.05 '.' 0.1 ' ' 1\n",
       "\n",
       "Log-Likelihood: -994.95\n",
       "McFadden R^2:  0.026686 \n",
       "Likelihood ratio test : chisq = 54.557 (p.value = 0.00086317)"
      ]
     },
     "metadata": {},
     "output_type": "display_data"
    }
   ],
   "source": [
    "heating.m3 = mlogit(depvar ~ ic+oc|income + agehed + rooms + region, \n",
    "                    H.data, reflevel='hp')\n",
    "summary(heating.m3)"
   ]
  },
  {
   "cell_type": "code",
   "execution_count": 22,
   "metadata": {},
   "outputs": [
    {
     "data": {
      "text/html": [
       "2194.47425065889"
      ],
      "text/latex": [
       "2194.47425065889"
      ],
      "text/markdown": [
       "2194.47425065889"
      ],
      "text/plain": [
       "[1] 2194.474"
      ]
     },
     "metadata": {},
     "output_type": "display_data"
    },
    {
     "data": {
      "text/html": [
       "2028.45744398153"
      ],
      "text/latex": [
       "2028.45744398153"
      ],
      "text/markdown": [
       "2028.45744398153"
      ],
      "text/plain": [
       "[1] 2028.457"
      ]
     },
     "metadata": {},
     "output_type": "display_data"
    },
    {
     "data": {
      "text/html": [
       "2049.89002803183"
      ],
      "text/latex": [
       "2049.89002803183"
      ],
      "text/markdown": [
       "2049.89002803183"
      ],
      "text/plain": [
       "[1] 2049.89"
      ]
     },
     "metadata": {},
     "output_type": "display_data"
    },
    {
     "data": {
      "text/html": [
       "&lt;NA&gt;"
      ],
      "text/latex": [
       "<NA>"
      ],
      "text/markdown": [
       "&lt;NA&gt;"
      ],
      "text/plain": [
       "[1] NA"
      ]
     },
     "metadata": {},
     "output_type": "display_data"
    },
    {
     "data": {
      "text/html": [
       "&lt;NA&gt;"
      ],
      "text/latex": [
       "<NA>"
      ],
      "text/markdown": [
       "&lt;NA&gt;"
      ],
      "text/plain": [
       "[1] NA"
      ]
     },
     "metadata": {},
     "output_type": "display_data"
    },
    {
     "data": {
      "text/html": [
       "&lt;NA&gt;"
      ],
      "text/latex": [
       "<NA>"
      ],
      "text/markdown": [
       "&lt;NA&gt;"
      ],
      "text/plain": [
       "[1] NA"
      ]
     },
     "metadata": {},
     "output_type": "display_data"
    }
   ],
   "source": [
    "AIC(heating.m1)\n",
    "AIC(heating.m2)\n",
    "AIC(heating.m3)\n",
    "\n",
    "BIC(heating.m1)\n",
    "BIC(heating.m2)\n",
    "BIC(heating.m3)"
   ]
  }
 ],
 "metadata": {
  "kernelspec": {
   "display_name": "R",
   "language": "R",
   "name": "ir"
  },
  "language_info": {
   "codemirror_mode": "r",
   "file_extension": ".r",
   "mimetype": "text/x-r-source",
   "name": "R",
   "pygments_lexer": "r",
   "version": "3.4.3"
  }
 },
 "nbformat": 4,
 "nbformat_minor": 2
}
