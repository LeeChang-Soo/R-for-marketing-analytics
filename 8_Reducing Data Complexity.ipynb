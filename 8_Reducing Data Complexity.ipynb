{
 "cells": [
  {
   "cell_type": "markdown",
   "metadata": {},
   "source": [
    "**Part III. Advanced Marketing Applications**\n",
    "\n",
    "**8.Reducing Data Complexity**\n",
    "\n",
    "**8.1 Consumer Brand Rating Data**"
   ]
  },
  {
   "cell_type": "code",
   "execution_count": 1,
   "metadata": {},
   "outputs": [
    {
     "data": {
      "text/html": [
       "<table>\n",
       "<thead><tr><th scope=col>perform</th><th scope=col>leader</th><th scope=col>latest</th><th scope=col>fun</th><th scope=col>serious</th><th scope=col>bargain</th><th scope=col>value</th><th scope=col>trendy</th><th scope=col>rebuy</th><th scope=col>brand</th></tr></thead>\n",
       "<tbody>\n",
       "\t<tr><td>2 </td><td>4 </td><td> 8</td><td>8 </td><td>2 </td><td>9 </td><td>7 </td><td>4 </td><td>6 </td><td>a </td></tr>\n",
       "\t<tr><td>1 </td><td>1 </td><td> 4</td><td>7 </td><td>1 </td><td>1 </td><td>1 </td><td>2 </td><td>2 </td><td>a </td></tr>\n",
       "\t<tr><td>2 </td><td>3 </td><td> 5</td><td>9 </td><td>2 </td><td>9 </td><td>5 </td><td>1 </td><td>6 </td><td>a </td></tr>\n",
       "\t<tr><td>1 </td><td>6 </td><td>10</td><td>8 </td><td>3 </td><td>4 </td><td>5 </td><td>2 </td><td>1 </td><td>a </td></tr>\n",
       "\t<tr><td>1 </td><td>1 </td><td> 5</td><td>8 </td><td>1 </td><td>9 </td><td>9 </td><td>1 </td><td>1 </td><td>a </td></tr>\n",
       "\t<tr><td>2 </td><td>8 </td><td> 9</td><td>5 </td><td>3 </td><td>8 </td><td>7 </td><td>1 </td><td>2 </td><td>a </td></tr>\n",
       "</tbody>\n",
       "</table>\n"
      ],
      "text/latex": [
       "\\begin{tabular}{r|llllllllll}\n",
       " perform & leader & latest & fun & serious & bargain & value & trendy & rebuy & brand\\\\\n",
       "\\hline\n",
       "\t 2  & 4  &  8 & 8  & 2  & 9  & 7  & 4  & 6  & a \\\\\n",
       "\t 1  & 1  &  4 & 7  & 1  & 1  & 1  & 2  & 2  & a \\\\\n",
       "\t 2  & 3  &  5 & 9  & 2  & 9  & 5  & 1  & 6  & a \\\\\n",
       "\t 1  & 6  & 10 & 8  & 3  & 4  & 5  & 2  & 1  & a \\\\\n",
       "\t 1  & 1  &  5 & 8  & 1  & 9  & 9  & 1  & 1  & a \\\\\n",
       "\t 2  & 8  &  9 & 5  & 3  & 8  & 7  & 1  & 2  & a \\\\\n",
       "\\end{tabular}\n"
      ],
      "text/markdown": [
       "\n",
       "perform | leader | latest | fun | serious | bargain | value | trendy | rebuy | brand | \n",
       "|---|---|---|---|---|---|\n",
       "| 2  | 4  |  8 | 8  | 2  | 9  | 7  | 4  | 6  | a  | \n",
       "| 1  | 1  |  4 | 7  | 1  | 1  | 1  | 2  | 2  | a  | \n",
       "| 2  | 3  |  5 | 9  | 2  | 9  | 5  | 1  | 6  | a  | \n",
       "| 1  | 6  | 10 | 8  | 3  | 4  | 5  | 2  | 1  | a  | \n",
       "| 1  | 1  |  5 | 8  | 1  | 9  | 9  | 1  | 1  | a  | \n",
       "| 2  | 8  |  9 | 5  | 3  | 8  | 7  | 1  | 2  | a  | \n",
       "\n",
       "\n"
      ],
      "text/plain": [
       "  perform leader latest fun serious bargain value trendy rebuy brand\n",
       "1 2       4       8     8   2       9       7     4      6     a    \n",
       "2 1       1       4     7   1       1       1     2      2     a    \n",
       "3 2       3       5     9   2       9       5     1      6     a    \n",
       "4 1       6      10     8   3       4       5     2      1     a    \n",
       "5 1       1       5     8   1       9       9     1      1     a    \n",
       "6 2       8       9     5   3       8       7     1      2     a    "
      ]
     },
     "metadata": {},
     "output_type": "display_data"
    }
   ],
   "source": [
    "brand.ratings = read.csv(\"http://goo.gl/IQl8nc\")\n",
    "head(brand.ratings)"
   ]
  },
  {
   "cell_type": "code",
   "execution_count": 2,
   "metadata": {},
   "outputs": [
    {
     "data": {
      "text/html": [
       "<table>\n",
       "<thead><tr><th></th><th scope=col>perform</th><th scope=col>leader</th><th scope=col>latest</th><th scope=col>fun</th><th scope=col>serious</th><th scope=col>bargain</th><th scope=col>value</th><th scope=col>trendy</th><th scope=col>rebuy</th><th scope=col>brand</th></tr></thead>\n",
       "<tbody>\n",
       "\t<tr><th scope=row>995</th><td>4 </td><td>2 </td><td> 8</td><td> 7</td><td>1 </td><td>3 </td><td>3 </td><td>5 </td><td>2 </td><td>j </td></tr>\n",
       "\t<tr><th scope=row>996</th><td>2 </td><td>2 </td><td> 3</td><td> 6</td><td>4 </td><td>8 </td><td>5 </td><td>1 </td><td>2 </td><td>j </td></tr>\n",
       "\t<tr><th scope=row>997</th><td>3 </td><td>2 </td><td> 6</td><td> 7</td><td>1 </td><td>3 </td><td>3 </td><td>2 </td><td>1 </td><td>j </td></tr>\n",
       "\t<tr><th scope=row>998</th><td>1 </td><td>1 </td><td>10</td><td>10</td><td>1 </td><td>6 </td><td>5 </td><td>5 </td><td>2 </td><td>j </td></tr>\n",
       "\t<tr><th scope=row>999</th><td>1 </td><td>1 </td><td> 7</td><td> 5</td><td>1 </td><td>1 </td><td>2 </td><td>5 </td><td>1 </td><td>j </td></tr>\n",
       "\t<tr><th scope=row>1000</th><td>7 </td><td>4 </td><td> 7</td><td> 8</td><td>4 </td><td>1 </td><td>2 </td><td>5 </td><td>1 </td><td>j </td></tr>\n",
       "</tbody>\n",
       "</table>\n"
      ],
      "text/latex": [
       "\\begin{tabular}{r|llllllllll}\n",
       "  & perform & leader & latest & fun & serious & bargain & value & trendy & rebuy & brand\\\\\n",
       "\\hline\n",
       "\t995 & 4  & 2  &  8 &  7 & 1  & 3  & 3  & 5  & 2  & j \\\\\n",
       "\t996 & 2  & 2  &  3 &  6 & 4  & 8  & 5  & 1  & 2  & j \\\\\n",
       "\t997 & 3  & 2  &  6 &  7 & 1  & 3  & 3  & 2  & 1  & j \\\\\n",
       "\t998 & 1  & 1  & 10 & 10 & 1  & 6  & 5  & 5  & 2  & j \\\\\n",
       "\t999 & 1  & 1  &  7 &  5 & 1  & 1  & 2  & 5  & 1  & j \\\\\n",
       "\t1000 & 7  & 4  &  7 &  8 & 4  & 1  & 2  & 5  & 1  & j \\\\\n",
       "\\end{tabular}\n"
      ],
      "text/markdown": [
       "\n",
       "| <!--/--> | perform | leader | latest | fun | serious | bargain | value | trendy | rebuy | brand | \n",
       "|---|---|---|---|---|---|\n",
       "| 995 | 4  | 2  |  8 |  7 | 1  | 3  | 3  | 5  | 2  | j  | \n",
       "| 996 | 2  | 2  |  3 |  6 | 4  | 8  | 5  | 1  | 2  | j  | \n",
       "| 997 | 3  | 2  |  6 |  7 | 1  | 3  | 3  | 2  | 1  | j  | \n",
       "| 998 | 1  | 1  | 10 | 10 | 1  | 6  | 5  | 5  | 2  | j  | \n",
       "| 999 | 1  | 1  |  7 |  5 | 1  | 1  | 2  | 5  | 1  | j  | \n",
       "| 1000 | 7  | 4  |  7 |  8 | 4  | 1  | 2  | 5  | 1  | j  | \n",
       "\n",
       "\n"
      ],
      "text/plain": [
       "     perform leader latest fun serious bargain value trendy rebuy brand\n",
       "995  4       2       8      7  1       3       3     5      2     j    \n",
       "996  2       2       3      6  4       8       5     1      2     j    \n",
       "997  3       2       6      7  1       3       3     2      1     j    \n",
       "998  1       1      10     10  1       6       5     5      2     j    \n",
       "999  1       1       7      5  1       1       2     5      1     j    \n",
       "1000 7       4       7      8  4       1       2     5      1     j    "
      ]
     },
     "metadata": {},
     "output_type": "display_data"
    }
   ],
   "source": [
    "tail(brand.ratings)"
   ]
  },
  {
   "cell_type": "code",
   "execution_count": 3,
   "metadata": {},
   "outputs": [
    {
     "data": {
      "text/plain": [
       "    perform           leader           latest            fun        \n",
       " Min.   : 1.000   Min.   : 1.000   Min.   : 1.000   Min.   : 1.000  \n",
       " 1st Qu.: 1.000   1st Qu.: 2.000   1st Qu.: 4.000   1st Qu.: 4.000  \n",
       " Median : 4.000   Median : 4.000   Median : 7.000   Median : 6.000  \n",
       " Mean   : 4.488   Mean   : 4.417   Mean   : 6.195   Mean   : 6.068  \n",
       " 3rd Qu.: 7.000   3rd Qu.: 6.000   3rd Qu.: 9.000   3rd Qu.: 8.000  \n",
       " Max.   :10.000   Max.   :10.000   Max.   :10.000   Max.   :10.000  \n",
       "                                                                    \n",
       "    serious          bargain           value            trendy     \n",
       " Min.   : 1.000   Min.   : 1.000   Min.   : 1.000   Min.   : 1.00  \n",
       " 1st Qu.: 2.000   1st Qu.: 2.000   1st Qu.: 2.000   1st Qu.: 3.00  \n",
       " Median : 4.000   Median : 4.000   Median : 4.000   Median : 5.00  \n",
       " Mean   : 4.323   Mean   : 4.259   Mean   : 4.337   Mean   : 5.22  \n",
       " 3rd Qu.: 6.000   3rd Qu.: 6.000   3rd Qu.: 6.000   3rd Qu.: 7.00  \n",
       " Max.   :10.000   Max.   :10.000   Max.   :10.000   Max.   :10.00  \n",
       "                                                                   \n",
       "     rebuy            brand    \n",
       " Min.   : 1.000   a      :100  \n",
       " 1st Qu.: 1.000   b      :100  \n",
       " Median : 3.000   c      :100  \n",
       " Mean   : 3.727   d      :100  \n",
       " 3rd Qu.: 5.000   e      :100  \n",
       " Max.   :10.000   f      :100  \n",
       "                  (Other):400  "
      ]
     },
     "metadata": {},
     "output_type": "display_data"
    }
   ],
   "source": [
    "summary(brand.ratings)"
   ]
  },
  {
   "cell_type": "code",
   "execution_count": 4,
   "metadata": {},
   "outputs": [
    {
     "name": "stdout",
     "output_type": "stream",
     "text": [
      "'data.frame':\t1000 obs. of  10 variables:\n",
      " $ perform: int  2 1 2 1 1 2 1 2 2 3 ...\n",
      " $ leader : int  4 1 3 6 1 8 1 1 1 1 ...\n",
      " $ latest : int  8 4 5 10 5 9 5 7 8 9 ...\n",
      " $ fun    : int  8 7 9 8 8 5 7 5 10 8 ...\n",
      " $ serious: int  2 1 2 3 1 3 1 2 1 1 ...\n",
      " $ bargain: int  9 1 9 4 9 8 5 8 7 3 ...\n",
      " $ value  : int  7 1 5 5 9 7 1 7 7 3 ...\n",
      " $ trendy : int  4 2 1 2 1 1 1 7 5 4 ...\n",
      " $ rebuy  : int  6 2 6 1 1 2 1 1 1 1 ...\n",
      " $ brand  : Factor w/ 10 levels \"a\",\"b\",\"c\",\"d\",..: 1 1 1 1 1 1 1 1 1 1 ...\n"
     ]
    }
   ],
   "source": [
    "str(brand.ratings)"
   ]
  },
  {
   "cell_type": "markdown",
   "metadata": {},
   "source": [
    "**8.1.1 Rescaling the Data**\n",
    "\n",
    "A common procedure is to center each variable by subtracting its mean from every observation, and then rescale those centered values as units of standard deviation. This is commonly called ***standardizing, normalizing,or Z scoring*** the data"
   ]
  },
  {
   "cell_type": "code",
   "execution_count": 6,
   "metadata": {},
   "outputs": [
    {
     "data": {
      "text/plain": [
       "   Min. 1st Qu.  Median    Mean 3rd Qu.    Max. \n",
       "-1.7295 -0.8647  0.0000  0.0000  0.8647  1.7295 "
      ]
     },
     "metadata": {},
     "output_type": "display_data"
    }
   ],
   "source": [
    "x = 1:1000\n",
    "x.sc = (x-mean(x)) / sd(x)\n",
    "summary(x.sc)"
   ]
  },
  {
   "cell_type": "code",
   "execution_count": 7,
   "metadata": {},
   "outputs": [
    {
     "data": {
      "text/plain": [
       "    perform            leader            latest             fun          \n",
       " Min.   :-1.0888   Min.   :-1.3100   Min.   :-1.6878   Min.   :-1.84677  \n",
       " 1st Qu.:-1.0888   1st Qu.:-0.9266   1st Qu.:-0.7131   1st Qu.:-0.75358  \n",
       " Median :-0.1523   Median :-0.1599   Median : 0.2615   Median :-0.02478  \n",
       " Mean   : 0.0000   Mean   : 0.0000   Mean   : 0.0000   Mean   : 0.00000  \n",
       " 3rd Qu.: 0.7842   3rd Qu.: 0.6069   3rd Qu.: 0.9113   3rd Qu.: 0.70402  \n",
       " Max.   : 1.7206   Max.   : 2.1404   Max.   : 1.2362   Max.   : 1.43281  \n",
       "                                                                         \n",
       "    serious           bargain             value             trendy        \n",
       " Min.   :-1.1961   Min.   :-1.22196   Min.   :-1.3912   Min.   :-1.53897  \n",
       " 1st Qu.:-0.8362   1st Qu.:-0.84701   1st Qu.:-0.9743   1st Qu.:-0.80960  \n",
       " Median :-0.1163   Median :-0.09711   Median :-0.1405   Median :-0.08023  \n",
       " Mean   : 0.0000   Mean   : 0.00000   Mean   : 0.0000   Mean   : 0.00000  \n",
       " 3rd Qu.: 0.6036   3rd Qu.: 0.65279   3rd Qu.: 0.6933   3rd Qu.: 0.64914  \n",
       " Max.   : 2.0434   Max.   : 2.15258   Max.   : 2.3610   Max.   : 1.74319  \n",
       "                                                                          \n",
       "     rebuy             brand    \n",
       " Min.   :-1.0717   a      :100  \n",
       " 1st Qu.:-1.0717   b      :100  \n",
       " Median :-0.2857   c      :100  \n",
       " Mean   : 0.0000   d      :100  \n",
       " 3rd Qu.: 0.5003   e      :100  \n",
       " Max.   : 2.4652   f      :100  \n",
       "                   (Other):400  "
      ]
     },
     "metadata": {},
     "output_type": "display_data"
    }
   ],
   "source": [
    "brand.sc = brand.ratings\n",
    "brand.sc[,1:9] = scale(brand.sc[,1:9])\n",
    "summary(brand.sc)"
   ]
  },
  {
   "cell_type": "markdown",
   "metadata": {},
   "source": [
    "In corrplot(), the argument order=\"hclust\" reorders the rows and columns according to variables’ similarity in a hierarchical cluster solution. The result is shown in Fig, where we see that the ratings seem to group into three clusters of similar variables, a hypothesis we examine in detail in this chapter."
   ]
  },
  {
   "cell_type": "code",
   "execution_count": 9,
   "metadata": {},
   "outputs": [
    {
     "name": "stderr",
     "output_type": "stream",
     "text": [
      "Installing package into 'C:/Users/cl44343/Documents/R/win-library/3.4'\n",
      "(as 'lib' is unspecified)\n"
     ]
    },
    {
     "name": "stdout",
     "output_type": "stream",
     "text": [
      "package 'corrplot' successfully unpacked and MD5 sums checked\n",
      "\n",
      "The downloaded binary packages are in\n",
      "\tC:\\Temp\\RtmpYrBolK\\downloaded_packages\n"
     ]
    }
   ],
   "source": [
    "install.packages('corrplot')\n",
    "library(corrplot)"
   ]
  },
  {
   "cell_type": "code",
   "execution_count": 13,
   "metadata": {
    "scrolled": true
   },
   "outputs": [
    {
     "data": {
      "image/png": "[encoded data removed]",
      "text/plain": [
       "Plot with title \"\""
      ]
     },
     "metadata": {},
     "output_type": "display_data"
    }
   ],
   "source": [
    "corrplot(cor(brand.sc[,1:9]), order='hclust')"
   ]
  },
  {
   "cell_type": "markdown",
   "metadata": {},
   "source": [
    "Fig. 8.1. Correlation plot for the simulated consumer brand ratings.\n",
    "This visualization of the basic data appears to show three general clusters\n",
    "that comprise *fun/latest/trendy*, *rebuy/bargain/value*, and *perform/leader /serious*, respectively."
   ]
  },
  {
   "cell_type": "markdown",
   "metadata": {},
   "source": [
    "**8.1.2 Aggregate Mean Ratings by Brand**"
   ]
  },
  {
   "cell_type": "code",
   "execution_count": 21,
   "metadata": {},
   "outputs": [
    {
     "data": {
      "text/html": [
       "<table>\n",
       "<thead><tr><th scope=col>brand</th><th scope=col>perform</th><th scope=col>leader</th><th scope=col>latest</th><th scope=col>fun</th><th scope=col>serious</th><th scope=col>bargain</th><th scope=col>value</th><th scope=col>trendy</th><th scope=col>rebuy</th></tr></thead>\n",
       "<tbody>\n",
       "\t<tr><td>a          </td><td>-0.88591874</td><td>-0.5279035 </td><td> 0.4109732 </td><td> 0.6566458 </td><td>-0.91894067</td><td> 0.21409609</td><td> 0.18469264</td><td>-0.52514473</td><td>-0.59616642</td></tr>\n",
       "\t<tr><td>b          </td><td> 0.93087022</td><td> 1.0707584 </td><td> 0.7261069 </td><td>-0.9722147 </td><td> 1.18314061</td><td> 0.04161938</td><td> 0.15133957</td><td> 0.74030819</td><td> 0.23697320</td></tr>\n",
       "\t<tr><td>c          </td><td> 0.64992347</td><td> 1.1627677 </td><td>-0.1023372 </td><td>-0.8446753 </td><td> 1.22273461</td><td>-0.60704302</td><td>-0.44067747</td><td> 0.02552787</td><td>-0.13243776</td></tr>\n",
       "\t<tr><td>d          </td><td>-0.67989112</td><td>-0.5930767 </td><td> 0.3524948 </td><td> 0.1865719 </td><td>-0.69217505</td><td>-0.88075605</td><td>-0.93263529</td><td> 0.73666135</td><td>-0.49398892</td></tr>\n",
       "\t<tr><td>e          </td><td>-0.56439079</td><td> 0.1928362 </td><td> 0.4564564 </td><td> 0.2958914 </td><td> 0.04211361</td><td> 0.55155051</td><td> 0.41816415</td><td> 0.13857986</td><td> 0.03654811</td></tr>\n",
       "\t<tr><td>f          </td><td>-0.05868665</td><td> 0.2695106 </td><td>-1.2621589 </td><td>-0.2179102 </td><td> 0.58923066</td><td> 0.87400696</td><td> 1.02268859</td><td>-0.81324496</td><td> 1.35699580</td></tr>\n",
       "\t<tr><td>g          </td><td> 0.91838369</td><td>-0.1675336 </td><td>-1.2849005 </td><td>-0.5167168 </td><td>-0.53379906</td><td> 0.89650392</td><td> 1.25616009</td><td>-1.27639344</td><td> 1.36092571</td></tr>\n",
       "\t<tr><td>h          </td><td>-0.01498383</td><td>-0.2978802 </td><td> 0.5019396 </td><td> 0.7149495 </td><td>-0.14145855</td><td>-0.73827529</td><td>-0.78254646</td><td> 0.86430070</td><td>-0.60402622</td></tr>\n",
       "\t<tr><td>i          </td><td> 0.33463879</td><td>-0.3208825 </td><td> 0.3557436 </td><td> 0.4124989 </td><td>-0.14865746</td><td>-0.25459062</td><td>-0.80339213</td><td> 0.59078782</td><td>-0.20317603</td></tr>\n",
       "\t<tr><td>j          </td><td>-0.62994504</td><td>-0.7885965 </td><td>-0.1543180 </td><td> 0.2849595 </td><td>-0.60218870</td><td>-0.09711188</td><td>-0.07379367</td><td>-0.48138267</td><td>-0.96164748</td></tr>\n",
       "</tbody>\n",
       "</table>\n"
      ],
      "text/latex": [
       "\\begin{tabular}{r|llllllllll}\n",
       " brand & perform & leader & latest & fun & serious & bargain & value & trendy & rebuy\\\\\n",
       "\\hline\n",
       "\t a           & -0.88591874 & -0.5279035  &  0.4109732  &  0.6566458  & -0.91894067 &  0.21409609 &  0.18469264 & -0.52514473 & -0.59616642\\\\\n",
       "\t b           &  0.93087022 &  1.0707584  &  0.7261069  & -0.9722147  &  1.18314061 &  0.04161938 &  0.15133957 &  0.74030819 &  0.23697320\\\\\n",
       "\t c           &  0.64992347 &  1.1627677  & -0.1023372  & -0.8446753  &  1.22273461 & -0.60704302 & -0.44067747 &  0.02552787 & -0.13243776\\\\\n",
       "\t d           & -0.67989112 & -0.5930767  &  0.3524948  &  0.1865719  & -0.69217505 & -0.88075605 & -0.93263529 &  0.73666135 & -0.49398892\\\\\n",
       "\t e           & -0.56439079 &  0.1928362  &  0.4564564  &  0.2958914  &  0.04211361 &  0.55155051 &  0.41816415 &  0.13857986 &  0.03654811\\\\\n",
       "\t f           & -0.05868665 &  0.2695106  & -1.2621589  & -0.2179102  &  0.58923066 &  0.87400696 &  1.02268859 & -0.81324496 &  1.35699580\\\\\n",
       "\t g           &  0.91838369 & -0.1675336  & -1.2849005  & -0.5167168  & -0.53379906 &  0.89650392 &  1.25616009 & -1.27639344 &  1.36092571\\\\\n",
       "\t h           & -0.01498383 & -0.2978802  &  0.5019396  &  0.7149495  & -0.14145855 & -0.73827529 & -0.78254646 &  0.86430070 & -0.60402622\\\\\n",
       "\t i           &  0.33463879 & -0.3208825  &  0.3557436  &  0.4124989  & -0.14865746 & -0.25459062 & -0.80339213 &  0.59078782 & -0.20317603\\\\\n",
       "\t j           & -0.62994504 & -0.7885965  & -0.1543180  &  0.2849595  & -0.60218870 & -0.09711188 & -0.07379367 & -0.48138267 & -0.96164748\\\\\n",
       "\\end{tabular}\n"
      ],
      "text/markdown": [
       "\n",
       "brand | perform | leader | latest | fun | serious | bargain | value | trendy | rebuy | \n",
       "|---|---|---|---|---|---|---|---|---|---|\n",
       "| a           | -0.88591874 | -0.5279035  |  0.4109732  |  0.6566458  | -0.91894067 |  0.21409609 |  0.18469264 | -0.52514473 | -0.59616642 | \n",
       "| b           |  0.93087022 |  1.0707584  |  0.7261069  | -0.9722147  |  1.18314061 |  0.04161938 |  0.15133957 |  0.74030819 |  0.23697320 | \n",
       "| c           |  0.64992347 |  1.1627677  | -0.1023372  | -0.8446753  |  1.22273461 | -0.60704302 | -0.44067747 |  0.02552787 | -0.13243776 | \n",
       "| d           | -0.67989112 | -0.5930767  |  0.3524948  |  0.1865719  | -0.69217505 | -0.88075605 | -0.93263529 |  0.73666135 | -0.49398892 | \n",
       "| e           | -0.56439079 |  0.1928362  |  0.4564564  |  0.2958914  |  0.04211361 |  0.55155051 |  0.41816415 |  0.13857986 |  0.03654811 | \n",
       "| f           | -0.05868665 |  0.2695106  | -1.2621589  | -0.2179102  |  0.58923066 |  0.87400696 |  1.02268859 | -0.81324496 |  1.35699580 | \n",
       "| g           |  0.91838369 | -0.1675336  | -1.2849005  | -0.5167168  | -0.53379906 |  0.89650392 |  1.25616009 | -1.27639344 |  1.36092571 | \n",
       "| h           | -0.01498383 | -0.2978802  |  0.5019396  |  0.7149495  | -0.14145855 | -0.73827529 | -0.78254646 |  0.86430070 | -0.60402622 | \n",
       "| i           |  0.33463879 | -0.3208825  |  0.3557436  |  0.4124989  | -0.14865746 | -0.25459062 | -0.80339213 |  0.59078782 | -0.20317603 | \n",
       "| j           | -0.62994504 | -0.7885965  | -0.1543180  |  0.2849595  | -0.60218870 | -0.09711188 | -0.07379367 | -0.48138267 | -0.96164748 | \n",
       "\n",
       "\n"
      ],
      "text/plain": [
       "   brand perform     leader     latest     fun        serious     bargain    \n",
       "1  a     -0.88591874 -0.5279035  0.4109732  0.6566458 -0.91894067  0.21409609\n",
       "2  b      0.93087022  1.0707584  0.7261069 -0.9722147  1.18314061  0.04161938\n",
       "3  c      0.64992347  1.1627677 -0.1023372 -0.8446753  1.22273461 -0.60704302\n",
       "4  d     -0.67989112 -0.5930767  0.3524948  0.1865719 -0.69217505 -0.88075605\n",
       "5  e     -0.56439079  0.1928362  0.4564564  0.2958914  0.04211361  0.55155051\n",
       "6  f     -0.05868665  0.2695106 -1.2621589 -0.2179102  0.58923066  0.87400696\n",
       "7  g      0.91838369 -0.1675336 -1.2849005 -0.5167168 -0.53379906  0.89650392\n",
       "8  h     -0.01498383 -0.2978802  0.5019396  0.7149495 -0.14145855 -0.73827529\n",
       "9  i      0.33463879 -0.3208825  0.3557436  0.4124989 -0.14865746 -0.25459062\n",
       "10 j     -0.62994504 -0.7885965 -0.1543180  0.2849595 -0.60218870 -0.09711188\n",
       "   value       trendy      rebuy      \n",
       "1   0.18469264 -0.52514473 -0.59616642\n",
       "2   0.15133957  0.74030819  0.23697320\n",
       "3  -0.44067747  0.02552787 -0.13243776\n",
       "4  -0.93263529  0.73666135 -0.49398892\n",
       "5   0.41816415  0.13857986  0.03654811\n",
       "6   1.02268859 -0.81324496  1.35699580\n",
       "7   1.25616009 -1.27639344  1.36092571\n",
       "8  -0.78254646  0.86430070 -0.60402622\n",
       "9  -0.80339213  0.59078782 -0.20317603\n",
       "10 -0.07379367 -0.48138267 -0.96164748"
      ]
     },
     "metadata": {},
     "output_type": "display_data"
    }
   ],
   "source": [
    "(brand.mean = aggregate(. ~ brand, data=brand.sc, mean))"
   ]
  },
  {
   "cell_type": "code",
   "execution_count": 22,
   "metadata": {},
   "outputs": [],
   "source": [
    "rownames(brand.mean) = brand.mean[ ,1]\n",
    "brand.mean = brand.mean[ ,-1]"
   ]
  },
  {
   "cell_type": "code",
   "execution_count": 23,
   "metadata": {},
   "outputs": [
    {
     "data": {
      "text/html": [
       "<table>\n",
       "<thead><tr><th></th><th scope=col>perform</th><th scope=col>leader</th><th scope=col>latest</th><th scope=col>fun</th><th scope=col>serious</th><th scope=col>bargain</th><th scope=col>value</th><th scope=col>trendy</th><th scope=col>rebuy</th></tr></thead>\n",
       "<tbody>\n",
       "\t<tr><th scope=row>a</th><td>-0.88591874</td><td>-0.5279035 </td><td> 0.4109732 </td><td> 0.6566458 </td><td>-0.91894067</td><td> 0.21409609</td><td> 0.18469264</td><td>-0.52514473</td><td>-0.59616642</td></tr>\n",
       "\t<tr><th scope=row>b</th><td> 0.93087022</td><td> 1.0707584 </td><td> 0.7261069 </td><td>-0.9722147 </td><td> 1.18314061</td><td> 0.04161938</td><td> 0.15133957</td><td> 0.74030819</td><td> 0.23697320</td></tr>\n",
       "\t<tr><th scope=row>c</th><td> 0.64992347</td><td> 1.1627677 </td><td>-0.1023372 </td><td>-0.8446753 </td><td> 1.22273461</td><td>-0.60704302</td><td>-0.44067747</td><td> 0.02552787</td><td>-0.13243776</td></tr>\n",
       "\t<tr><th scope=row>d</th><td>-0.67989112</td><td>-0.5930767 </td><td> 0.3524948 </td><td> 0.1865719 </td><td>-0.69217505</td><td>-0.88075605</td><td>-0.93263529</td><td> 0.73666135</td><td>-0.49398892</td></tr>\n",
       "\t<tr><th scope=row>e</th><td>-0.56439079</td><td> 0.1928362 </td><td> 0.4564564 </td><td> 0.2958914 </td><td> 0.04211361</td><td> 0.55155051</td><td> 0.41816415</td><td> 0.13857986</td><td> 0.03654811</td></tr>\n",
       "\t<tr><th scope=row>f</th><td>-0.05868665</td><td> 0.2695106 </td><td>-1.2621589 </td><td>-0.2179102 </td><td> 0.58923066</td><td> 0.87400696</td><td> 1.02268859</td><td>-0.81324496</td><td> 1.35699580</td></tr>\n",
       "\t<tr><th scope=row>g</th><td> 0.91838369</td><td>-0.1675336 </td><td>-1.2849005 </td><td>-0.5167168 </td><td>-0.53379906</td><td> 0.89650392</td><td> 1.25616009</td><td>-1.27639344</td><td> 1.36092571</td></tr>\n",
       "\t<tr><th scope=row>h</th><td>-0.01498383</td><td>-0.2978802 </td><td> 0.5019396 </td><td> 0.7149495 </td><td>-0.14145855</td><td>-0.73827529</td><td>-0.78254646</td><td> 0.86430070</td><td>-0.60402622</td></tr>\n",
       "\t<tr><th scope=row>i</th><td> 0.33463879</td><td>-0.3208825 </td><td> 0.3557436 </td><td> 0.4124989 </td><td>-0.14865746</td><td>-0.25459062</td><td>-0.80339213</td><td> 0.59078782</td><td>-0.20317603</td></tr>\n",
       "\t<tr><th scope=row>j</th><td>-0.62994504</td><td>-0.7885965 </td><td>-0.1543180 </td><td> 0.2849595 </td><td>-0.60218870</td><td>-0.09711188</td><td>-0.07379367</td><td>-0.48138267</td><td>-0.96164748</td></tr>\n",
       "</tbody>\n",
       "</table>\n"
      ],
      "text/latex": [
       "\\begin{tabular}{r|lllllllll}\n",
       "  & perform & leader & latest & fun & serious & bargain & value & trendy & rebuy\\\\\n",
       "\\hline\n",
       "\ta & -0.88591874 & -0.5279035  &  0.4109732  &  0.6566458  & -0.91894067 &  0.21409609 &  0.18469264 & -0.52514473 & -0.59616642\\\\\n",
       "\tb &  0.93087022 &  1.0707584  &  0.7261069  & -0.9722147  &  1.18314061 &  0.04161938 &  0.15133957 &  0.74030819 &  0.23697320\\\\\n",
       "\tc &  0.64992347 &  1.1627677  & -0.1023372  & -0.8446753  &  1.22273461 & -0.60704302 & -0.44067747 &  0.02552787 & -0.13243776\\\\\n",
       "\td & -0.67989112 & -0.5930767  &  0.3524948  &  0.1865719  & -0.69217505 & -0.88075605 & -0.93263529 &  0.73666135 & -0.49398892\\\\\n",
       "\te & -0.56439079 &  0.1928362  &  0.4564564  &  0.2958914  &  0.04211361 &  0.55155051 &  0.41816415 &  0.13857986 &  0.03654811\\\\\n",
       "\tf & -0.05868665 &  0.2695106  & -1.2621589  & -0.2179102  &  0.58923066 &  0.87400696 &  1.02268859 & -0.81324496 &  1.35699580\\\\\n",
       "\tg &  0.91838369 & -0.1675336  & -1.2849005  & -0.5167168  & -0.53379906 &  0.89650392 &  1.25616009 & -1.27639344 &  1.36092571\\\\\n",
       "\th & -0.01498383 & -0.2978802  &  0.5019396  &  0.7149495  & -0.14145855 & -0.73827529 & -0.78254646 &  0.86430070 & -0.60402622\\\\\n",
       "\ti &  0.33463879 & -0.3208825  &  0.3557436  &  0.4124989  & -0.14865746 & -0.25459062 & -0.80339213 &  0.59078782 & -0.20317603\\\\\n",
       "\tj & -0.62994504 & -0.7885965  & -0.1543180  &  0.2849595  & -0.60218870 & -0.09711188 & -0.07379367 & -0.48138267 & -0.96164748\\\\\n",
       "\\end{tabular}\n"
      ],
      "text/markdown": [
       "\n",
       "| <!--/--> | perform | leader | latest | fun | serious | bargain | value | trendy | rebuy | \n",
       "|---|---|---|---|---|---|---|---|---|---|\n",
       "| a | -0.88591874 | -0.5279035  |  0.4109732  |  0.6566458  | -0.91894067 |  0.21409609 |  0.18469264 | -0.52514473 | -0.59616642 | \n",
       "| b |  0.93087022 |  1.0707584  |  0.7261069  | -0.9722147  |  1.18314061 |  0.04161938 |  0.15133957 |  0.74030819 |  0.23697320 | \n",
       "| c |  0.64992347 |  1.1627677  | -0.1023372  | -0.8446753  |  1.22273461 | -0.60704302 | -0.44067747 |  0.02552787 | -0.13243776 | \n",
       "| d | -0.67989112 | -0.5930767  |  0.3524948  |  0.1865719  | -0.69217505 | -0.88075605 | -0.93263529 |  0.73666135 | -0.49398892 | \n",
       "| e | -0.56439079 |  0.1928362  |  0.4564564  |  0.2958914  |  0.04211361 |  0.55155051 |  0.41816415 |  0.13857986 |  0.03654811 | \n",
       "| f | -0.05868665 |  0.2695106  | -1.2621589  | -0.2179102  |  0.58923066 |  0.87400696 |  1.02268859 | -0.81324496 |  1.35699580 | \n",
       "| g |  0.91838369 | -0.1675336  | -1.2849005  | -0.5167168  | -0.53379906 |  0.89650392 |  1.25616009 | -1.27639344 |  1.36092571 | \n",
       "| h | -0.01498383 | -0.2978802  |  0.5019396  |  0.7149495  | -0.14145855 | -0.73827529 | -0.78254646 |  0.86430070 | -0.60402622 | \n",
       "| i |  0.33463879 | -0.3208825  |  0.3557436  |  0.4124989  | -0.14865746 | -0.25459062 | -0.80339213 |  0.59078782 | -0.20317603 | \n",
       "| j | -0.62994504 | -0.7885965  | -0.1543180  |  0.2849595  | -0.60218870 | -0.09711188 | -0.07379367 | -0.48138267 | -0.96164748 | \n",
       "\n",
       "\n"
      ],
      "text/plain": [
       "  perform     leader     latest     fun        serious     bargain    \n",
       "a -0.88591874 -0.5279035  0.4109732  0.6566458 -0.91894067  0.21409609\n",
       "b  0.93087022  1.0707584  0.7261069 -0.9722147  1.18314061  0.04161938\n",
       "c  0.64992347  1.1627677 -0.1023372 -0.8446753  1.22273461 -0.60704302\n",
       "d -0.67989112 -0.5930767  0.3524948  0.1865719 -0.69217505 -0.88075605\n",
       "e -0.56439079  0.1928362  0.4564564  0.2958914  0.04211361  0.55155051\n",
       "f -0.05868665  0.2695106 -1.2621589 -0.2179102  0.58923066  0.87400696\n",
       "g  0.91838369 -0.1675336 -1.2849005 -0.5167168 -0.53379906  0.89650392\n",
       "h -0.01498383 -0.2978802  0.5019396  0.7149495 -0.14145855 -0.73827529\n",
       "i  0.33463879 -0.3208825  0.3557436  0.4124989 -0.14865746 -0.25459062\n",
       "j -0.62994504 -0.7885965 -0.1543180  0.2849595 -0.60218870 -0.09711188\n",
       "  value       trendy      rebuy      \n",
       "a  0.18469264 -0.52514473 -0.59616642\n",
       "b  0.15133957  0.74030819  0.23697320\n",
       "c -0.44067747  0.02552787 -0.13243776\n",
       "d -0.93263529  0.73666135 -0.49398892\n",
       "e  0.41816415  0.13857986  0.03654811\n",
       "f  1.02268859 -0.81324496  1.35699580\n",
       "g  1.25616009 -1.27639344  1.36092571\n",
       "h -0.78254646  0.86430070 -0.60402622\n",
       "i -0.80339213  0.59078782 -0.20317603\n",
       "j -0.07379367 -0.48138267 -0.96164748"
      ]
     },
     "metadata": {},
     "output_type": "display_data"
    }
   ],
   "source": [
    "brand.mean"
   ]
  },
  {
   "cell_type": "markdown",
   "metadata": {},
   "source": [
    "A *heatmap* is a useful way to examine such results because it colors data points by the intensities of their values. We use *heatmap.2()* from the gplots  package with colors from the RColorBrewer package"
   ]
  },
  {
   "cell_type": "code",
   "execution_count": 24,
   "metadata": {},
   "outputs": [
    {
     "name": "stderr",
     "output_type": "stream",
     "text": [
      "Installing package into 'C:/Users/cl44343/Documents/R/win-library/3.4'\n",
      "(as 'lib' is unspecified)\n"
     ]
    },
    {
     "name": "stdout",
     "output_type": "stream",
     "text": [
      "package 'gplots' successfully unpacked and MD5 sums checked\n",
      "\n",
      "The downloaded binary packages are in\n",
      "\tC:\\Temp\\RtmpYrBolK\\downloaded_packages\n"
     ]
    },
    {
     "name": "stderr",
     "output_type": "stream",
     "text": [
      "\n",
      "Attaching package: 'gplots'\n",
      "\n",
      "The following object is masked from 'package:stats':\n",
      "\n",
      "    lowess\n",
      "\n"
     ]
    }
   ],
   "source": [
    "install.packages('gplots')\n",
    "library(gplots)"
   ]
  },
  {
   "cell_type": "code",
   "execution_count": 25,
   "metadata": {},
   "outputs": [
    {
     "name": "stderr",
     "output_type": "stream",
     "text": [
      "Installing package into 'C:/Users/cl44343/Documents/R/win-library/3.4'\n",
      "(as 'lib' is unspecified)\n"
     ]
    },
    {
     "name": "stdout",
     "output_type": "stream",
     "text": [
      "package 'RColorBrewer' successfully unpacked and MD5 sums checked\n",
      "\n",
      "The downloaded binary packages are in\n",
      "\tC:\\Temp\\RtmpYrBolK\\downloaded_packages\n"
     ]
    }
   ],
   "source": [
    "install.packages('RColorBrewer')\n",
    "library(RColorBrewer)"
   ]
  },
  {
   "cell_type": "code",
   "execution_count": 27,
   "metadata": {},
   "outputs": [
    {
     "data": {
      "image/png": "[encoded data removed]",
      "text/plain": [
       "Plot with title \"\n",
       "\n",
       "\n",
       "\n",
       "Brand attributions\""
      ]
     },
     "metadata": {},
     "output_type": "display_data"
    }
   ],
   "source": [
    "heatmap.2(as.matrix(brand.mean), col=brewer.pal(9, 'GnBu'), trace='none', key=F, dend='none', main='\\n\\n\\n\\nBrand attributions')"
   ]
  },
  {
   "cell_type": "markdown",
   "metadata": {},
   "source": [
    "Fig. 8.2. A heatmap for the mean of each adjective by brand. Brands f and g are similar—with high ratings for rebuy and value but low ratings for latest and fun. Other groups of similar brands are b/c, i/h/d, and a/j."
   ]
  },
  {
   "cell_type": "markdown",
   "metadata": {},
   "source": [
    "**8.2 Principal Component Analysis and Perceptual Maps**"
   ]
  },
  {
   "cell_type": "markdown",
   "metadata": {},
   "source": [
    "**8.2.1 PCA Example**"
   ]
  },
  {
   "cell_type": "markdown",
   "metadata": {},
   "source": [
    "We explore PCA first with a simple data set to see and develop intuition about what is happening. We create highly correlated data by copying a random vector xvar to a new vector yvar while replacing half of the data points. Then we repeat that procedure to create zvar from yvar"
   ]
  },
  {
   "cell_type": "code",
   "execution_count": 30,
   "metadata": {},
   "outputs": [],
   "source": [
    "set.seed(98286)\n",
    "xvar = sample(1:10, 100, replace=T)\n",
    "yvar = xvar\n",
    "yvar[sample(1:length(yvar), 50)] = sample(1:10, 50, replace=T)\n",
    "zvar=yvar\n",
    "zvar[sample(1:length(zvar),50)]  = sample(1:10, 50, replace=T)\n",
    "my.vars = cbind(xvar, yvar, zvar)"
   ]
  },
  {
   "cell_type": "code",
   "execution_count": 33,
   "metadata": {},
   "outputs": [
    {
     "data": {
      "text/html": [
       "<table>\n",
       "<thead><tr><th></th><th scope=col>xvar</th><th scope=col>yvar</th><th scope=col>zvar</th></tr></thead>\n",
       "<tbody>\n",
       "\t<tr><th scope=row>xvar</th><td>1.0000000</td><td>0.5969717</td><td>0.2496469</td></tr>\n",
       "\t<tr><th scope=row>yvar</th><td>0.5969717</td><td>1.0000000</td><td>0.5231468</td></tr>\n",
       "\t<tr><th scope=row>zvar</th><td>0.2496469</td><td>0.5231468</td><td>1.0000000</td></tr>\n",
       "</tbody>\n",
       "</table>\n"
      ],
      "text/latex": [
       "\\begin{tabular}{r|lll}\n",
       "  & xvar & yvar & zvar\\\\\n",
       "\\hline\n",
       "\txvar & 1.0000000 & 0.5969717 & 0.2496469\\\\\n",
       "\tyvar & 0.5969717 & 1.0000000 & 0.5231468\\\\\n",
       "\tzvar & 0.2496469 & 0.5231468 & 1.0000000\\\\\n",
       "\\end{tabular}\n"
      ],
      "text/markdown": [
       "\n",
       "| <!--/--> | xvar | yvar | zvar | \n",
       "|---|---|---|\n",
       "| xvar | 1.0000000 | 0.5969717 | 0.2496469 | \n",
       "| yvar | 0.5969717 | 1.0000000 | 0.5231468 | \n",
       "| zvar | 0.2496469 | 0.5231468 | 1.0000000 | \n",
       "\n",
       "\n"
      ],
      "text/plain": [
       "     xvar      yvar      zvar     \n",
       "xvar 1.0000000 0.5969717 0.2496469\n",
       "yvar 0.5969717 1.0000000 0.5231468\n",
       "zvar 0.2496469 0.5231468 1.0000000"
      ]
     },
     "metadata": {},
     "output_type": "display_data"
    },
    {
     "data": {
      "image/png": "[encoded data removed]",
      "text/plain": [
       "plot without title"
      ]
     },
     "metadata": {},
     "output_type": "display_data"
    }
   ],
   "source": [
    "plot(yvar ~ xvar, data=jitter(my.vars))\n",
    "cor(my.vars)"
   ]
  },
  {
   "cell_type": "code",
   "execution_count": 35,
   "metadata": {},
   "outputs": [
    {
     "data": {
      "text/plain": [
       "Importance of components:\n",
       "                          PC1    PC2    PC3\n",
       "Standard deviation     3.9992 2.4381 1.6269\n",
       "Proportion of Variance 0.6505 0.2418 0.1077\n",
       "Cumulative Proportion  0.6505 0.8923 1.0000"
      ]
     },
     "metadata": {},
     "output_type": "display_data"
    }
   ],
   "source": [
    "my.pca = prcomp(my.vars)\n",
    "summary(my.pca)"
   ]
  },
  {
   "cell_type": "code",
   "execution_count": 36,
   "metadata": {},
   "outputs": [
    {
     "data": {
      "text/plain": [
       "Standard deviations (1, .., p=3):\n",
       "[1] 3.999154 2.438079 1.626894\n",
       "\n",
       "Rotation (n x k) = (3 x 3):\n",
       "            PC1         PC2        PC3\n",
       "xvar -0.6156755  0.63704774  0.4638037\n",
       "yvar -0.6532994 -0.08354009 -0.7524766\n",
       "zvar -0.4406173 -0.76628404  0.4676165"
      ]
     },
     "metadata": {},
     "output_type": "display_data"
    }
   ],
   "source": [
    "my.pca"
   ]
  },
  {
   "cell_type": "code",
   "execution_count": 37,
   "metadata": {},
   "outputs": [
    {
     "data": {
      "text/html": [
       "<table>\n",
       "<thead><tr><th></th><th scope=col>PC1</th><th scope=col>PC2</th><th scope=col>PC3</th></tr></thead>\n",
       "<tbody>\n",
       "\t<tr><th scope=row>PC1</th><td> 1.000000e+00</td><td>-1.372816e-17</td><td>2.445665e-16 </td></tr>\n",
       "\t<tr><th scope=row>PC2</th><td>-1.372816e-17</td><td> 1.000000e+00</td><td>8.017866e-17 </td></tr>\n",
       "\t<tr><th scope=row>PC3</th><td> 2.445665e-16</td><td> 8.017866e-17</td><td>1.000000e+00 </td></tr>\n",
       "</tbody>\n",
       "</table>\n"
      ],
      "text/latex": [
       "\\begin{tabular}{r|lll}\n",
       "  & PC1 & PC2 & PC3\\\\\n",
       "\\hline\n",
       "\tPC1 &  1.000000e+00 & -1.372816e-17 & 2.445665e-16 \\\\\n",
       "\tPC2 & -1.372816e-17 &  1.000000e+00 & 8.017866e-17 \\\\\n",
       "\tPC3 &  2.445665e-16 &  8.017866e-17 & 1.000000e+00 \\\\\n",
       "\\end{tabular}\n"
      ],
      "text/markdown": [
       "\n",
       "| <!--/--> | PC1 | PC2 | PC3 | \n",
       "|---|---|---|\n",
       "| PC1 |  1.000000e+00 | -1.372816e-17 | 2.445665e-16  | \n",
       "| PC2 | -1.372816e-17 |  1.000000e+00 | 8.017866e-17  | \n",
       "| PC3 |  2.445665e-16 |  8.017866e-17 | 1.000000e+00  | \n",
       "\n",
       "\n"
      ],
      "text/plain": [
       "    PC1           PC2           PC3         \n",
       "PC1  1.000000e+00 -1.372816e-17 2.445665e-16\n",
       "PC2 -1.372816e-17  1.000000e+00 8.017866e-17\n",
       "PC3  2.445665e-16  8.017866e-17 1.000000e+00"
      ]
     },
     "metadata": {},
     "output_type": "display_data"
    }
   ],
   "source": [
    "cor(my.pca$x)  # components have zero correlation"
   ]
  },
  {
   "cell_type": "markdown",
   "metadata": {},
   "source": [
    "**8.2.2 Visualizing PCA**"
   ]
  },
  {
   "cell_type": "code",
   "execution_count": 38,
   "metadata": {},
   "outputs": [
    {
     "data": {
      "image/png": "[encoded data removed]",
      "text/plain": [
       "plot without title"
      ]
     },
     "metadata": {},
     "output_type": "display_data"
    }
   ],
   "source": [
    "biplot(my.pca)"
   ]
  },
  {
   "cell_type": "markdown",
   "metadata": {},
   "source": [
    "Fig. 8.4. A biplot() of a PCA solution for the simple, constructed example,\n",
    "showing data points plotted on the first two components."
   ]
  },
  {
   "cell_type": "markdown",
   "metadata": {},
   "source": [
    "**8.2.3 PCA for Brand Ratings**"
   ]
  },
  {
   "cell_type": "code",
   "execution_count": 39,
   "metadata": {},
   "outputs": [
    {
     "data": {
      "text/plain": [
       "Importance of components:\n",
       "                         PC1    PC2    PC3    PC4     PC5     PC6     PC7\n",
       "Standard deviation     1.726 1.4479 1.0389 0.8528 0.79846 0.73133 0.62458\n",
       "Proportion of Variance 0.331 0.2329 0.1199 0.0808 0.07084 0.05943 0.04334\n",
       "Cumulative Proportion  0.331 0.5640 0.6839 0.7647 0.83554 0.89497 0.93831\n",
       "                           PC8     PC9\n",
       "Standard deviation     0.55861 0.49310\n",
       "Proportion of Variance 0.03467 0.02702\n",
       "Cumulative Proportion  0.97298 1.00000"
      ]
     },
     "metadata": {},
     "output_type": "display_data"
    }
   ],
   "source": [
    "brand.pc = prcomp(brand.sc[ ,1:9])\n",
    "summary(brand.pc)"
   ]
  },
  {
   "cell_type": "code",
   "execution_count": 52,
   "metadata": {},
   "outputs": [
    {
     "data": {
      "text/plain": [
       "Standard deviations (1, .., p=9):\n",
       "[1] 1.7260636 1.4479474 1.0388719 0.8527667 0.7984647 0.7313298 0.6245834\n",
       "[8] 0.5586112 0.4930993\n",
       "\n",
       "Rotation (n x k) = (9 x 9):\n",
       "               PC1         PC2         PC3         PC4         PC5        PC6\n",
       "perform  0.2374679  0.41991179  0.03854006 -0.52630873  0.46793435 -0.3370676\n",
       "leader   0.2058257  0.52381901 -0.09512739 -0.08923461 -0.29452974 -0.2968860\n",
       "latest  -0.3703806  0.20145317 -0.53273054  0.21410754  0.10586676 -0.1742059\n",
       "fun     -0.2510601 -0.25037973 -0.41781346 -0.75063952 -0.33149429  0.1405367\n",
       "serious  0.1597402  0.51047254 -0.04067075  0.09893394 -0.55515540  0.3924874\n",
       "bargain  0.3991731 -0.21849698 -0.48989756  0.16734345 -0.01257429 -0.1393966\n",
       "value    0.4474562 -0.18980822 -0.36924507  0.15118500 -0.06327757 -0.2195327\n",
       "trendy  -0.3510292  0.31849032 -0.37090530  0.16764432  0.36649697  0.2658186\n",
       "rebuy    0.4390184  0.01509832 -0.12461593 -0.13031231  0.35568769  0.6751400\n",
       "                 PC7         PC8         PC9\n",
       "perform  0.364179109 -0.14444718  0.05223384\n",
       "leader  -0.613674301  0.28766118 -0.17889453\n",
       "latest  -0.185480310 -0.64290436  0.05750244\n",
       "fun     -0.007114761  0.07461259  0.03153306\n",
       "serious  0.445302862 -0.18354764  0.09072231\n",
       "bargain  0.288264900  0.05789194 -0.64720849\n",
       "value    0.017163011  0.14829295  0.72806108\n",
       "trendy   0.153572108  0.61450289  0.05907022\n",
       "rebuy   -0.388656160 -0.20210688 -0.01720236"
      ]
     },
     "metadata": {},
     "output_type": "display_data"
    }
   ],
   "source": [
    "brand.pc"
   ]
  },
  {
   "cell_type": "markdown",
   "metadata": {},
   "source": [
    "The default plot() for a PCA is a scree plot, which shows the successive proportion of additional variance that each component adds. We plot this as a line chart using type=\"l\" (lower case “L” for line)"
   ]
  },
  {
   "cell_type": "code",
   "execution_count": 41,
   "metadata": {},
   "outputs": [
    {
     "data": {
      "image/png": "[encoded data removed]",
      "text/plain": [
       "Plot with title \"brand.pc\""
      ]
     },
     "metadata": {},
     "output_type": "display_data"
    }
   ],
   "source": [
    "plot(brand.pc, type='l')"
   ]
  },
  {
   "cell_type": "markdown",
   "metadata": {},
   "source": [
    "Fig. 8.5. A scree plot() of a PCA solution shows the successive variance accounted by each component. For the brand rating data, the proportion largely levels out after the third component."
   ]
  },
  {
   "cell_type": "code",
   "execution_count": 42,
   "metadata": {},
   "outputs": [
    {
     "data": {
      "image/png": "[encoded data removed]",
      "text/plain": [
       "plot without title"
      ]
     },
     "metadata": {},
     "output_type": "display_data"
    }
   ],
   "source": [
    "biplot(brand.pc)"
   ]
  },
  {
   "cell_type": "markdown",
   "metadata": {},
   "source": [
    "We see the result in Fig. 8.6, where adjectives map in four regions: category\n",
    "leadership (“serious,” “leader,” and “perform” in the upper right), value (“rebuy,” “value,” and “bargain”), trendiness (“trendy” and “latest”), and finally “fun” on its own."
   ]
  },
  {
   "cell_type": "code",
   "execution_count": 43,
   "metadata": {},
   "outputs": [
    {
     "data": {
      "text/html": [
       "<table>\n",
       "<thead><tr><th></th><th scope=col>perform</th><th scope=col>leader</th><th scope=col>latest</th><th scope=col>fun</th><th scope=col>serious</th><th scope=col>bargain</th><th scope=col>value</th><th scope=col>trendy</th><th scope=col>rebuy</th></tr></thead>\n",
       "<tbody>\n",
       "\t<tr><th scope=row>a</th><td>-0.88591874</td><td>-0.5279035 </td><td> 0.4109732 </td><td> 0.6566458 </td><td>-0.91894067</td><td> 0.21409609</td><td> 0.18469264</td><td>-0.52514473</td><td>-0.59616642</td></tr>\n",
       "\t<tr><th scope=row>b</th><td> 0.93087022</td><td> 1.0707584 </td><td> 0.7261069 </td><td>-0.9722147 </td><td> 1.18314061</td><td> 0.04161938</td><td> 0.15133957</td><td> 0.74030819</td><td> 0.23697320</td></tr>\n",
       "\t<tr><th scope=row>c</th><td> 0.64992347</td><td> 1.1627677 </td><td>-0.1023372 </td><td>-0.8446753 </td><td> 1.22273461</td><td>-0.60704302</td><td>-0.44067747</td><td> 0.02552787</td><td>-0.13243776</td></tr>\n",
       "\t<tr><th scope=row>d</th><td>-0.67989112</td><td>-0.5930767 </td><td> 0.3524948 </td><td> 0.1865719 </td><td>-0.69217505</td><td>-0.88075605</td><td>-0.93263529</td><td> 0.73666135</td><td>-0.49398892</td></tr>\n",
       "\t<tr><th scope=row>e</th><td>-0.56439079</td><td> 0.1928362 </td><td> 0.4564564 </td><td> 0.2958914 </td><td> 0.04211361</td><td> 0.55155051</td><td> 0.41816415</td><td> 0.13857986</td><td> 0.03654811</td></tr>\n",
       "\t<tr><th scope=row>f</th><td>-0.05868665</td><td> 0.2695106 </td><td>-1.2621589 </td><td>-0.2179102 </td><td> 0.58923066</td><td> 0.87400696</td><td> 1.02268859</td><td>-0.81324496</td><td> 1.35699580</td></tr>\n",
       "\t<tr><th scope=row>g</th><td> 0.91838369</td><td>-0.1675336 </td><td>-1.2849005 </td><td>-0.5167168 </td><td>-0.53379906</td><td> 0.89650392</td><td> 1.25616009</td><td>-1.27639344</td><td> 1.36092571</td></tr>\n",
       "\t<tr><th scope=row>h</th><td>-0.01498383</td><td>-0.2978802 </td><td> 0.5019396 </td><td> 0.7149495 </td><td>-0.14145855</td><td>-0.73827529</td><td>-0.78254646</td><td> 0.86430070</td><td>-0.60402622</td></tr>\n",
       "\t<tr><th scope=row>i</th><td> 0.33463879</td><td>-0.3208825 </td><td> 0.3557436 </td><td> 0.4124989 </td><td>-0.14865746</td><td>-0.25459062</td><td>-0.80339213</td><td> 0.59078782</td><td>-0.20317603</td></tr>\n",
       "\t<tr><th scope=row>j</th><td>-0.62994504</td><td>-0.7885965 </td><td>-0.1543180 </td><td> 0.2849595 </td><td>-0.60218870</td><td>-0.09711188</td><td>-0.07379367</td><td>-0.48138267</td><td>-0.96164748</td></tr>\n",
       "</tbody>\n",
       "</table>\n"
      ],
      "text/latex": [
       "\\begin{tabular}{r|lllllllll}\n",
       "  & perform & leader & latest & fun & serious & bargain & value & trendy & rebuy\\\\\n",
       "\\hline\n",
       "\ta & -0.88591874 & -0.5279035  &  0.4109732  &  0.6566458  & -0.91894067 &  0.21409609 &  0.18469264 & -0.52514473 & -0.59616642\\\\\n",
       "\tb &  0.93087022 &  1.0707584  &  0.7261069  & -0.9722147  &  1.18314061 &  0.04161938 &  0.15133957 &  0.74030819 &  0.23697320\\\\\n",
       "\tc &  0.64992347 &  1.1627677  & -0.1023372  & -0.8446753  &  1.22273461 & -0.60704302 & -0.44067747 &  0.02552787 & -0.13243776\\\\\n",
       "\td & -0.67989112 & -0.5930767  &  0.3524948  &  0.1865719  & -0.69217505 & -0.88075605 & -0.93263529 &  0.73666135 & -0.49398892\\\\\n",
       "\te & -0.56439079 &  0.1928362  &  0.4564564  &  0.2958914  &  0.04211361 &  0.55155051 &  0.41816415 &  0.13857986 &  0.03654811\\\\\n",
       "\tf & -0.05868665 &  0.2695106  & -1.2621589  & -0.2179102  &  0.58923066 &  0.87400696 &  1.02268859 & -0.81324496 &  1.35699580\\\\\n",
       "\tg &  0.91838369 & -0.1675336  & -1.2849005  & -0.5167168  & -0.53379906 &  0.89650392 &  1.25616009 & -1.27639344 &  1.36092571\\\\\n",
       "\th & -0.01498383 & -0.2978802  &  0.5019396  &  0.7149495  & -0.14145855 & -0.73827529 & -0.78254646 &  0.86430070 & -0.60402622\\\\\n",
       "\ti &  0.33463879 & -0.3208825  &  0.3557436  &  0.4124989  & -0.14865746 & -0.25459062 & -0.80339213 &  0.59078782 & -0.20317603\\\\\n",
       "\tj & -0.62994504 & -0.7885965  & -0.1543180  &  0.2849595  & -0.60218870 & -0.09711188 & -0.07379367 & -0.48138267 & -0.96164748\\\\\n",
       "\\end{tabular}\n"
      ],
      "text/markdown": [
       "\n",
       "| <!--/--> | perform | leader | latest | fun | serious | bargain | value | trendy | rebuy | \n",
       "|---|---|---|---|---|---|---|---|---|---|\n",
       "| a | -0.88591874 | -0.5279035  |  0.4109732  |  0.6566458  | -0.91894067 |  0.21409609 |  0.18469264 | -0.52514473 | -0.59616642 | \n",
       "| b |  0.93087022 |  1.0707584  |  0.7261069  | -0.9722147  |  1.18314061 |  0.04161938 |  0.15133957 |  0.74030819 |  0.23697320 | \n",
       "| c |  0.64992347 |  1.1627677  | -0.1023372  | -0.8446753  |  1.22273461 | -0.60704302 | -0.44067747 |  0.02552787 | -0.13243776 | \n",
       "| d | -0.67989112 | -0.5930767  |  0.3524948  |  0.1865719  | -0.69217505 | -0.88075605 | -0.93263529 |  0.73666135 | -0.49398892 | \n",
       "| e | -0.56439079 |  0.1928362  |  0.4564564  |  0.2958914  |  0.04211361 |  0.55155051 |  0.41816415 |  0.13857986 |  0.03654811 | \n",
       "| f | -0.05868665 |  0.2695106  | -1.2621589  | -0.2179102  |  0.58923066 |  0.87400696 |  1.02268859 | -0.81324496 |  1.35699580 | \n",
       "| g |  0.91838369 | -0.1675336  | -1.2849005  | -0.5167168  | -0.53379906 |  0.89650392 |  1.25616009 | -1.27639344 |  1.36092571 | \n",
       "| h | -0.01498383 | -0.2978802  |  0.5019396  |  0.7149495  | -0.14145855 | -0.73827529 | -0.78254646 |  0.86430070 | -0.60402622 | \n",
       "| i |  0.33463879 | -0.3208825  |  0.3557436  |  0.4124989  | -0.14865746 | -0.25459062 | -0.80339213 |  0.59078782 | -0.20317603 | \n",
       "| j | -0.62994504 | -0.7885965  | -0.1543180  |  0.2849595  | -0.60218870 | -0.09711188 | -0.07379367 | -0.48138267 | -0.96164748 | \n",
       "\n",
       "\n"
      ],
      "text/plain": [
       "  perform     leader     latest     fun        serious     bargain    \n",
       "a -0.88591874 -0.5279035  0.4109732  0.6566458 -0.91894067  0.21409609\n",
       "b  0.93087022  1.0707584  0.7261069 -0.9722147  1.18314061  0.04161938\n",
       "c  0.64992347  1.1627677 -0.1023372 -0.8446753  1.22273461 -0.60704302\n",
       "d -0.67989112 -0.5930767  0.3524948  0.1865719 -0.69217505 -0.88075605\n",
       "e -0.56439079  0.1928362  0.4564564  0.2958914  0.04211361  0.55155051\n",
       "f -0.05868665  0.2695106 -1.2621589 -0.2179102  0.58923066  0.87400696\n",
       "g  0.91838369 -0.1675336 -1.2849005 -0.5167168 -0.53379906  0.89650392\n",
       "h -0.01498383 -0.2978802  0.5019396  0.7149495 -0.14145855 -0.73827529\n",
       "i  0.33463879 -0.3208825  0.3557436  0.4124989 -0.14865746 -0.25459062\n",
       "j -0.62994504 -0.7885965 -0.1543180  0.2849595 -0.60218870 -0.09711188\n",
       "  value       trendy      rebuy      \n",
       "a  0.18469264 -0.52514473 -0.59616642\n",
       "b  0.15133957  0.74030819  0.23697320\n",
       "c -0.44067747  0.02552787 -0.13243776\n",
       "d -0.93263529  0.73666135 -0.49398892\n",
       "e  0.41816415  0.13857986  0.03654811\n",
       "f  1.02268859 -0.81324496  1.35699580\n",
       "g  1.25616009 -1.27639344  1.36092571\n",
       "h -0.78254646  0.86430070 -0.60402622\n",
       "i -0.80339213  0.59078782 -0.20317603\n",
       "j -0.07379367 -0.48138267 -0.96164748"
      ]
     },
     "metadata": {},
     "output_type": "display_data"
    }
   ],
   "source": [
    "brand.mean"
   ]
  },
  {
   "cell_type": "code",
   "execution_count": 44,
   "metadata": {},
   "outputs": [
    {
     "data": {
      "text/plain": [
       "Importance of components:\n",
       "                          PC1    PC2    PC3     PC4     PC5     PC6     PC7\n",
       "Standard deviation     2.1345 1.7349 0.7690 0.61498 0.50983 0.36662 0.21506\n",
       "Proportion of Variance 0.5062 0.3345 0.0657 0.04202 0.02888 0.01493 0.00514\n",
       "Cumulative Proportion  0.5062 0.8407 0.9064 0.94842 0.97730 0.99223 0.99737\n",
       "                           PC8     PC9\n",
       "Standard deviation     0.14588 0.04867\n",
       "Proportion of Variance 0.00236 0.00026\n",
       "Cumulative Proportion  0.99974 1.00000"
      ]
     },
     "metadata": {},
     "output_type": "display_data"
    }
   ],
   "source": [
    "brand.mu.pc = prcomp(brand.mean, scale=T)\n",
    "summary(brand.mu.pc)"
   ]
  },
  {
   "cell_type": "code",
   "execution_count": 51,
   "metadata": {},
   "outputs": [
    {
     "data": {
      "text/plain": [
       "Standard deviations (1, .., p=9):\n",
       "[1] 2.13452052 1.73494730 0.76898915 0.61498280 0.50982614 0.36661576 0.21506243\n",
       "[8] 0.14588236 0.04866747\n",
       "\n",
       "Rotation (n x k) = (9 x 9):\n",
       "               PC1         PC2         PC3         PC4         PC5         PC6\n",
       "perform  0.2852486 -0.33729698 -0.48121446  0.46995620  0.39623804 -0.43471514\n",
       "leader   0.2473668 -0.45654557  0.31711577 -0.19084693 -0.06130157 -0.11868317\n",
       "latest  -0.3562989 -0.25056983  0.49589600  0.27477470  0.46061874  0.08173299\n",
       "fun     -0.3355152  0.33455495  0.15167546  0.32394053 -0.38757837 -0.63609709\n",
       "serious  0.2121240 -0.47463096  0.24371327 -0.21229430 -0.39428137 -0.33437227\n",
       "bargain  0.3613409  0.27776101  0.45940272  0.29120398  0.11248446 -0.12716342\n",
       "value    0.4010778  0.24062869  0.33576144  0.05052374  0.20581208  0.08329187\n",
       "trendy  -0.3114405 -0.37521575  0.08724910  0.48392969 -0.27261916  0.33925412\n",
       "rebuy    0.4295359  0.04438337 -0.09031492  0.44234693 -0.43824713  0.36828116\n",
       "                PC7          PC8          PC9\n",
       "perform  0.02784431 -0.074243080  0.012984626\n",
       "leader  -0.60997229 -0.021119910  0.450594077\n",
       "latest  -0.19587019  0.119316063 -0.466262266\n",
       "fun     -0.24602385 -0.179248006 -0.008094488\n",
       "serious  0.43881277 -0.005157446 -0.406716076\n",
       "bargain  0.31905166  0.512721569  0.320827507\n",
       "value    0.08325891 -0.778125659 -0.065102236\n",
       "trendy   0.32150758 -0.243224760  0.410460300\n",
       "rebuy   -0.35159046  0.141872872 -0.371841553"
      ]
     },
     "metadata": {},
     "output_type": "display_data"
    }
   ],
   "source": [
    "brand.mu.pc"
   ]
  },
  {
   "cell_type": "markdown",
   "metadata": {},
   "source": [
    "**8.2.4 Perceptual Map of the Brands**"
   ]
  },
  {
   "cell_type": "code",
   "execution_count": 45,
   "metadata": {},
   "outputs": [
    {
     "data": {
      "image/png": "[encoded data removed]",
      "text/plain": [
       "Plot with title \"Brand positioning\""
      ]
     },
     "metadata": {},
     "output_type": "display_data"
    }
   ],
   "source": [
    "biplot(brand.mu.pc, main = 'Brand positioning', cex=c(1.5,1))"
   ]
  },
  {
   "cell_type": "markdown",
   "metadata": {},
   "source": [
    "Fig. 8.7. A perceptual map of consumer brands with biplot() for aggregate mean rating by brand. This shows components almost identical to those in Fig. 8.6 (although spatially rotated) but the mean brand positions are clear."
   ]
  },
  {
   "cell_type": "code",
   "execution_count": 46,
   "metadata": {},
   "outputs": [
    {
     "data": {
      "text/html": [
       "<table>\n",
       "<thead><tr><th></th><th scope=col>perform</th><th scope=col>leader</th><th scope=col>latest</th><th scope=col>fun</th><th scope=col>serious</th><th scope=col>bargain</th><th scope=col>value</th><th scope=col>trendy</th><th scope=col>rebuy</th></tr></thead>\n",
       "<tbody>\n",
       "\t<tr><th scope=row>c</th><td>1.214314  </td><td>0.9699315 </td><td>-0.5587936</td><td>-1.140567 </td><td>1.180621  </td><td>-1.158594 </td><td>-0.8588416</td><td>-0.113052 </td><td>-0.1689859</td></tr>\n",
       "</tbody>\n",
       "</table>\n"
      ],
      "text/latex": [
       "\\begin{tabular}{r|lllllllll}\n",
       "  & perform & leader & latest & fun & serious & bargain & value & trendy & rebuy\\\\\n",
       "\\hline\n",
       "\tc & 1.214314   & 0.9699315  & -0.5587936 & -1.140567  & 1.180621   & -1.158594  & -0.8588416 & -0.113052  & -0.1689859\\\\\n",
       "\\end{tabular}\n"
      ],
      "text/markdown": [
       "\n",
       "| <!--/--> | perform | leader | latest | fun | serious | bargain | value | trendy | rebuy | \n",
       "|---|\n",
       "| c | 1.214314   | 0.9699315  | -0.5587936 | -1.140567  | 1.180621   | -1.158594  | -0.8588416 | -0.113052  | -0.1689859 | \n",
       "\n",
       "\n"
      ],
      "text/plain": [
       "  perform  leader    latest     fun       serious  bargain   value     \n",
       "c 1.214314 0.9699315 -0.5587936 -1.140567 1.180621 -1.158594 -0.8588416\n",
       "  trendy    rebuy     \n",
       "c -0.113052 -0.1689859"
      ]
     },
     "metadata": {},
     "output_type": "display_data"
    }
   ],
   "source": [
    "brand.mean['c', ] - brand.mean['e', ]"
   ]
  },
  {
   "cell_type": "markdown",
   "metadata": {},
   "source": [
    "**Another option would be not to follow another brand but to aim for differentiated space where no brand is positioned. **\n",
    "In Fig. 8.7, there is a large gap between the group b and c on the bottom of the chart, versus f and g on the upper right. This area might be described as the “value leader” area or similar."
   ]
  },
  {
   "cell_type": "code",
   "execution_count": 50,
   "metadata": {},
   "outputs": [
    {
     "data": {
      "text/html": [
       "<table>\n",
       "<thead><tr><th></th><th scope=col>perform</th><th scope=col>leader</th><th scope=col>latest</th><th scope=col>fun</th><th scope=col>serious</th><th scope=col>bargain</th><th scope=col>value</th><th scope=col>trendy</th><th scope=col>rebuy</th></tr></thead>\n",
       "<tbody>\n",
       "\t<tr><th scope=row>e</th><td>1.174513  </td><td>0.3910396 </td><td>-0.9372789</td><td>-0.9337707</td><td>0.5732131 </td><td>-0.2502787</td><td>0.07921355</td><td>-0.4695304</td><td>0.6690661 </td></tr>\n",
       "</tbody>\n",
       "</table>\n"
      ],
      "text/latex": [
       "\\begin{tabular}{r|lllllllll}\n",
       "  & perform & leader & latest & fun & serious & bargain & value & trendy & rebuy\\\\\n",
       "\\hline\n",
       "\te & 1.174513   & 0.3910396  & -0.9372789 & -0.9337707 & 0.5732131  & -0.2502787 & 0.07921355 & -0.4695304 & 0.6690661 \\\\\n",
       "\\end{tabular}\n"
      ],
      "text/markdown": [
       "\n",
       "| <!--/--> | perform | leader | latest | fun | serious | bargain | value | trendy | rebuy | \n",
       "|---|\n",
       "| e | 1.174513   | 0.3910396  | -0.9372789 | -0.9337707 | 0.5732131  | -0.2502787 | 0.07921355 | -0.4695304 | 0.6690661  | \n",
       "\n",
       "\n"
      ],
      "text/plain": [
       "  perform  leader    latest     fun        serious   bargain    value     \n",
       "e 1.174513 0.3910396 -0.9372789 -0.9337707 0.5732131 -0.2502787 0.07921355\n",
       "  trendy     rebuy    \n",
       "e -0.4695304 0.6690661"
      ]
     },
     "metadata": {},
     "output_type": "display_data"
    }
   ],
   "source": [
    "colMeans(brand.mean[c('c','b','f','g'),]) - brand.mean['e',]"
   ]
  },
  {
   "cell_type": "markdown",
   "metadata": {},
   "source": [
    "This suggests that brand e could target the gap by increasing its emphasis on performance while reducing emphasis on “latest” and “fun.”"
   ]
  },
  {
   "cell_type": "markdown",
   "metadata": {},
   "source": [
    "**8.3 Exploratory Factor Analysis**"
   ]
  },
  {
   "cell_type": "markdown",
   "metadata": {},
   "source": [
    "EFA is a family of techniques to assess the relationship of constructs (concepts) in surveys and psychological assessments. Factors are regarded as ***latent variables*** that cannot be observed directly, but are imperfectly assessed through their relationship to other variables.\n",
    "\n",
    "EFA attempts to find the degree to which latent, composite ***factors*** account for the observed variance of those manifest variables."
   ]
  },
  {
   "cell_type": "markdown",
   "metadata": {},
   "source": [
    "**8.3.2 Finding an EFA Solution**"
   ]
  },
  {
   "cell_type": "code",
   "execution_count": 54,
   "metadata": {},
   "outputs": [
    {
     "name": "stderr",
     "output_type": "stream",
     "text": [
      "Installing package into 'C:/Users/cl44343/Documents/R/win-library/3.4'\n",
      "(as 'lib' is unspecified)\n"
     ]
    },
    {
     "name": "stdout",
     "output_type": "stream",
     "text": [
      "package 'nFactors' successfully unpacked and MD5 sums checked\n",
      "\n",
      "The downloaded binary packages are in\n",
      "\tC:\\Temp\\RtmpYrBolK\\downloaded_packages\n"
     ]
    },
    {
     "name": "stderr",
     "output_type": "stream",
     "text": [
      "Loading required package: MASS\n",
      "Warning message:\n",
      "\"package 'MASS' was built under R version 3.4.4\"Loading required package: psych\n",
      "Warning message:\n",
      "\"package 'psych' was built under R version 3.4.4\"Loading required package: boot\n",
      "\n",
      "Attaching package: 'boot'\n",
      "\n",
      "The following object is masked from 'package:psych':\n",
      "\n",
      "    logit\n",
      "\n",
      "Loading required package: lattice\n",
      "Warning message:\n",
      "\"package 'lattice' was built under R version 3.4.4\"\n",
      "Attaching package: 'lattice'\n",
      "\n",
      "The following object is masked from 'package:boot':\n",
      "\n",
      "    melanoma\n",
      "\n",
      "\n",
      "Attaching package: 'nFactors'\n",
      "\n",
      "The following object is masked from 'package:lattice':\n",
      "\n",
      "    parallel\n",
      "\n"
     ]
    }
   ],
   "source": [
    "install.packages('nFactors')\n",
    "library(nFactors)"
   ]
  },
  {
   "cell_type": "code",
   "execution_count": 58,
   "metadata": {},
   "outputs": [],
   "source": [
    "library(MASS)\n",
    "library(psych)\n",
    "library(boot)"
   ]
  },
  {
   "cell_type": "code",
   "execution_count": 59,
   "metadata": {},
   "outputs": [
    {
     "data": {
      "text/plain": [
       "  noc naf nparallel nkaiser\n",
       "1   3   2         3       3"
      ]
     },
     "metadata": {},
     "output_type": "display_data"
    }
   ],
   "source": [
    "nScree(brand.sc[, 1:9])"
   ]
  },
  {
   "cell_type": "markdown",
   "metadata": {},
   "source": [
    "nScree() applies several methods to estimate the number of factors from scree\n",
    "tests, and in the present case three of the four methods suggest that the data set has 3 factors. We can examine the eigenvalues using eigen() on a correlation\n",
    "matrix:"
   ]
  },
  {
   "cell_type": "code",
   "execution_count": 60,
   "metadata": {},
   "outputs": [
    {
     "data": {
      "text/plain": [
       "eigen() decomposition\n",
       "$values\n",
       "[1] 2.9792956 2.0965517 1.0792549 0.7272110 0.6375459 0.5348432 0.3901044\n",
       "[8] 0.3120464 0.2431469\n",
       "\n",
       "$vectors\n",
       "            [,1]        [,2]        [,3]        [,4]        [,5]       [,6]\n",
       " [1,]  0.2374679 -0.41991179  0.03854006 -0.52630873  0.46793435 -0.3370676\n",
       " [2,]  0.2058257 -0.52381901 -0.09512739 -0.08923461 -0.29452974 -0.2968860\n",
       " [3,] -0.3703806 -0.20145317 -0.53273054  0.21410754  0.10586676 -0.1742059\n",
       " [4,] -0.2510601  0.25037973 -0.41781346 -0.75063952 -0.33149429  0.1405367\n",
       " [5,]  0.1597402 -0.51047254 -0.04067075  0.09893394 -0.55515540  0.3924874\n",
       " [6,]  0.3991731  0.21849698 -0.48989756  0.16734345 -0.01257429 -0.1393966\n",
       " [7,]  0.4474562  0.18980822 -0.36924507  0.15118500 -0.06327757 -0.2195327\n",
       " [8,] -0.3510292 -0.31849032 -0.37090530  0.16764432  0.36649697  0.2658186\n",
       " [9,]  0.4390184 -0.01509832 -0.12461593 -0.13031231  0.35568769  0.6751400\n",
       "              [,7]        [,8]        [,9]\n",
       " [1,]  0.364179109 -0.14444718  0.05223384\n",
       " [2,] -0.613674301  0.28766118 -0.17889453\n",
       " [3,] -0.185480310 -0.64290436  0.05750244\n",
       " [4,] -0.007114761  0.07461259  0.03153306\n",
       " [5,]  0.445302862 -0.18354764  0.09072231\n",
       " [6,]  0.288264900  0.05789194 -0.64720849\n",
       " [7,]  0.017163011  0.14829295  0.72806108\n",
       " [8,]  0.153572108  0.61450289  0.05907022\n",
       " [9,] -0.388656160 -0.20210688 -0.01720236\n"
      ]
     },
     "metadata": {},
     "output_type": "display_data"
    }
   ],
   "source": [
    "eigen(cor(brand.sc[,1:9]))"
   ]
  },
  {
   "cell_type": "code",
   "execution_count": 61,
   "metadata": {},
   "outputs": [
    {
     "data": {
      "text/plain": [
       "\n",
       "Call:\n",
       "factanal(x = brand.sc[, 1:9], factors = 2)\n",
       "\n",
       "Uniquenesses:\n",
       "perform  leader  latest     fun serious bargain   value  trendy   rebuy \n",
       "  0.635   0.332   0.796   0.835   0.527   0.354   0.225   0.708   0.585 \n",
       "\n",
       "Loadings:\n",
       "        Factor1 Factor2\n",
       "perform          0.600 \n",
       "leader           0.818 \n",
       "latest  -0.451         \n",
       "fun     -0.137  -0.382 \n",
       "serious          0.686 \n",
       "bargain  0.803         \n",
       "value    0.873   0.117 \n",
       "trendy  -0.534         \n",
       "rebuy    0.569   0.303 \n",
       "\n",
       "               Factor1 Factor2\n",
       "SS loadings      2.245   1.759\n",
       "Proportion Var   0.249   0.195\n",
       "Cumulative Var   0.249   0.445\n",
       "\n",
       "Test of the hypothesis that 2 factors are sufficient.\n",
       "The chi square statistic is 556.19 on 19 degrees of freedom.\n",
       "The p-value is 8.66e-106 "
      ]
     },
     "metadata": {},
     "output_type": "display_data"
    }
   ],
   "source": [
    "factanal(brand.sc[,1:9], factors=2)"
   ]
  },
  {
   "cell_type": "code",
   "execution_count": 62,
   "metadata": {},
   "outputs": [
    {
     "data": {
      "text/plain": [
       "\n",
       "Call:\n",
       "factanal(x = brand.sc[, 1:9], factors = 3)\n",
       "\n",
       "Uniquenesses:\n",
       "perform  leader  latest     fun serious bargain   value  trendy   rebuy \n",
       "  0.624   0.327   0.005   0.794   0.530   0.302   0.202   0.524   0.575 \n",
       "\n",
       "Loadings:\n",
       "        Factor1 Factor2 Factor3\n",
       "perform          0.607         \n",
       "leader           0.810   0.106 \n",
       "latest  -0.163           0.981 \n",
       "fun             -0.398   0.205 \n",
       "serious          0.682         \n",
       "bargain  0.826          -0.122 \n",
       "value    0.867          -0.198 \n",
       "trendy  -0.356           0.586 \n",
       "rebuy    0.499   0.296  -0.298 \n",
       "\n",
       "               Factor1 Factor2 Factor3\n",
       "SS loadings      1.853   1.752   1.510\n",
       "Proportion Var   0.206   0.195   0.168\n",
       "Cumulative Var   0.206   0.401   0.568\n",
       "\n",
       "Test of the hypothesis that 3 factors are sufficient.\n",
       "The chi square statistic is 64.57 on 12 degrees of freedom.\n",
       "The p-value is 3.28e-09 "
      ]
     },
     "metadata": {},
     "output_type": "display_data"
    }
   ],
   "source": [
    "factanal(brand.sc[,1:9], factors=3)"
   ]
  },
  {
   "cell_type": "markdown",
   "metadata": {},
   "source": [
    "The 3-factor solution retains the “value” and “leader” factors and adds a clear “latest” factor that loads strongly on “latest” and “trendy.” This adds a clearly interpretable concept to our understanding of the data. It also aligns with the bulk of suggestions from the scree and eigen tests, and fits well with the perceptual maps we saw in Sect. 8.2.4, where those adjectives were in a differentiated space. So we regard the 3-factor model as superior to the 2-factor model because the factors are more interpretable."
   ]
  },
  {
   "cell_type": "code",
   "execution_count": 63,
   "metadata": {},
   "outputs": [
    {
     "data": {
      "text/plain": [
       "\n",
       "Call:\n",
       "factanal(x = brand.sc[, 1:9], factors = 4)\n",
       "\n",
       "Uniquenesses:\n",
       "perform  leader  latest     fun serious bargain   value  trendy   rebuy \n",
       "  0.610   0.032   0.276   0.783   0.598   0.264   0.233   0.333   0.467 \n",
       "\n",
       "Loadings:\n",
       "        Factor1 Factor2 Factor3 Factor4\n",
       "perform  0.601                  -0.147 \n",
       "leader   0.915                   0.351 \n",
       "latest          -0.169   0.810   0.179 \n",
       "fun     -0.384           0.216   0.141 \n",
       "serious  0.628                         \n",
       "bargain          0.847  -0.132         \n",
       "value            0.835  -0.250         \n",
       "trendy          -0.300   0.746  -0.115 \n",
       "rebuy    0.327   0.504  -0.283  -0.302 \n",
       "\n",
       "               Factor1 Factor2 Factor3 Factor4\n",
       "SS loadings      1.867   1.801   1.433   0.303\n",
       "Proportion Var   0.207   0.200   0.159   0.034\n",
       "Cumulative Var   0.207   0.408   0.567   0.600\n",
       "\n",
       "Test of the hypothesis that 4 factors are sufficient.\n",
       "The chi square statistic is 14.07 on 6 degrees of freedom.\n",
       "The p-value is 0.0289 "
      ]
     },
     "metadata": {},
     "output_type": "display_data"
    }
   ],
   "source": [
    "factanal(brand.sc[,1:9], factors=4)"
   ]
  },
  {
   "cell_type": "markdown",
   "metadata": {},
   "source": [
    "**8.3.3 EFA Rotations**"
   ]
  },
  {
   "cell_type": "markdown",
   "metadata": {},
   "source": [
    "we could allow correlated factors in our solution. This is known as an oblique rotation (“oblique” because the dimensional axes are not perpendicular but are skewed by the correlation between factors)."
   ]
  },
  {
   "cell_type": "code",
   "execution_count": 67,
   "metadata": {},
   "outputs": [
    {
     "name": "stderr",
     "output_type": "stream",
     "text": [
      "Installing package into 'C:/Users/cl44343/Documents/R/win-library/3.4'\n",
      "(as 'lib' is unspecified)\n"
     ]
    },
    {
     "name": "stdout",
     "output_type": "stream",
     "text": [
      "package 'GPArotation' successfully unpacked and MD5 sums checked\n",
      "\n",
      "The downloaded binary packages are in\n",
      "\tC:\\Temp\\RtmpYrBolK\\downloaded_packages\n"
     ]
    }
   ],
   "source": [
    "install.packages('GPArotation')\n",
    "library(GPArotation)"
   ]
  },
  {
   "cell_type": "code",
   "execution_count": 70,
   "metadata": {
    "scrolled": true
   },
   "outputs": [
    {
     "data": {
      "text/plain": [
       "\n",
       "Call:\n",
       "factanal(x = brand.sc[, 1:9], factors = 3, rotation = \"oblimin\")\n",
       "\n",
       "Uniquenesses:\n",
       "perform  leader  latest     fun serious bargain   value  trendy   rebuy \n",
       "  0.624   0.327   0.005   0.794   0.530   0.302   0.202   0.524   0.575 \n",
       "\n",
       "Loadings:\n",
       "        Factor1 Factor2 Factor3\n",
       "perform          0.601         \n",
       "leader           0.816         \n",
       "latest                   1.009 \n",
       "fun             -0.381   0.229 \n",
       "serious          0.689         \n",
       "bargain  0.859                 \n",
       "value    0.880                 \n",
       "trendy  -0.267   0.128   0.538 \n",
       "rebuy    0.448   0.255  -0.226 \n",
       "\n",
       "               Factor1 Factor2 Factor3\n",
       "SS loadings      1.789   1.733   1.430\n",
       "Proportion Var   0.199   0.193   0.159\n",
       "Cumulative Var   0.199   0.391   0.550\n",
       "\n",
       "Factor Correlations:\n",
       "        Factor1 Factor2 Factor3\n",
       "Factor1  1.0000  -0.388  0.0368\n",
       "Factor2 -0.3884   1.000 -0.1091\n",
       "Factor3  0.0368  -0.109  1.0000\n",
       "\n",
       "Test of the hypothesis that 3 factors are sufficient.\n",
       "The chi square statistic is 64.57 on 12 degrees of freedom.\n",
       "The p-value is 3.28e-09 "
      ]
     },
     "metadata": {},
     "output_type": "display_data"
    }
   ],
   "source": [
    "(brand.fa.ob = factanal(brand.sc[,1:9], factors=3, rotation='oblimin'))"
   ]
  },
  {
   "cell_type": "markdown",
   "metadata": {},
   "source": [
    "The negative correlation between factors 1 and 2 is consistent with our theory that brands that are leaders are less likely to be value brands, and thus we think this is a more interpretable result."
   ]
  },
  {
   "cell_type": "code",
   "execution_count": 74,
   "metadata": {},
   "outputs": [
    {
     "data": {
      "image/png": "[encoded data removed]",
      "text/plain": [
       "Plot with title \"\n",
       "\n",
       "\n",
       "\n",
       "Factor loadings for brand adjectives\""
      ]
     },
     "metadata": {},
     "output_type": "display_data"
    }
   ],
   "source": [
    "heatmap.2(brand.fa.ob$loadings, col=brewer.pal(9, \"Greens\"), trace='none',\n",
    "          key=F, dend='none', Colv=F, cexCol=1.2, main='\\n\\n\\n\\nFactor loadings for brand adjectives')"
   ]
  },
  {
   "cell_type": "markdown",
   "metadata": {},
   "source": [
    "The result is Fig. 8.8, which shows a distinct separation of items into 3 factors,\n",
    "which are roughly interpretable as value, leader, and latest. Note that the item\n",
    "rebuy, which reflects stated intention to repurchase, loads on both Factor1 (value)\n",
    "and Factor2 (leader). This suggests that in our simulated data, consumers say they\n",
    "would **rebuy a brand for either reason, because it is a good value or because it is a\n",
    "leader.**"
   ]
  },
  {
   "cell_type": "code",
   "execution_count": 76,
   "metadata": {},
   "outputs": [
    {
     "name": "stderr",
     "output_type": "stream",
     "text": [
      "Installing package into 'C:/Users/cl44343/Documents/R/win-library/3.4'\n",
      "(as 'lib' is unspecified)\n",
      "also installing the dependencies 'checkmate', 'abind', 'SparseM', 'MatrixModels', 'Formula', 'latticeExtra', 'acepack', 'gridExtra', 'htmlTable', 'viridis', 'statnet.common', 'network', 'rjson', 'arm', 'minqa', 'nloptr', 'pbkrtest', 'quantreg', 'mvtnorm', 'ellipse', 'Hmisc', 'jpeg', 'png', 'sna', 'glasso', 'huge', 'fdrtool', 'd3Network', 'ggm', 'pbivnorm', 'quadprog', 'matrixcalc', 'mi', 'irlba', 'lme4', 'car', 'RcppEigen', 'StanHeaders', 'rpf', 'qgraph', 'lavaan', 'sem', 'XML', 'igraph', 'lisrelToR', 'rockchalk', 'corpcor', 'semTools', 'OpenMx'\n",
      "\n"
     ]
    },
    {
     "name": "stdout",
     "output_type": "stream",
     "text": [
      "package 'checkmate' successfully unpacked and MD5 sums checked\n",
      "package 'abind' successfully unpacked and MD5 sums checked\n",
      "package 'SparseM' successfully unpacked and MD5 sums checked\n",
      "package 'MatrixModels' successfully unpacked and MD5 sums checked\n",
      "package 'Formula' successfully unpacked and MD5 sums checked\n",
      "package 'latticeExtra' successfully unpacked and MD5 sums checked\n",
      "package 'acepack' successfully unpacked and MD5 sums checked\n",
      "package 'gridExtra' successfully unpacked and MD5 sums checked\n",
      "package 'htmlTable' successfully unpacked and MD5 sums checked\n",
      "package 'viridis' successfully unpacked and MD5 sums checked\n",
      "package 'statnet.common' successfully unpacked and MD5 sums checked\n",
      "package 'network' successfully unpacked and MD5 sums checked\n",
      "package 'rjson' successfully unpacked and MD5 sums checked\n",
      "package 'arm' successfully unpacked and MD5 sums checked\n",
      "package 'minqa' successfully unpacked and MD5 sums checked\n",
      "package 'nloptr' successfully unpacked and MD5 sums checked\n",
      "package 'pbkrtest' successfully unpacked and MD5 sums checked\n",
      "package 'quantreg' successfully unpacked and MD5 sums checked\n",
      "package 'mvtnorm' successfully unpacked and MD5 sums checked\n",
      "package 'ellipse' successfully unpacked and MD5 sums checked\n",
      "package 'Hmisc' successfully unpacked and MD5 sums checked\n",
      "package 'jpeg' successfully unpacked and MD5 sums checked\n",
      "package 'png' successfully unpacked and MD5 sums checked\n",
      "package 'sna' successfully unpacked and MD5 sums checked\n",
      "package 'glasso' successfully unpacked and MD5 sums checked\n",
      "package 'huge' successfully unpacked and MD5 sums checked\n",
      "package 'fdrtool' successfully unpacked and MD5 sums checked\n",
      "package 'd3Network' successfully unpacked and MD5 sums checked\n",
      "package 'ggm' successfully unpacked and MD5 sums checked\n",
      "package 'pbivnorm' successfully unpacked and MD5 sums checked\n",
      "package 'quadprog' successfully unpacked and MD5 sums checked\n",
      "package 'matrixcalc' successfully unpacked and MD5 sums checked\n",
      "package 'mi' successfully unpacked and MD5 sums checked\n",
      "package 'irlba' successfully unpacked and MD5 sums checked\n",
      "package 'lme4' successfully unpacked and MD5 sums checked\n",
      "package 'car' successfully unpacked and MD5 sums checked\n",
      "package 'RcppEigen' successfully unpacked and MD5 sums checked\n",
      "package 'StanHeaders' successfully unpacked and MD5 sums checked\n",
      "package 'rpf' successfully unpacked and MD5 sums checked\n",
      "package 'qgraph' successfully unpacked and MD5 sums checked\n",
      "package 'lavaan' successfully unpacked and MD5 sums checked\n",
      "package 'sem' successfully unpacked and MD5 sums checked\n",
      "package 'XML' successfully unpacked and MD5 sums checked\n",
      "package 'igraph' successfully unpacked and MD5 sums checked\n",
      "package 'lisrelToR' successfully unpacked and MD5 sums checked\n",
      "package 'rockchalk' successfully unpacked and MD5 sums checked\n",
      "package 'corpcor' successfully unpacked and MD5 sums checked\n",
      "package 'semTools' successfully unpacked and MD5 sums checked\n",
      "package 'OpenMx' successfully unpacked and MD5 sums checked\n",
      "package 'semPlot' successfully unpacked and MD5 sums checked\n",
      "\n",
      "The downloaded binary packages are in\n",
      "\tC:\\Temp\\RtmpYrBolK\\downloaded_packages\n"
     ]
    }
   ],
   "source": [
    "install.packages('semPlot')\n",
    "library(semPlot)"
   ]
  },
  {
   "cell_type": "markdown",
   "metadata": {},
   "source": [
    "Another useful graphic for factor analysis models is a ***path diagram***, which shows\n",
    "latent variables and the individual items that load on them."
   ]
  },
  {
   "cell_type": "code",
   "execution_count": 77,
   "metadata": {},
   "outputs": [
    {
     "name": "stderr",
     "output_type": "stream",
     "text": [
      "Warning message in qgraph(Edgelist, labels = nLab, bidirectional = Bidir, directed = Directed, :\n",
      "\"The following arguments are not documented and likely not arguments of qgraph and thus ignored: loopRotation; residuals; residScale; residEdge; CircleEdgeEnd\""
     ]
    },
    {
     "data": {
      "image/png": "[encoded data removed]",
      "text/plain": [
       "plot without title"
      ]
     },
     "metadata": {},
     "output_type": "display_data"
    }
   ],
   "source": [
    "semPaths(brand.fa.ob, what='est', residuals = F, cut=0.3, \n",
    "         posCol=c('white', 'darkgreen'), negCol=c('white', 'red'), \n",
    "         edge.label.cex = 0.75, nCharNodes=7)"
   ]
  },
  {
   "cell_type": "markdown",
   "metadata": {},
   "source": [
    "Fig. 8.9. A path diagram for the factor\n",
    "analysis solution, which clearly displays\n",
    "the three factors and their item loadings\n",
    "(*|loadings| < 0.3* are excluded). The\n",
    "graphic is generated with *semPaths()*\n",
    "from the *semPlot* package."
   ]
  },
  {
   "cell_type": "markdown",
   "metadata": {},
   "source": [
    "**8.3.4 Using Factor Scores for Brands**"
   ]
  },
  {
   "cell_type": "markdown",
   "metadata": {},
   "source": [
    "Factor scores are requested from factanal() by adding the scores=... argument.\n",
    "We request *Bartlett* scores (see ?factanal), and extract them from\n",
    "the factanal() object using $scores, storing them as a separate data\n",
    "frame"
   ]
  },
  {
   "cell_type": "code",
   "execution_count": 88,
   "metadata": {},
   "outputs": [],
   "source": [
    "brand.fa.ob  = factanal(brand.sc[,1:9], factors=3, rotation='oblimin', scores=\n",
    "                       'Bartlett')\n",
    "brand.scores = data.frame(brand.fa.ob$scores)  # get the factor scores\n",
    "brand.scores$brand = brand.sc$brand  # get the matching brands"
   ]
  },
  {
   "cell_type": "code",
   "execution_count": 89,
   "metadata": {},
   "outputs": [
    {
     "data": {
      "text/html": [
       "<table>\n",
       "<thead><tr><th scope=col>Factor1</th><th scope=col>Factor2</th><th scope=col>Factor3</th><th scope=col>brand</th></tr></thead>\n",
       "<tbody>\n",
       "\t<tr><td> 1.65213641</td><td>-0.68867492</td><td> 0.52561040</td><td>a          </td></tr>\n",
       "\t<tr><td>-1.40053333</td><td>-1.66819014</td><td>-0.67641211</td><td>a          </td></tr>\n",
       "\t<tr><td> 1.14573108</td><td>-1.06180076</td><td>-0.42858527</td><td>a          </td></tr>\n",
       "\t<tr><td> 0.20097246</td><td>-0.32454616</td><td> 1.21134236</td><td>a          </td></tr>\n",
       "\t<tr><td> 2.00020091</td><td>-1.90715192</td><td>-0.45599050</td><td>a          </td></tr>\n",
       "\t<tr><td> 1.41750630</td><td> 0.33394624</td><td> 0.85555246</td><td>a          </td></tr>\n",
       "\t<tr><td>-0.76761579</td><td>-1.82349493</td><td>-0.37465795</td><td>a          </td></tr>\n",
       "\t<tr><td> 1.16160650</td><td>-1.41780120</td><td> 0.22180101</td><td>a          </td></tr>\n",
       "\t<tr><td> 1.09207350</td><td>-1.79645733</td><td> 0.54126389</td><td>a          </td></tr>\n",
       "\t<tr><td>-0.55786818</td><td>-1.59296505</td><td> 0.90774270</td><td>a          </td></tr>\n",
       "\t<tr><td>-1.35239849</td><td>-1.57167333</td><td>-0.35917750</td><td>a          </td></tr>\n",
       "\t<tr><td>-0.60314518</td><td>-1.23547993</td><td> 0.26145882</td><td>a          </td></tr>\n",
       "\t<tr><td>-0.41806091</td><td>-1.12665271</td><td> 1.22518973</td><td>a          </td></tr>\n",
       "\t<tr><td>-0.88645569</td><td>-0.70211206</td><td> 0.28088336</td><td>a          </td></tr>\n",
       "\t<tr><td>-0.36553967</td><td>-1.44013472</td><td>-1.02367849</td><td>a          </td></tr>\n",
       "\t<tr><td> 1.21460478</td><td>-1.37388386</td><td> 0.20973801</td><td>a          </td></tr>\n",
       "\t<tr><td>-0.96824081</td><td>-1.43031911</td><td>-0.04078617</td><td>a          </td></tr>\n",
       "\t<tr><td> 1.96549534</td><td> 0.46539378</td><td> 0.84650402</td><td>a          </td></tr>\n",
       "\t<tr><td> 1.81501299</td><td>-0.51239435</td><td> 1.16677468</td><td>a          </td></tr>\n",
       "\t<tr><td> 0.09667411</td><td>-1.03611686</td><td> 0.89350849</td><td>a          </td></tr>\n",
       "\t<tr><td> 0.86186952</td><td>-1.41871755</td><td> 0.22338033</td><td>a          </td></tr>\n",
       "\t<tr><td> 0.67196706</td><td>-1.62160180</td><td> 0.86416174</td><td>a          </td></tr>\n",
       "\t<tr><td>-0.96412888</td><td>-1.43910326</td><td>-0.03507651</td><td>a          </td></tr>\n",
       "\t<tr><td>-0.71016354</td><td>-1.40841615</td><td> 0.58900705</td><td>a          </td></tr>\n",
       "\t<tr><td>-0.62485109</td><td>-1.27066400</td><td> 1.23506284</td><td>a          </td></tr>\n",
       "\t<tr><td> 2.61033618</td><td>-0.91265664</td><td>-0.14701293</td><td>a          </td></tr>\n",
       "\t<tr><td>-0.06153848</td><td> 0.08822535</td><td> 1.22334804</td><td>a          </td></tr>\n",
       "\t<tr><td>-0.67905976</td><td>-0.63830131</td><td> 1.24228965</td><td>a          </td></tr>\n",
       "\t<tr><td>-1.30663933</td><td>-1.59946244</td><td> 0.93284235</td><td>a          </td></tr>\n",
       "\t<tr><td>-0.69642617</td><td>-0.16112175</td><td>-0.36302445</td><td>a          </td></tr>\n",
       "\t<tr><td>...</td><td>...</td><td>...</td><td>...</td></tr>\n",
       "\t<tr><td>-1.44175532</td><td>-1.0360767 </td><td> 0.29087200</td><td>j          </td></tr>\n",
       "\t<tr><td>-0.44571656</td><td>-0.1985089 </td><td>-0.69772128</td><td>j          </td></tr>\n",
       "\t<tr><td> 0.03868019</td><td>-1.2256010 </td><td>-0.07576201</td><td>j          </td></tr>\n",
       "\t<tr><td> 1.50973537</td><td>-1.7394158 </td><td>-0.44266657</td><td>j          </td></tr>\n",
       "\t<tr><td> 0.21931144</td><td>-1.6352807 </td><td>-0.07437528</td><td>j          </td></tr>\n",
       "\t<tr><td> 0.57483531</td><td> 1.9262378 </td><td> 1.22434681</td><td>j          </td></tr>\n",
       "\t<tr><td> 0.36487080</td><td>-1.1151915 </td><td> 0.56328902</td><td>j          </td></tr>\n",
       "\t<tr><td>-0.93056749</td><td>-1.6072016 </td><td>-1.01134710</td><td>j          </td></tr>\n",
       "\t<tr><td>-1.36129532</td><td>-1.3016866 </td><td> 0.60610414</td><td>j          </td></tr>\n",
       "\t<tr><td>-0.79149922</td><td>-1.0502493 </td><td>-0.68866172</td><td>j          </td></tr>\n",
       "\t<tr><td> 0.97802409</td><td>-0.6969193 </td><td> 0.23276272</td><td>j          </td></tr>\n",
       "\t<tr><td>-0.07795425</td><td>-0.4593586 </td><td>-1.66747160</td><td>j          </td></tr>\n",
       "\t<tr><td> 0.89381070</td><td>-0.6234780 </td><td> 1.19253959</td><td>j          </td></tr>\n",
       "\t<tr><td> 0.44622647</td><td>-1.5675240 </td><td> 0.24225556</td><td>j          </td></tr>\n",
       "\t<tr><td>-0.50548317</td><td>-0.4578995 </td><td> 0.59175157</td><td>j          </td></tr>\n",
       "\t<tr><td>-1.00956471</td><td>-1.2721978 </td><td> 0.28563937</td><td>j          </td></tr>\n",
       "\t<tr><td>-0.18846248</td><td>-1.6159202 </td><td> 0.57854519</td><td>j          </td></tr>\n",
       "\t<tr><td>-0.33575080</td><td> 0.3582349 </td><td>-0.69769824</td><td>j          </td></tr>\n",
       "\t<tr><td>-0.57089853</td><td>-1.2788646 </td><td> 0.59366285</td><td>j          </td></tr>\n",
       "\t<tr><td>-1.01945922</td><td>-0.7332411 </td><td>-0.68050777</td><td>j          </td></tr>\n",
       "\t<tr><td> 1.02766980</td><td>-1.5300759 </td><td>-0.74703680</td><td>j          </td></tr>\n",
       "\t<tr><td>-1.21730957</td><td>-0.6002156 </td><td>-0.67493695</td><td>j          </td></tr>\n",
       "\t<tr><td>-1.42902099</td><td>-1.2188032 </td><td>-0.35320472</td><td>j          </td></tr>\n",
       "\t<tr><td> 1.35958060</td><td>-0.9726989 </td><td>-0.10896225</td><td>j          </td></tr>\n",
       "\t<tr><td>-0.56353146</td><td>-1.1507963 </td><td> 0.59003726</td><td>j          </td></tr>\n",
       "\t<tr><td> 0.75311108</td><td>-1.0790952 </td><td>-1.05785270</td><td>j          </td></tr>\n",
       "\t<tr><td>-0.55846428</td><td>-1.3421754 </td><td>-0.05704627</td><td>j          </td></tr>\n",
       "\t<tr><td> 0.48595236</td><td>-1.8258008 </td><td> 1.19996688</td><td>j          </td></tr>\n",
       "\t<tr><td>-1.20674882</td><td>-1.5474864 </td><td> 0.28575686</td><td>j          </td></tr>\n",
       "\t<tr><td>-1.23662690</td><td>-0.1044025 </td><td> 0.29516192</td><td>j          </td></tr>\n",
       "</tbody>\n",
       "</table>\n"
      ],
      "text/latex": [
       "\\begin{tabular}{r|llll}\n",
       " Factor1 & Factor2 & Factor3 & brand\\\\\n",
       "\\hline\n",
       "\t  1.65213641 & -0.68867492 &  0.52561040 & a          \\\\\n",
       "\t -1.40053333 & -1.66819014 & -0.67641211 & a          \\\\\n",
       "\t  1.14573108 & -1.06180076 & -0.42858527 & a          \\\\\n",
       "\t  0.20097246 & -0.32454616 &  1.21134236 & a          \\\\\n",
       "\t  2.00020091 & -1.90715192 & -0.45599050 & a          \\\\\n",
       "\t  1.41750630 &  0.33394624 &  0.85555246 & a          \\\\\n",
       "\t -0.76761579 & -1.82349493 & -0.37465795 & a          \\\\\n",
       "\t  1.16160650 & -1.41780120 &  0.22180101 & a          \\\\\n",
       "\t  1.09207350 & -1.79645733 &  0.54126389 & a          \\\\\n",
       "\t -0.55786818 & -1.59296505 &  0.90774270 & a          \\\\\n",
       "\t -1.35239849 & -1.57167333 & -0.35917750 & a          \\\\\n",
       "\t -0.60314518 & -1.23547993 &  0.26145882 & a          \\\\\n",
       "\t -0.41806091 & -1.12665271 &  1.22518973 & a          \\\\\n",
       "\t -0.88645569 & -0.70211206 &  0.28088336 & a          \\\\\n",
       "\t -0.36553967 & -1.44013472 & -1.02367849 & a          \\\\\n",
       "\t  1.21460478 & -1.37388386 &  0.20973801 & a          \\\\\n",
       "\t -0.96824081 & -1.43031911 & -0.04078617 & a          \\\\\n",
       "\t  1.96549534 &  0.46539378 &  0.84650402 & a          \\\\\n",
       "\t  1.81501299 & -0.51239435 &  1.16677468 & a          \\\\\n",
       "\t  0.09667411 & -1.03611686 &  0.89350849 & a          \\\\\n",
       "\t  0.86186952 & -1.41871755 &  0.22338033 & a          \\\\\n",
       "\t  0.67196706 & -1.62160180 &  0.86416174 & a          \\\\\n",
       "\t -0.96412888 & -1.43910326 & -0.03507651 & a          \\\\\n",
       "\t -0.71016354 & -1.40841615 &  0.58900705 & a          \\\\\n",
       "\t -0.62485109 & -1.27066400 &  1.23506284 & a          \\\\\n",
       "\t  2.61033618 & -0.91265664 & -0.14701293 & a          \\\\\n",
       "\t -0.06153848 &  0.08822535 &  1.22334804 & a          \\\\\n",
       "\t -0.67905976 & -0.63830131 &  1.24228965 & a          \\\\\n",
       "\t -1.30663933 & -1.59946244 &  0.93284235 & a          \\\\\n",
       "\t -0.69642617 & -0.16112175 & -0.36302445 & a          \\\\\n",
       "\t ... & ... & ... & ...\\\\\n",
       "\t -1.44175532 & -1.0360767  &  0.29087200 & j          \\\\\n",
       "\t -0.44571656 & -0.1985089  & -0.69772128 & j          \\\\\n",
       "\t  0.03868019 & -1.2256010  & -0.07576201 & j          \\\\\n",
       "\t  1.50973537 & -1.7394158  & -0.44266657 & j          \\\\\n",
       "\t  0.21931144 & -1.6352807  & -0.07437528 & j          \\\\\n",
       "\t  0.57483531 &  1.9262378  &  1.22434681 & j          \\\\\n",
       "\t  0.36487080 & -1.1151915  &  0.56328902 & j          \\\\\n",
       "\t -0.93056749 & -1.6072016  & -1.01134710 & j          \\\\\n",
       "\t -1.36129532 & -1.3016866  &  0.60610414 & j          \\\\\n",
       "\t -0.79149922 & -1.0502493  & -0.68866172 & j          \\\\\n",
       "\t  0.97802409 & -0.6969193  &  0.23276272 & j          \\\\\n",
       "\t -0.07795425 & -0.4593586  & -1.66747160 & j          \\\\\n",
       "\t  0.89381070 & -0.6234780  &  1.19253959 & j          \\\\\n",
       "\t  0.44622647 & -1.5675240  &  0.24225556 & j          \\\\\n",
       "\t -0.50548317 & -0.4578995  &  0.59175157 & j          \\\\\n",
       "\t -1.00956471 & -1.2721978  &  0.28563937 & j          \\\\\n",
       "\t -0.18846248 & -1.6159202  &  0.57854519 & j          \\\\\n",
       "\t -0.33575080 &  0.3582349  & -0.69769824 & j          \\\\\n",
       "\t -0.57089853 & -1.2788646  &  0.59366285 & j          \\\\\n",
       "\t -1.01945922 & -0.7332411  & -0.68050777 & j          \\\\\n",
       "\t  1.02766980 & -1.5300759  & -0.74703680 & j          \\\\\n",
       "\t -1.21730957 & -0.6002156  & -0.67493695 & j          \\\\\n",
       "\t -1.42902099 & -1.2188032  & -0.35320472 & j          \\\\\n",
       "\t  1.35958060 & -0.9726989  & -0.10896225 & j          \\\\\n",
       "\t -0.56353146 & -1.1507963  &  0.59003726 & j          \\\\\n",
       "\t  0.75311108 & -1.0790952  & -1.05785270 & j          \\\\\n",
       "\t -0.55846428 & -1.3421754  & -0.05704627 & j          \\\\\n",
       "\t  0.48595236 & -1.8258008  &  1.19996688 & j          \\\\\n",
       "\t -1.20674882 & -1.5474864  &  0.28575686 & j          \\\\\n",
       "\t -1.23662690 & -0.1044025  &  0.29516192 & j          \\\\\n",
       "\\end{tabular}\n"
      ],
      "text/markdown": [
       "\n",
       "Factor1 | Factor2 | Factor3 | brand | \n",
       "|---|---|---|---|---|---|---|---|---|---|---|---|---|---|---|---|---|---|---|---|---|---|---|---|---|---|---|---|---|---|---|---|---|---|---|---|---|---|---|---|---|---|---|---|---|---|---|---|---|---|---|---|---|---|---|---|---|---|---|---|---|\n",
       "|  1.65213641 | -0.68867492 |  0.52561040 | a           | \n",
       "| -1.40053333 | -1.66819014 | -0.67641211 | a           | \n",
       "|  1.14573108 | -1.06180076 | -0.42858527 | a           | \n",
       "|  0.20097246 | -0.32454616 |  1.21134236 | a           | \n",
       "|  2.00020091 | -1.90715192 | -0.45599050 | a           | \n",
       "|  1.41750630 |  0.33394624 |  0.85555246 | a           | \n",
       "| -0.76761579 | -1.82349493 | -0.37465795 | a           | \n",
       "|  1.16160650 | -1.41780120 |  0.22180101 | a           | \n",
       "|  1.09207350 | -1.79645733 |  0.54126389 | a           | \n",
       "| -0.55786818 | -1.59296505 |  0.90774270 | a           | \n",
       "| -1.35239849 | -1.57167333 | -0.35917750 | a           | \n",
       "| -0.60314518 | -1.23547993 |  0.26145882 | a           | \n",
       "| -0.41806091 | -1.12665271 |  1.22518973 | a           | \n",
       "| -0.88645569 | -0.70211206 |  0.28088336 | a           | \n",
       "| -0.36553967 | -1.44013472 | -1.02367849 | a           | \n",
       "|  1.21460478 | -1.37388386 |  0.20973801 | a           | \n",
       "| -0.96824081 | -1.43031911 | -0.04078617 | a           | \n",
       "|  1.96549534 |  0.46539378 |  0.84650402 | a           | \n",
       "|  1.81501299 | -0.51239435 |  1.16677468 | a           | \n",
       "|  0.09667411 | -1.03611686 |  0.89350849 | a           | \n",
       "|  0.86186952 | -1.41871755 |  0.22338033 | a           | \n",
       "|  0.67196706 | -1.62160180 |  0.86416174 | a           | \n",
       "| -0.96412888 | -1.43910326 | -0.03507651 | a           | \n",
       "| -0.71016354 | -1.40841615 |  0.58900705 | a           | \n",
       "| -0.62485109 | -1.27066400 |  1.23506284 | a           | \n",
       "|  2.61033618 | -0.91265664 | -0.14701293 | a           | \n",
       "| -0.06153848 |  0.08822535 |  1.22334804 | a           | \n",
       "| -0.67905976 | -0.63830131 |  1.24228965 | a           | \n",
       "| -1.30663933 | -1.59946244 |  0.93284235 | a           | \n",
       "| -0.69642617 | -0.16112175 | -0.36302445 | a           | \n",
       "| ... | ... | ... | ... | \n",
       "| -1.44175532 | -1.0360767  |  0.29087200 | j           | \n",
       "| -0.44571656 | -0.1985089  | -0.69772128 | j           | \n",
       "|  0.03868019 | -1.2256010  | -0.07576201 | j           | \n",
       "|  1.50973537 | -1.7394158  | -0.44266657 | j           | \n",
       "|  0.21931144 | -1.6352807  | -0.07437528 | j           | \n",
       "|  0.57483531 |  1.9262378  |  1.22434681 | j           | \n",
       "|  0.36487080 | -1.1151915  |  0.56328902 | j           | \n",
       "| -0.93056749 | -1.6072016  | -1.01134710 | j           | \n",
       "| -1.36129532 | -1.3016866  |  0.60610414 | j           | \n",
       "| -0.79149922 | -1.0502493  | -0.68866172 | j           | \n",
       "|  0.97802409 | -0.6969193  |  0.23276272 | j           | \n",
       "| -0.07795425 | -0.4593586  | -1.66747160 | j           | \n",
       "|  0.89381070 | -0.6234780  |  1.19253959 | j           | \n",
       "|  0.44622647 | -1.5675240  |  0.24225556 | j           | \n",
       "| -0.50548317 | -0.4578995  |  0.59175157 | j           | \n",
       "| -1.00956471 | -1.2721978  |  0.28563937 | j           | \n",
       "| -0.18846248 | -1.6159202  |  0.57854519 | j           | \n",
       "| -0.33575080 |  0.3582349  | -0.69769824 | j           | \n",
       "| -0.57089853 | -1.2788646  |  0.59366285 | j           | \n",
       "| -1.01945922 | -0.7332411  | -0.68050777 | j           | \n",
       "|  1.02766980 | -1.5300759  | -0.74703680 | j           | \n",
       "| -1.21730957 | -0.6002156  | -0.67493695 | j           | \n",
       "| -1.42902099 | -1.2188032  | -0.35320472 | j           | \n",
       "|  1.35958060 | -0.9726989  | -0.10896225 | j           | \n",
       "| -0.56353146 | -1.1507963  |  0.59003726 | j           | \n",
       "|  0.75311108 | -1.0790952  | -1.05785270 | j           | \n",
       "| -0.55846428 | -1.3421754  | -0.05704627 | j           | \n",
       "|  0.48595236 | -1.8258008  |  1.19996688 | j           | \n",
       "| -1.20674882 | -1.5474864  |  0.28575686 | j           | \n",
       "| -1.23662690 | -0.1044025  |  0.29516192 | j           | \n",
       "\n",
       "\n"
      ],
      "text/plain": [
       "     Factor1     Factor2     Factor3     brand\n",
       "1     1.65213641 -0.68867492  0.52561040 a    \n",
       "2    -1.40053333 -1.66819014 -0.67641211 a    \n",
       "3     1.14573108 -1.06180076 -0.42858527 a    \n",
       "4     0.20097246 -0.32454616  1.21134236 a    \n",
       "5     2.00020091 -1.90715192 -0.45599050 a    \n",
       "6     1.41750630  0.33394624  0.85555246 a    \n",
       "7    -0.76761579 -1.82349493 -0.37465795 a    \n",
       "8     1.16160650 -1.41780120  0.22180101 a    \n",
       "9     1.09207350 -1.79645733  0.54126389 a    \n",
       "10   -0.55786818 -1.59296505  0.90774270 a    \n",
       "11   -1.35239849 -1.57167333 -0.35917750 a    \n",
       "12   -0.60314518 -1.23547993  0.26145882 a    \n",
       "13   -0.41806091 -1.12665271  1.22518973 a    \n",
       "14   -0.88645569 -0.70211206  0.28088336 a    \n",
       "15   -0.36553967 -1.44013472 -1.02367849 a    \n",
       "16    1.21460478 -1.37388386  0.20973801 a    \n",
       "17   -0.96824081 -1.43031911 -0.04078617 a    \n",
       "18    1.96549534  0.46539378  0.84650402 a    \n",
       "19    1.81501299 -0.51239435  1.16677468 a    \n",
       "20    0.09667411 -1.03611686  0.89350849 a    \n",
       "21    0.86186952 -1.41871755  0.22338033 a    \n",
       "22    0.67196706 -1.62160180  0.86416174 a    \n",
       "23   -0.96412888 -1.43910326 -0.03507651 a    \n",
       "24   -0.71016354 -1.40841615  0.58900705 a    \n",
       "25   -0.62485109 -1.27066400  1.23506284 a    \n",
       "26    2.61033618 -0.91265664 -0.14701293 a    \n",
       "27   -0.06153848  0.08822535  1.22334804 a    \n",
       "28   -0.67905976 -0.63830131  1.24228965 a    \n",
       "29   -1.30663933 -1.59946244  0.93284235 a    \n",
       "30   -0.69642617 -0.16112175 -0.36302445 a    \n",
       "...  ...         ...         ...         ...  \n",
       "971  -1.44175532 -1.0360767   0.29087200 j    \n",
       "972  -0.44571656 -0.1985089  -0.69772128 j    \n",
       "973   0.03868019 -1.2256010  -0.07576201 j    \n",
       "974   1.50973537 -1.7394158  -0.44266657 j    \n",
       "975   0.21931144 -1.6352807  -0.07437528 j    \n",
       "976   0.57483531  1.9262378   1.22434681 j    \n",
       "977   0.36487080 -1.1151915   0.56328902 j    \n",
       "978  -0.93056749 -1.6072016  -1.01134710 j    \n",
       "979  -1.36129532 -1.3016866   0.60610414 j    \n",
       "980  -0.79149922 -1.0502493  -0.68866172 j    \n",
       "981   0.97802409 -0.6969193   0.23276272 j    \n",
       "982  -0.07795425 -0.4593586  -1.66747160 j    \n",
       "983   0.89381070 -0.6234780   1.19253959 j    \n",
       "984   0.44622647 -1.5675240   0.24225556 j    \n",
       "985  -0.50548317 -0.4578995   0.59175157 j    \n",
       "986  -1.00956471 -1.2721978   0.28563937 j    \n",
       "987  -0.18846248 -1.6159202   0.57854519 j    \n",
       "988  -0.33575080  0.3582349  -0.69769824 j    \n",
       "989  -0.57089853 -1.2788646   0.59366285 j    \n",
       "990  -1.01945922 -0.7332411  -0.68050777 j    \n",
       "991   1.02766980 -1.5300759  -0.74703680 j    \n",
       "992  -1.21730957 -0.6002156  -0.67493695 j    \n",
       "993  -1.42902099 -1.2188032  -0.35320472 j    \n",
       "994   1.35958060 -0.9726989  -0.10896225 j    \n",
       "995  -0.56353146 -1.1507963   0.59003726 j    \n",
       "996   0.75311108 -1.0790952  -1.05785270 j    \n",
       "997  -0.55846428 -1.3421754  -0.05704627 j    \n",
       "998   0.48595236 -1.8258008   1.19996688 j    \n",
       "999  -1.20674882 -1.5474864   0.28575686 j    \n",
       "1000 -1.23662690 -0.1044025   0.29516192 j    "
      ]
     },
     "metadata": {},
     "output_type": "display_data"
    }
   ],
   "source": [
    "brand.scores"
   ]
  },
  {
   "cell_type": "markdown",
   "metadata": {},
   "source": [
    "The result is an estimated score for each respondent on each factor and brand. If we\n",
    "wish to investigate individual-level correlates of the factors, such as their relationship\n",
    "to demographics or purchase behavior, we could use these estimates of factor\n",
    "scores.\n",
    "This can be very helpful in analyses such as regression and segmentation\n",
    "because it reduces the model complexity (number of dimensions) and uses more\n",
    "reliable estimates (factor scores that reflect several manifest variables). Instead of\n",
    "nine items, we have three factors."
   ]
  },
  {
   "cell_type": "code",
   "execution_count": 93,
   "metadata": {},
   "outputs": [
    {
     "data": {
      "text/html": [
       "<table>\n",
       "<thead><tr><th scope=col>brand</th><th scope=col>Factor1</th><th scope=col>Factor2</th><th scope=col>Factor3</th></tr></thead>\n",
       "<tbody>\n",
       "\t<tr><td>a          </td><td> 0.23158792</td><td>-1.06993703</td><td> 0.39326652</td></tr>\n",
       "\t<tr><td>b          </td><td> 0.09686823</td><td> 1.51913070</td><td> 0.72391174</td></tr>\n",
       "\t<tr><td>c          </td><td>-0.58937138</td><td> 1.45069457</td><td>-0.07690784</td></tr>\n",
       "\t<tr><td>d          </td><td>-1.04380419</td><td>-0.78186861</td><td> 0.37914638</td></tr>\n",
       "\t<tr><td>e          </td><td> 0.52169760</td><td>-0.05373430</td><td> 0.43709349</td></tr>\n",
       "\t<tr><td>f          </td><td> 1.15218492</td><td> 0.45442899</td><td>-1.28395765</td></tr>\n",
       "\t<tr><td>g          </td><td> 1.36873947</td><td> 0.04408369</td><td>-1.31900029</td></tr>\n",
       "\t<tr><td>h          </td><td>-0.91592078</td><td>-0.31418560</td><td> 0.52676516</td></tr>\n",
       "\t<tr><td>i          </td><td>-0.66918513</td><td>-0.20741901</td><td> 0.37331202</td></tr>\n",
       "\t<tr><td>j          </td><td>-0.15279666</td><td>-1.04119340</td><td>-0.15362952</td></tr>\n",
       "</tbody>\n",
       "</table>\n"
      ],
      "text/latex": [
       "\\begin{tabular}{r|llll}\n",
       " brand & Factor1 & Factor2 & Factor3\\\\\n",
       "\\hline\n",
       "\t a           &  0.23158792 & -1.06993703 &  0.39326652\\\\\n",
       "\t b           &  0.09686823 &  1.51913070 &  0.72391174\\\\\n",
       "\t c           & -0.58937138 &  1.45069457 & -0.07690784\\\\\n",
       "\t d           & -1.04380419 & -0.78186861 &  0.37914638\\\\\n",
       "\t e           &  0.52169760 & -0.05373430 &  0.43709349\\\\\n",
       "\t f           &  1.15218492 &  0.45442899 & -1.28395765\\\\\n",
       "\t g           &  1.36873947 &  0.04408369 & -1.31900029\\\\\n",
       "\t h           & -0.91592078 & -0.31418560 &  0.52676516\\\\\n",
       "\t i           & -0.66918513 & -0.20741901 &  0.37331202\\\\\n",
       "\t j           & -0.15279666 & -1.04119340 & -0.15362952\\\\\n",
       "\\end{tabular}\n"
      ],
      "text/markdown": [
       "\n",
       "brand | Factor1 | Factor2 | Factor3 | \n",
       "|---|---|---|---|---|---|---|---|---|---|\n",
       "| a           |  0.23158792 | -1.06993703 |  0.39326652 | \n",
       "| b           |  0.09686823 |  1.51913070 |  0.72391174 | \n",
       "| c           | -0.58937138 |  1.45069457 | -0.07690784 | \n",
       "| d           | -1.04380419 | -0.78186861 |  0.37914638 | \n",
       "| e           |  0.52169760 | -0.05373430 |  0.43709349 | \n",
       "| f           |  1.15218492 |  0.45442899 | -1.28395765 | \n",
       "| g           |  1.36873947 |  0.04408369 | -1.31900029 | \n",
       "| h           | -0.91592078 | -0.31418560 |  0.52676516 | \n",
       "| i           | -0.66918513 | -0.20741901 |  0.37331202 | \n",
       "| j           | -0.15279666 | -1.04119340 | -0.15362952 | \n",
       "\n",
       "\n"
      ],
      "text/plain": [
       "   brand Factor1     Factor2     Factor3    \n",
       "1  a      0.23158792 -1.06993703  0.39326652\n",
       "2  b      0.09686823  1.51913070  0.72391174\n",
       "3  c     -0.58937138  1.45069457 -0.07690784\n",
       "4  d     -1.04380419 -0.78186861  0.37914638\n",
       "5  e      0.52169760 -0.05373430  0.43709349\n",
       "6  f      1.15218492  0.45442899 -1.28395765\n",
       "7  g      1.36873947  0.04408369 -1.31900029\n",
       "8  h     -0.91592078 -0.31418560  0.52676516\n",
       "9  i     -0.66918513 -0.20741901  0.37331202\n",
       "10 j     -0.15279666 -1.04119340 -0.15362952"
      ]
     },
     "metadata": {},
     "output_type": "display_data"
    }
   ],
   "source": [
    "(brand.fa.mean = aggregate(.~brand,data=brand.scores, mean))"
   ]
  },
  {
   "cell_type": "markdown",
   "metadata": {},
   "source": [
    "We clean this up by assigning names for the rows (brands) and columns\n",
    "(factors)"
   ]
  },
  {
   "cell_type": "code",
   "execution_count": 94,
   "metadata": {},
   "outputs": [
    {
     "data": {
      "text/html": [
       "<table>\n",
       "<thead><tr><th></th><th scope=col>Leader</th><th scope=col>Value</th><th scope=col>Latest</th></tr></thead>\n",
       "<tbody>\n",
       "\t<tr><th scope=row>a</th><td> 0.23158792</td><td>-1.06993703</td><td> 0.39326652</td></tr>\n",
       "\t<tr><th scope=row>b</th><td> 0.09686823</td><td> 1.51913070</td><td> 0.72391174</td></tr>\n",
       "\t<tr><th scope=row>c</th><td>-0.58937138</td><td> 1.45069457</td><td>-0.07690784</td></tr>\n",
       "\t<tr><th scope=row>d</th><td>-1.04380419</td><td>-0.78186861</td><td> 0.37914638</td></tr>\n",
       "\t<tr><th scope=row>e</th><td> 0.52169760</td><td>-0.05373430</td><td> 0.43709349</td></tr>\n",
       "\t<tr><th scope=row>f</th><td> 1.15218492</td><td> 0.45442899</td><td>-1.28395765</td></tr>\n",
       "\t<tr><th scope=row>g</th><td> 1.36873947</td><td> 0.04408369</td><td>-1.31900029</td></tr>\n",
       "\t<tr><th scope=row>h</th><td>-0.91592078</td><td>-0.31418560</td><td> 0.52676516</td></tr>\n",
       "\t<tr><th scope=row>i</th><td>-0.66918513</td><td>-0.20741901</td><td> 0.37331202</td></tr>\n",
       "\t<tr><th scope=row>j</th><td>-0.15279666</td><td>-1.04119340</td><td>-0.15362952</td></tr>\n",
       "</tbody>\n",
       "</table>\n"
      ],
      "text/latex": [
       "\\begin{tabular}{r|lll}\n",
       "  & Leader & Value & Latest\\\\\n",
       "\\hline\n",
       "\ta &  0.23158792 & -1.06993703 &  0.39326652\\\\\n",
       "\tb &  0.09686823 &  1.51913070 &  0.72391174\\\\\n",
       "\tc & -0.58937138 &  1.45069457 & -0.07690784\\\\\n",
       "\td & -1.04380419 & -0.78186861 &  0.37914638\\\\\n",
       "\te &  0.52169760 & -0.05373430 &  0.43709349\\\\\n",
       "\tf &  1.15218492 &  0.45442899 & -1.28395765\\\\\n",
       "\tg &  1.36873947 &  0.04408369 & -1.31900029\\\\\n",
       "\th & -0.91592078 & -0.31418560 &  0.52676516\\\\\n",
       "\ti & -0.66918513 & -0.20741901 &  0.37331202\\\\\n",
       "\tj & -0.15279666 & -1.04119340 & -0.15362952\\\\\n",
       "\\end{tabular}\n"
      ],
      "text/markdown": [
       "\n",
       "| <!--/--> | Leader | Value | Latest | \n",
       "|---|---|---|---|---|---|---|---|---|---|\n",
       "| a |  0.23158792 | -1.06993703 |  0.39326652 | \n",
       "| b |  0.09686823 |  1.51913070 |  0.72391174 | \n",
       "| c | -0.58937138 |  1.45069457 | -0.07690784 | \n",
       "| d | -1.04380419 | -0.78186861 |  0.37914638 | \n",
       "| e |  0.52169760 | -0.05373430 |  0.43709349 | \n",
       "| f |  1.15218492 |  0.45442899 | -1.28395765 | \n",
       "| g |  1.36873947 |  0.04408369 | -1.31900029 | \n",
       "| h | -0.91592078 | -0.31418560 |  0.52676516 | \n",
       "| i | -0.66918513 | -0.20741901 |  0.37331202 | \n",
       "| j | -0.15279666 | -1.04119340 | -0.15362952 | \n",
       "\n",
       "\n"
      ],
      "text/plain": [
       "  Leader      Value       Latest     \n",
       "a  0.23158792 -1.06993703  0.39326652\n",
       "b  0.09686823  1.51913070  0.72391174\n",
       "c -0.58937138  1.45069457 -0.07690784\n",
       "d -1.04380419 -0.78186861  0.37914638\n",
       "e  0.52169760 -0.05373430  0.43709349\n",
       "f  1.15218492  0.45442899 -1.28395765\n",
       "g  1.36873947  0.04408369 -1.31900029\n",
       "h -0.91592078 -0.31418560  0.52676516\n",
       "i -0.66918513 -0.20741901  0.37331202\n",
       "j -0.15279666 -1.04119340 -0.15362952"
      ]
     },
     "metadata": {},
     "output_type": "display_data"
    }
   ],
   "source": [
    "rownames(brand.fa.mean) = brand.fa.mean[,1]\n",
    "brand.fa.mean = brand.fa.mean[,-1]\n",
    "names(brand.fa.mean) = c('Leader', 'Value', 'Latest')\n",
    "brand.fa.mean"
   ]
  },
  {
   "cell_type": "code",
   "execution_count": 102,
   "metadata": {},
   "outputs": [
    {
     "data": {
      "image/png": "[encoded data removed]",
      "text/plain": [
       "Plot with title \"\n",
       "\n",
       "\n",
       "\n",
       "Mean Factor Score by Brand\""
      ]
     },
     "metadata": {},
     "output_type": "display_data"
    }
   ],
   "source": [
    "heatmap.2(as.matrix(brand.fa.mean), col=brewer.pal(9, 'GnBu'), trace='none', key=F, dend='none', cexCol=1.2, main='\\n\\n\\n\\nMean Factor Score by Brand')"
   ]
  },
  {
   "cell_type": "markdown",
   "metadata": {},
   "source": [
    "The result is Fig. 8.10. When we compare this to the chart of brand by adjective in\n",
    "Fig. 8.2, we see that the chart of factor scores is significantly simpler than the full\n",
    "adjective matrix. The brand similarities are evident again in the factor scores, for\n",
    "instance that f and g are similar, as are b and c, and so forth."
   ]
  },
  {
   "cell_type": "markdown",
   "metadata": {},
   "source": [
    "**8.4 Multidimensional Scaling**"
   ]
  },
  {
   "cell_type": "markdown",
   "metadata": {},
   "source": [
    "MDS is a family of procedures that can also be used to find lower-dimensional representations\n",
    "of data. Instead of extracting underlying components or latent factors,\n",
    "MDS works instead with *distances* (also known as *similarities*). MDS attempts to\n",
    "find a lower-dimensional map that best preserves all the observed similarities between\n",
    "items."
   ]
  },
  {
   "cell_type": "code",
   "execution_count": 104,
   "metadata": {},
   "outputs": [
    {
     "data": {
      "text/plain": [
       "          a         b         c         d         e         f         g\n",
       "b 3.9184227                                                            \n",
       "c 3.7289473 1.4866650                                                  \n",
       "d 2.0909865 3.5947430 3.2774975                                        \n",
       "e 1.6394896 2.5928310 2.7465651 2.3891987                              \n",
       "f 3.4920690 3.4082579 3.2705177 4.2747519 2.6263214                    \n",
       "g 3.7141328 4.0018551 3.9367805 4.6237330 3.3060813 1.6631926          \n",
       "h 2.2805206 3.1019641 2.8799703 1.0978504 2.1900663 4.1663070 4.5852296\n",
       "i 2.1873130 2.7084652 2.5596818 1.4015933 1.8805100 3.6161470 3.9455440\n",
       "j 0.9953277 3.7994121 3.3755278 1.8355932 1.9491873 3.4608064 3.6730175\n",
       "          h         i\n",
       "b                    \n",
       "c                    \n",
       "d                    \n",
       "e                    \n",
       "f                    \n",
       "g                    \n",
       "h                    \n",
       "i 0.8399656          \n",
       "j 2.0734019 1.9781911"
      ]
     },
     "metadata": {},
     "output_type": "display_data"
    }
   ],
   "source": [
    "(brand.dist = dist(brand.mean))"
   ]
  },
  {
   "cell_type": "code",
   "execution_count": 105,
   "metadata": {},
   "outputs": [
    {
     "data": {
      "text/html": [
       "<table>\n",
       "<tbody>\n",
       "\t<tr><th scope=row>a</th><td>-7.570113e-01</td><td> 1.4619032   </td></tr>\n",
       "\t<tr><th scope=row>b</th><td> 5.586301e-01</td><td>-2.1698618   </td></tr>\n",
       "\t<tr><th scope=row>c</th><td> 3.894979e-01</td><td>-1.9060516   </td></tr>\n",
       "\t<tr><th scope=row>d</th><td>-1.792314e+00</td><td> 0.2561488   </td></tr>\n",
       "\t<tr><th scope=row>e</th><td> 4.680797e-05</td><td> 0.2292118   </td></tr>\n",
       "\t<tr><th scope=row>f</th><td> 2.361783e+00</td><td> 0.4295718   </td></tr>\n",
       "\t<tr><th scope=row>g</th><td> 2.667463e+00</td><td> 1.0304417   </td></tr>\n",
       "\t<tr><th scope=row>h</th><td>-1.646706e+00</td><td>-0.2709150   </td></tr>\n",
       "\t<tr><th scope=row>i</th><td>-9.923031e-01</td><td>-0.2576957   </td></tr>\n",
       "\t<tr><th scope=row>j</th><td>-7.890864e-01</td><td> 1.1972468   </td></tr>\n",
       "</tbody>\n",
       "</table>\n"
      ],
      "text/latex": [
       "\\begin{tabular}{r|ll}\n",
       "\ta & -7.570113e-01 &  1.4619032   \\\\\n",
       "\tb &  5.586301e-01 & -2.1698618   \\\\\n",
       "\tc &  3.894979e-01 & -1.9060516   \\\\\n",
       "\td & -1.792314e+00 &  0.2561488   \\\\\n",
       "\te &  4.680797e-05 &  0.2292118   \\\\\n",
       "\tf &  2.361783e+00 &  0.4295718   \\\\\n",
       "\tg &  2.667463e+00 &  1.0304417   \\\\\n",
       "\th & -1.646706e+00 & -0.2709150   \\\\\n",
       "\ti & -9.923031e-01 & -0.2576957   \\\\\n",
       "\tj & -7.890864e-01 &  1.1972468   \\\\\n",
       "\\end{tabular}\n"
      ],
      "text/markdown": [
       "\n",
       "| a | -7.570113e-01 |  1.4619032    | \n",
       "| b |  5.586301e-01 | -2.1698618    | \n",
       "| c |  3.894979e-01 | -1.9060516    | \n",
       "| d | -1.792314e+00 |  0.2561488    | \n",
       "| e |  4.680797e-05 |  0.2292118    | \n",
       "| f |  2.361783e+00 |  0.4295718    | \n",
       "| g |  2.667463e+00 |  1.0304417    | \n",
       "| h | -1.646706e+00 | -0.2709150    | \n",
       "| i | -9.923031e-01 | -0.2576957    | \n",
       "| j | -7.890864e-01 |  1.1972468    | \n",
       "\n",
       "\n"
      ],
      "text/plain": [
       "  [,1]          [,2]      \n",
       "a -7.570113e-01  1.4619032\n",
       "b  5.586301e-01 -2.1698618\n",
       "c  3.894979e-01 -1.9060516\n",
       "d -1.792314e+00  0.2561488\n",
       "e  4.680797e-05  0.2292118\n",
       "f  2.361783e+00  0.4295718\n",
       "g  2.667463e+00  1.0304417\n",
       "h -1.646706e+00 -0.2709150\n",
       "i -9.923031e-01 -0.2576957\n",
       "j -7.890864e-01  1.1972468"
      ]
     },
     "metadata": {},
     "output_type": "display_data"
    }
   ],
   "source": [
    "(brand.mds = cmdscale(brand.dist))"
   ]
  },
  {
   "cell_type": "code",
   "execution_count": null,
   "metadata": {},
   "outputs": [],
   "source": []
  },
  {
   "cell_type": "raw",
   "metadata": {},
   "source": []
  },
  {
   "cell_type": "code",
   "execution_count": null,
   "metadata": {},
   "outputs": [],
   "source": []
  },
  {
   "cell_type": "code",
   "execution_count": null,
   "metadata": {},
   "outputs": [],
   "source": []
  },
  {
   "cell_type": "code",
   "execution_count": null,
   "metadata": {},
   "outputs": [],
   "source": []
  },
  {
   "cell_type": "code",
   "execution_count": null,
   "metadata": {},
   "outputs": [],
   "source": []
  },
  {
   "cell_type": "code",
   "execution_count": null,
   "metadata": {},
   "outputs": [],
   "source": []
  },
  {
   "cell_type": "code",
   "execution_count": null,
   "metadata": {},
   "outputs": [],
   "source": []
  }
 ],
 "metadata": {
  "kernelspec": {
   "display_name": "R",
   "language": "R",
   "name": "ir"
  },
  "language_info": {
   "codemirror_mode": "r",
   "file_extension": ".r",
   "mimetype": "text/x-r-source",
   "name": "R",
   "pygments_lexer": "r",
   "version": "3.4.3"
  }
 },
 "nbformat": 4,
 "nbformat_minor": 2
}
