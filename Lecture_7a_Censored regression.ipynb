{
 "cells": [
  {
   "cell_type": "markdown",
   "metadata": {},
   "source": [
    "## Censored regression"
   ]
  },
  {
   "cell_type": "code",
   "execution_count": 2,
   "metadata": {},
   "outputs": [
    {
     "name": "stderr",
     "output_type": "stream",
     "text": [
      "Installing package into 'C:/Users/cl44343/Documents/R/win-library/3.4'\n",
      "(as 'lib' is unspecified)\n",
      "also installing the dependencies 'bdsmatrix', 'glmmML', 'plm'\n",
      "\n"
     ]
    },
    {
     "name": "stdout",
     "output_type": "stream",
     "text": [
      "package 'bdsmatrix' successfully unpacked and MD5 sums checked\n",
      "package 'glmmML' successfully unpacked and MD5 sums checked\n",
      "package 'plm' successfully unpacked and MD5 sums checked\n",
      "package 'censReg' successfully unpacked and MD5 sums checked\n",
      "\n",
      "The downloaded binary packages are in\n",
      "\tC:\\Temp\\RtmpCY0Mpw\\downloaded_packages\n"
     ]
    },
    {
     "name": "stderr",
     "output_type": "stream",
     "text": [
      "Loading required package: maxLik\n",
      "Loading required package: miscTools\n",
      "\n",
      "Please cite the 'maxLik' package as:\n",
      "Henningsen, Arne and Toomet, Ott (2011). maxLik: A package for maximum likelihood estimation in R. Computational Statistics 26(3), 443-458. DOI 10.1007/s00180-010-0217-1.\n",
      "\n",
      "If you have questions, suggestions, or comments regarding the 'maxLik' package, please use a forum or 'tracker' at maxLik's R-Forge site:\n",
      "https://r-forge.r-project.org/projects/maxlik/\n",
      "\n",
      "Please cite the 'censReg' package as:\n",
      "Henningsen, Arne (2017). censReg: Censored Regression (Tobit) Models. R package version 0.5. http://CRAN.R-Project.org/package=censReg.\n",
      "\n",
      "If you have questions, suggestions, or comments regarding the 'censReg' package, please use a forum or 'tracker' at the R-Forge site of the 'sampleSelection' project:\n",
      "https://r-forge.r-project.org/projects/sampleselection/\n"
     ]
    }
   ],
   "source": [
    "install.packages('censReg')\n",
    "library(censReg)"
   ]
  },
  {
   "cell_type": "code",
   "execution_count": 3,
   "metadata": {},
   "outputs": [
    {
     "data": {
      "text/html": [
       "<table>\n",
       "<thead><tr><th scope=col>CustomerID</th><th scope=col>DataUse</th><th scope=col>Quota</th><th scope=col>Day</th></tr></thead>\n",
       "<tbody>\n",
       "\t<tr><td>1       </td><td>2.432100</td><td>100.000 </td><td>31      </td></tr>\n",
       "\t<tr><td>1       </td><td>0.000000</td><td> 97.568 </td><td>30      </td></tr>\n",
       "\t<tr><td>1       </td><td>0.000000</td><td> 97.568 </td><td>29      </td></tr>\n",
       "\t<tr><td>1       </td><td>0.000000</td><td> 97.568 </td><td>28      </td></tr>\n",
       "\t<tr><td>1       </td><td>0.000000</td><td> 97.568 </td><td>27      </td></tr>\n",
       "\t<tr><td>1       </td><td>0.000000</td><td> 97.568 </td><td>26      </td></tr>\n",
       "\t<tr><td>1       </td><td>0.000000</td><td> 97.568 </td><td>25      </td></tr>\n",
       "\t<tr><td>1       </td><td>0.000000</td><td> 97.568 </td><td>24      </td></tr>\n",
       "\t<tr><td>1       </td><td>0.000000</td><td> 97.568 </td><td>23      </td></tr>\n",
       "\t<tr><td>1       </td><td>0.000000</td><td> 97.568 </td><td>22      </td></tr>\n",
       "\t<tr><td>1       </td><td>0.000000</td><td> 97.568 </td><td>21      </td></tr>\n",
       "\t<tr><td>1       </td><td>0.282710</td><td> 97.568 </td><td>20      </td></tr>\n",
       "\t<tr><td>1       </td><td>0.393740</td><td> 97.285 </td><td>19      </td></tr>\n",
       "\t<tr><td>1       </td><td>0.000000</td><td> 96.891 </td><td>18      </td></tr>\n",
       "\t<tr><td>1       </td><td>0.000000</td><td> 96.891 </td><td>17      </td></tr>\n",
       "\t<tr><td>1       </td><td>0.954990</td><td> 96.891 </td><td>16      </td></tr>\n",
       "\t<tr><td>1       </td><td>0.043009</td><td> 95.936 </td><td>15      </td></tr>\n",
       "\t<tr><td>1       </td><td>0.000000</td><td> 95.893 </td><td>14      </td></tr>\n",
       "\t<tr><td>1       </td><td>0.000000</td><td> 95.893 </td><td>13      </td></tr>\n",
       "\t<tr><td>1       </td><td>0.000000</td><td> 95.893 </td><td>12      </td></tr>\n",
       "\t<tr><td>1       </td><td>0.000000</td><td> 95.893 </td><td>11      </td></tr>\n",
       "\t<tr><td>1       </td><td>0.000000</td><td> 95.893 </td><td>10      </td></tr>\n",
       "\t<tr><td>1       </td><td>1.714200</td><td> 95.893 </td><td> 9      </td></tr>\n",
       "\t<tr><td>1       </td><td>0.470380</td><td> 94.179 </td><td> 8      </td></tr>\n",
       "\t<tr><td>1       </td><td>1.442900</td><td> 93.709 </td><td> 7      </td></tr>\n",
       "\t<tr><td>1       </td><td>0.000000</td><td> 92.266 </td><td> 6      </td></tr>\n",
       "\t<tr><td>1       </td><td>0.000000</td><td> 92.266 </td><td> 5      </td></tr>\n",
       "\t<tr><td>1       </td><td>0.000000</td><td> 92.266 </td><td> 4      </td></tr>\n",
       "\t<tr><td>1       </td><td>0.627800</td><td> 92.266 </td><td> 3      </td></tr>\n",
       "\t<tr><td>1       </td><td>2.941300</td><td> 91.638 </td><td> 2      </td></tr>\n",
       "\t<tr><td>...</td><td>...</td><td>...</td><td>...</td></tr>\n",
       "\t<tr><td>1000      </td><td>8.0783e-01</td><td>98.224    </td><td>30        </td></tr>\n",
       "\t<tr><td>1000      </td><td>7.1910e+00</td><td>97.416    </td><td>29        </td></tr>\n",
       "\t<tr><td>1000      </td><td>1.7557e+00</td><td>90.225    </td><td>28        </td></tr>\n",
       "\t<tr><td>1000      </td><td>2.1028e+00</td><td>88.469    </td><td>27        </td></tr>\n",
       "\t<tr><td>1000      </td><td>1.3720e-01</td><td>86.367    </td><td>26        </td></tr>\n",
       "\t<tr><td>1000      </td><td>1.5908e-01</td><td>86.229    </td><td>25        </td></tr>\n",
       "\t<tr><td>1000      </td><td>0.0000e+00</td><td>86.070    </td><td>24        </td></tr>\n",
       "\t<tr><td>1000      </td><td>1.3143e-01</td><td>86.070    </td><td>23        </td></tr>\n",
       "\t<tr><td>1000      </td><td>9.8152e-02</td><td>85.939    </td><td>22        </td></tr>\n",
       "\t<tr><td>1000      </td><td>1.8520e+00</td><td>85.841    </td><td>21        </td></tr>\n",
       "\t<tr><td>1000      </td><td>4.4309e-01</td><td>83.989    </td><td>20        </td></tr>\n",
       "\t<tr><td>1000      </td><td>1.8343e+00</td><td>83.546    </td><td>19        </td></tr>\n",
       "\t<tr><td>1000      </td><td>6.6659e-01</td><td>81.711    </td><td>18        </td></tr>\n",
       "\t<tr><td>1000      </td><td>8.9357e-01</td><td>81.045    </td><td>17        </td></tr>\n",
       "\t<tr><td>1000      </td><td>3.8147e-05</td><td>80.151    </td><td>16        </td></tr>\n",
       "\t<tr><td>1000      </td><td>3.4759e+00</td><td>80.151    </td><td>15        </td></tr>\n",
       "\t<tr><td>1000      </td><td>4.0941e-01</td><td>76.675    </td><td>14        </td></tr>\n",
       "\t<tr><td>1000      </td><td>5.2256e+00</td><td>76.266    </td><td>13        </td></tr>\n",
       "\t<tr><td>1000      </td><td>1.7458e+00</td><td>71.040    </td><td>12        </td></tr>\n",
       "\t<tr><td>1000      </td><td>2.3422e+00</td><td>69.295    </td><td>11        </td></tr>\n",
       "\t<tr><td>1000      </td><td>1.1830e+00</td><td>66.952    </td><td>10        </td></tr>\n",
       "\t<tr><td>1000      </td><td>2.1295e+00</td><td>65.769    </td><td> 9        </td></tr>\n",
       "\t<tr><td>1000      </td><td>3.1887e-01</td><td>63.640    </td><td> 8        </td></tr>\n",
       "\t<tr><td>1000      </td><td>1.6263e+00</td><td>63.321    </td><td> 7        </td></tr>\n",
       "\t<tr><td>1000      </td><td>1.6430e+00</td><td>61.695    </td><td> 6        </td></tr>\n",
       "\t<tr><td>1000      </td><td>1.1636e+01</td><td>60.052    </td><td> 5        </td></tr>\n",
       "\t<tr><td>1000      </td><td>1.2419e+00</td><td>48.416    </td><td> 4        </td></tr>\n",
       "\t<tr><td>1000      </td><td>1.3146e+01</td><td>47.174    </td><td> 3        </td></tr>\n",
       "\t<tr><td>1000      </td><td>5.3961e+00</td><td>34.028    </td><td> 2        </td></tr>\n",
       "\t<tr><td>1000      </td><td>3.3924e+01</td><td>28.632    </td><td> 1        </td></tr>\n",
       "</tbody>\n",
       "</table>\n"
      ],
      "text/latex": [
       "\\begin{tabular}{r|llll}\n",
       " CustomerID & DataUse & Quota & Day\\\\\n",
       "\\hline\n",
       "\t 1        & 2.432100 & 100.000  & 31      \\\\\n",
       "\t 1        & 0.000000 &  97.568  & 30      \\\\\n",
       "\t 1        & 0.000000 &  97.568  & 29      \\\\\n",
       "\t 1        & 0.000000 &  97.568  & 28      \\\\\n",
       "\t 1        & 0.000000 &  97.568  & 27      \\\\\n",
       "\t 1        & 0.000000 &  97.568  & 26      \\\\\n",
       "\t 1        & 0.000000 &  97.568  & 25      \\\\\n",
       "\t 1        & 0.000000 &  97.568  & 24      \\\\\n",
       "\t 1        & 0.000000 &  97.568  & 23      \\\\\n",
       "\t 1        & 0.000000 &  97.568  & 22      \\\\\n",
       "\t 1        & 0.000000 &  97.568  & 21      \\\\\n",
       "\t 1        & 0.282710 &  97.568  & 20      \\\\\n",
       "\t 1        & 0.393740 &  97.285  & 19      \\\\\n",
       "\t 1        & 0.000000 &  96.891  & 18      \\\\\n",
       "\t 1        & 0.000000 &  96.891  & 17      \\\\\n",
       "\t 1        & 0.954990 &  96.891  & 16      \\\\\n",
       "\t 1        & 0.043009 &  95.936  & 15      \\\\\n",
       "\t 1        & 0.000000 &  95.893  & 14      \\\\\n",
       "\t 1        & 0.000000 &  95.893  & 13      \\\\\n",
       "\t 1        & 0.000000 &  95.893  & 12      \\\\\n",
       "\t 1        & 0.000000 &  95.893  & 11      \\\\\n",
       "\t 1        & 0.000000 &  95.893  & 10      \\\\\n",
       "\t 1        & 1.714200 &  95.893  &  9      \\\\\n",
       "\t 1        & 0.470380 &  94.179  &  8      \\\\\n",
       "\t 1        & 1.442900 &  93.709  &  7      \\\\\n",
       "\t 1        & 0.000000 &  92.266  &  6      \\\\\n",
       "\t 1        & 0.000000 &  92.266  &  5      \\\\\n",
       "\t 1        & 0.000000 &  92.266  &  4      \\\\\n",
       "\t 1        & 0.627800 &  92.266  &  3      \\\\\n",
       "\t 1        & 2.941300 &  91.638  &  2      \\\\\n",
       "\t ... & ... & ... & ...\\\\\n",
       "\t 1000       & 8.0783e-01 & 98.224     & 30        \\\\\n",
       "\t 1000       & 7.1910e+00 & 97.416     & 29        \\\\\n",
       "\t 1000       & 1.7557e+00 & 90.225     & 28        \\\\\n",
       "\t 1000       & 2.1028e+00 & 88.469     & 27        \\\\\n",
       "\t 1000       & 1.3720e-01 & 86.367     & 26        \\\\\n",
       "\t 1000       & 1.5908e-01 & 86.229     & 25        \\\\\n",
       "\t 1000       & 0.0000e+00 & 86.070     & 24        \\\\\n",
       "\t 1000       & 1.3143e-01 & 86.070     & 23        \\\\\n",
       "\t 1000       & 9.8152e-02 & 85.939     & 22        \\\\\n",
       "\t 1000       & 1.8520e+00 & 85.841     & 21        \\\\\n",
       "\t 1000       & 4.4309e-01 & 83.989     & 20        \\\\\n",
       "\t 1000       & 1.8343e+00 & 83.546     & 19        \\\\\n",
       "\t 1000       & 6.6659e-01 & 81.711     & 18        \\\\\n",
       "\t 1000       & 8.9357e-01 & 81.045     & 17        \\\\\n",
       "\t 1000       & 3.8147e-05 & 80.151     & 16        \\\\\n",
       "\t 1000       & 3.4759e+00 & 80.151     & 15        \\\\\n",
       "\t 1000       & 4.0941e-01 & 76.675     & 14        \\\\\n",
       "\t 1000       & 5.2256e+00 & 76.266     & 13        \\\\\n",
       "\t 1000       & 1.7458e+00 & 71.040     & 12        \\\\\n",
       "\t 1000       & 2.3422e+00 & 69.295     & 11        \\\\\n",
       "\t 1000       & 1.1830e+00 & 66.952     & 10        \\\\\n",
       "\t 1000       & 2.1295e+00 & 65.769     &  9        \\\\\n",
       "\t 1000       & 3.1887e-01 & 63.640     &  8        \\\\\n",
       "\t 1000       & 1.6263e+00 & 63.321     &  7        \\\\\n",
       "\t 1000       & 1.6430e+00 & 61.695     &  6        \\\\\n",
       "\t 1000       & 1.1636e+01 & 60.052     &  5        \\\\\n",
       "\t 1000       & 1.2419e+00 & 48.416     &  4        \\\\\n",
       "\t 1000       & 1.3146e+01 & 47.174     &  3        \\\\\n",
       "\t 1000       & 5.3961e+00 & 34.028     &  2        \\\\\n",
       "\t 1000       & 3.3924e+01 & 28.632     &  1        \\\\\n",
       "\\end{tabular}\n"
      ],
      "text/markdown": [
       "\n",
       "CustomerID | DataUse | Quota | Day | \n",
       "|---|---|---|---|---|---|---|---|---|---|---|---|---|---|---|---|---|---|---|---|---|---|---|---|---|---|---|---|---|---|---|---|---|---|---|---|---|---|---|---|---|---|---|---|---|---|---|---|---|---|---|---|---|---|---|---|---|---|---|---|---|\n",
       "| 1        | 2.432100 | 100.000  | 31       | \n",
       "| 1        | 0.000000 |  97.568  | 30       | \n",
       "| 1        | 0.000000 |  97.568  | 29       | \n",
       "| 1        | 0.000000 |  97.568  | 28       | \n",
       "| 1        | 0.000000 |  97.568  | 27       | \n",
       "| 1        | 0.000000 |  97.568  | 26       | \n",
       "| 1        | 0.000000 |  97.568  | 25       | \n",
       "| 1        | 0.000000 |  97.568  | 24       | \n",
       "| 1        | 0.000000 |  97.568  | 23       | \n",
       "| 1        | 0.000000 |  97.568  | 22       | \n",
       "| 1        | 0.000000 |  97.568  | 21       | \n",
       "| 1        | 0.282710 |  97.568  | 20       | \n",
       "| 1        | 0.393740 |  97.285  | 19       | \n",
       "| 1        | 0.000000 |  96.891  | 18       | \n",
       "| 1        | 0.000000 |  96.891  | 17       | \n",
       "| 1        | 0.954990 |  96.891  | 16       | \n",
       "| 1        | 0.043009 |  95.936  | 15       | \n",
       "| 1        | 0.000000 |  95.893  | 14       | \n",
       "| 1        | 0.000000 |  95.893  | 13       | \n",
       "| 1        | 0.000000 |  95.893  | 12       | \n",
       "| 1        | 0.000000 |  95.893  | 11       | \n",
       "| 1        | 0.000000 |  95.893  | 10       | \n",
       "| 1        | 1.714200 |  95.893  |  9       | \n",
       "| 1        | 0.470380 |  94.179  |  8       | \n",
       "| 1        | 1.442900 |  93.709  |  7       | \n",
       "| 1        | 0.000000 |  92.266  |  6       | \n",
       "| 1        | 0.000000 |  92.266  |  5       | \n",
       "| 1        | 0.000000 |  92.266  |  4       | \n",
       "| 1        | 0.627800 |  92.266  |  3       | \n",
       "| 1        | 2.941300 |  91.638  |  2       | \n",
       "| ... | ... | ... | ... | \n",
       "| 1000       | 8.0783e-01 | 98.224     | 30         | \n",
       "| 1000       | 7.1910e+00 | 97.416     | 29         | \n",
       "| 1000       | 1.7557e+00 | 90.225     | 28         | \n",
       "| 1000       | 2.1028e+00 | 88.469     | 27         | \n",
       "| 1000       | 1.3720e-01 | 86.367     | 26         | \n",
       "| 1000       | 1.5908e-01 | 86.229     | 25         | \n",
       "| 1000       | 0.0000e+00 | 86.070     | 24         | \n",
       "| 1000       | 1.3143e-01 | 86.070     | 23         | \n",
       "| 1000       | 9.8152e-02 | 85.939     | 22         | \n",
       "| 1000       | 1.8520e+00 | 85.841     | 21         | \n",
       "| 1000       | 4.4309e-01 | 83.989     | 20         | \n",
       "| 1000       | 1.8343e+00 | 83.546     | 19         | \n",
       "| 1000       | 6.6659e-01 | 81.711     | 18         | \n",
       "| 1000       | 8.9357e-01 | 81.045     | 17         | \n",
       "| 1000       | 3.8147e-05 | 80.151     | 16         | \n",
       "| 1000       | 3.4759e+00 | 80.151     | 15         | \n",
       "| 1000       | 4.0941e-01 | 76.675     | 14         | \n",
       "| 1000       | 5.2256e+00 | 76.266     | 13         | \n",
       "| 1000       | 1.7458e+00 | 71.040     | 12         | \n",
       "| 1000       | 2.3422e+00 | 69.295     | 11         | \n",
       "| 1000       | 1.1830e+00 | 66.952     | 10         | \n",
       "| 1000       | 2.1295e+00 | 65.769     |  9         | \n",
       "| 1000       | 3.1887e-01 | 63.640     |  8         | \n",
       "| 1000       | 1.6263e+00 | 63.321     |  7         | \n",
       "| 1000       | 1.6430e+00 | 61.695     |  6         | \n",
       "| 1000       | 1.1636e+01 | 60.052     |  5         | \n",
       "| 1000       | 1.2419e+00 | 48.416     |  4         | \n",
       "| 1000       | 1.3146e+01 | 47.174     |  3         | \n",
       "| 1000       | 5.3961e+00 | 34.028     |  2         | \n",
       "| 1000       | 3.3924e+01 | 28.632     |  1         | \n",
       "\n",
       "\n"
      ],
      "text/plain": [
       "      CustomerID DataUse    Quota   Day\n",
       "1     1          2.432100   100.000 31 \n",
       "2     1          0.000000    97.568 30 \n",
       "3     1          0.000000    97.568 29 \n",
       "4     1          0.000000    97.568 28 \n",
       "5     1          0.000000    97.568 27 \n",
       "6     1          0.000000    97.568 26 \n",
       "7     1          0.000000    97.568 25 \n",
       "8     1          0.000000    97.568 24 \n",
       "9     1          0.000000    97.568 23 \n",
       "10    1          0.000000    97.568 22 \n",
       "11    1          0.000000    97.568 21 \n",
       "12    1          0.282710    97.568 20 \n",
       "13    1          0.393740    97.285 19 \n",
       "14    1          0.000000    96.891 18 \n",
       "15    1          0.000000    96.891 17 \n",
       "16    1          0.954990    96.891 16 \n",
       "17    1          0.043009    95.936 15 \n",
       "18    1          0.000000    95.893 14 \n",
       "19    1          0.000000    95.893 13 \n",
       "20    1          0.000000    95.893 12 \n",
       "21    1          0.000000    95.893 11 \n",
       "22    1          0.000000    95.893 10 \n",
       "23    1          1.714200    95.893  9 \n",
       "24    1          0.470380    94.179  8 \n",
       "25    1          1.442900    93.709  7 \n",
       "26    1          0.000000    92.266  6 \n",
       "27    1          0.000000    92.266  5 \n",
       "28    1          0.000000    92.266  4 \n",
       "29    1          0.627800    92.266  3 \n",
       "30    1          2.941300    91.638  2 \n",
       "...   ...        ...        ...     ...\n",
       "30971 1000       8.0783e-01 98.224  30 \n",
       "30972 1000       7.1910e+00 97.416  29 \n",
       "30973 1000       1.7557e+00 90.225  28 \n",
       "30974 1000       2.1028e+00 88.469  27 \n",
       "30975 1000       1.3720e-01 86.367  26 \n",
       "30976 1000       1.5908e-01 86.229  25 \n",
       "30977 1000       0.0000e+00 86.070  24 \n",
       "30978 1000       1.3143e-01 86.070  23 \n",
       "30979 1000       9.8152e-02 85.939  22 \n",
       "30980 1000       1.8520e+00 85.841  21 \n",
       "30981 1000       4.4309e-01 83.989  20 \n",
       "30982 1000       1.8343e+00 83.546  19 \n",
       "30983 1000       6.6659e-01 81.711  18 \n",
       "30984 1000       8.9357e-01 81.045  17 \n",
       "30985 1000       3.8147e-05 80.151  16 \n",
       "30986 1000       3.4759e+00 80.151  15 \n",
       "30987 1000       4.0941e-01 76.675  14 \n",
       "30988 1000       5.2256e+00 76.266  13 \n",
       "30989 1000       1.7458e+00 71.040  12 \n",
       "30990 1000       2.3422e+00 69.295  11 \n",
       "30991 1000       1.1830e+00 66.952  10 \n",
       "30992 1000       2.1295e+00 65.769   9 \n",
       "30993 1000       3.1887e-01 63.640   8 \n",
       "30994 1000       1.6263e+00 63.321   7 \n",
       "30995 1000       1.6430e+00 61.695   6 \n",
       "30996 1000       1.1636e+01 60.052   5 \n",
       "30997 1000       1.2419e+00 48.416   4 \n",
       "30998 1000       1.3146e+01 47.174   3 \n",
       "30999 1000       5.3961e+00 34.028   2 \n",
       "31000 1000       3.3924e+01 28.632   1 "
      ]
     },
     "metadata": {},
     "output_type": "display_data"
    }
   ],
   "source": [
    "(md.data = read.csv('Mobile_data_usage.csv', header=T))"
   ]
  },
  {
   "cell_type": "code",
   "execution_count": 4,
   "metadata": {},
   "outputs": [
    {
     "data": {
      "text/plain": [
       "\n",
       "Call:\n",
       "censReg(formula = DataUse ~ Quota + Day, data = md.data)\n",
       "\n",
       "Observations:\n",
       "         Total  Left-censored     Uncensored Right-censored \n",
       "         31000           6536          24464              0 \n",
       "\n",
       "Coefficients:\n",
       "              Estimate Std. error t value  Pr(> t)    \n",
       "(Intercept)  0.6111869  0.0576965  10.593  < 2e-16 ***\n",
       "Quota        0.0090140  0.0005516  16.340  < 2e-16 ***\n",
       "Day         -0.0119462  0.0030650  -3.898 9.71e-05 ***\n",
       "logSigma     1.4947160  0.0046189 323.611  < 2e-16 ***\n",
       "---\n",
       "Signif. codes:  0 '***' 0.001 '**' 0.01 '*' 0.05 '.' 0.1 ' ' 1\n",
       "\n",
       "Newton-Raphson maximisation, 7 iterations\n",
       "Return code 2: successive function values within tolerance limit\n",
       "Log-likelihood: -76375.86 on 4 Df\n"
      ]
     },
     "metadata": {},
     "output_type": "display_data"
    }
   ],
   "source": [
    "md.creg = censReg(DataUse ~ Quota + Day, data=md.data)\n",
    "summary(md.creg)"
   ]
  },
  {
   "cell_type": "markdown",
   "metadata": {},
   "source": [
    "## Comparing with linear model"
   ]
  },
  {
   "cell_type": "code",
   "execution_count": 5,
   "metadata": {
    "scrolled": true
   },
   "outputs": [
    {
     "data": {
      "text/plain": [
       "\n",
       "Call:\n",
       "lm(formula = DataUse ~ Quota + Day, data = md.data)\n",
       "\n",
       "Residuals:\n",
       "    Min      1Q  Median      3Q     Max \n",
       " -5.915  -1.492  -1.079   0.215 132.658 \n",
       "\n",
       "Coefficients:\n",
       "              Estimate Std. Error t value Pr(>|t|)    \n",
       "(Intercept)  1.3633019  0.0476447  28.614  < 2e-16 ***\n",
       "Quota        0.0079765  0.0004577  17.426  < 2e-16 ***\n",
       "Day         -0.0123239  0.0025276  -4.876 1.09e-06 ***\n",
       "---\n",
       "Signif. codes:  0 '***' 0.001 '**' 0.01 '*' 0.05 '.' 0.1 ' ' 1\n",
       "\n",
       "Residual standard error: 3.817 on 30997 degrees of freedom\n",
       "Multiple R-squared:  0.009702,\tAdjusted R-squared:  0.009638 \n",
       "F-statistic: 151.8 on 2 and 30997 DF,  p-value: < 2.2e-16\n"
      ]
     },
     "metadata": {},
     "output_type": "display_data"
    }
   ],
   "source": [
    "md.lm = lm(DataUse ~ Quota + Day, data=md.data)\n",
    "summary(md.lm)"
   ]
  },
  {
   "cell_type": "code",
   "execution_count": 6,
   "metadata": {},
   "outputs": [
    {
     "data": {
      "text/html": [
       "152793.085625514"
      ],
      "text/latex": [
       "152793.085625514"
      ],
      "text/markdown": [
       "152793.085625514"
      ],
      "text/plain": [
       "[1] 152793.1"
      ]
     },
     "metadata": {},
     "output_type": "display_data"
    },
    {
     "data": {
      "text/html": [
       "171059.483531308"
      ],
      "text/latex": [
       "171059.483531308"
      ],
      "text/markdown": [
       "171059.483531308"
      ],
      "text/plain": [
       "[1] 171059.5"
      ]
     },
     "metadata": {},
     "output_type": "display_data"
    }
   ],
   "source": [
    "BIC(md.creg)\n",
    "BIC(md.lm)"
   ]
  }
 ],
 "metadata": {
  "kernelspec": {
   "display_name": "R",
   "language": "R",
   "name": "ir"
  },
  "language_info": {
   "codemirror_mode": "r",
   "file_extension": ".r",
   "mimetype": "text/x-r-source",
   "name": "R",
   "pygments_lexer": "r",
   "version": "3.4.3"
  }
 },
 "nbformat": 4,
 "nbformat_minor": 2
}
