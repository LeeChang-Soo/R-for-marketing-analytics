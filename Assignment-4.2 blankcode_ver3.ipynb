{
 "cells": [
  {
   "cell_type": "markdown",
   "metadata": {},
   "source": [
    "# Censored Regression : Baysian Estimation"
   ]
  },
  {
   "cell_type": "markdown",
   "metadata": {},
   "source": [
    "### 1. Please use the R function censReg() in library(censReg) to fit this model by MLE. Copy and paste the summary of the results here. "
   ]
  },
  {
   "cell_type": "code",
   "execution_count": 656,
   "metadata": {},
   "outputs": [
    {
     "name": "stderr",
     "output_type": "stream",
     "text": [
      "Loading required package: maxLik\n",
      "Loading required package: miscTools\n",
      "\n",
      "Please cite the 'maxLik' package as:\n",
      "Henningsen, Arne and Toomet, Ott (2011). maxLik: A package for maximum likelihood estimation in R. Computational Statistics 26(3), 443-458. DOI 10.1007/s00180-010-0217-1.\n",
      "\n",
      "If you have questions, suggestions, or comments regarding the 'maxLik' package, please use a forum or 'tracker' at maxLik's R-Forge site:\n",
      "https://r-forge.r-project.org/projects/maxlik/\n",
      "\n",
      "Please cite the 'censReg' package as:\n",
      "Henningsen, Arne (2017). censReg: Censored Regression (Tobit) Models. R package version 0.5. http://CRAN.R-Project.org/package=censReg.\n",
      "\n",
      "If you have questions, suggestions, or comments regarding the 'censReg' package, please use a forum or 'tracker' at the R-Forge site of the 'sampleSelection' project:\n",
      "https://r-forge.r-project.org/projects/sampleselection/\n"
     ]
    }
   ],
   "source": [
    "library(censReg)"
   ]
  },
  {
   "cell_type": "code",
   "execution_count": 657,
   "metadata": {},
   "outputs": [],
   "source": [
    "sow.data = read.csv('CreditCard_SOW_data2.csv', header=T)"
   ]
  },
  {
   "cell_type": "code",
   "execution_count": 658,
   "metadata": {},
   "outputs": [
    {
     "data": {
      "text/plain": [
       "\n",
       "Call:\n",
       "censReg(formula = SOW ~ Promotion + Balance, left = 0, right = 1, \n",
       "    data = sow.data)\n",
       "\n",
       "Observations:\n",
       "         Total  Left-censored     Uncensored Right-censored \n",
       "          3600            831           2436            333 \n",
       "\n",
       "Coefficients:\n",
       "              Estimate Std. error t value Pr(> t)    \n",
       "(Intercept)  6.016e-01  8.357e-03   71.98  <2e-16 ***\n",
       "Promotion    5.072e-01  1.174e-02   43.21  <2e-16 ***\n",
       "Balance     -5.107e-04  6.135e-06  -83.23  <2e-16 ***\n",
       "logSigma    -1.604e+00  1.465e-02 -109.43  <2e-16 ***\n",
       "---\n",
       "Signif. codes:  0 '***' 0.001 '**' 0.01 '*' 0.05 '.' 0.1 ' ' 1\n",
       "\n",
       "Newton-Raphson maximisation, 9 iterations\n",
       "Return code 1: gradient close to zero\n",
       "Log-likelihood: -65.88155 on 4 Df\n"
      ]
     },
     "metadata": {},
     "output_type": "display_data"
    }
   ],
   "source": [
    "sow.creg = censReg(SOW ~ Promotion + Balance,left = 0, right = 1, data=sow.data)\n",
    "summary(sow.creg)"
   ]
  },
  {
   "cell_type": "markdown",
   "metadata": {},
   "source": [
    "### 2. Please run the completed code. Use the plot() function to plot the posterior sampling chains and hist() to plot posterior histograms for β0, β1, β2 and $T$ . Copy and paste the results here.  Please also calculate the 95% posterior intervals for β0, β1, β2 and $T$  . Copy and paste the results here. "
   ]
  },
  {
   "cell_type": "code",
   "execution_count": null,
   "metadata": {},
   "outputs": [],
   "source": []
  },
  {
   "cell_type": "code",
   "execution_count": 581,
   "metadata": {},
   "outputs": [],
   "source": [
    "library(truncnorm)\n",
    "library(mnormt)"
   ]
  },
  {
   "cell_type": "code",
   "execution_count": 651,
   "metadata": {
    "scrolled": true
   },
   "outputs": [],
   "source": [
    "#Bayesian models fitting for truncated regression\n",
    "#stage 1. read data into R and create columns for censored data\n",
    "DataFile = \"CreditCard_SOW_data2.csv\"\n",
    "sow.data = read.csv(DataFile, header=T)"
   ]
  },
  {
   "cell_type": "code",
   "execution_count": 652,
   "metadata": {
    "scrolled": true
   },
   "outputs": [],
   "source": [
    "sow.data$Cens0 = (sow.data$SOW==0)*1"
   ]
  },
  {
   "cell_type": "code",
   "execution_count": 653,
   "metadata": {
    "scrolled": true
   },
   "outputs": [],
   "source": [
    "sow.data$Cens1 = (sow.data$SOW==1)*1"
   ]
  },
  {
   "cell_type": "code",
   "execution_count": 654,
   "metadata": {},
   "outputs": [],
   "source": [
    "#extract right and left censored data\n",
    "sow.XRC = cbind(1, as.matrix(sow.data[sow.data$Cens0==1, 3:4]))\n",
    "sow.XLC = cbind(1, as.matrix(sow.data[sow.data$Cens1==1, 3:4]))"
   ]
  },
  {
   "cell_type": "code",
   "execution_count": 632,
   "metadata": {
    "scrolled": true
   },
   "outputs": [],
   "source": [
    "sow.X   = cbind(1, as.matrix(sow.data[, 3:4]))"
   ]
  },
  {
   "cell_type": "code",
   "execution_count": 633,
   "metadata": {
    "scrolled": true
   },
   "outputs": [],
   "source": [
    "sow.X2  = t(sow.X)%*%sow.X\n",
    "sow.X2.inv = solve(sow.X2)"
   ]
  },
  {
   "cell_type": "code",
   "execution_count": 634,
   "metadata": {},
   "outputs": [],
   "source": [
    "nRC = dim(sow.XRC)[1]\n",
    "nLC = dim(sow.XLC)[1]\n",
    "nObs = dim(sow.data)[1]"
   ]
  },
  {
   "cell_type": "code",
   "execution_count": 635,
   "metadata": {},
   "outputs": [],
   "source": [
    "#stage 2. Initial Setup for the algorithm\n",
    "NIT       = 10000                        #num of interations\n",
    "nBurn     = 2000                         #num of burn-ins  \n",
    "NIT.eff   = NIT - nBurn                  #effective sample size\n",
    "thin.step = 10                           #thinning  \n",
    "NIT.thin  = floor(NIT.eff/thin.step)     #effective sample size after thinning"
   ]
  },
  {
   "cell_type": "code",
   "execution_count": 636,
   "metadata": {
    "scrolled": true
   },
   "outputs": [],
   "source": [
    "#stage 3. Record Posterior samples\n",
    "beta.dim = 3\n",
    "beta.pos = matrix(0, NIT.thin, beta.dim)\n"
   ]
  },
  {
   "cell_type": "code",
   "execution_count": 638,
   "metadata": {
    "scrolled": true
   },
   "outputs": [],
   "source": [
    "tau.pos  = rep(0, NIT.thin)"
   ]
  },
  {
   "cell_type": "code",
   "execution_count": 639,
   "metadata": {},
   "outputs": [],
   "source": [
    "#stage 4. priors\n",
    "#for Beta: mNormal(mu.beta, sigma.beta)\n",
    "\n",
    "mu.beta     = rep(0,beta.dim)\n",
    "sigma.beta  = 1E6  * diag(beta.dim)\n",
    "iSigma.beta = 1E-6 * diag(beta.dim)  #inverse prior covariance matrix"
   ]
  },
  {
   "cell_type": "code",
   "execution_count": 640,
   "metadata": {},
   "outputs": [],
   "source": [
    "#prior for precision: Gamma(a.tau, b.tau)\n",
    "a.tau = 1/2\n",
    "b.tau = 1/2"
   ]
  },
  {
   "cell_type": "code",
   "execution_count": 641,
   "metadata": {},
   "outputs": [],
   "source": [
    "#stage 5. Gibbs sampler.\n",
    "\n",
    "#initialize the loop\n",
    "curBeta = c(0.5, 0, 0) \n",
    "curTau  = 4\n",
    "g       = 1"
   ]
  },
  {
   "cell_type": "code",
   "execution_count": 642,
   "metadata": {},
   "outputs": [],
   "source": [
    "#main loop\n",
    "for (m in 1:NIT){\n",
    "\t#step 1. sample latent SOW \n",
    "\t\n",
    "    #step 1.a. sample SOW right-censored at 0\n",
    "\t#Please fill in the blank below the code for sampling the latent SOW when the observed SOW=0\n",
    "\t#Please name your sampled latent SOW curYRC\n",
    "  \n",
    "\t#step 1.b sample SOW left-censored at 1\n",
    "\t#Please fill in the blank below the code for sampling the latent SOW when the observed SOW=1\n",
    "\t#Please name your sampled latent SOW curYLC\n",
    "\n",
    "    mu_sow = sow.X %*% curBeta\n",
    "    \n",
    "    curYRC = rtruncnorm(nRC, mean = mu_sow[sow.data$Cens0==1], sd = sqrt(1/curTau), a = -Inf, b = 0)\n",
    "    curYLC = rtruncnorm(nLC, mean = mu_sow[sow.data$Cens1==1], sd = sqrt(1/curTau), a = 1, b = Inf) \n",
    "  \n",
    "\t#step 2 sample beta\n",
    "\t#step 2.a impute the latent variables\n",
    "\tsow.Y = sow.data$SOW\n",
    "\tsow.Y[sow.data$Cens0==1] = curYRC\n",
    "\tsow.Y[sow.data$Cens1==1] = curYLC\n",
    "    \n",
    "    \n",
    "\t#step 2.b sample beta\n",
    "\tsigma.hat  = solve(curTau*sow.X2 + iSigma.beta)\n",
    "\tbetaPos.mn = sigma.hat%*%(curTau*t(sow.X)%*%sow.Y +  iSigma.beta%*%mu.beta)\n",
    "\tcurBeta    = as.vector(rmnorm(1, mean=betaPos.mn, varcov=sigma.hat)) \n",
    "\t\n",
    "\t#step 3 sample tau (precision = 1/sigma^2)\n",
    "\tsowE.hat   = sow.Y-sow.X%*%curBeta\n",
    "\tcurTau     = rgamma(1, 0.5*nObs+a.tau, 0.5*t(sowE.hat)%*%sowE.hat+b.tau)\n",
    "\t\n",
    "\n",
    "\t#save thinned samples after burn-ins\n",
    "\tif ((m > nBurn) & (m%%thin.step == 0)) {\n",
    "\t\tbeta.pos[g,] = curBeta\n",
    "\t\ttau.pos[g] = curTau\n",
    "\t\tg = g+1\n",
    "\t}\n",
    "}\n"
   ]
  },
  {
   "cell_type": "code",
   "execution_count": 643,
   "metadata": {},
   "outputs": [],
   "source": [
    "colnames(beta.pos) = c('beta0', 'beta1', 'beta2')"
   ]
  },
  {
   "cell_type": "code",
   "execution_count": 644,
   "metadata": {},
   "outputs": [
    {
     "data": {
      "text/html": [
       "<dl class=dl-horizontal>\n",
       "\t<dt>beta0</dt>\n",
       "\t\t<dd>0.602001462690402</dd>\n",
       "\t<dt>beta1</dt>\n",
       "\t\t<dd>0.507458987699346</dd>\n",
       "\t<dt>beta2</dt>\n",
       "\t\t<dd>-0.000511318019746173</dd>\n",
       "</dl>\n"
      ],
      "text/latex": [
       "\\begin{description*}\n",
       "\\item[beta0] 0.602001462690402\n",
       "\\item[beta1] 0.507458987699346\n",
       "\\item[beta2] -0.000511318019746173\n",
       "\\end{description*}\n"
      ],
      "text/markdown": [
       "beta0\n",
       ":   0.602001462690402beta1\n",
       ":   0.507458987699346beta2\n",
       ":   -0.000511318019746173\n",
       "\n"
      ],
      "text/plain": [
       "       beta0        beta1        beta2 \n",
       " 0.602001463  0.507458988 -0.000511318 "
      ]
     },
     "metadata": {},
     "output_type": "display_data"
    }
   ],
   "source": [
    "# --------------------------------\n",
    "# Get posterior mean of beta, tau\n",
    "# --------------------------------\n",
    "# (Intercept)     x1      x2 \n",
    "\n",
    "(post_beta = colMeans(beta.pos))"
   ]
  },
  {
   "cell_type": "code",
   "execution_count": 646,
   "metadata": {},
   "outputs": [
    {
     "data": {
      "text/html": [
       "24.4567380749406"
      ],
      "text/latex": [
       "24.4567380749406"
      ],
      "text/markdown": [
       "24.4567380749406"
      ],
      "text/plain": [
       "[1] 24.45674"
      ]
     },
     "metadata": {},
     "output_type": "display_data"
    }
   ],
   "source": [
    "(post_tau  = mean(tau.pos))"
   ]
  },
  {
   "cell_type": "code",
   "execution_count": 647,
   "metadata": {},
   "outputs": [
    {
     "name": "stderr",
     "output_type": "stream",
     "text": [
      "Warning message in cumsum(beta.pos[, 1])/(1:NIT):\n",
      "\"longer object length is not a multiple of shorter object length\"Warning message in cumsum(beta.pos[, 2])/(1:NIT):\n",
      "\"longer object length is not a multiple of shorter object length\"Warning message in cumsum(beta.pos[, 3])/(1:NIT):\n",
      "\"longer object length is not a multiple of shorter object length\""
     ]
    },
    {
     "data": {
      "image/png": "[encoded data removed]",
      "text/plain": [
       "Plot with title \"Chain values of beta_3\""
      ]
     },
     "metadata": {},
     "output_type": "display_data"
    }
   ],
   "source": [
    "par(mfrow = c(3,3))\n",
    "hist(beta.pos[,1], breaks=30, main=\"Posterior of beta_1\", col=\"cornflowerblue\")\n",
    "abline(v = post_beta[1], col=\"goldenrod2\", lwd=3)\n",
    "hist(beta.pos[,2], breaks=30, main=\"Posterior of beta_2\", col=\"cornflowerblue\")\n",
    "abline(v = post_beta[2], col=\"goldenrod2\", lwd=3)\n",
    "hist(beta.pos[,3], breaks=30, main=\"Posterior of beta_3\", col=\"cornflowerblue\")\n",
    "abline(v = post_beta[3], col=\"goldenrod2\", lwd=3)\n",
    "\n",
    "plot(beta.pos[, 1], type = \"l\", main = \"Chain values of theta_1\")\n",
    "lines(cumsum(beta.pos[, 1])/(1:NIT), col=\"goldenrod2\", lwd=2)\n",
    "plot(beta.pos[, 2], type = \"l\", main = \"Chain values of beta_2\")\n",
    "lines(cumsum(beta.pos[, 2])/(1:NIT), col=\"goldenrod2\", lwd=2)\n",
    "plot(beta.pos[, 3], type = \"l\", main = \"Chain values of beta_3\")\n",
    "lines(cumsum(beta.pos[, 3])/(1:NIT), col=\"goldenrod2\", lwd=2)\n",
    "\n",
    "legend(\"topright\", \"Post. Mean\", lty=1, lwd=2, col=\"goldenrod2\", bty='n', cex=.95)"
   ]
  },
  {
   "cell_type": "code",
   "execution_count": 648,
   "metadata": {},
   "outputs": [
    {
     "name": "stderr",
     "output_type": "stream",
     "text": [
      "Installing package into 'C:/Users/cl44343/Documents/R/win-library/3.4'\n",
      "(as 'lib' is unspecified)\n",
      "Warning message:\n",
      "\"package 'HDInterval' is in use and will not be installed\""
     ]
    }
   ],
   "source": [
    "#install.packages('HDInterval')\n",
    "library(HDInterval)"
   ]
  },
  {
   "cell_type": "code",
   "execution_count": 649,
   "metadata": {},
   "outputs": [
    {
     "data": {
      "text/html": [
       "<table>\n",
       "<thead><tr><th></th><th scope=col>beta0</th><th scope=col>beta1</th><th scope=col>beta2</th></tr></thead>\n",
       "<tbody>\n",
       "\t<tr><th scope=row>lower</th><td>0.5875770    </td><td>0.4837415    </td><td>-0.0005235368</td></tr>\n",
       "\t<tr><th scope=row>upper</th><td>0.6199942    </td><td>0.5282195    </td><td>-0.0004998265</td></tr>\n",
       "</tbody>\n",
       "</table>\n"
      ],
      "text/latex": [
       "\\begin{tabular}{r|lll}\n",
       "  & beta0 & beta1 & beta2\\\\\n",
       "\\hline\n",
       "\tlower & 0.5875770     & 0.4837415     & -0.0005235368\\\\\n",
       "\tupper & 0.6199942     & 0.5282195     & -0.0004998265\\\\\n",
       "\\end{tabular}\n"
      ],
      "text/markdown": [
       "\n",
       "| <!--/--> | beta0 | beta1 | beta2 | \n",
       "|---|---|\n",
       "| lower | 0.5875770     | 0.4837415     | -0.0005235368 | \n",
       "| upper | 0.6199942     | 0.5282195     | -0.0004998265 | \n",
       "\n",
       "\n"
      ],
      "text/plain": [
       "      beta0     beta1     beta2        \n",
       "lower 0.5875770 0.4837415 -0.0005235368\n",
       "upper 0.6199942 0.5282195 -0.0004998265"
      ]
     },
     "metadata": {},
     "output_type": "display_data"
    }
   ],
   "source": [
    "hdi(beta.pos, credMass = 0.95)"
   ]
  },
  {
   "cell_type": "code",
   "execution_count": 650,
   "metadata": {},
   "outputs": [
    {
     "data": {
      "text/html": [
       "<dl class=dl-horizontal>\n",
       "\t<dt>lower</dt>\n",
       "\t\t<dd>23.0626490285682</dd>\n",
       "\t<dt>upper</dt>\n",
       "\t\t<dd>25.8835066851162</dd>\n",
       "</dl>\n"
      ],
      "text/latex": [
       "\\begin{description*}\n",
       "\\item[lower] 23.0626490285682\n",
       "\\item[upper] 25.8835066851162\n",
       "\\end{description*}\n"
      ],
      "text/markdown": [
       "lower\n",
       ":   23.0626490285682upper\n",
       ":   25.8835066851162\n",
       "\n"
      ],
      "text/plain": [
       "   lower    upper \n",
       "23.06265 25.88351 \n",
       "attr(,\"credMass\")\n",
       "[1] 0.95"
      ]
     },
     "metadata": {},
     "output_type": "display_data"
    }
   ],
   "source": [
    "hdi(tau.pos, credMass = 0.95)"
   ]
  },
  {
   "cell_type": "code",
   "execution_count": null,
   "metadata": {},
   "outputs": [],
   "source": []
  }
 ],
 "metadata": {
  "kernelspec": {
   "display_name": "R",
   "language": "R",
   "name": "ir"
  },
  "language_info": {
   "codemirror_mode": "r",
   "file_extension": ".r",
   "mimetype": "text/x-r-source",
   "name": "R",
   "pygments_lexer": "r",
   "version": "3.4.3"
  }
 },
 "nbformat": 4,
 "nbformat_minor": 2
}
