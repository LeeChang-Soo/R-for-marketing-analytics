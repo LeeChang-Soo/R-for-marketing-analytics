{
 "cells": [
  {
   "cell_type": "markdown",
   "metadata": {},
   "source": [
    "# 11. Segmentation: Clustering and Classification"
   ]
  },
  {
   "cell_type": "markdown",
   "metadata": {},
   "source": [
    "Segmentation is not a well-defined process and analysts vary in their definitions of\n",
    "segmentation as well as their approaches and philosophy.\n",
    "\n",
    "We start with a warning: we have definite opinions about segmentation and what we\n",
    "believe are common misunderstandings and poor practices.We hope you’ll be convinced\n",
    "by our views—but even if not, the methods here will be useful to you."
   ]
  },
  {
   "cell_type": "markdown",
   "metadata": {},
   "source": [
    "## 11.1 Segmentation Philosophy"
   ]
  },
  {
   "cell_type": "markdown",
   "metadata": {},
   "source": [
    "The general goal of market segmentation is to find groups of customers that differ in\n",
    "important ways associated with product interest, market participation, or response\n",
    "to marketing efforts.\n",
    "- By understanding the differences among groups, a marketer\n",
    "can make better strategic choices about opportunities, product definition, and positioning,\n",
    "and can engage in more effective promotion."
   ]
  },
  {
   "cell_type": "markdown",
   "metadata": {},
   "source": [
    "### 11.1.1 The Difficulty of Segmentation"
   ]
  },
  {
   "cell_type": "markdown",
   "metadata": {},
   "source": [
    "It is not particularly difficult to find groups within consumer data; indeed,\n",
    "in this chapter we see several ways to do this, all of which “succeed” according to\n",
    "one statistical criterion or another. Rather, the difficulty is to ensure that the outcome\n",
    "is meaningful for a particular business need.\n",
    " - For segmentation this means that there is no all-purpose method or\n",
    "algorithm that is a priori preferable to others. This does not mean that the choice of a\n",
    "method is irrelevant or arbitrary; \n",
    " - rather, one cannot necessarily determine in advance\n",
    "which approach will work best for a novel problem. As a form of optimization,\n",
    "segmentation is likely to require an iterative approach that successively tests and\n",
    "improves its answer to a business need.\n",
    "\n",
    "Segmentation is like slicing a pie, and any pie might be sliced in an infinite number\n",
    "of ways. \n",
    " - Your task as an analyst is to consider the infinity of possible data that\n",
    "might be gathered, the infinity of possible groupings of that data, and the infinity of\n",
    "possible business questions that might be addressed. \n",
    " - Your goal is to find a solution\n",
    "within those infinities that represents real differences in the data and that informs\n",
    "and influences real business decisions.\n",
    "\n",
    "To maximize chances of finding such a model, we recommend that an analyst\n",
    "expects—and prepares management to understand—the need to iterate analyses."
   ]
  },
  {
   "cell_type": "markdown",
   "metadata": {},
   "source": [
    "### 11.1.2 Segmentation as Clustering and Classification"
   ]
  },
  {
   "cell_type": "markdown",
   "metadata": {},
   "source": [
    "***clustering or cluster analysis and classification***. These are the primary branches of\n",
    "what is sometimes called statistical learning, i.e., learning from data through statistical\n",
    "model fitting."
   ]
  },
  {
   "cell_type": "markdown",
   "metadata": {},
   "source": [
    "## 11.2 Segmentation Data"
   ]
  },
  {
   "cell_type": "code",
   "execution_count": 3,
   "metadata": {},
   "outputs": [
    {
     "data": {
      "text/html": [
       "<table>\n",
       "<thead><tr><th scope=col>age</th><th scope=col>gender</th><th scope=col>income</th><th scope=col>kids</th><th scope=col>ownHome</th><th scope=col>subscribe</th></tr></thead>\n",
       "<tbody>\n",
       "\t<tr><td>47.31613</td><td>Male    </td><td>49482.81</td><td>2       </td><td>ownNo   </td><td>subNo   </td></tr>\n",
       "\t<tr><td>31.38684</td><td>Male    </td><td>35546.29</td><td>1       </td><td>ownYes  </td><td>subNo   </td></tr>\n",
       "\t<tr><td>43.20034</td><td>Male    </td><td>44169.19</td><td>0       </td><td>ownYes  </td><td>subNo   </td></tr>\n",
       "\t<tr><td>37.31700</td><td>Female  </td><td>81041.99</td><td>1       </td><td>ownNo   </td><td>subNo   </td></tr>\n",
       "\t<tr><td>40.95439</td><td>Female  </td><td>79353.01</td><td>3       </td><td>ownYes  </td><td>subNo   </td></tr>\n",
       "\t<tr><td>43.03387</td><td>Male    </td><td>58143.36</td><td>4       </td><td>ownYes  </td><td>subNo   </td></tr>\n",
       "\t<tr><td>37.55696</td><td>Male    </td><td>19282.23</td><td>3       </td><td>ownNo   </td><td>subNo   </td></tr>\n",
       "\t<tr><td>28.45129</td><td>Male    </td><td>47245.24</td><td>0       </td><td>ownNo   </td><td>subNo   </td></tr>\n",
       "\t<tr><td>44.20268</td><td>Female  </td><td>48332.52</td><td>1       </td><td>ownNo   </td><td>subNo   </td></tr>\n",
       "\t<tr><td>35.15167</td><td>Female  </td><td>52567.89</td><td>0       </td><td>ownYes  </td><td>subNo   </td></tr>\n",
       "\t<tr><td>47.61097</td><td>Male    </td><td>47917.56</td><td>0       </td><td>ownYes  </td><td>subNo   </td></tr>\n",
       "\t<tr><td>37.58036</td><td>Female  </td><td>65767.48</td><td>0       </td><td>ownNo   </td><td>subNo   </td></tr>\n",
       "\t<tr><td>33.21556</td><td>Female  </td><td>69337.66</td><td>2       </td><td>ownNo   </td><td>subNo   </td></tr>\n",
       "\t<tr><td>43.18109</td><td>Male    </td><td>57200.15</td><td>3       </td><td>ownYes  </td><td>subNo   </td></tr>\n",
       "\t<tr><td>39.35748</td><td>Male    </td><td>47099.77</td><td>1       </td><td>ownYes  </td><td>subNo   </td></tr>\n",
       "\t<tr><td>42.03056</td><td>Male    </td><td>57036.84</td><td>3       </td><td>ownYes  </td><td>subNo   </td></tr>\n",
       "\t<tr><td>41.96189</td><td>Female  </td><td>53127.06</td><td>0       </td><td>ownYes  </td><td>subNo   </td></tr>\n",
       "\t<tr><td>43.98136</td><td>Female  </td><td>41254.80</td><td>0       </td><td>ownYes  </td><td>subNo   </td></tr>\n",
       "\t<tr><td>37.61905</td><td>Female  </td><td>63528.47</td><td>1       </td><td>ownYes  </td><td>subNo   </td></tr>\n",
       "\t<tr><td>32.41215</td><td>Female  </td><td>52649.54</td><td>2       </td><td>ownYes  </td><td>subYes  </td></tr>\n",
       "\t<tr><td>47.94154</td><td>Female  </td><td>48197.81</td><td>1       </td><td>ownYes  </td><td>subNo   </td></tr>\n",
       "\t<tr><td>36.70162</td><td>Female  </td><td>46163.38</td><td>6       </td><td>ownYes  </td><td>subNo   </td></tr>\n",
       "\t<tr><td>30.47705</td><td>Male    </td><td>44151.93</td><td>2       </td><td>ownNo   </td><td>subNo   </td></tr>\n",
       "\t<tr><td>38.32010</td><td>Female  </td><td>56128.01</td><td>2       </td><td>ownYes  </td><td>subNo   </td></tr>\n",
       "\t<tr><td>32.72702</td><td>Female  </td><td>62519.89</td><td>4       </td><td>ownYes  </td><td>subNo   </td></tr>\n",
       "\t<tr><td>40.42549</td><td>Female  </td><td>51195.97</td><td>1       </td><td>ownYes  </td><td>subNo   </td></tr>\n",
       "\t<tr><td>26.86546</td><td>Male    </td><td>59440.87</td><td>2       </td><td>ownNo   </td><td>subNo   </td></tr>\n",
       "\t<tr><td>44.50259</td><td>Male    </td><td>57362.59</td><td>0       </td><td>ownNo   </td><td>subNo   </td></tr>\n",
       "\t<tr><td>35.16896</td><td>Female  </td><td>56112.12</td><td>1       </td><td>ownNo   </td><td>subNo   </td></tr>\n",
       "\t<tr><td>39.61932</td><td>Female  </td><td>76488.70</td><td>2       </td><td>ownNo   </td><td>subNo   </td></tr>\n",
       "\t<tr><td>...</td><td>...</td><td>...</td><td>...</td><td>...</td><td>...</td></tr>\n",
       "\t<tr><td>32.33691</td><td>Female  </td><td>52776.42</td><td>1       </td><td>ownYes  </td><td>subYes  </td></tr>\n",
       "\t<tr><td>42.03798</td><td>Female  </td><td>58756.32</td><td>2       </td><td>ownNo   </td><td>subNo   </td></tr>\n",
       "\t<tr><td>38.87477</td><td>Female  </td><td>44811.78</td><td>5       </td><td>ownYes  </td><td>subNo   </td></tr>\n",
       "\t<tr><td>40.16990</td><td>Female  </td><td>44125.40</td><td>4       </td><td>ownYes  </td><td>subNo   </td></tr>\n",
       "\t<tr><td>37.41808</td><td>Female  </td><td>36257.93</td><td>1       </td><td>ownNo   </td><td>subNo   </td></tr>\n",
       "\t<tr><td>39.14320</td><td>Female  </td><td>45347.01</td><td>1       </td><td>ownYes  </td><td>subYes  </td></tr>\n",
       "\t<tr><td>29.76301</td><td>Female  </td><td>50720.22</td><td>0       </td><td>ownNo   </td><td>subNo   </td></tr>\n",
       "\t<tr><td>36.23860</td><td>Female  </td><td>46540.88</td><td>1       </td><td>ownNo   </td><td>subYes  </td></tr>\n",
       "\t<tr><td>37.24773</td><td>Female  </td><td>50560.17</td><td>3       </td><td>ownYes  </td><td>subNo   </td></tr>\n",
       "\t<tr><td>37.35856</td><td>Female  </td><td>59663.28</td><td>1       </td><td>ownNo   </td><td>subNo   </td></tr>\n",
       "\t<tr><td>31.69081</td><td>Female  </td><td>55940.78</td><td>3       </td><td>ownNo   </td><td>subNo   </td></tr>\n",
       "\t<tr><td>34.03454</td><td>Female  </td><td>66007.99</td><td>3       </td><td>ownNo   </td><td>subNo   </td></tr>\n",
       "\t<tr><td>36.89752</td><td>Female  </td><td>39366.95</td><td>1       </td><td>ownNo   </td><td>subYes  </td></tr>\n",
       "\t<tr><td>38.16915</td><td>Female  </td><td>54509.25</td><td>2       </td><td>ownNo   </td><td>subNo   </td></tr>\n",
       "\t<tr><td>42.37342</td><td>Female  </td><td>49308.97</td><td>2       </td><td>ownNo   </td><td>subNo   </td></tr>\n",
       "\t<tr><td>40.30668</td><td>Female  </td><td>54740.28</td><td>0       </td><td>ownYes  </td><td>subNo   </td></tr>\n",
       "\t<tr><td>36.24118</td><td>Male    </td><td>49775.29</td><td>1       </td><td>ownNo   </td><td>subYes  </td></tr>\n",
       "\t<tr><td>35.82586</td><td>Female  </td><td>41766.29</td><td>2       </td><td>ownNo   </td><td>subYes  </td></tr>\n",
       "\t<tr><td>26.40436</td><td>Female  </td><td>73240.62</td><td>2       </td><td>ownNo   </td><td>subNo   </td></tr>\n",
       "\t<tr><td>42.40763</td><td>Male    </td><td>53520.36</td><td>1       </td><td>ownNo   </td><td>subNo   </td></tr>\n",
       "\t<tr><td>35.88063</td><td>Male    </td><td>66423.74</td><td>1       </td><td>ownNo   </td><td>subNo   </td></tr>\n",
       "\t<tr><td>36.22989</td><td>Female  </td><td>41192.28</td><td>4       </td><td>ownNo   </td><td>subNo   </td></tr>\n",
       "\t<tr><td>39.54330</td><td>Female  </td><td>58933.34</td><td>2       </td><td>ownYes  </td><td>subYes  </td></tr>\n",
       "\t<tr><td>35.79961</td><td>Female  </td><td>52352.69</td><td>1       </td><td>ownNo   </td><td>subYes  </td></tr>\n",
       "\t<tr><td>36.14964</td><td>Male    </td><td>40522.39</td><td>0       </td><td>ownYes  </td><td>subNo   </td></tr>\n",
       "\t<tr><td>32.95227</td><td>Female  </td><td>43882.43</td><td>0       </td><td>ownYes  </td><td>subNo   </td></tr>\n",
       "\t<tr><td>40.96255</td><td>Female  </td><td>64197.09</td><td>2       </td><td>ownNo   </td><td>subNo   </td></tr>\n",
       "\t<tr><td>38.22980</td><td>Male    </td><td>47580.93</td><td>0       </td><td>ownNo   </td><td>subYes  </td></tr>\n",
       "\t<tr><td>33.17036</td><td>Male    </td><td>60747.34</td><td>1       </td><td>ownNo   </td><td>subNo   </td></tr>\n",
       "\t<tr><td>34.38388</td><td>Male    </td><td>53674.93</td><td>5       </td><td>ownYes  </td><td>subNo   </td></tr>\n",
       "</tbody>\n",
       "</table>\n"
      ],
      "text/latex": [
       "\\begin{tabular}{r|llllll}\n",
       " age & gender & income & kids & ownHome & subscribe\\\\\n",
       "\\hline\n",
       "\t 47.31613 & Male     & 49482.81 & 2        & ownNo    & subNo   \\\\\n",
       "\t 31.38684 & Male     & 35546.29 & 1        & ownYes   & subNo   \\\\\n",
       "\t 43.20034 & Male     & 44169.19 & 0        & ownYes   & subNo   \\\\\n",
       "\t 37.31700 & Female   & 81041.99 & 1        & ownNo    & subNo   \\\\\n",
       "\t 40.95439 & Female   & 79353.01 & 3        & ownYes   & subNo   \\\\\n",
       "\t 43.03387 & Male     & 58143.36 & 4        & ownYes   & subNo   \\\\\n",
       "\t 37.55696 & Male     & 19282.23 & 3        & ownNo    & subNo   \\\\\n",
       "\t 28.45129 & Male     & 47245.24 & 0        & ownNo    & subNo   \\\\\n",
       "\t 44.20268 & Female   & 48332.52 & 1        & ownNo    & subNo   \\\\\n",
       "\t 35.15167 & Female   & 52567.89 & 0        & ownYes   & subNo   \\\\\n",
       "\t 47.61097 & Male     & 47917.56 & 0        & ownYes   & subNo   \\\\\n",
       "\t 37.58036 & Female   & 65767.48 & 0        & ownNo    & subNo   \\\\\n",
       "\t 33.21556 & Female   & 69337.66 & 2        & ownNo    & subNo   \\\\\n",
       "\t 43.18109 & Male     & 57200.15 & 3        & ownYes   & subNo   \\\\\n",
       "\t 39.35748 & Male     & 47099.77 & 1        & ownYes   & subNo   \\\\\n",
       "\t 42.03056 & Male     & 57036.84 & 3        & ownYes   & subNo   \\\\\n",
       "\t 41.96189 & Female   & 53127.06 & 0        & ownYes   & subNo   \\\\\n",
       "\t 43.98136 & Female   & 41254.80 & 0        & ownYes   & subNo   \\\\\n",
       "\t 37.61905 & Female   & 63528.47 & 1        & ownYes   & subNo   \\\\\n",
       "\t 32.41215 & Female   & 52649.54 & 2        & ownYes   & subYes  \\\\\n",
       "\t 47.94154 & Female   & 48197.81 & 1        & ownYes   & subNo   \\\\\n",
       "\t 36.70162 & Female   & 46163.38 & 6        & ownYes   & subNo   \\\\\n",
       "\t 30.47705 & Male     & 44151.93 & 2        & ownNo    & subNo   \\\\\n",
       "\t 38.32010 & Female   & 56128.01 & 2        & ownYes   & subNo   \\\\\n",
       "\t 32.72702 & Female   & 62519.89 & 4        & ownYes   & subNo   \\\\\n",
       "\t 40.42549 & Female   & 51195.97 & 1        & ownYes   & subNo   \\\\\n",
       "\t 26.86546 & Male     & 59440.87 & 2        & ownNo    & subNo   \\\\\n",
       "\t 44.50259 & Male     & 57362.59 & 0        & ownNo    & subNo   \\\\\n",
       "\t 35.16896 & Female   & 56112.12 & 1        & ownNo    & subNo   \\\\\n",
       "\t 39.61932 & Female   & 76488.70 & 2        & ownNo    & subNo   \\\\\n",
       "\t ... & ... & ... & ... & ... & ...\\\\\n",
       "\t 32.33691 & Female   & 52776.42 & 1        & ownYes   & subYes  \\\\\n",
       "\t 42.03798 & Female   & 58756.32 & 2        & ownNo    & subNo   \\\\\n",
       "\t 38.87477 & Female   & 44811.78 & 5        & ownYes   & subNo   \\\\\n",
       "\t 40.16990 & Female   & 44125.40 & 4        & ownYes   & subNo   \\\\\n",
       "\t 37.41808 & Female   & 36257.93 & 1        & ownNo    & subNo   \\\\\n",
       "\t 39.14320 & Female   & 45347.01 & 1        & ownYes   & subYes  \\\\\n",
       "\t 29.76301 & Female   & 50720.22 & 0        & ownNo    & subNo   \\\\\n",
       "\t 36.23860 & Female   & 46540.88 & 1        & ownNo    & subYes  \\\\\n",
       "\t 37.24773 & Female   & 50560.17 & 3        & ownYes   & subNo   \\\\\n",
       "\t 37.35856 & Female   & 59663.28 & 1        & ownNo    & subNo   \\\\\n",
       "\t 31.69081 & Female   & 55940.78 & 3        & ownNo    & subNo   \\\\\n",
       "\t 34.03454 & Female   & 66007.99 & 3        & ownNo    & subNo   \\\\\n",
       "\t 36.89752 & Female   & 39366.95 & 1        & ownNo    & subYes  \\\\\n",
       "\t 38.16915 & Female   & 54509.25 & 2        & ownNo    & subNo   \\\\\n",
       "\t 42.37342 & Female   & 49308.97 & 2        & ownNo    & subNo   \\\\\n",
       "\t 40.30668 & Female   & 54740.28 & 0        & ownYes   & subNo   \\\\\n",
       "\t 36.24118 & Male     & 49775.29 & 1        & ownNo    & subYes  \\\\\n",
       "\t 35.82586 & Female   & 41766.29 & 2        & ownNo    & subYes  \\\\\n",
       "\t 26.40436 & Female   & 73240.62 & 2        & ownNo    & subNo   \\\\\n",
       "\t 42.40763 & Male     & 53520.36 & 1        & ownNo    & subNo   \\\\\n",
       "\t 35.88063 & Male     & 66423.74 & 1        & ownNo    & subNo   \\\\\n",
       "\t 36.22989 & Female   & 41192.28 & 4        & ownNo    & subNo   \\\\\n",
       "\t 39.54330 & Female   & 58933.34 & 2        & ownYes   & subYes  \\\\\n",
       "\t 35.79961 & Female   & 52352.69 & 1        & ownNo    & subYes  \\\\\n",
       "\t 36.14964 & Male     & 40522.39 & 0        & ownYes   & subNo   \\\\\n",
       "\t 32.95227 & Female   & 43882.43 & 0        & ownYes   & subNo   \\\\\n",
       "\t 40.96255 & Female   & 64197.09 & 2        & ownNo    & subNo   \\\\\n",
       "\t 38.22980 & Male     & 47580.93 & 0        & ownNo    & subYes  \\\\\n",
       "\t 33.17036 & Male     & 60747.34 & 1        & ownNo    & subNo   \\\\\n",
       "\t 34.38388 & Male     & 53674.93 & 5        & ownYes   & subNo   \\\\\n",
       "\\end{tabular}\n"
      ],
      "text/markdown": [
       "\n",
       "age | gender | income | kids | ownHome | subscribe | \n",
       "|---|---|---|---|---|---|---|---|---|---|---|---|---|---|---|---|---|---|---|---|---|---|---|---|---|---|---|---|---|---|---|---|---|---|---|---|---|---|---|---|---|---|---|---|---|---|---|---|---|---|---|---|---|---|---|---|---|---|---|---|---|\n",
       "| 47.31613 | Male     | 49482.81 | 2        | ownNo    | subNo    | \n",
       "| 31.38684 | Male     | 35546.29 | 1        | ownYes   | subNo    | \n",
       "| 43.20034 | Male     | 44169.19 | 0        | ownYes   | subNo    | \n",
       "| 37.31700 | Female   | 81041.99 | 1        | ownNo    | subNo    | \n",
       "| 40.95439 | Female   | 79353.01 | 3        | ownYes   | subNo    | \n",
       "| 43.03387 | Male     | 58143.36 | 4        | ownYes   | subNo    | \n",
       "| 37.55696 | Male     | 19282.23 | 3        | ownNo    | subNo    | \n",
       "| 28.45129 | Male     | 47245.24 | 0        | ownNo    | subNo    | \n",
       "| 44.20268 | Female   | 48332.52 | 1        | ownNo    | subNo    | \n",
       "| 35.15167 | Female   | 52567.89 | 0        | ownYes   | subNo    | \n",
       "| 47.61097 | Male     | 47917.56 | 0        | ownYes   | subNo    | \n",
       "| 37.58036 | Female   | 65767.48 | 0        | ownNo    | subNo    | \n",
       "| 33.21556 | Female   | 69337.66 | 2        | ownNo    | subNo    | \n",
       "| 43.18109 | Male     | 57200.15 | 3        | ownYes   | subNo    | \n",
       "| 39.35748 | Male     | 47099.77 | 1        | ownYes   | subNo    | \n",
       "| 42.03056 | Male     | 57036.84 | 3        | ownYes   | subNo    | \n",
       "| 41.96189 | Female   | 53127.06 | 0        | ownYes   | subNo    | \n",
       "| 43.98136 | Female   | 41254.80 | 0        | ownYes   | subNo    | \n",
       "| 37.61905 | Female   | 63528.47 | 1        | ownYes   | subNo    | \n",
       "| 32.41215 | Female   | 52649.54 | 2        | ownYes   | subYes   | \n",
       "| 47.94154 | Female   | 48197.81 | 1        | ownYes   | subNo    | \n",
       "| 36.70162 | Female   | 46163.38 | 6        | ownYes   | subNo    | \n",
       "| 30.47705 | Male     | 44151.93 | 2        | ownNo    | subNo    | \n",
       "| 38.32010 | Female   | 56128.01 | 2        | ownYes   | subNo    | \n",
       "| 32.72702 | Female   | 62519.89 | 4        | ownYes   | subNo    | \n",
       "| 40.42549 | Female   | 51195.97 | 1        | ownYes   | subNo    | \n",
       "| 26.86546 | Male     | 59440.87 | 2        | ownNo    | subNo    | \n",
       "| 44.50259 | Male     | 57362.59 | 0        | ownNo    | subNo    | \n",
       "| 35.16896 | Female   | 56112.12 | 1        | ownNo    | subNo    | \n",
       "| 39.61932 | Female   | 76488.70 | 2        | ownNo    | subNo    | \n",
       "| ... | ... | ... | ... | ... | ... | \n",
       "| 32.33691 | Female   | 52776.42 | 1        | ownYes   | subYes   | \n",
       "| 42.03798 | Female   | 58756.32 | 2        | ownNo    | subNo    | \n",
       "| 38.87477 | Female   | 44811.78 | 5        | ownYes   | subNo    | \n",
       "| 40.16990 | Female   | 44125.40 | 4        | ownYes   | subNo    | \n",
       "| 37.41808 | Female   | 36257.93 | 1        | ownNo    | subNo    | \n",
       "| 39.14320 | Female   | 45347.01 | 1        | ownYes   | subYes   | \n",
       "| 29.76301 | Female   | 50720.22 | 0        | ownNo    | subNo    | \n",
       "| 36.23860 | Female   | 46540.88 | 1        | ownNo    | subYes   | \n",
       "| 37.24773 | Female   | 50560.17 | 3        | ownYes   | subNo    | \n",
       "| 37.35856 | Female   | 59663.28 | 1        | ownNo    | subNo    | \n",
       "| 31.69081 | Female   | 55940.78 | 3        | ownNo    | subNo    | \n",
       "| 34.03454 | Female   | 66007.99 | 3        | ownNo    | subNo    | \n",
       "| 36.89752 | Female   | 39366.95 | 1        | ownNo    | subYes   | \n",
       "| 38.16915 | Female   | 54509.25 | 2        | ownNo    | subNo    | \n",
       "| 42.37342 | Female   | 49308.97 | 2        | ownNo    | subNo    | \n",
       "| 40.30668 | Female   | 54740.28 | 0        | ownYes   | subNo    | \n",
       "| 36.24118 | Male     | 49775.29 | 1        | ownNo    | subYes   | \n",
       "| 35.82586 | Female   | 41766.29 | 2        | ownNo    | subYes   | \n",
       "| 26.40436 | Female   | 73240.62 | 2        | ownNo    | subNo    | \n",
       "| 42.40763 | Male     | 53520.36 | 1        | ownNo    | subNo    | \n",
       "| 35.88063 | Male     | 66423.74 | 1        | ownNo    | subNo    | \n",
       "| 36.22989 | Female   | 41192.28 | 4        | ownNo    | subNo    | \n",
       "| 39.54330 | Female   | 58933.34 | 2        | ownYes   | subYes   | \n",
       "| 35.79961 | Female   | 52352.69 | 1        | ownNo    | subYes   | \n",
       "| 36.14964 | Male     | 40522.39 | 0        | ownYes   | subNo    | \n",
       "| 32.95227 | Female   | 43882.43 | 0        | ownYes   | subNo    | \n",
       "| 40.96255 | Female   | 64197.09 | 2        | ownNo    | subNo    | \n",
       "| 38.22980 | Male     | 47580.93 | 0        | ownNo    | subYes   | \n",
       "| 33.17036 | Male     | 60747.34 | 1        | ownNo    | subNo    | \n",
       "| 34.38388 | Male     | 53674.93 | 5        | ownYes   | subNo    | \n",
       "\n",
       "\n"
      ],
      "text/plain": [
       "    age      gender income   kids ownHome subscribe\n",
       "1   47.31613 Male   49482.81 2    ownNo   subNo    \n",
       "2   31.38684 Male   35546.29 1    ownYes  subNo    \n",
       "3   43.20034 Male   44169.19 0    ownYes  subNo    \n",
       "4   37.31700 Female 81041.99 1    ownNo   subNo    \n",
       "5   40.95439 Female 79353.01 3    ownYes  subNo    \n",
       "6   43.03387 Male   58143.36 4    ownYes  subNo    \n",
       "7   37.55696 Male   19282.23 3    ownNo   subNo    \n",
       "8   28.45129 Male   47245.24 0    ownNo   subNo    \n",
       "9   44.20268 Female 48332.52 1    ownNo   subNo    \n",
       "10  35.15167 Female 52567.89 0    ownYes  subNo    \n",
       "11  47.61097 Male   47917.56 0    ownYes  subNo    \n",
       "12  37.58036 Female 65767.48 0    ownNo   subNo    \n",
       "13  33.21556 Female 69337.66 2    ownNo   subNo    \n",
       "14  43.18109 Male   57200.15 3    ownYes  subNo    \n",
       "15  39.35748 Male   47099.77 1    ownYes  subNo    \n",
       "16  42.03056 Male   57036.84 3    ownYes  subNo    \n",
       "17  41.96189 Female 53127.06 0    ownYes  subNo    \n",
       "18  43.98136 Female 41254.80 0    ownYes  subNo    \n",
       "19  37.61905 Female 63528.47 1    ownYes  subNo    \n",
       "20  32.41215 Female 52649.54 2    ownYes  subYes   \n",
       "21  47.94154 Female 48197.81 1    ownYes  subNo    \n",
       "22  36.70162 Female 46163.38 6    ownYes  subNo    \n",
       "23  30.47705 Male   44151.93 2    ownNo   subNo    \n",
       "24  38.32010 Female 56128.01 2    ownYes  subNo    \n",
       "25  32.72702 Female 62519.89 4    ownYes  subNo    \n",
       "26  40.42549 Female 51195.97 1    ownYes  subNo    \n",
       "27  26.86546 Male   59440.87 2    ownNo   subNo    \n",
       "28  44.50259 Male   57362.59 0    ownNo   subNo    \n",
       "29  35.16896 Female 56112.12 1    ownNo   subNo    \n",
       "30  39.61932 Female 76488.70 2    ownNo   subNo    \n",
       "... ...      ...    ...      ...  ...     ...      \n",
       "271 32.33691 Female 52776.42 1    ownYes  subYes   \n",
       "272 42.03798 Female 58756.32 2    ownNo   subNo    \n",
       "273 38.87477 Female 44811.78 5    ownYes  subNo    \n",
       "274 40.16990 Female 44125.40 4    ownYes  subNo    \n",
       "275 37.41808 Female 36257.93 1    ownNo   subNo    \n",
       "276 39.14320 Female 45347.01 1    ownYes  subYes   \n",
       "277 29.76301 Female 50720.22 0    ownNo   subNo    \n",
       "278 36.23860 Female 46540.88 1    ownNo   subYes   \n",
       "279 37.24773 Female 50560.17 3    ownYes  subNo    \n",
       "280 37.35856 Female 59663.28 1    ownNo   subNo    \n",
       "281 31.69081 Female 55940.78 3    ownNo   subNo    \n",
       "282 34.03454 Female 66007.99 3    ownNo   subNo    \n",
       "283 36.89752 Female 39366.95 1    ownNo   subYes   \n",
       "284 38.16915 Female 54509.25 2    ownNo   subNo    \n",
       "285 42.37342 Female 49308.97 2    ownNo   subNo    \n",
       "286 40.30668 Female 54740.28 0    ownYes  subNo    \n",
       "287 36.24118 Male   49775.29 1    ownNo   subYes   \n",
       "288 35.82586 Female 41766.29 2    ownNo   subYes   \n",
       "289 26.40436 Female 73240.62 2    ownNo   subNo    \n",
       "290 42.40763 Male   53520.36 1    ownNo   subNo    \n",
       "291 35.88063 Male   66423.74 1    ownNo   subNo    \n",
       "292 36.22989 Female 41192.28 4    ownNo   subNo    \n",
       "293 39.54330 Female 58933.34 2    ownYes  subYes   \n",
       "294 35.79961 Female 52352.69 1    ownNo   subYes   \n",
       "295 36.14964 Male   40522.39 0    ownYes  subNo    \n",
       "296 32.95227 Female 43882.43 0    ownYes  subNo    \n",
       "297 40.96255 Female 64197.09 2    ownNo   subNo    \n",
       "298 38.22980 Male   47580.93 0    ownNo   subYes   \n",
       "299 33.17036 Male   60747.34 1    ownNo   subNo    \n",
       "300 34.38388 Male   53674.93 5    ownYes  subNo    "
      ]
     },
     "metadata": {},
     "output_type": "display_data"
    }
   ],
   "source": [
    "seg.raw = read.csv(\"http://goo.gl/qw303p\")\n",
    "(seg.df  = seg.raw[, -7])              # remove the known segment assignments"
   ]
  },
  {
   "cell_type": "markdown",
   "metadata": {},
   "source": [
    "> this is a simulated data set with four identified segments\n",
    "of customers for a subscription product, and contains a few variables that are\n",
    "similar to data from typical consumer surveys. Each observation has the simulated\n",
    "respondent’s age, gender, household income, number of kids, home ownership, subscription\n",
    "status, and assigned segment membership.\n",
    "- The original data seg.raw contains “known” segment assignments that have been\n",
    "provided for the data from some other source. \n",
    "- Because our task here is to discover segments, we create a copy\n",
    "seg.df that omits those assignments (omitting column 7), so we don’t accidentally\n",
    "include the known values when exploring applying segmentation methods."
   ]
  },
  {
   "cell_type": "code",
   "execution_count": 5,
   "metadata": {},
   "outputs": [
    {
     "data": {
      "text/plain": [
       "      age           gender        income            kids        ownHome   \n",
       " Min.   :19.26   Female:157   Min.   : -5183   Min.   :0.00   ownNo :159  \n",
       " 1st Qu.:33.01   Male  :143   1st Qu.: 39656   1st Qu.:0.00   ownYes:141  \n",
       " Median :39.49                Median : 52014   Median :1.00               \n",
       " Mean   :41.20                Mean   : 50937   Mean   :1.27               \n",
       " 3rd Qu.:47.90                3rd Qu.: 61403   3rd Qu.:2.00               \n",
       " Max.   :80.49                Max.   :114278   Max.   :7.00               \n",
       "  subscribe  \n",
       " subNo :260  \n",
       " subYes: 40  \n",
       "             \n",
       "             \n",
       "             \n",
       "             "
      ]
     },
     "metadata": {},
     "output_type": "display_data"
    }
   ],
   "source": [
    "summary(seg.df)"
   ]
  },
  {
   "cell_type": "markdown",
   "metadata": {},
   "source": [
    "## 11.3 Clustering"
   ]
  },
  {
   "cell_type": "markdown",
   "metadata": {},
   "source": [
    "To begin, we review two distance-based clustering methods, hclust() and\n",
    "kmeans(). \n",
    " - Distance-based methods attempt to find groups that minimize the distance\n",
    "between members within the group, while maximizing the distance of members\n",
    "from other groups. \n",
    " - hclust() does this by modeling the data in a tree structure,\n",
    "while kmeans() uses group centroids (central points).\n",
    "\n",
    "Then we examine model-based clustering methods, Mclust() and poLCA().\n",
    "Model-based methods view the data as a mixture of groups sampled from different\n",
    "distributions, but whose original distribution and group membership has been “lost”\n",
    "(i.e., is unknown). These methods attempt to model the data such that the observed\n",
    "variance can be best represented by a small number of groups with specific distribution\n",
    "characteristics such as different means and standard deviations. \n",
    " - Mclust()\n",
    "models the data as a mixture of Gaussian (normal) variables, while poLCA() uses\n",
    "a latent class model with categorical (nominal) variables."
   ]
  },
  {
   "cell_type": "markdown",
   "metadata": {},
   "source": [
    "### 11.3.1 The Steps of Clustering"
   ]
  },
  {
   "cell_type": "markdown",
   "metadata": {},
   "source": [
    "Clustering analysis requires two stages: finding a proposed cluster solution and evaluating\n",
    "that solution for one’s business needs. For each method we go through the\n",
    "following steps:\n",
    " - Transform the data if needed for a particular clustering method; for instance,\n",
    "some methods require all numeric data (e.g., kmeans(), mclust()) or all\n",
    "categorical data (e.g., poLCA()).\n",
    " - Compute a distance matrix if needed; some methods require a precomputed\n",
    "matrix of similarity in order to group observations (e.g., hclust()) .\n",
    " - Apply the clustering method and save its result to an object. For some methods\n",
    "this requires specifying the number (K) of groups desired (e.g., kmeans(),\n",
    "poLCA()).\n",
    " - For some methods, further parse the object to obtain a solution with K groups\n",
    "(e.g., hclust()).\n",
    " - Examine the solution in the model object with regard to the underlying data,\n",
    "and consider whether it answers a business question.\n"
   ]
  },
  {
   "cell_type": "markdown",
   "metadata": {},
   "source": [
    "#### 11.3.1.1. A Quick Check Function"
   ]
  },
  {
   "cell_type": "markdown",
   "metadata": {},
   "source": [
    "A segment inspection function may be complex depending on the business need and\n",
    "might even include plotting as well as data summarization. For purposes here we use\n",
    "a simple function that reports the mean by group."
   ]
  },
  {
   "cell_type": "code",
   "execution_count": 6,
   "metadata": {},
   "outputs": [],
   "source": [
    "seg.summ = function(data, groups) {\n",
    "  aggregate(data, list(groups), function(x) mean(as.numeric(x)))\n",
    "}"
   ]
  },
  {
   "cell_type": "markdown",
   "metadata": {},
   "source": [
    "> This function first splits the data by reported group (aggregate(. . ., list\n",
    "(groups), . )). An anonymous function (function(x) . . . ) then converts\n",
    "all of a group’s data to numeric (as.numeric(x)) and computes its mean()."
   ]
  },
  {
   "cell_type": "markdown",
   "metadata": {},
   "source": [
    "With a summary function of this kind we are easily able to answer the following\n",
    "questions related to the business value of a proposed solution:\n",
    "- Are there obvious differences in group means?\n",
    "- Does the differentiation point to some underlying story to tell?\n",
    "- Do we see immediately odd results such as a mean equal to the value of one\n",
    "data level?"
   ]
  },
  {
   "cell_type": "code",
   "execution_count": 7,
   "metadata": {},
   "outputs": [
    {
     "data": {
      "text/html": [
       "<table>\n",
       "<thead><tr><th scope=col>Group.1</th><th scope=col>age</th><th scope=col>gender</th><th scope=col>income</th><th scope=col>kids</th><th scope=col>ownHome</th><th scope=col>subscribe</th></tr></thead>\n",
       "<tbody>\n",
       "\t<tr><td>Moving up </td><td>36.33114  </td><td>1.30      </td><td>53090.97  </td><td>1.914286  </td><td>1.328571  </td><td>1.200     </td></tr>\n",
       "\t<tr><td>Suburb mix</td><td>39.92815  </td><td>1.52      </td><td>55033.82  </td><td>1.920000  </td><td>1.480000  </td><td>1.060     </td></tr>\n",
       "\t<tr><td>Travelers </td><td>57.87088  </td><td>1.50      </td><td>62213.94  </td><td>0.000000  </td><td>1.750000  </td><td>1.125     </td></tr>\n",
       "\t<tr><td>Urban hip </td><td>23.88459  </td><td>1.60      </td><td>21681.93  </td><td>1.100000  </td><td>1.200000  </td><td>1.200     </td></tr>\n",
       "</tbody>\n",
       "</table>\n"
      ],
      "text/latex": [
       "\\begin{tabular}{r|lllllll}\n",
       " Group.1 & age & gender & income & kids & ownHome & subscribe\\\\\n",
       "\\hline\n",
       "\t Moving up  & 36.33114   & 1.30       & 53090.97   & 1.914286   & 1.328571   & 1.200     \\\\\n",
       "\t Suburb mix & 39.92815   & 1.52       & 55033.82   & 1.920000   & 1.480000   & 1.060     \\\\\n",
       "\t Travelers  & 57.87088   & 1.50       & 62213.94   & 0.000000   & 1.750000   & 1.125     \\\\\n",
       "\t Urban hip  & 23.88459   & 1.60       & 21681.93   & 1.100000   & 1.200000   & 1.200     \\\\\n",
       "\\end{tabular}\n"
      ],
      "text/markdown": [
       "\n",
       "Group.1 | age | gender | income | kids | ownHome | subscribe | \n",
       "|---|---|---|---|\n",
       "| Moving up  | 36.33114   | 1.30       | 53090.97   | 1.914286   | 1.328571   | 1.200      | \n",
       "| Suburb mix | 39.92815   | 1.52       | 55033.82   | 1.920000   | 1.480000   | 1.060      | \n",
       "| Travelers  | 57.87088   | 1.50       | 62213.94   | 0.000000   | 1.750000   | 1.125      | \n",
       "| Urban hip  | 23.88459   | 1.60       | 21681.93   | 1.100000   | 1.200000   | 1.200      | \n",
       "\n",
       "\n"
      ],
      "text/plain": [
       "  Group.1    age      gender income   kids     ownHome  subscribe\n",
       "1 Moving up  36.33114 1.30   53090.97 1.914286 1.328571 1.200    \n",
       "2 Suburb mix 39.92815 1.52   55033.82 1.920000 1.480000 1.060    \n",
       "3 Travelers  57.87088 1.50   62213.94 0.000000 1.750000 1.125    \n",
       "4 Urban hip  23.88459 1.60   21681.93 1.100000 1.200000 1.200    "
      ]
     },
     "metadata": {},
     "output_type": "display_data"
    }
   ],
   "source": [
    "seg.summ(seg.df, seg.raw$Segment)"
   ]
  },
  {
   "cell_type": "code",
   "execution_count": 15,
   "metadata": {},
   "outputs": [
    {
     "ename": "ERROR",
     "evalue": "Error in match.fun(FUN): 'seg.raw$Segment' is not a function, character or symbol\n",
     "output_type": "error",
     "traceback": [
      "Error in match.fun(FUN): 'seg.raw$Segment' is not a function, character or symbol\nTraceback:\n",
      "1. by(seg.df, lapply(seg.raw, seg.raw$Segment), mean)",
      "2. by.data.frame(seg.df, lapply(seg.raw, seg.raw$Segment), mean)",
      "3. lapply(seg.raw, seg.raw$Segment)",
      "4. match.fun(FUN)",
      "5. stop(gettextf(\"'%s' is not a function, character or symbol\", \n .     deparse(FUN)), domain = NA)"
     ]
    }
   ],
   "source": [
    "# Why not use a standard R function such as by() or aggregate()?\n",
    "# I dont know how i can use by().\n",
    "\n",
    "by(seg.df, lapply(seg.raw, seg.raw$Segment), mean)"
   ]
  },
  {
   "cell_type": "code",
   "execution_count": 22,
   "metadata": {},
   "outputs": [
    {
     "data": {
      "text/html": [
       "<table>\n",
       "<thead><tr><th scope=col>seg.raw$Segment</th><th scope=col>age</th><th scope=col>gender</th><th scope=col>income</th><th scope=col>kids</th><th scope=col>ownHome</th><th scope=col>subscribe</th></tr></thead>\n",
       "<tbody>\n",
       "\t<tr><td>Moving up </td><td>36.33114  </td><td>1.30      </td><td>53090.97  </td><td>1.914286  </td><td>1.328571  </td><td>1.200     </td></tr>\n",
       "\t<tr><td>Suburb mix</td><td>39.92815  </td><td>1.52      </td><td>55033.82  </td><td>1.920000  </td><td>1.480000  </td><td>1.060     </td></tr>\n",
       "\t<tr><td>Travelers </td><td>57.87088  </td><td>1.50      </td><td>62213.94  </td><td>0.000000  </td><td>1.750000  </td><td>1.125     </td></tr>\n",
       "\t<tr><td>Urban hip </td><td>23.88459  </td><td>1.60      </td><td>21681.93  </td><td>1.100000  </td><td>1.200000  </td><td>1.200     </td></tr>\n",
       "</tbody>\n",
       "</table>\n"
      ],
      "text/latex": [
       "\\begin{tabular}{r|lllllll}\n",
       " seg.raw\\$Segment & age & gender & income & kids & ownHome & subscribe\\\\\n",
       "\\hline\n",
       "\t Moving up  & 36.33114   & 1.30       & 53090.97   & 1.914286   & 1.328571   & 1.200     \\\\\n",
       "\t Suburb mix & 39.92815   & 1.52       & 55033.82   & 1.920000   & 1.480000   & 1.060     \\\\\n",
       "\t Travelers  & 57.87088   & 1.50       & 62213.94   & 0.000000   & 1.750000   & 1.125     \\\\\n",
       "\t Urban hip  & 23.88459   & 1.60       & 21681.93   & 1.100000   & 1.200000   & 1.200     \\\\\n",
       "\\end{tabular}\n"
      ],
      "text/markdown": [
       "\n",
       "seg.raw$Segment | age | gender | income | kids | ownHome | subscribe | \n",
       "|---|---|---|---|\n",
       "| Moving up  | 36.33114   | 1.30       | 53090.97   | 1.914286   | 1.328571   | 1.200      | \n",
       "| Suburb mix | 39.92815   | 1.52       | 55033.82   | 1.920000   | 1.480000   | 1.060      | \n",
       "| Travelers  | 57.87088   | 1.50       | 62213.94   | 0.000000   | 1.750000   | 1.125      | \n",
       "| Urban hip  | 23.88459   | 1.60       | 21681.93   | 1.100000   | 1.200000   | 1.200      | \n",
       "\n",
       "\n"
      ],
      "text/plain": [
       "  seg.raw$Segment age      gender income   kids     ownHome  subscribe\n",
       "1 Moving up       36.33114 1.30   53090.97 1.914286 1.328571 1.200    \n",
       "2 Suburb mix      39.92815 1.52   55033.82 1.920000 1.480000 1.060    \n",
       "3 Travelers       57.87088 1.50   62213.94 0.000000 1.750000 1.125    \n",
       "4 Urban hip       23.88459 1.60   21681.93 1.100000 1.200000 1.200    "
      ]
     },
     "metadata": {},
     "output_type": "display_data"
    }
   ],
   "source": [
    "# Why not use a standard R function such as by() or aggregate()?\n",
    "\n",
    "aggregate(.~ seg.raw$Segment, data = seg.df, FUN=mean)"
   ]
  },
  {
   "cell_type": "markdown",
   "metadata": {},
   "source": [
    "### 11.3.2 Hierarchical Clustering: hclust() Basics"
   ]
  },
  {
   "cell_type": "markdown",
   "metadata": {},
   "source": [
    "Hierarchical clustering is a popular method that groups observations according to\n",
    "their similarity. The hclust() method is one way to perform this analysis in R.\n",
    " - hclust() is a distance-based algorithm that operates on a ***dissimilarity *** matrix, an\n",
    "N-by-N matrix that reports a metric for the distance between each pair of observations.\n",
    "\n",
    "The hierarchical clustering method begins with each observation in its own cluster.\n",
    "It then successively joins neighboring observations or clusters one at a time according\n",
    "to their distances from one another, and continues this until all observations\n",
    "are linked. \n",
    "- This process of repeatedly joining observations and groups is known as\n",
    "an ***agglomerative*** method. Because it is both very popular and exemplary of other\n",
    "methods, we present hierarchical clustering in more detail than the other clustering\n",
    "algorithms.\n",
    "\n",
    "The primary information in hierarchical clustering is the distance between observations.\n",
    " - There are many ways to compute distance, and we start by examining the\n",
    "best-known method, the Euclidean distance. For two observations (vectors) X and\n",
    "Y, the Euclidean distance d is:\n",
    "\n",
    "<p style=\"text-align: center;\"> $d = \\sqrt{\\sum(X-Y)^2}$ </p>\n"
   ]
  },
  {
   "cell_type": "markdown",
   "metadata": {},
   "source": [
    "For single pairs of observations, such as X = {1,2,3} and Y = {2,3,2} we can\n",
    "compute the distance easily in R:"
   ]
  },
  {
   "cell_type": "code",
   "execution_count": 25,
   "metadata": {},
   "outputs": [
    {
     "data": {
      "text/html": [
       "<ol class=list-inline>\n",
       "\t<li>-1</li>\n",
       "\t<li>-1</li>\n",
       "\t<li>1</li>\n",
       "</ol>\n"
      ],
      "text/latex": [
       "\\begin{enumerate*}\n",
       "\\item -1\n",
       "\\item -1\n",
       "\\item 1\n",
       "\\end{enumerate*}\n"
      ],
      "text/markdown": [
       "1. -1\n",
       "2. -1\n",
       "3. 1\n",
       "\n",
       "\n"
      ],
      "text/plain": [
       "[1] -1 -1  1"
      ]
     },
     "metadata": {},
     "output_type": "display_data"
    },
    {
     "data": {
      "text/html": [
       "3"
      ],
      "text/latex": [
       "3"
      ],
      "text/markdown": [
       "3"
      ],
      "text/plain": [
       "[1] 3"
      ]
     },
     "metadata": {},
     "output_type": "display_data"
    },
    {
     "data": {
      "text/html": [
       "1.73205080756888"
      ],
      "text/latex": [
       "1.73205080756888"
      ],
      "text/markdown": [
       "1.73205080756888"
      ],
      "text/plain": [
       "[1] 1.732051"
      ]
     },
     "metadata": {},
     "output_type": "display_data"
    }
   ],
   "source": [
    "c(1,2,3) - c(2,3,2)                  # vector of differences\n",
    "sum((c(1,2,3) - c(2,3,2))^2)         # the sum of squared differences\n",
    "sqrt(sum((c(1,2,3) - c(2,3,2))^2))   # root sum of squares"
   ]
  },
  {
   "cell_type": "markdown",
   "metadata": {},
   "source": [
    "When there are many pairs, this can be done with the dist() function. Let’s check\n",
    "it first for the simple X,Y example, using rbind() to group these vectors as observations\n",
    "(rows):"
   ]
  },
  {
   "cell_type": "code",
   "execution_count": 26,
   "metadata": {},
   "outputs": [
    {
     "data": {
      "text/plain": [
       "         1\n",
       "2 1.732051"
      ]
     },
     "metadata": {},
     "output_type": "display_data"
    }
   ],
   "source": [
    "dist(rbind(c(1,2,3), c(2,3,2)))"
   ]
  },
  {
   "cell_type": "markdown",
   "metadata": {},
   "source": [
    "> The row and column labels tell us that dist() is returning a matrix for observation\n",
    "1 (column) by observation 2 (row)."
   ]
  },
  {
   "cell_type": "code",
   "execution_count": 28,
   "metadata": {},
   "outputs": [
    {
     "data": {
      "text/plain": [
       "         1        2\n",
       "2 1.414214         \n",
       "3 2.000000 1.414214"
      ]
     },
     "metadata": {},
     "output_type": "display_data"
    }
   ],
   "source": [
    "#if cbind()?\n",
    "dist(cbind(c(1,2,3), c(2,3,2)))"
   ]
  },
  {
   "cell_type": "markdown",
   "metadata": {},
   "source": [
    "A limitation is that Euclidean distance is only defined when observations are numeric If we did\n",
    "not care about the factor variables, then we could compute Euclidean distance using\n",
    "only the numeric columns.\n",
    "- For example, we can select the three numeric columns in seg.df, calculate the distances,\n",
    "and then look at a matrix for just the first five observations as follows:"
   ]
  },
  {
   "cell_type": "code",
   "execution_count": 29,
   "metadata": {},
   "outputs": [
    {
     "data": {
      "text/html": [
       "<table>\n",
       "<thead><tr><th></th><th scope=col>1</th><th scope=col>2</th><th scope=col>3</th><th scope=col>4</th><th scope=col>5</th></tr></thead>\n",
       "<tbody>\n",
       "\t<tr><th scope=row>1</th><td>    0.000</td><td>13936.531</td><td> 5313.626</td><td>31559.178</td><td>29870.205</td></tr>\n",
       "\t<tr><th scope=row>2</th><td>13936.531</td><td>    0.000</td><td> 8622.906</td><td>45495.698</td><td>43806.727</td></tr>\n",
       "\t<tr><th scope=row>3</th><td> 5313.626</td><td> 8622.906</td><td>    0.000</td><td>36872.800</td><td>35183.828</td></tr>\n",
       "\t<tr><th scope=row>4</th><td>31559.178</td><td>45495.698</td><td>36872.800</td><td>    0.000</td><td> 1688.977</td></tr>\n",
       "\t<tr><th scope=row>5</th><td>29870.205</td><td>43806.727</td><td>35183.828</td><td> 1688.977</td><td>    0.000</td></tr>\n",
       "</tbody>\n",
       "</table>\n"
      ],
      "text/latex": [
       "\\begin{tabular}{r|lllll}\n",
       "  & 1 & 2 & 3 & 4 & 5\\\\\n",
       "\\hline\n",
       "\t1 &     0.000 & 13936.531 &  5313.626 & 31559.178 & 29870.205\\\\\n",
       "\t2 & 13936.531 &     0.000 &  8622.906 & 45495.698 & 43806.727\\\\\n",
       "\t3 &  5313.626 &  8622.906 &     0.000 & 36872.800 & 35183.828\\\\\n",
       "\t4 & 31559.178 & 45495.698 & 36872.800 &     0.000 &  1688.977\\\\\n",
       "\t5 & 29870.205 & 43806.727 & 35183.828 &  1688.977 &     0.000\\\\\n",
       "\\end{tabular}\n"
      ],
      "text/markdown": [
       "\n",
       "| <!--/--> | 1 | 2 | 3 | 4 | 5 | \n",
       "|---|---|---|---|---|\n",
       "| 1 |     0.000 | 13936.531 |  5313.626 | 31559.178 | 29870.205 | \n",
       "| 2 | 13936.531 |     0.000 |  8622.906 | 45495.698 | 43806.727 | \n",
       "| 3 |  5313.626 |  8622.906 |     0.000 | 36872.800 | 35183.828 | \n",
       "| 4 | 31559.178 | 45495.698 | 36872.800 |     0.000 |  1688.977 | \n",
       "| 5 | 29870.205 | 43806.727 | 35183.828 |  1688.977 |     0.000 | \n",
       "\n",
       "\n"
      ],
      "text/plain": [
       "  1         2         3         4         5        \n",
       "1     0.000 13936.531  5313.626 31559.178 29870.205\n",
       "2 13936.531     0.000  8622.906 45495.698 43806.727\n",
       "3  5313.626  8622.906     0.000 36872.800 35183.828\n",
       "4 31559.178 45495.698 36872.800     0.000  1688.977\n",
       "5 29870.205 43806.727 35183.828  1688.977     0.000"
      ]
     },
     "metadata": {},
     "output_type": "display_data"
    }
   ],
   "source": [
    "d = dist(seg.df[, c(\"age\", \"income\", \"kids\")])\n",
    "as.matrix(d)[1:5, 1:5]"
   ]
  },
  {
   "cell_type": "markdown",
   "metadata": {},
   "source": [
    "For seg.df we cannot assume that factor variables are irrelevant to our cluster\n",
    "definitions; ***it is better to use all the data. ***\n",
    "- The daisy() function in the cluster\n",
    "package [108] works with mixed data types by rescaling the values, so we use that\n",
    "instead of Euclidean distance:"
   ]
  },
  {
   "cell_type": "code",
   "execution_count": 36,
   "metadata": {},
   "outputs": [],
   "source": [
    "library(cluster)            # daisy works with mixed data types"
   ]
  },
  {
   "cell_type": "code",
   "execution_count": 38,
   "metadata": {},
   "outputs": [
    {
     "data": {
      "text/html": [
       "<table>\n",
       "<thead><tr><th></th><th scope=col>1</th><th scope=col>2</th><th scope=col>3</th><th scope=col>4</th><th scope=col>5</th></tr></thead>\n",
       "<tbody>\n",
       "\t<tr><th scope=row>1</th><td>0.0000000</td><td>0.2532815</td><td>0.2329028</td><td>0.2617250</td><td>0.4161338</td></tr>\n",
       "\t<tr><th scope=row>2</th><td>0.2532815</td><td>0.0000000</td><td>0.0679978</td><td>0.4129493</td><td>0.3014468</td></tr>\n",
       "\t<tr><th scope=row>3</th><td>0.2329028</td><td>0.0679978</td><td>0.0000000</td><td>0.4246012</td><td>0.2932957</td></tr>\n",
       "\t<tr><th scope=row>4</th><td>0.2617250</td><td>0.4129493</td><td>0.4246012</td><td>0.0000000</td><td>0.2265436</td></tr>\n",
       "\t<tr><th scope=row>5</th><td>0.4161338</td><td>0.3014468</td><td>0.2932957</td><td>0.2265436</td><td>0.0000000</td></tr>\n",
       "</tbody>\n",
       "</table>\n"
      ],
      "text/latex": [
       "\\begin{tabular}{r|lllll}\n",
       "  & 1 & 2 & 3 & 4 & 5\\\\\n",
       "\\hline\n",
       "\t1 & 0.0000000 & 0.2532815 & 0.2329028 & 0.2617250 & 0.4161338\\\\\n",
       "\t2 & 0.2532815 & 0.0000000 & 0.0679978 & 0.4129493 & 0.3014468\\\\\n",
       "\t3 & 0.2329028 & 0.0679978 & 0.0000000 & 0.4246012 & 0.2932957\\\\\n",
       "\t4 & 0.2617250 & 0.4129493 & 0.4246012 & 0.0000000 & 0.2265436\\\\\n",
       "\t5 & 0.4161338 & 0.3014468 & 0.2932957 & 0.2265436 & 0.0000000\\\\\n",
       "\\end{tabular}\n"
      ],
      "text/markdown": [
       "\n",
       "| <!--/--> | 1 | 2 | 3 | 4 | 5 | \n",
       "|---|---|---|---|---|\n",
       "| 1 | 0.0000000 | 0.2532815 | 0.2329028 | 0.2617250 | 0.4161338 | \n",
       "| 2 | 0.2532815 | 0.0000000 | 0.0679978 | 0.4129493 | 0.3014468 | \n",
       "| 3 | 0.2329028 | 0.0679978 | 0.0000000 | 0.4246012 | 0.2932957 | \n",
       "| 4 | 0.2617250 | 0.4129493 | 0.4246012 | 0.0000000 | 0.2265436 | \n",
       "| 5 | 0.4161338 | 0.3014468 | 0.2932957 | 0.2265436 | 0.0000000 | \n",
       "\n",
       "\n"
      ],
      "text/plain": [
       "  1         2         3         4         5        \n",
       "1 0.0000000 0.2532815 0.2329028 0.2617250 0.4161338\n",
       "2 0.2532815 0.0000000 0.0679978 0.4129493 0.3014468\n",
       "3 0.2329028 0.0679978 0.0000000 0.4246012 0.2932957\n",
       "4 0.2617250 0.4129493 0.4246012 0.0000000 0.2265436\n",
       "5 0.4161338 0.3014468 0.2932957 0.2265436 0.0000000"
      ]
     },
     "metadata": {},
     "output_type": "display_data"
    }
   ],
   "source": [
    "seg.dist = daisy(seg.df)\n",
    "as.matrix(seg.dist)[1:5, 1:5]"
   ]
  },
  {
   "cell_type": "markdown",
   "metadata": {},
   "source": [
    "> We inspect the distances computed by daisy() by coercing the resulting object to\n",
    "a matrix and selecting the first few rows and columns:\n",
    " - The distances look reasonable (zeroes on the diagonal, symmetric, scaled [0, 1]) "
   ]
  },
  {
   "cell_type": "markdown",
   "metadata": {},
   "source": [
    "So\n",
    "we proceed to the hierarchical cluster method itself, invoking hclust() on the\n",
    "dissimilarity matrix:"
   ]
  },
  {
   "cell_type": "code",
   "execution_count": 43,
   "metadata": {},
   "outputs": [
    {
     "data": {
      "image/png": "[encoded data removed]",
      "text/plain": [
       "Plot with title \"Cluster Dendrogram\""
      ]
     },
     "metadata": {},
     "output_type": "display_data"
    }
   ],
   "source": [
    "seg.hc = hclust(seg.dist, method=\"complete\")\n",
    "plot(seg.hc)"
   ]
  },
  {
   "cell_type": "markdown",
   "metadata": {},
   "source": [
    "We use the complete linkage method, which evaluates the distance between every\n",
    "member when combining observations and groups.\n",
    "- The resulting tree for all N = 300 observations of seg.df is shown in\n",
    "Fig. 11.1.\n",
    "\n",
    "A hierarchical dendrogram is interpreted primarily by height and where observations\n",
    "are joined. The height represents the dissimilarity between elements that are\n",
    "joined.\n",
    "- At the lowest level of the tree in Fig. 11.1 we see that elements are combined\n",
    "into small groups of 2–10 that are relatively similar, and then those groups are\n",
    "successively combined with less similar groups moving up the tree.\n",
    "- The horizontal\n",
    "ordering of branches is not important; branches could exchange places with no\n",
    "change in interpretation."
   ]
  },
  {
   "cell_type": "markdown",
   "metadata": {},
   "source": [
    "Figure 11.1 is difficult to read, so it is helpful to zoom in on one section of the chart.\n",
    "- We can cut it at a specified location and plot just one branch as follows.We coerce it\n",
    "to a dendrogram object (as.dendrogram(. . . )), cut it at a certain height (h=. . . ),\n",
    "and select the resulting branch that we want (. . . $lower[[1]])."
   ]
  },
  {
   "cell_type": "code",
   "execution_count": 45,
   "metadata": {},
   "outputs": [
    {
     "data": {
      "image/png": "[encoded data removed]",
      "text/plain": [
       "plot without title"
      ]
     },
     "metadata": {},
     "output_type": "display_data"
    }
   ],
   "source": [
    "plot(cut(as.dendrogram(seg.hc), h=0.5)$lower[[1]])"
   ]
  },
  {
   "cell_type": "markdown",
   "metadata": {},
   "source": [
    "> The result is shown in Fig. 11.2, where we are now able to read the observation labels\n",
    "(which defaults to the row names—usually the row numbers—of observations\n",
    "in the data frame). Each node at the bottom represents one customer, and the brackets\n",
    "show how each has been grouped progressively with other customers.\n",
    "- We can check the similarity of observations by selecting a few rows listed in\n",
    "Fig. 11.2. Observations 101 and 107 are represented as being quite similar because\n",
    "they are linked at a very low height, as are observations 278 and 294. On the other\n",
    "hand, observations 173 and 141 are only joined at the highest level of this branch\n",
    "and thus should be relatively dissimilar."
   ]
  },
  {
   "cell_type": "code",
   "execution_count": 56,
   "metadata": {},
   "outputs": [
    {
     "data": {
      "text/html": [
       "<table>\n",
       "<thead><tr><th></th><th scope=col>age</th><th scope=col>gender</th><th scope=col>income</th><th scope=col>kids</th><th scope=col>ownHome</th><th scope=col>subscribe</th></tr></thead>\n",
       "<tbody>\n",
       "\t<tr><th scope=row>101</th><td>24.73796</td><td>Male    </td><td>18457.85</td><td>1       </td><td>ownNo   </td><td>subYes  </td></tr>\n",
       "\t<tr><th scope=row>107</th><td>23.19013</td><td>Male    </td><td>17510.28</td><td>1       </td><td>ownNo   </td><td>subYes  </td></tr>\n",
       "</tbody>\n",
       "</table>\n"
      ],
      "text/latex": [
       "\\begin{tabular}{r|llllll}\n",
       "  & age & gender & income & kids & ownHome & subscribe\\\\\n",
       "\\hline\n",
       "\t101 & 24.73796 & Male     & 18457.85 & 1        & ownNo    & subYes  \\\\\n",
       "\t107 & 23.19013 & Male     & 17510.28 & 1        & ownNo    & subYes  \\\\\n",
       "\\end{tabular}\n"
      ],
      "text/markdown": [
       "\n",
       "| <!--/--> | age | gender | income | kids | ownHome | subscribe | \n",
       "|---|---|\n",
       "| 101 | 24.73796 | Male     | 18457.85 | 1        | ownNo    | subYes   | \n",
       "| 107 | 23.19013 | Male     | 17510.28 | 1        | ownNo    | subYes   | \n",
       "\n",
       "\n"
      ],
      "text/plain": [
       "    age      gender income   kids ownHome subscribe\n",
       "101 24.73796 Male   18457.85 1    ownNo   subYes   \n",
       "107 23.19013 Male   17510.28 1    ownNo   subYes   "
      ]
     },
     "metadata": {},
     "output_type": "display_data"
    },
    {
     "data": {
      "text/html": [
       "<table>\n",
       "<thead><tr><th></th><th scope=col>age</th><th scope=col>gender</th><th scope=col>income</th><th scope=col>kids</th><th scope=col>ownHome</th><th scope=col>subscribe</th></tr></thead>\n",
       "<tbody>\n",
       "\t<tr><th scope=row>278</th><td>36.23860</td><td>Female  </td><td>46540.88</td><td>1       </td><td>ownNo   </td><td>subYes  </td></tr>\n",
       "\t<tr><th scope=row>294</th><td>35.79961</td><td>Female  </td><td>52352.69</td><td>1       </td><td>ownNo   </td><td>subYes  </td></tr>\n",
       "</tbody>\n",
       "</table>\n"
      ],
      "text/latex": [
       "\\begin{tabular}{r|llllll}\n",
       "  & age & gender & income & kids & ownHome & subscribe\\\\\n",
       "\\hline\n",
       "\t278 & 36.23860 & Female   & 46540.88 & 1        & ownNo    & subYes  \\\\\n",
       "\t294 & 35.79961 & Female   & 52352.69 & 1        & ownNo    & subYes  \\\\\n",
       "\\end{tabular}\n"
      ],
      "text/markdown": [
       "\n",
       "| <!--/--> | age | gender | income | kids | ownHome | subscribe | \n",
       "|---|---|\n",
       "| 278 | 36.23860 | Female   | 46540.88 | 1        | ownNo    | subYes   | \n",
       "| 294 | 35.79961 | Female   | 52352.69 | 1        | ownNo    | subYes   | \n",
       "\n",
       "\n"
      ],
      "text/plain": [
       "    age      gender income   kids ownHome subscribe\n",
       "278 36.23860 Female 46540.88 1    ownNo   subYes   \n",
       "294 35.79961 Female 52352.69 1    ownNo   subYes   "
      ]
     },
     "metadata": {},
     "output_type": "display_data"
    },
    {
     "data": {
      "text/html": [
       "<table>\n",
       "<thead><tr><th></th><th scope=col>age</th><th scope=col>gender</th><th scope=col>income</th><th scope=col>kids</th><th scope=col>ownHome</th><th scope=col>subscribe</th></tr></thead>\n",
       "<tbody>\n",
       "\t<tr><th scope=row>173</th><td>64.70641</td><td>Male    </td><td>45517.15</td><td>0       </td><td>ownNo   </td><td>subYes  </td></tr>\n",
       "\t<tr><th scope=row>141</th><td>25.17703</td><td>Female  </td><td>20125.80</td><td>2       </td><td>ownNo   </td><td>subYes  </td></tr>\n",
       "</tbody>\n",
       "</table>\n"
      ],
      "text/latex": [
       "\\begin{tabular}{r|llllll}\n",
       "  & age & gender & income & kids & ownHome & subscribe\\\\\n",
       "\\hline\n",
       "\t173 & 64.70641 & Male     & 45517.15 & 0        & ownNo    & subYes  \\\\\n",
       "\t141 & 25.17703 & Female   & 20125.80 & 2        & ownNo    & subYes  \\\\\n",
       "\\end{tabular}\n"
      ],
      "text/markdown": [
       "\n",
       "| <!--/--> | age | gender | income | kids | ownHome | subscribe | \n",
       "|---|---|\n",
       "| 173 | 64.70641 | Male     | 45517.15 | 0        | ownNo    | subYes   | \n",
       "| 141 | 25.17703 | Female   | 20125.80 | 2        | ownNo    | subYes   | \n",
       "\n",
       "\n"
      ],
      "text/plain": [
       "    age      gender income   kids ownHome subscribe\n",
       "173 64.70641 Male   45517.15 0    ownNo   subYes   \n",
       "141 25.17703 Female 20125.80 2    ownNo   subYes   "
      ]
     },
     "metadata": {},
     "output_type": "display_data"
    }
   ],
   "source": [
    "seg.df[c(101, 107), ]                # similar\n",
    "seg.df[c(278, 294), ]                # similar\n",
    "seg.df[c(173, 141), ]                # less similar"
   ]
  },
  {
   "cell_type": "markdown",
   "metadata": {},
   "source": [
    ">The first two sets—observations that are neighbors in the dendrogram—are similar\n",
    "on all variables (age, gender, income, etc.). The third set—observations taken from\n",
    "widely separated branches—differs substantially on the first four variables."
   ]
  },
  {
   "cell_type": "markdown",
   "metadata": {},
   "source": [
    "Finally, we might check one of the goodness-of-fit metrics for a hierarchical cluster\n",
    "solution. \n",
    " - One method is the cophenetic correlation coefficient (CPCC), which\n",
    "assesses how well a dendrogram (in this case seg.hc) matches the true distance\n",
    "metric (seg.dist) [145]. We use cophenetic() to get the distances from the\n",
    "dendrogram, and compare it to the dist() metrics with cor():"
   ]
  },
  {
   "cell_type": "code",
   "execution_count": 58,
   "metadata": {},
   "outputs": [
    {
     "data": {
      "text/html": [
       "0.768243613231283"
      ],
      "text/latex": [
       "0.768243613231283"
      ],
      "text/markdown": [
       "0.768243613231283"
      ],
      "text/plain": [
       "[1] 0.7682436"
      ]
     },
     "metadata": {},
     "output_type": "display_data"
    }
   ],
   "source": [
    "cor(cophenetic(seg.hc), seg.dist)"
   ]
  },
  {
   "cell_type": "markdown",
   "metadata": {},
   "source": [
    "> CPCC is interpreted similarly to Pearson’s r. In this case, CPCC > 0.7 indicates\n",
    "a relatively strong fit, meaning that the hierarchical tree represents the distances\n",
    "between customers well."
   ]
  },
  {
   "cell_type": "markdown",
   "metadata": {},
   "source": [
    "### 11.3.3 Hierarchical Clustering Continued: Groups from hclust()"
   ]
  },
  {
   "cell_type": "markdown",
   "metadata": {},
   "source": [
    "How do we get specific segment assignments? A dendrogram can be cut into clusters\n",
    "at any height desired, resulting in different numbers of groups. \n",
    " - For instance, if\n",
    "Fig. 11.1 is cut at a height of 0.7, there are K = 2 groups (draw a horizontal line at\n",
    "0.7 and count how many branches it intersects; each cluster below is a group), while\n",
    "cutting at height of 0.4 defines K = 7 groups."
   ]
  },
  {
   "cell_type": "markdown",
   "metadata": {},
   "source": [
    "We can see where the dendrogram would be cut by overlaying\n",
    "its plot() with rect.hclust(), specifying the number of groups we want\n",
    "(k=. . . ):"
   ]
  },
  {
   "cell_type": "code",
   "execution_count": 60,
   "metadata": {},
   "outputs": [
    {
     "data": {
      "image/png": "[encoded data removed]",
      "text/plain": [
       "Plot with title \"Cluster Dendrogram\""
      ]
     },
     "metadata": {},
     "output_type": "display_data"
    }
   ],
   "source": [
    "plot(seg.hc)\n",
    "rect.hclust(seg.hc, k=4, border=\"red\")"
   ]
  },
  {
   "cell_type": "markdown",
   "metadata": {},
   "source": [
    "> Fig. 11.3. The result of cutting Fig. 11.1 into K = 4 groups."
   ]
  },
  {
   "cell_type": "markdown",
   "metadata": {},
   "source": [
    "We obtain the assignment vector for observations using cutree():"
   ]
  },
  {
   "cell_type": "code",
   "execution_count": 62,
   "metadata": {},
   "outputs": [
    {
     "data": {
      "text/plain": [
       "seg.hc.segment\n",
       "  1   2   3   4 \n",
       "124 136  18  22 "
      ]
     },
     "metadata": {},
     "output_type": "display_data"
    }
   ],
   "source": [
    "seg.hc.segment = cutree(seg.hc, k=4)     # membership vector for 4 groups\n",
    "table(seg.hc.segment)"
   ]
  },
  {
   "cell_type": "markdown",
   "metadata": {},
   "source": [
    ">We see that groups 1 and 2 dominate the assignment. Note that the class labels\n",
    "(1, 2, 3, 4) are in arbitrary order and are not meaningful in themselves.\n",
    "seg.hc.segment is the vector of group assignments."
   ]
  },
  {
   "cell_type": "markdown",
   "metadata": {},
   "source": [
    "We use our custom summary function seg.summ(), defined above, to inspect the\n",
    "variables in seg.df with reference to the four clusters:"
   ]
  },
  {
   "cell_type": "code",
   "execution_count": 63,
   "metadata": {},
   "outputs": [
    {
     "data": {
      "text/html": [
       "<table>\n",
       "<thead><tr><th scope=col>Group.1</th><th scope=col>age</th><th scope=col>gender</th><th scope=col>income</th><th scope=col>kids</th><th scope=col>ownHome</th><th scope=col>subscribe</th></tr></thead>\n",
       "<tbody>\n",
       "\t<tr><td>1       </td><td>40.78456</td><td>2.000000</td><td>49454.08</td><td>1.314516</td><td>1.467742</td><td>1       </td></tr>\n",
       "\t<tr><td>2       </td><td>42.03492</td><td>1.000000</td><td>53759.62</td><td>1.235294</td><td>1.477941</td><td>1       </td></tr>\n",
       "\t<tr><td>3       </td><td>44.31194</td><td>1.388889</td><td>52628.42</td><td>1.388889</td><td>2.000000</td><td>2       </td></tr>\n",
       "\t<tr><td>4       </td><td>35.82935</td><td>1.545455</td><td>40456.14</td><td>1.136364</td><td>1.000000</td><td>2       </td></tr>\n",
       "</tbody>\n",
       "</table>\n"
      ],
      "text/latex": [
       "\\begin{tabular}{r|lllllll}\n",
       " Group.1 & age & gender & income & kids & ownHome & subscribe\\\\\n",
       "\\hline\n",
       "\t 1        & 40.78456 & 2.000000 & 49454.08 & 1.314516 & 1.467742 & 1       \\\\\n",
       "\t 2        & 42.03492 & 1.000000 & 53759.62 & 1.235294 & 1.477941 & 1       \\\\\n",
       "\t 3        & 44.31194 & 1.388889 & 52628.42 & 1.388889 & 2.000000 & 2       \\\\\n",
       "\t 4        & 35.82935 & 1.545455 & 40456.14 & 1.136364 & 1.000000 & 2       \\\\\n",
       "\\end{tabular}\n"
      ],
      "text/markdown": [
       "\n",
       "Group.1 | age | gender | income | kids | ownHome | subscribe | \n",
       "|---|---|---|---|\n",
       "| 1        | 40.78456 | 2.000000 | 49454.08 | 1.314516 | 1.467742 | 1        | \n",
       "| 2        | 42.03492 | 1.000000 | 53759.62 | 1.235294 | 1.477941 | 1        | \n",
       "| 3        | 44.31194 | 1.388889 | 52628.42 | 1.388889 | 2.000000 | 2        | \n",
       "| 4        | 35.82935 | 1.545455 | 40456.14 | 1.136364 | 1.000000 | 2        | \n",
       "\n",
       "\n"
      ],
      "text/plain": [
       "  Group.1 age      gender   income   kids     ownHome  subscribe\n",
       "1 1       40.78456 2.000000 49454.08 1.314516 1.467742 1        \n",
       "2 2       42.03492 1.000000 53759.62 1.235294 1.477941 1        \n",
       "3 3       44.31194 1.388889 52628.42 1.388889 2.000000 2        \n",
       "4 4       35.82935 1.545455 40456.14 1.136364 1.000000 2        "
      ]
     },
     "metadata": {},
     "output_type": "display_data"
    }
   ],
   "source": [
    "seg.summ(seg.df, seg.hc.segment)"
   ]
  },
  {
   "cell_type": "markdown",
   "metadata": {},
   "source": [
    "> We see that groups 1 and 2 are distinct from 3 and 4 due to subscription status.\n",
    "- Among those who do not subscribe, group 1 is all male (gender=2 as in\n",
    "levels(seg.df$gender)) while group 1 is all female. \n",
    "- Subscribers are differentiated\n",
    "into those who own a home (group 3) or not (group 4)."
   ]
  },
  {
   "cell_type": "markdown",
   "metadata": {},
   "source": [
    "We confirm this with a quick plot of gender by subscribe with all of the observations\n",
    "colored by segment membership. To do this, we use a trick: \n",
    "- we convert the\n",
    "factor variables to numeric, and call the jitter() function to add a bit of noise\n",
    "and prevent all the cases from being plotted at the same positions (namely at exactly\n",
    "four points: (1,1), (1,2), (2,1), and (2,2)). \n",
    "- We color the points by segment with\n",
    "col=seg.hc.segment, and label the axes with more meaningful labels:"
   ]
  },
  {
   "cell_type": "code",
   "execution_count": 65,
   "metadata": {},
   "outputs": [
    {
     "data": {
      "image/png": "[encoded data removed]",
      "text/plain": [
       "plot without title"
      ]
     },
     "metadata": {},
     "output_type": "display_data"
    }
   ],
   "source": [
    "plot(jitter(as.numeric(seg.df$gender))~ jitter(as.numeric(seg.df$subscribe)), \n",
    "     col = seg.hc.segment, yaxt='n', xaxt='n', ylab='', xlab='')\n",
    "axis(1, at=c(1,2), labels=c('Subscribe:No', 'Subscribe:Yes'))\n",
    "axis(2, at=c(1,2), labels=levels(seg.df$gender))"
   ]
  },
  {
   "cell_type": "markdown",
   "metadata": {},
   "source": [
    "> Fig. 11.4. Plotting the 4-segment solution from hclust() by gender and subscription status,\n",
    "with color representing segment membership. We see the uninteresting result that nonsubscribers\n",
    "are simply divided into two segments purely on the basis of gender."
   ]
  },
  {
   "cell_type": "markdown",
   "metadata": {},
   "source": [
    "Why did hclust() find a result that is so uninteresting? That may be answered\n",
    "in several ways. \n",
    " - For one thing, machine learning techniques often take the path of\n",
    "least resistance and serve up obvious results. In this specific case, the scaling in\n",
    "daisy() rescales variables to [0,1] and this will make two-category factors (gender,\n",
    "subscription status, home ownership) more influential. \n",
    " - Overall, this demonstrates\n",
    "why you should expect to try several methods and iterate in order to find\n",
    "something useful."
   ]
  },
  {
   "cell_type": "markdown",
   "metadata": {},
   "source": [
    "### 11.3.4 Mean-Based Clustering: kmeans()"
   ]
  },
  {
   "cell_type": "markdown",
   "metadata": {},
   "source": [
    "K-means clustering attempts to find groups that are most compact, in terms of the\n",
    "mean sum-of-squares deviation of each observation from the multivariate center\n",
    "(centroid) of its assigned group. Like hierarchical clustering, k-means is a very popular\n",
    "approach.\n",
    "- Because it explicitly computes a mean deviation, k-means clustering relies on Euclidean\n",
    "distance. Thus it is only appropriate for numeric data or data that can be\n",
    "reasonably coerced to numeric.\n",
    "- In our seg.df data, we have a mix of numeric\n",
    "and binary factors. Unlike higher-order categorical variables, binary factors can be\n",
    "coerced to numeric with no alteration of meaning."
   ]
  },
  {
   "cell_type": "markdown",
   "metadata": {},
   "source": [
    "Although it is not optimal to cluster binary values with k-means, given that we have\n",
    "a mixture of binary and numeric data, we might attempt it. \n",
    " - Our first step is to create\n",
    "a variant of seg.df that is recoded to numeric. We make a copy of seg.df and\n",
    "use ifelse() to recode the binary factors:"
   ]
  },
  {
   "cell_type": "code",
   "execution_count": 67,
   "metadata": {},
   "outputs": [
    {
     "data": {
      "text/plain": [
       "      age            gender           income            kids     \n",
       " Min.   :19.26   Min.   :0.0000   Min.   : -5183   Min.   :0.00  \n",
       " 1st Qu.:33.01   1st Qu.:0.0000   1st Qu.: 39656   1st Qu.:0.00  \n",
       " Median :39.49   Median :1.0000   Median : 52014   Median :1.00  \n",
       " Mean   :41.20   Mean   :0.5233   Mean   : 50937   Mean   :1.27  \n",
       " 3rd Qu.:47.90   3rd Qu.:1.0000   3rd Qu.: 61403   3rd Qu.:2.00  \n",
       " Max.   :80.49   Max.   :1.0000   Max.   :114278   Max.   :7.00  \n",
       "    ownHome       subscribe     \n",
       " Min.   :0.00   Min.   :0.0000  \n",
       " 1st Qu.:0.00   1st Qu.:0.0000  \n",
       " Median :0.00   Median :0.0000  \n",
       " Mean   :0.47   Mean   :0.1333  \n",
       " 3rd Qu.:1.00   3rd Qu.:0.0000  \n",
       " Max.   :1.00   Max.   :1.0000  "
      ]
     },
     "metadata": {},
     "output_type": "display_data"
    }
   ],
   "source": [
    "seg.df.num = seg.df\n",
    "seg.df.num$gender    = ifelse(seg.df$gender    == 'Male',  0, 1)\n",
    "seg.df.num$ownHome   = ifelse(seg.df$ownHome   == 'ownNo', 0, 1)\n",
    "seg.df.num$subscribe = ifelse(seg.df$subscribe == 'subNo', 0, 1)\n",
    "summary(seg.df.num)\n",
    "\n",
    "# There are several ways to recode data, but ifelse() is simple and explicit "
   ]
  },
  {
   "cell_type": "markdown",
   "metadata": {},
   "source": [
    "We now run the kmeans() algorithm, which specifically requires specifying the\n",
    "number of clusters to find. We ask for four clusters with centers=4:"
   ]
  },
  {
   "cell_type": "code",
   "execution_count": 69,
   "metadata": {},
   "outputs": [
    {
     "data": {
      "text/html": [
       "<table>\n",
       "<thead><tr><th scope=col>Group.1</th><th scope=col>age</th><th scope=col>gender</th><th scope=col>income</th><th scope=col>kids</th><th scope=col>ownHome</th><th scope=col>subscribe</th></tr></thead>\n",
       "<tbody>\n",
       "\t<tr><td>1        </td><td>56.37245 </td><td>1.428571 </td><td>92287.07 </td><td>0.4285714</td><td>1.857143 </td><td>1.142857 </td></tr>\n",
       "\t<tr><td>2        </td><td>29.58704 </td><td>1.571429 </td><td>21631.79 </td><td>1.0634921</td><td>1.301587 </td><td>1.158730 </td></tr>\n",
       "\t<tr><td>3        </td><td>44.42051 </td><td>1.452632 </td><td>64703.76 </td><td>1.2947368</td><td>1.421053 </td><td>1.073684 </td></tr>\n",
       "\t<tr><td>4        </td><td>42.08381 </td><td>1.454545 </td><td>48208.86 </td><td>1.5041322</td><td>1.528926 </td><td>1.165289 </td></tr>\n",
       "</tbody>\n",
       "</table>\n"
      ],
      "text/latex": [
       "\\begin{tabular}{r|lllllll}\n",
       " Group.1 & age & gender & income & kids & ownHome & subscribe\\\\\n",
       "\\hline\n",
       "\t 1         & 56.37245  & 1.428571  & 92287.07  & 0.4285714 & 1.857143  & 1.142857 \\\\\n",
       "\t 2         & 29.58704  & 1.571429  & 21631.79  & 1.0634921 & 1.301587  & 1.158730 \\\\\n",
       "\t 3         & 44.42051  & 1.452632  & 64703.76  & 1.2947368 & 1.421053  & 1.073684 \\\\\n",
       "\t 4         & 42.08381  & 1.454545  & 48208.86  & 1.5041322 & 1.528926  & 1.165289 \\\\\n",
       "\\end{tabular}\n"
      ],
      "text/markdown": [
       "\n",
       "Group.1 | age | gender | income | kids | ownHome | subscribe | \n",
       "|---|---|---|---|\n",
       "| 1         | 56.37245  | 1.428571  | 92287.07  | 0.4285714 | 1.857143  | 1.142857  | \n",
       "| 2         | 29.58704  | 1.571429  | 21631.79  | 1.0634921 | 1.301587  | 1.158730  | \n",
       "| 3         | 44.42051  | 1.452632  | 64703.76  | 1.2947368 | 1.421053  | 1.073684  | \n",
       "| 4         | 42.08381  | 1.454545  | 48208.86  | 1.5041322 | 1.528926  | 1.165289  | \n",
       "\n",
       "\n"
      ],
      "text/plain": [
       "  Group.1 age      gender   income   kids      ownHome  subscribe\n",
       "1 1       56.37245 1.428571 92287.07 0.4285714 1.857143 1.142857 \n",
       "2 2       29.58704 1.571429 21631.79 1.0634921 1.301587 1.158730 \n",
       "3 3       44.42051 1.452632 64703.76 1.2947368 1.421053 1.073684 \n",
       "4 4       42.08381 1.454545 48208.86 1.5041322 1.528926 1.165289 "
      ]
     },
     "metadata": {},
     "output_type": "display_data"
    }
   ],
   "source": [
    "set.seed(96743)\n",
    "seg.k= kmeans(seg.df.num, centers=4)\n",
    "seg.summ(seg.df, seg.k$cluster)"
   ]
  },
  {
   "cell_type": "code",
   "execution_count": 71,
   "metadata": {},
   "outputs": [
    {
     "data": {
      "text/html": [
       "<table>\n",
       "<thead><tr><th scope=col>seg.k$cluster</th><th scope=col>age</th><th scope=col>gender</th><th scope=col>income</th><th scope=col>kids</th><th scope=col>ownHome</th><th scope=col>subscribe</th></tr></thead>\n",
       "<tbody>\n",
       "\t<tr><td>1        </td><td>56.37245 </td><td>1.428571 </td><td>92287.07 </td><td>0.4285714</td><td>1.857143 </td><td>1.142857 </td></tr>\n",
       "\t<tr><td>2        </td><td>29.58704 </td><td>1.571429 </td><td>21631.79 </td><td>1.0634921</td><td>1.301587 </td><td>1.158730 </td></tr>\n",
       "\t<tr><td>3        </td><td>44.42051 </td><td>1.452632 </td><td>64703.76 </td><td>1.2947368</td><td>1.421053 </td><td>1.073684 </td></tr>\n",
       "\t<tr><td>4        </td><td>42.08381 </td><td>1.454545 </td><td>48208.86 </td><td>1.5041322</td><td>1.528926 </td><td>1.165289 </td></tr>\n",
       "</tbody>\n",
       "</table>\n"
      ],
      "text/latex": [
       "\\begin{tabular}{r|lllllll}\n",
       " seg.k\\$cluster & age & gender & income & kids & ownHome & subscribe\\\\\n",
       "\\hline\n",
       "\t 1         & 56.37245  & 1.428571  & 92287.07  & 0.4285714 & 1.857143  & 1.142857 \\\\\n",
       "\t 2         & 29.58704  & 1.571429  & 21631.79  & 1.0634921 & 1.301587  & 1.158730 \\\\\n",
       "\t 3         & 44.42051  & 1.452632  & 64703.76  & 1.2947368 & 1.421053  & 1.073684 \\\\\n",
       "\t 4         & 42.08381  & 1.454545  & 48208.86  & 1.5041322 & 1.528926  & 1.165289 \\\\\n",
       "\\end{tabular}\n"
      ],
      "text/markdown": [
       "\n",
       "seg.k$cluster | age | gender | income | kids | ownHome | subscribe | \n",
       "|---|---|---|---|\n",
       "| 1         | 56.37245  | 1.428571  | 92287.07  | 0.4285714 | 1.857143  | 1.142857  | \n",
       "| 2         | 29.58704  | 1.571429  | 21631.79  | 1.0634921 | 1.301587  | 1.158730  | \n",
       "| 3         | 44.42051  | 1.452632  | 64703.76  | 1.2947368 | 1.421053  | 1.073684  | \n",
       "| 4         | 42.08381  | 1.454545  | 48208.86  | 1.5041322 | 1.528926  | 1.165289  | \n",
       "\n",
       "\n"
      ],
      "text/plain": [
       "  seg.k$cluster age      gender   income   kids      ownHome  subscribe\n",
       "1 1             56.37245 1.428571 92287.07 0.4285714 1.857143 1.142857 \n",
       "2 2             29.58704 1.571429 21631.79 1.0634921 1.301587 1.158730 \n",
       "3 3             44.42051 1.452632 64703.76 1.2947368 1.421053 1.073684 \n",
       "4 4             42.08381 1.454545 48208.86 1.5041322 1.528926 1.165289 "
      ]
     },
     "metadata": {},
     "output_type": "display_data"
    }
   ],
   "source": [
    "aggregate(.~seg.k$cluster, data=seg.df, mean)    # or aggregate()"
   ]
  },
  {
   "cell_type": "markdown",
   "metadata": {},
   "source": [
    "> Unlike with hclust() we now see some interesting differences; the groups appear\n",
    "to vary by age, gender, kids, income, and home ownership. "
   ]
  },
  {
   "cell_type": "markdown",
   "metadata": {},
   "source": [
    "For example, we can\n",
    "visually check the distribution of income according to segment (which kmeans()\n",
    "stored in seg.k$cluster) using boxplot():"
   ]
  },
  {
   "cell_type": "code",
   "execution_count": 72,
   "metadata": {},
   "outputs": [
    {
     "data": {
      "image/png": "[encoded data removed]",
      "text/plain": [
       "plot without title"
      ]
     },
     "metadata": {},
     "output_type": "display_data"
    }
   ],
   "source": [
    "boxplot(seg.df.num$income ~ seg.k$cluster, ylab='Income', xlab='Cluster')"
   ]
  },
  {
   "cell_type": "markdown",
   "metadata": {},
   "source": [
    "> The result is Fig. 11.5, which shows substantial differences in income by segment.\n",
    "Note that in clustering models, the group labels are in arbitrary order, so don’t worry\n",
    "if your solution shows the same pattern with different labels."
   ]
  },
  {
   "cell_type": "markdown",
   "metadata": {},
   "source": [
    "We visualize the clusters by plotting them against a dimensional plot.\n",
    "clusplot() will perform dimensional reduction with principal components or\n",
    "multidimensional scaling as the data warrant, and then plot the observations with\n",
    "cluster membership identified (see Chap. 8 to review principal component analysis\n",
    "and plotting.) \n",
    " - We use clusplot from the cluster package with arguments to\n",
    "color the groups, shade the ellipses for group membership, label only the groups\n",
    "(not the individual points) with labels=4, and omit distance lines between groups\n",
    "(lines=0):"
   ]
  },
  {
   "cell_type": "code",
   "execution_count": 74,
   "metadata": {},
   "outputs": [
    {
     "data": {
      "image/png": "[encoded data removed]",
      "text/plain": [
       "Plot with title \"Kmeans Cluster plot\""
      ]
     },
     "metadata": {},
     "output_type": "display_data"
    }
   ],
   "source": [
    "library(cluster)\n",
    "clusplot(seg.df, seg.k$cluster, color=T, shade=T, labels=4, lines=0, \n",
    "         main='Kmeans Cluster plot')"
   ]
  },
  {
   "cell_type": "markdown",
   "metadata": {},
   "source": [
    "> The code produces the plot in Fig. 11.6, which plots cluster assignment by color and\n",
    "ellipses against the first two principal components of the predictors (see Sect. 8.2.2).\n",
    " - Groups 3 and 4 are largely overlapping (in this dimensional reduction) while group\n",
    "1 and especially group 2 are modestly differentiated."
   ]
  },
  {
   "cell_type": "markdown",
   "metadata": {},
   "source": [
    "1. Overall, this is a far more interesting cluster solution for our segmentation data than\n",
    "the hclust() proposal. The groups here are clearly differentiated on key variables\n",
    "such as age and income.With this information, an analyst might cross-reference the\n",
    "group membership with key variables\n",
    "\n",
    "2. This may suggest a business strategy. \n",
    " - In the present case, for instance, we see\n",
    "that group 1 is modestly well differentiated, and has the highest average income. That may make it a good target for a potential campaign. Many other strategies are possible, too; the key point is that the analysis provides interesting options to\n",
    "consider.\n",
    "\n",
    "3. A limitation of k-means analysis is that it requires specifying the number of clusters,\n",
    "and it can be difficult to determine whether one solution is better than another. \n",
    " - If we\n",
    "were to use k-means for the present problem, we would repeat the analysis for k =3,\n",
    "4, 5, and so forth, and determine which solution gives the most useful result for our\n",
    "business goals."
   ]
  },
  {
   "cell_type": "markdown",
   "metadata": {},
   "source": [
    "### 11.3.5 Model-Based Clustering: Mclust()"
   ]
  },
  {
   "cell_type": "markdown",
   "metadata": {},
   "source": [
    "The key idea for model-based clustering is that observations come from groups\n",
    "with different statistical distributions (such as different means and variances). The\n",
    "algorithms try to find the best set of such underlying distributions to explain the\n",
    "observed data. \n",
    "- We use the mclust package [53, 54] to demonstrate this.\n",
    "\n",
    "Such models are also known as “mixture models” because it is assumed that the\n",
    "data reflect a mixture of observations drawn from different populations, although we\n",
    "don’t know which population each observation was drawn from. We are trying to\n",
    "estimate the underlying population parameters and the mixture proportion. \n",
    "- mclust\n",
    "models such clusters as being drawn from a mixture of ***normal (also known as Gaussian***)\n",
    "distributions."
   ]
  },
  {
   "cell_type": "markdown",
   "metadata": {},
   "source": [
    "As you might guess, because mclust models data with normal distributions, it uses\n",
    "only numeric data. \n",
    " - We use the numeric data frame seg.df.num that we adapted\n",
    "for kmeans() in Sect. 11.3.4; see that section for the code if needed. The model is\n",
    "estimated with Mclust() (note the capital letter for the fitting function, as opposed\n",
    "to the package name):"
   ]
  },
  {
   "cell_type": "code",
   "execution_count": 75,
   "metadata": {},
   "outputs": [
    {
     "name": "stderr",
     "output_type": "stream",
     "text": [
      "Warning message:\n",
      "\"package 'mclust' was built under R version 3.4.4\"Package 'mclust' version 5.4\n",
      "Type 'citation(\"mclust\")' for citing this R package in publications.\n"
     ]
    },
    {
     "data": {
      "text/plain": [
       "----------------------------------------------------\n",
       "Gaussian finite mixture model fitted by EM algorithm \n",
       "----------------------------------------------------\n",
       "\n",
       "Mclust VEV (ellipsoidal, equal shape) model with 3 components:\n",
       "\n",
       " log.likelihood   n df       BIC       ICL\n",
       "      -5137.106 300 73 -10690.59 -10690.59\n",
       "\n",
       "Clustering table:\n",
       "  1   2   3 \n",
       "163  71  66 "
      ]
     },
     "metadata": {},
     "output_type": "display_data"
    }
   ],
   "source": [
    "library(mclust)\n",
    "seg.mc = Mclust(seg.df.num)\n",
    "summary(seg.mc)"
   ]
  },
  {
   "cell_type": "markdown",
   "metadata": {},
   "source": [
    "> This tells us that the data are estimated to have three clusters (components) with\n",
    "the sizes as shown in the table.\n",
    " - Mclust() compared a variety of different mixture\n",
    "shapes and concluded that an ellipsoidal model (modeling the data as multivariate\n",
    "ellipses) fit best.\n",
    " - We also see log-likelihood information, which we can use to compare models"
   ]
  },
  {
   "cell_type": "markdown",
   "metadata": {},
   "source": [
    "We try a 4-cluster solution by telling Mclust() the number of clusters we want with\n",
    "the G=4 argument:"
   ]
  },
  {
   "cell_type": "code",
   "execution_count": 76,
   "metadata": {},
   "outputs": [
    {
     "data": {
      "text/plain": [
       "----------------------------------------------------\n",
       "Gaussian finite mixture model fitted by EM algorithm \n",
       "----------------------------------------------------\n",
       "\n",
       "Mclust VII (spherical, varying volume) model with 4 components:\n",
       "\n",
       " log.likelihood   n df       BIC       ICL\n",
       "      -16862.69 300 31 -33902.19 -33906.18\n",
       "\n",
       "Clustering table:\n",
       "  1   2   3   4 \n",
       "104  66  59  71 "
      ]
     },
     "metadata": {},
     "output_type": "display_data"
    }
   ],
   "source": [
    "seg.mc4 = Mclust(seg.df.num, G=4)\n",
    "summary(seg.mc4)"
   ]
  },
  {
   "cell_type": "markdown",
   "metadata": {},
   "source": [
    ">Forcing it to find four clusters resulted in quite a different model, with lower loglikelihood, different multivariate pattern (diagonal), and no obvious correspondence\n",
    "in the cluster table (for instance, it’s not simply that one of the groups in the\n",
    "3-cluster solution was split into two)."
   ]
  },
  {
   "cell_type": "code",
   "execution_count": null,
   "metadata": {},
   "outputs": [],
   "source": []
  }
 ],
 "metadata": {
  "kernelspec": {
   "display_name": "R",
   "language": "R",
   "name": "ir"
  },
  "language_info": {
   "codemirror_mode": "r",
   "file_extension": ".r",
   "mimetype": "text/x-r-source",
   "name": "R",
   "pygments_lexer": "r",
   "version": "3.4.3"
  }
 },
 "nbformat": 4,
 "nbformat_minor": 2
}
