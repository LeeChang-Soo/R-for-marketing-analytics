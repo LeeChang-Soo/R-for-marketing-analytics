{
 "cells": [
  {
   "cell_type": "markdown",
   "metadata": {},
   "source": [
    "# 11. Segmentation: Clustering and Classification"
   ]
  },
  {
   "cell_type": "markdown",
   "metadata": {},
   "source": [
    "Segmentation is not a well-defined process and analysts vary in their definitions of\n",
    "segmentation as well as their approaches and philosophy.\n",
    "\n",
    "We start with a warning: we have definite opinions about segmentation and what we\n",
    "believe are common misunderstandings and poor practices.We hope you’ll be convinced\n",
    "by our views—but even if not, the methods here will be useful to you."
   ]
  },
  {
   "cell_type": "markdown",
   "metadata": {},
   "source": [
    "## 11.1 Segmentation Philosophy"
   ]
  },
  {
   "cell_type": "markdown",
   "metadata": {},
   "source": [
    "The general goal of market segmentation is to find groups of customers that differ in\n",
    "important ways associated with product interest, market participation, or response\n",
    "to marketing efforts.\n",
    "- By understanding the differences among groups, a marketer\n",
    "can make better strategic choices about opportunities, product definition, and positioning,\n",
    "and can engage in more effective promotion."
   ]
  },
  {
   "cell_type": "markdown",
   "metadata": {},
   "source": [
    "### 11.1.1 The Difficulty of Segmentation"
   ]
  },
  {
   "cell_type": "markdown",
   "metadata": {},
   "source": [
    "It is not particularly difficult to find groups within consumer data; indeed,\n",
    "in this chapter we see several ways to do this, all of which “succeed” according to\n",
    "one statistical criterion or another. Rather, the difficulty is to ensure that the outcome\n",
    "is meaningful for a particular business need.\n",
    " - For segmentation this means that there is no all-purpose method or\n",
    "algorithm that is a priori preferable to others. This does not mean that the choice of a\n",
    "method is irrelevant or arbitrary; \n",
    " - rather, one cannot necessarily determine in advance\n",
    "which approach will work best for a novel problem. As a form of optimization,\n",
    "segmentation is likely to require an iterative approach that successively tests and\n",
    "improves its answer to a business need.\n",
    "\n",
    "Segmentation is like slicing a pie, and any pie might be sliced in an infinite number\n",
    "of ways. \n",
    " - Your task as an analyst is to consider the infinity of possible data that\n",
    "might be gathered, the infinity of possible groupings of that data, and the infinity of\n",
    "possible business questions that might be addressed. \n",
    " - Your goal is to find a solution\n",
    "within those infinities that represents real differences in the data and that informs\n",
    "and influences real business decisions.\n",
    "\n",
    "To maximize chances of finding such a model, we recommend that an analyst\n",
    "expects—and prepares management to understand—the need to iterate analyses."
   ]
  },
  {
   "cell_type": "markdown",
   "metadata": {},
   "source": [
    "### 11.1.2 Segmentation as Clustering and Classification"
   ]
  },
  {
   "cell_type": "markdown",
   "metadata": {},
   "source": [
    "***clustering or cluster analysis and classification***. These are the primary branches of\n",
    "what is sometimes called statistical learning, i.e., learning from data through statistical\n",
    "model fitting."
   ]
  },
  {
   "cell_type": "markdown",
   "metadata": {},
   "source": [
    "## 11.2 Segmentation Data"
   ]
  },
  {
   "cell_type": "code",
   "execution_count": 9,
   "metadata": {},
   "outputs": [
    {
     "data": {
      "text/html": [
       "<table>\n",
       "<thead><tr><th scope=col>age</th><th scope=col>gender</th><th scope=col>income</th><th scope=col>kids</th><th scope=col>ownHome</th><th scope=col>subscribe</th></tr></thead>\n",
       "<tbody>\n",
       "\t<tr><td>47.31613</td><td>Male    </td><td>49482.81</td><td>2       </td><td>ownNo   </td><td>subNo   </td></tr>\n",
       "\t<tr><td>31.38684</td><td>Male    </td><td>35546.29</td><td>1       </td><td>ownYes  </td><td>subNo   </td></tr>\n",
       "\t<tr><td>43.20034</td><td>Male    </td><td>44169.19</td><td>0       </td><td>ownYes  </td><td>subNo   </td></tr>\n",
       "\t<tr><td>37.31700</td><td>Female  </td><td>81041.99</td><td>1       </td><td>ownNo   </td><td>subNo   </td></tr>\n",
       "\t<tr><td>40.95439</td><td>Female  </td><td>79353.01</td><td>3       </td><td>ownYes  </td><td>subNo   </td></tr>\n",
       "\t<tr><td>43.03387</td><td>Male    </td><td>58143.36</td><td>4       </td><td>ownYes  </td><td>subNo   </td></tr>\n",
       "\t<tr><td>37.55696</td><td>Male    </td><td>19282.23</td><td>3       </td><td>ownNo   </td><td>subNo   </td></tr>\n",
       "\t<tr><td>28.45129</td><td>Male    </td><td>47245.24</td><td>0       </td><td>ownNo   </td><td>subNo   </td></tr>\n",
       "\t<tr><td>44.20268</td><td>Female  </td><td>48332.52</td><td>1       </td><td>ownNo   </td><td>subNo   </td></tr>\n",
       "\t<tr><td>35.15167</td><td>Female  </td><td>52567.89</td><td>0       </td><td>ownYes  </td><td>subNo   </td></tr>\n",
       "\t<tr><td>47.61097</td><td>Male    </td><td>47917.56</td><td>0       </td><td>ownYes  </td><td>subNo   </td></tr>\n",
       "\t<tr><td>37.58036</td><td>Female  </td><td>65767.48</td><td>0       </td><td>ownNo   </td><td>subNo   </td></tr>\n",
       "\t<tr><td>33.21556</td><td>Female  </td><td>69337.66</td><td>2       </td><td>ownNo   </td><td>subNo   </td></tr>\n",
       "\t<tr><td>43.18109</td><td>Male    </td><td>57200.15</td><td>3       </td><td>ownYes  </td><td>subNo   </td></tr>\n",
       "\t<tr><td>39.35748</td><td>Male    </td><td>47099.77</td><td>1       </td><td>ownYes  </td><td>subNo   </td></tr>\n",
       "\t<tr><td>42.03056</td><td>Male    </td><td>57036.84</td><td>3       </td><td>ownYes  </td><td>subNo   </td></tr>\n",
       "\t<tr><td>41.96189</td><td>Female  </td><td>53127.06</td><td>0       </td><td>ownYes  </td><td>subNo   </td></tr>\n",
       "\t<tr><td>43.98136</td><td>Female  </td><td>41254.80</td><td>0       </td><td>ownYes  </td><td>subNo   </td></tr>\n",
       "\t<tr><td>37.61905</td><td>Female  </td><td>63528.47</td><td>1       </td><td>ownYes  </td><td>subNo   </td></tr>\n",
       "\t<tr><td>32.41215</td><td>Female  </td><td>52649.54</td><td>2       </td><td>ownYes  </td><td>subYes  </td></tr>\n",
       "\t<tr><td>47.94154</td><td>Female  </td><td>48197.81</td><td>1       </td><td>ownYes  </td><td>subNo   </td></tr>\n",
       "\t<tr><td>36.70162</td><td>Female  </td><td>46163.38</td><td>6       </td><td>ownYes  </td><td>subNo   </td></tr>\n",
       "\t<tr><td>30.47705</td><td>Male    </td><td>44151.93</td><td>2       </td><td>ownNo   </td><td>subNo   </td></tr>\n",
       "\t<tr><td>38.32010</td><td>Female  </td><td>56128.01</td><td>2       </td><td>ownYes  </td><td>subNo   </td></tr>\n",
       "\t<tr><td>32.72702</td><td>Female  </td><td>62519.89</td><td>4       </td><td>ownYes  </td><td>subNo   </td></tr>\n",
       "\t<tr><td>40.42549</td><td>Female  </td><td>51195.97</td><td>1       </td><td>ownYes  </td><td>subNo   </td></tr>\n",
       "\t<tr><td>26.86546</td><td>Male    </td><td>59440.87</td><td>2       </td><td>ownNo   </td><td>subNo   </td></tr>\n",
       "\t<tr><td>44.50259</td><td>Male    </td><td>57362.59</td><td>0       </td><td>ownNo   </td><td>subNo   </td></tr>\n",
       "\t<tr><td>35.16896</td><td>Female  </td><td>56112.12</td><td>1       </td><td>ownNo   </td><td>subNo   </td></tr>\n",
       "\t<tr><td>39.61932</td><td>Female  </td><td>76488.70</td><td>2       </td><td>ownNo   </td><td>subNo   </td></tr>\n",
       "\t<tr><td>...</td><td>...</td><td>...</td><td>...</td><td>...</td><td>...</td></tr>\n",
       "\t<tr><td>32.33691</td><td>Female  </td><td>52776.42</td><td>1       </td><td>ownYes  </td><td>subYes  </td></tr>\n",
       "\t<tr><td>42.03798</td><td>Female  </td><td>58756.32</td><td>2       </td><td>ownNo   </td><td>subNo   </td></tr>\n",
       "\t<tr><td>38.87477</td><td>Female  </td><td>44811.78</td><td>5       </td><td>ownYes  </td><td>subNo   </td></tr>\n",
       "\t<tr><td>40.16990</td><td>Female  </td><td>44125.40</td><td>4       </td><td>ownYes  </td><td>subNo   </td></tr>\n",
       "\t<tr><td>37.41808</td><td>Female  </td><td>36257.93</td><td>1       </td><td>ownNo   </td><td>subNo   </td></tr>\n",
       "\t<tr><td>39.14320</td><td>Female  </td><td>45347.01</td><td>1       </td><td>ownYes  </td><td>subYes  </td></tr>\n",
       "\t<tr><td>29.76301</td><td>Female  </td><td>50720.22</td><td>0       </td><td>ownNo   </td><td>subNo   </td></tr>\n",
       "\t<tr><td>36.23860</td><td>Female  </td><td>46540.88</td><td>1       </td><td>ownNo   </td><td>subYes  </td></tr>\n",
       "\t<tr><td>37.24773</td><td>Female  </td><td>50560.17</td><td>3       </td><td>ownYes  </td><td>subNo   </td></tr>\n",
       "\t<tr><td>37.35856</td><td>Female  </td><td>59663.28</td><td>1       </td><td>ownNo   </td><td>subNo   </td></tr>\n",
       "\t<tr><td>31.69081</td><td>Female  </td><td>55940.78</td><td>3       </td><td>ownNo   </td><td>subNo   </td></tr>\n",
       "\t<tr><td>34.03454</td><td>Female  </td><td>66007.99</td><td>3       </td><td>ownNo   </td><td>subNo   </td></tr>\n",
       "\t<tr><td>36.89752</td><td>Female  </td><td>39366.95</td><td>1       </td><td>ownNo   </td><td>subYes  </td></tr>\n",
       "\t<tr><td>38.16915</td><td>Female  </td><td>54509.25</td><td>2       </td><td>ownNo   </td><td>subNo   </td></tr>\n",
       "\t<tr><td>42.37342</td><td>Female  </td><td>49308.97</td><td>2       </td><td>ownNo   </td><td>subNo   </td></tr>\n",
       "\t<tr><td>40.30668</td><td>Female  </td><td>54740.28</td><td>0       </td><td>ownYes  </td><td>subNo   </td></tr>\n",
       "\t<tr><td>36.24118</td><td>Male    </td><td>49775.29</td><td>1       </td><td>ownNo   </td><td>subYes  </td></tr>\n",
       "\t<tr><td>35.82586</td><td>Female  </td><td>41766.29</td><td>2       </td><td>ownNo   </td><td>subYes  </td></tr>\n",
       "\t<tr><td>26.40436</td><td>Female  </td><td>73240.62</td><td>2       </td><td>ownNo   </td><td>subNo   </td></tr>\n",
       "\t<tr><td>42.40763</td><td>Male    </td><td>53520.36</td><td>1       </td><td>ownNo   </td><td>subNo   </td></tr>\n",
       "\t<tr><td>35.88063</td><td>Male    </td><td>66423.74</td><td>1       </td><td>ownNo   </td><td>subNo   </td></tr>\n",
       "\t<tr><td>36.22989</td><td>Female  </td><td>41192.28</td><td>4       </td><td>ownNo   </td><td>subNo   </td></tr>\n",
       "\t<tr><td>39.54330</td><td>Female  </td><td>58933.34</td><td>2       </td><td>ownYes  </td><td>subYes  </td></tr>\n",
       "\t<tr><td>35.79961</td><td>Female  </td><td>52352.69</td><td>1       </td><td>ownNo   </td><td>subYes  </td></tr>\n",
       "\t<tr><td>36.14964</td><td>Male    </td><td>40522.39</td><td>0       </td><td>ownYes  </td><td>subNo   </td></tr>\n",
       "\t<tr><td>32.95227</td><td>Female  </td><td>43882.43</td><td>0       </td><td>ownYes  </td><td>subNo   </td></tr>\n",
       "\t<tr><td>40.96255</td><td>Female  </td><td>64197.09</td><td>2       </td><td>ownNo   </td><td>subNo   </td></tr>\n",
       "\t<tr><td>38.22980</td><td>Male    </td><td>47580.93</td><td>0       </td><td>ownNo   </td><td>subYes  </td></tr>\n",
       "\t<tr><td>33.17036</td><td>Male    </td><td>60747.34</td><td>1       </td><td>ownNo   </td><td>subNo   </td></tr>\n",
       "\t<tr><td>34.38388</td><td>Male    </td><td>53674.93</td><td>5       </td><td>ownYes  </td><td>subNo   </td></tr>\n",
       "</tbody>\n",
       "</table>\n"
      ],
      "text/latex": [
       "\\begin{tabular}{r|llllll}\n",
       " age & gender & income & kids & ownHome & subscribe\\\\\n",
       "\\hline\n",
       "\t 47.31613 & Male     & 49482.81 & 2        & ownNo    & subNo   \\\\\n",
       "\t 31.38684 & Male     & 35546.29 & 1        & ownYes   & subNo   \\\\\n",
       "\t 43.20034 & Male     & 44169.19 & 0        & ownYes   & subNo   \\\\\n",
       "\t 37.31700 & Female   & 81041.99 & 1        & ownNo    & subNo   \\\\\n",
       "\t 40.95439 & Female   & 79353.01 & 3        & ownYes   & subNo   \\\\\n",
       "\t 43.03387 & Male     & 58143.36 & 4        & ownYes   & subNo   \\\\\n",
       "\t 37.55696 & Male     & 19282.23 & 3        & ownNo    & subNo   \\\\\n",
       "\t 28.45129 & Male     & 47245.24 & 0        & ownNo    & subNo   \\\\\n",
       "\t 44.20268 & Female   & 48332.52 & 1        & ownNo    & subNo   \\\\\n",
       "\t 35.15167 & Female   & 52567.89 & 0        & ownYes   & subNo   \\\\\n",
       "\t 47.61097 & Male     & 47917.56 & 0        & ownYes   & subNo   \\\\\n",
       "\t 37.58036 & Female   & 65767.48 & 0        & ownNo    & subNo   \\\\\n",
       "\t 33.21556 & Female   & 69337.66 & 2        & ownNo    & subNo   \\\\\n",
       "\t 43.18109 & Male     & 57200.15 & 3        & ownYes   & subNo   \\\\\n",
       "\t 39.35748 & Male     & 47099.77 & 1        & ownYes   & subNo   \\\\\n",
       "\t 42.03056 & Male     & 57036.84 & 3        & ownYes   & subNo   \\\\\n",
       "\t 41.96189 & Female   & 53127.06 & 0        & ownYes   & subNo   \\\\\n",
       "\t 43.98136 & Female   & 41254.80 & 0        & ownYes   & subNo   \\\\\n",
       "\t 37.61905 & Female   & 63528.47 & 1        & ownYes   & subNo   \\\\\n",
       "\t 32.41215 & Female   & 52649.54 & 2        & ownYes   & subYes  \\\\\n",
       "\t 47.94154 & Female   & 48197.81 & 1        & ownYes   & subNo   \\\\\n",
       "\t 36.70162 & Female   & 46163.38 & 6        & ownYes   & subNo   \\\\\n",
       "\t 30.47705 & Male     & 44151.93 & 2        & ownNo    & subNo   \\\\\n",
       "\t 38.32010 & Female   & 56128.01 & 2        & ownYes   & subNo   \\\\\n",
       "\t 32.72702 & Female   & 62519.89 & 4        & ownYes   & subNo   \\\\\n",
       "\t 40.42549 & Female   & 51195.97 & 1        & ownYes   & subNo   \\\\\n",
       "\t 26.86546 & Male     & 59440.87 & 2        & ownNo    & subNo   \\\\\n",
       "\t 44.50259 & Male     & 57362.59 & 0        & ownNo    & subNo   \\\\\n",
       "\t 35.16896 & Female   & 56112.12 & 1        & ownNo    & subNo   \\\\\n",
       "\t 39.61932 & Female   & 76488.70 & 2        & ownNo    & subNo   \\\\\n",
       "\t ... & ... & ... & ... & ... & ...\\\\\n",
       "\t 32.33691 & Female   & 52776.42 & 1        & ownYes   & subYes  \\\\\n",
       "\t 42.03798 & Female   & 58756.32 & 2        & ownNo    & subNo   \\\\\n",
       "\t 38.87477 & Female   & 44811.78 & 5        & ownYes   & subNo   \\\\\n",
       "\t 40.16990 & Female   & 44125.40 & 4        & ownYes   & subNo   \\\\\n",
       "\t 37.41808 & Female   & 36257.93 & 1        & ownNo    & subNo   \\\\\n",
       "\t 39.14320 & Female   & 45347.01 & 1        & ownYes   & subYes  \\\\\n",
       "\t 29.76301 & Female   & 50720.22 & 0        & ownNo    & subNo   \\\\\n",
       "\t 36.23860 & Female   & 46540.88 & 1        & ownNo    & subYes  \\\\\n",
       "\t 37.24773 & Female   & 50560.17 & 3        & ownYes   & subNo   \\\\\n",
       "\t 37.35856 & Female   & 59663.28 & 1        & ownNo    & subNo   \\\\\n",
       "\t 31.69081 & Female   & 55940.78 & 3        & ownNo    & subNo   \\\\\n",
       "\t 34.03454 & Female   & 66007.99 & 3        & ownNo    & subNo   \\\\\n",
       "\t 36.89752 & Female   & 39366.95 & 1        & ownNo    & subYes  \\\\\n",
       "\t 38.16915 & Female   & 54509.25 & 2        & ownNo    & subNo   \\\\\n",
       "\t 42.37342 & Female   & 49308.97 & 2        & ownNo    & subNo   \\\\\n",
       "\t 40.30668 & Female   & 54740.28 & 0        & ownYes   & subNo   \\\\\n",
       "\t 36.24118 & Male     & 49775.29 & 1        & ownNo    & subYes  \\\\\n",
       "\t 35.82586 & Female   & 41766.29 & 2        & ownNo    & subYes  \\\\\n",
       "\t 26.40436 & Female   & 73240.62 & 2        & ownNo    & subNo   \\\\\n",
       "\t 42.40763 & Male     & 53520.36 & 1        & ownNo    & subNo   \\\\\n",
       "\t 35.88063 & Male     & 66423.74 & 1        & ownNo    & subNo   \\\\\n",
       "\t 36.22989 & Female   & 41192.28 & 4        & ownNo    & subNo   \\\\\n",
       "\t 39.54330 & Female   & 58933.34 & 2        & ownYes   & subYes  \\\\\n",
       "\t 35.79961 & Female   & 52352.69 & 1        & ownNo    & subYes  \\\\\n",
       "\t 36.14964 & Male     & 40522.39 & 0        & ownYes   & subNo   \\\\\n",
       "\t 32.95227 & Female   & 43882.43 & 0        & ownYes   & subNo   \\\\\n",
       "\t 40.96255 & Female   & 64197.09 & 2        & ownNo    & subNo   \\\\\n",
       "\t 38.22980 & Male     & 47580.93 & 0        & ownNo    & subYes  \\\\\n",
       "\t 33.17036 & Male     & 60747.34 & 1        & ownNo    & subNo   \\\\\n",
       "\t 34.38388 & Male     & 53674.93 & 5        & ownYes   & subNo   \\\\\n",
       "\\end{tabular}\n"
      ],
      "text/markdown": [
       "\n",
       "age | gender | income | kids | ownHome | subscribe | \n",
       "|---|---|---|---|---|---|---|---|---|---|---|---|---|---|---|---|---|---|---|---|---|---|---|---|---|---|---|---|---|---|---|---|---|---|---|---|---|---|---|---|---|---|---|---|---|---|---|---|---|---|---|---|---|---|---|---|---|---|---|---|---|\n",
       "| 47.31613 | Male     | 49482.81 | 2        | ownNo    | subNo    | \n",
       "| 31.38684 | Male     | 35546.29 | 1        | ownYes   | subNo    | \n",
       "| 43.20034 | Male     | 44169.19 | 0        | ownYes   | subNo    | \n",
       "| 37.31700 | Female   | 81041.99 | 1        | ownNo    | subNo    | \n",
       "| 40.95439 | Female   | 79353.01 | 3        | ownYes   | subNo    | \n",
       "| 43.03387 | Male     | 58143.36 | 4        | ownYes   | subNo    | \n",
       "| 37.55696 | Male     | 19282.23 | 3        | ownNo    | subNo    | \n",
       "| 28.45129 | Male     | 47245.24 | 0        | ownNo    | subNo    | \n",
       "| 44.20268 | Female   | 48332.52 | 1        | ownNo    | subNo    | \n",
       "| 35.15167 | Female   | 52567.89 | 0        | ownYes   | subNo    | \n",
       "| 47.61097 | Male     | 47917.56 | 0        | ownYes   | subNo    | \n",
       "| 37.58036 | Female   | 65767.48 | 0        | ownNo    | subNo    | \n",
       "| 33.21556 | Female   | 69337.66 | 2        | ownNo    | subNo    | \n",
       "| 43.18109 | Male     | 57200.15 | 3        | ownYes   | subNo    | \n",
       "| 39.35748 | Male     | 47099.77 | 1        | ownYes   | subNo    | \n",
       "| 42.03056 | Male     | 57036.84 | 3        | ownYes   | subNo    | \n",
       "| 41.96189 | Female   | 53127.06 | 0        | ownYes   | subNo    | \n",
       "| 43.98136 | Female   | 41254.80 | 0        | ownYes   | subNo    | \n",
       "| 37.61905 | Female   | 63528.47 | 1        | ownYes   | subNo    | \n",
       "| 32.41215 | Female   | 52649.54 | 2        | ownYes   | subYes   | \n",
       "| 47.94154 | Female   | 48197.81 | 1        | ownYes   | subNo    | \n",
       "| 36.70162 | Female   | 46163.38 | 6        | ownYes   | subNo    | \n",
       "| 30.47705 | Male     | 44151.93 | 2        | ownNo    | subNo    | \n",
       "| 38.32010 | Female   | 56128.01 | 2        | ownYes   | subNo    | \n",
       "| 32.72702 | Female   | 62519.89 | 4        | ownYes   | subNo    | \n",
       "| 40.42549 | Female   | 51195.97 | 1        | ownYes   | subNo    | \n",
       "| 26.86546 | Male     | 59440.87 | 2        | ownNo    | subNo    | \n",
       "| 44.50259 | Male     | 57362.59 | 0        | ownNo    | subNo    | \n",
       "| 35.16896 | Female   | 56112.12 | 1        | ownNo    | subNo    | \n",
       "| 39.61932 | Female   | 76488.70 | 2        | ownNo    | subNo    | \n",
       "| ... | ... | ... | ... | ... | ... | \n",
       "| 32.33691 | Female   | 52776.42 | 1        | ownYes   | subYes   | \n",
       "| 42.03798 | Female   | 58756.32 | 2        | ownNo    | subNo    | \n",
       "| 38.87477 | Female   | 44811.78 | 5        | ownYes   | subNo    | \n",
       "| 40.16990 | Female   | 44125.40 | 4        | ownYes   | subNo    | \n",
       "| 37.41808 | Female   | 36257.93 | 1        | ownNo    | subNo    | \n",
       "| 39.14320 | Female   | 45347.01 | 1        | ownYes   | subYes   | \n",
       "| 29.76301 | Female   | 50720.22 | 0        | ownNo    | subNo    | \n",
       "| 36.23860 | Female   | 46540.88 | 1        | ownNo    | subYes   | \n",
       "| 37.24773 | Female   | 50560.17 | 3        | ownYes   | subNo    | \n",
       "| 37.35856 | Female   | 59663.28 | 1        | ownNo    | subNo    | \n",
       "| 31.69081 | Female   | 55940.78 | 3        | ownNo    | subNo    | \n",
       "| 34.03454 | Female   | 66007.99 | 3        | ownNo    | subNo    | \n",
       "| 36.89752 | Female   | 39366.95 | 1        | ownNo    | subYes   | \n",
       "| 38.16915 | Female   | 54509.25 | 2        | ownNo    | subNo    | \n",
       "| 42.37342 | Female   | 49308.97 | 2        | ownNo    | subNo    | \n",
       "| 40.30668 | Female   | 54740.28 | 0        | ownYes   | subNo    | \n",
       "| 36.24118 | Male     | 49775.29 | 1        | ownNo    | subYes   | \n",
       "| 35.82586 | Female   | 41766.29 | 2        | ownNo    | subYes   | \n",
       "| 26.40436 | Female   | 73240.62 | 2        | ownNo    | subNo    | \n",
       "| 42.40763 | Male     | 53520.36 | 1        | ownNo    | subNo    | \n",
       "| 35.88063 | Male     | 66423.74 | 1        | ownNo    | subNo    | \n",
       "| 36.22989 | Female   | 41192.28 | 4        | ownNo    | subNo    | \n",
       "| 39.54330 | Female   | 58933.34 | 2        | ownYes   | subYes   | \n",
       "| 35.79961 | Female   | 52352.69 | 1        | ownNo    | subYes   | \n",
       "| 36.14964 | Male     | 40522.39 | 0        | ownYes   | subNo    | \n",
       "| 32.95227 | Female   | 43882.43 | 0        | ownYes   | subNo    | \n",
       "| 40.96255 | Female   | 64197.09 | 2        | ownNo    | subNo    | \n",
       "| 38.22980 | Male     | 47580.93 | 0        | ownNo    | subYes   | \n",
       "| 33.17036 | Male     | 60747.34 | 1        | ownNo    | subNo    | \n",
       "| 34.38388 | Male     | 53674.93 | 5        | ownYes   | subNo    | \n",
       "\n",
       "\n"
      ],
      "text/plain": [
       "    age      gender income   kids ownHome subscribe\n",
       "1   47.31613 Male   49482.81 2    ownNo   subNo    \n",
       "2   31.38684 Male   35546.29 1    ownYes  subNo    \n",
       "3   43.20034 Male   44169.19 0    ownYes  subNo    \n",
       "4   37.31700 Female 81041.99 1    ownNo   subNo    \n",
       "5   40.95439 Female 79353.01 3    ownYes  subNo    \n",
       "6   43.03387 Male   58143.36 4    ownYes  subNo    \n",
       "7   37.55696 Male   19282.23 3    ownNo   subNo    \n",
       "8   28.45129 Male   47245.24 0    ownNo   subNo    \n",
       "9   44.20268 Female 48332.52 1    ownNo   subNo    \n",
       "10  35.15167 Female 52567.89 0    ownYes  subNo    \n",
       "11  47.61097 Male   47917.56 0    ownYes  subNo    \n",
       "12  37.58036 Female 65767.48 0    ownNo   subNo    \n",
       "13  33.21556 Female 69337.66 2    ownNo   subNo    \n",
       "14  43.18109 Male   57200.15 3    ownYes  subNo    \n",
       "15  39.35748 Male   47099.77 1    ownYes  subNo    \n",
       "16  42.03056 Male   57036.84 3    ownYes  subNo    \n",
       "17  41.96189 Female 53127.06 0    ownYes  subNo    \n",
       "18  43.98136 Female 41254.80 0    ownYes  subNo    \n",
       "19  37.61905 Female 63528.47 1    ownYes  subNo    \n",
       "20  32.41215 Female 52649.54 2    ownYes  subYes   \n",
       "21  47.94154 Female 48197.81 1    ownYes  subNo    \n",
       "22  36.70162 Female 46163.38 6    ownYes  subNo    \n",
       "23  30.47705 Male   44151.93 2    ownNo   subNo    \n",
       "24  38.32010 Female 56128.01 2    ownYes  subNo    \n",
       "25  32.72702 Female 62519.89 4    ownYes  subNo    \n",
       "26  40.42549 Female 51195.97 1    ownYes  subNo    \n",
       "27  26.86546 Male   59440.87 2    ownNo   subNo    \n",
       "28  44.50259 Male   57362.59 0    ownNo   subNo    \n",
       "29  35.16896 Female 56112.12 1    ownNo   subNo    \n",
       "30  39.61932 Female 76488.70 2    ownNo   subNo    \n",
       "... ...      ...    ...      ...  ...     ...      \n",
       "271 32.33691 Female 52776.42 1    ownYes  subYes   \n",
       "272 42.03798 Female 58756.32 2    ownNo   subNo    \n",
       "273 38.87477 Female 44811.78 5    ownYes  subNo    \n",
       "274 40.16990 Female 44125.40 4    ownYes  subNo    \n",
       "275 37.41808 Female 36257.93 1    ownNo   subNo    \n",
       "276 39.14320 Female 45347.01 1    ownYes  subYes   \n",
       "277 29.76301 Female 50720.22 0    ownNo   subNo    \n",
       "278 36.23860 Female 46540.88 1    ownNo   subYes   \n",
       "279 37.24773 Female 50560.17 3    ownYes  subNo    \n",
       "280 37.35856 Female 59663.28 1    ownNo   subNo    \n",
       "281 31.69081 Female 55940.78 3    ownNo   subNo    \n",
       "282 34.03454 Female 66007.99 3    ownNo   subNo    \n",
       "283 36.89752 Female 39366.95 1    ownNo   subYes   \n",
       "284 38.16915 Female 54509.25 2    ownNo   subNo    \n",
       "285 42.37342 Female 49308.97 2    ownNo   subNo    \n",
       "286 40.30668 Female 54740.28 0    ownYes  subNo    \n",
       "287 36.24118 Male   49775.29 1    ownNo   subYes   \n",
       "288 35.82586 Female 41766.29 2    ownNo   subYes   \n",
       "289 26.40436 Female 73240.62 2    ownNo   subNo    \n",
       "290 42.40763 Male   53520.36 1    ownNo   subNo    \n",
       "291 35.88063 Male   66423.74 1    ownNo   subNo    \n",
       "292 36.22989 Female 41192.28 4    ownNo   subNo    \n",
       "293 39.54330 Female 58933.34 2    ownYes  subYes   \n",
       "294 35.79961 Female 52352.69 1    ownNo   subYes   \n",
       "295 36.14964 Male   40522.39 0    ownYes  subNo    \n",
       "296 32.95227 Female 43882.43 0    ownYes  subNo    \n",
       "297 40.96255 Female 64197.09 2    ownNo   subNo    \n",
       "298 38.22980 Male   47580.93 0    ownNo   subYes   \n",
       "299 33.17036 Male   60747.34 1    ownNo   subNo    \n",
       "300 34.38388 Male   53674.93 5    ownYes  subNo    "
      ]
     },
     "metadata": {},
     "output_type": "display_data"
    }
   ],
   "source": [
    "seg.raw = read.csv(\"http://goo.gl/qw303p\")\n",
    "(seg.df  = seg.raw[, -7])              # remove the known segment assignments"
   ]
  },
  {
   "cell_type": "markdown",
   "metadata": {},
   "source": [
    "> this is a simulated data set with four identified segments\n",
    "of customers for a subscription product, and contains a few variables that are\n",
    "similar to data from typical consumer surveys. Each observation has the simulated\n",
    "respondent’s age, gender, household income, number of kids, home ownership, subscription\n",
    "status, and assigned segment membership.\n",
    "- The original data seg.raw contains “known” segment assignments that have been\n",
    "provided for the data from some other source. \n",
    "- Because our task here is to discover segments, we create a copy\n",
    "seg.df that omits those assignments (omitting column 7), so we don’t accidentally\n",
    "include the known values when exploring applying segmentation methods."
   ]
  },
  {
   "cell_type": "code",
   "execution_count": 10,
   "metadata": {},
   "outputs": [
    {
     "data": {
      "text/plain": [
       "      age           gender        income            kids        ownHome   \n",
       " Min.   :19.26   Female:157   Min.   : -5183   Min.   :0.00   ownNo :159  \n",
       " 1st Qu.:33.01   Male  :143   1st Qu.: 39656   1st Qu.:0.00   ownYes:141  \n",
       " Median :39.49                Median : 52014   Median :1.00               \n",
       " Mean   :41.20                Mean   : 50937   Mean   :1.27               \n",
       " 3rd Qu.:47.90                3rd Qu.: 61403   3rd Qu.:2.00               \n",
       " Max.   :80.49                Max.   :114278   Max.   :7.00               \n",
       "  subscribe  \n",
       " subNo :260  \n",
       " subYes: 40  \n",
       "             \n",
       "             \n",
       "             \n",
       "             "
      ]
     },
     "metadata": {},
     "output_type": "display_data"
    }
   ],
   "source": [
    "summary(seg.df)"
   ]
  },
  {
   "cell_type": "markdown",
   "metadata": {},
   "source": [
    "## 11.3 Clustering"
   ]
  },
  {
   "cell_type": "markdown",
   "metadata": {},
   "source": [
    "To begin, we review two distance-based clustering methods, hclust() and\n",
    "kmeans(). \n",
    " - Distance-based methods attempt to find groups that minimize the distance\n",
    "between members within the group, while maximizing the distance of members\n",
    "from other groups. \n",
    " - hclust() does this by modeling the data in a tree structure,\n",
    "while kmeans() uses group centroids (central points).\n",
    "\n",
    "Then we examine model-based clustering methods, Mclust() and poLCA().\n",
    "Model-based methods view the data as a mixture of groups sampled from different\n",
    "distributions, but whose original distribution and group membership has been “lost”\n",
    "(i.e., is unknown). These methods attempt to model the data such that the observed\n",
    "variance can be best represented by a small number of groups with specific distribution\n",
    "characteristics such as different means and standard deviations. \n",
    " - Mclust()\n",
    "models the data as a mixture of Gaussian (normal) variables, while poLCA() uses\n",
    "a latent class model with categorical (nominal) variables."
   ]
  },
  {
   "cell_type": "markdown",
   "metadata": {},
   "source": [
    "### 11.3.1 The Steps of Clustering"
   ]
  },
  {
   "cell_type": "markdown",
   "metadata": {},
   "source": [
    "Clustering analysis requires two stages: finding a proposed cluster solution and evaluating\n",
    "that solution for one’s business needs. For each method we go through the\n",
    "following steps:\n",
    " - Transform the data if needed for a particular clustering method; for instance,\n",
    "some methods require all numeric data (e.g., kmeans(), mclust()) or all\n",
    "categorical data (e.g., poLCA()).\n",
    " - Compute a distance matrix if needed; some methods require a precomputed\n",
    "matrix of similarity in order to group observations (e.g., hclust()) .\n",
    " - Apply the clustering method and save its result to an object. For some methods\n",
    "this requires specifying the number (K) of groups desired (e.g., kmeans(),\n",
    "poLCA()).\n",
    " - For some methods, further parse the object to obtain a solution with K groups\n",
    "(e.g., hclust()).\n",
    " - Examine the solution in the model object with regard to the underlying data,\n",
    "and consider whether it answers a business question.\n"
   ]
  },
  {
   "cell_type": "markdown",
   "metadata": {},
   "source": [
    "#### 11.3.1.1. A Quick Check Function"
   ]
  },
  {
   "cell_type": "markdown",
   "metadata": {},
   "source": [
    "A segment inspection function may be complex depending on the business need and\n",
    "might even include plotting as well as data summarization. For purposes here we use\n",
    "a simple function that reports the mean by group."
   ]
  },
  {
   "cell_type": "code",
   "execution_count": 11,
   "metadata": {},
   "outputs": [],
   "source": [
    "seg.summ = function(data, groups) {\n",
    "  aggregate(data, list(groups), function(x) mean(as.numeric(x)))\n",
    "}"
   ]
  },
  {
   "cell_type": "markdown",
   "metadata": {},
   "source": [
    "> This function first splits the data by reported group (aggregate(. . ., list\n",
    "(groups), . )). An anonymous function (function(x) . . . ) then converts\n",
    "all of a group’s data to numeric (as.numeric(x)) and computes its mean()."
   ]
  },
  {
   "cell_type": "markdown",
   "metadata": {},
   "source": [
    "With a summary function of this kind we are easily able to answer the following\n",
    "questions related to the business value of a proposed solution:\n",
    "- Are there obvious differences in group means?\n",
    "- Does the differentiation point to some underlying story to tell?\n",
    "- Do we see immediately odd results such as a mean equal to the value of one\n",
    "data level?"
   ]
  },
  {
   "cell_type": "code",
   "execution_count": 12,
   "metadata": {},
   "outputs": [
    {
     "data": {
      "text/html": [
       "<table>\n",
       "<thead><tr><th scope=col>Group.1</th><th scope=col>age</th><th scope=col>gender</th><th scope=col>income</th><th scope=col>kids</th><th scope=col>ownHome</th><th scope=col>subscribe</th></tr></thead>\n",
       "<tbody>\n",
       "\t<tr><td>Moving up </td><td>36.33114  </td><td>1.30      </td><td>53090.97  </td><td>1.914286  </td><td>1.328571  </td><td>1.200     </td></tr>\n",
       "\t<tr><td>Suburb mix</td><td>39.92815  </td><td>1.52      </td><td>55033.82  </td><td>1.920000  </td><td>1.480000  </td><td>1.060     </td></tr>\n",
       "\t<tr><td>Travelers </td><td>57.87088  </td><td>1.50      </td><td>62213.94  </td><td>0.000000  </td><td>1.750000  </td><td>1.125     </td></tr>\n",
       "\t<tr><td>Urban hip </td><td>23.88459  </td><td>1.60      </td><td>21681.93  </td><td>1.100000  </td><td>1.200000  </td><td>1.200     </td></tr>\n",
       "</tbody>\n",
       "</table>\n"
      ],
      "text/latex": [
       "\\begin{tabular}{r|lllllll}\n",
       " Group.1 & age & gender & income & kids & ownHome & subscribe\\\\\n",
       "\\hline\n",
       "\t Moving up  & 36.33114   & 1.30       & 53090.97   & 1.914286   & 1.328571   & 1.200     \\\\\n",
       "\t Suburb mix & 39.92815   & 1.52       & 55033.82   & 1.920000   & 1.480000   & 1.060     \\\\\n",
       "\t Travelers  & 57.87088   & 1.50       & 62213.94   & 0.000000   & 1.750000   & 1.125     \\\\\n",
       "\t Urban hip  & 23.88459   & 1.60       & 21681.93   & 1.100000   & 1.200000   & 1.200     \\\\\n",
       "\\end{tabular}\n"
      ],
      "text/markdown": [
       "\n",
       "Group.1 | age | gender | income | kids | ownHome | subscribe | \n",
       "|---|---|---|---|\n",
       "| Moving up  | 36.33114   | 1.30       | 53090.97   | 1.914286   | 1.328571   | 1.200      | \n",
       "| Suburb mix | 39.92815   | 1.52       | 55033.82   | 1.920000   | 1.480000   | 1.060      | \n",
       "| Travelers  | 57.87088   | 1.50       | 62213.94   | 0.000000   | 1.750000   | 1.125      | \n",
       "| Urban hip  | 23.88459   | 1.60       | 21681.93   | 1.100000   | 1.200000   | 1.200      | \n",
       "\n",
       "\n"
      ],
      "text/plain": [
       "  Group.1    age      gender income   kids     ownHome  subscribe\n",
       "1 Moving up  36.33114 1.30   53090.97 1.914286 1.328571 1.200    \n",
       "2 Suburb mix 39.92815 1.52   55033.82 1.920000 1.480000 1.060    \n",
       "3 Travelers  57.87088 1.50   62213.94 0.000000 1.750000 1.125    \n",
       "4 Urban hip  23.88459 1.60   21681.93 1.100000 1.200000 1.200    "
      ]
     },
     "metadata": {},
     "output_type": "display_data"
    }
   ],
   "source": [
    "seg.summ(seg.df, seg.raw$Segment)"
   ]
  },
  {
   "cell_type": "code",
   "execution_count": 13,
   "metadata": {},
   "outputs": [
    {
     "data": {
      "text/html": [
       "<table>\n",
       "<thead><tr><th scope=col>seg.raw$Segment</th><th scope=col>age</th><th scope=col>gender</th><th scope=col>income</th><th scope=col>kids</th><th scope=col>ownHome</th><th scope=col>subscribe</th></tr></thead>\n",
       "<tbody>\n",
       "\t<tr><td>Moving up </td><td>36.33114  </td><td>1.30      </td><td>53090.97  </td><td>1.914286  </td><td>1.328571  </td><td>1.200     </td></tr>\n",
       "\t<tr><td>Suburb mix</td><td>39.92815  </td><td>1.52      </td><td>55033.82  </td><td>1.920000  </td><td>1.480000  </td><td>1.060     </td></tr>\n",
       "\t<tr><td>Travelers </td><td>57.87088  </td><td>1.50      </td><td>62213.94  </td><td>0.000000  </td><td>1.750000  </td><td>1.125     </td></tr>\n",
       "\t<tr><td>Urban hip </td><td>23.88459  </td><td>1.60      </td><td>21681.93  </td><td>1.100000  </td><td>1.200000  </td><td>1.200     </td></tr>\n",
       "</tbody>\n",
       "</table>\n"
      ],
      "text/latex": [
       "\\begin{tabular}{r|lllllll}\n",
       " seg.raw\\$Segment & age & gender & income & kids & ownHome & subscribe\\\\\n",
       "\\hline\n",
       "\t Moving up  & 36.33114   & 1.30       & 53090.97   & 1.914286   & 1.328571   & 1.200     \\\\\n",
       "\t Suburb mix & 39.92815   & 1.52       & 55033.82   & 1.920000   & 1.480000   & 1.060     \\\\\n",
       "\t Travelers  & 57.87088   & 1.50       & 62213.94   & 0.000000   & 1.750000   & 1.125     \\\\\n",
       "\t Urban hip  & 23.88459   & 1.60       & 21681.93   & 1.100000   & 1.200000   & 1.200     \\\\\n",
       "\\end{tabular}\n"
      ],
      "text/markdown": [
       "\n",
       "seg.raw$Segment | age | gender | income | kids | ownHome | subscribe | \n",
       "|---|---|---|---|\n",
       "| Moving up  | 36.33114   | 1.30       | 53090.97   | 1.914286   | 1.328571   | 1.200      | \n",
       "| Suburb mix | 39.92815   | 1.52       | 55033.82   | 1.920000   | 1.480000   | 1.060      | \n",
       "| Travelers  | 57.87088   | 1.50       | 62213.94   | 0.000000   | 1.750000   | 1.125      | \n",
       "| Urban hip  | 23.88459   | 1.60       | 21681.93   | 1.100000   | 1.200000   | 1.200      | \n",
       "\n",
       "\n"
      ],
      "text/plain": [
       "  seg.raw$Segment age      gender income   kids     ownHome  subscribe\n",
       "1 Moving up       36.33114 1.30   53090.97 1.914286 1.328571 1.200    \n",
       "2 Suburb mix      39.92815 1.52   55033.82 1.920000 1.480000 1.060    \n",
       "3 Travelers       57.87088 1.50   62213.94 0.000000 1.750000 1.125    \n",
       "4 Urban hip       23.88459 1.60   21681.93 1.100000 1.200000 1.200    "
      ]
     },
     "metadata": {},
     "output_type": "display_data"
    }
   ],
   "source": [
    "# Why not use a standard R function such as by() or aggregate()?\n",
    "\n",
    "aggregate(.~ seg.raw$Segment, data = seg.df, FUN=mean)"
   ]
  },
  {
   "cell_type": "markdown",
   "metadata": {},
   "source": [
    "### 11.3.2 Hierarchical Clustering: hclust() Basics"
   ]
  },
  {
   "cell_type": "markdown",
   "metadata": {},
   "source": [
    "Hierarchical clustering is a popular method that groups observations according to\n",
    "their similarity. The hclust() method is one way to perform this analysis in R.\n",
    " - hclust() is a distance-based algorithm that operates on a ***dissimilarity *** matrix, an\n",
    "N-by-N matrix that reports a metric for the distance between each pair of observations.\n",
    "\n",
    "The hierarchical clustering method begins with each observation in its own cluster.\n",
    "It then successively joins neighboring observations or clusters one at a time according\n",
    "to their distances from one another, and continues this until all observations\n",
    "are linked. \n",
    "- This process of repeatedly joining observations and groups is known as\n",
    "an ***agglomerative*** method. Because it is both very popular and exemplary of other\n",
    "methods, we present hierarchical clustering in more detail than the other clustering\n",
    "algorithms.\n",
    "\n",
    "The primary information in hierarchical clustering is the distance between observations.\n",
    " - There are many ways to compute distance, and we start by examining the\n",
    "best-known method, the Euclidean distance. For two observations (vectors) X and\n",
    "Y, the Euclidean distance d is:\n",
    "\n",
    "<p style=\"text-align: center;\"> $d = \\sqrt{\\sum(X-Y)^2}$ </p>\n"
   ]
  },
  {
   "cell_type": "markdown",
   "metadata": {},
   "source": [
    "For single pairs of observations, such as X = {1,2,3} and Y = {2,3,2} we can\n",
    "compute the distance easily in R:"
   ]
  },
  {
   "cell_type": "code",
   "execution_count": 14,
   "metadata": {},
   "outputs": [
    {
     "data": {
      "text/html": [
       "<ol class=list-inline>\n",
       "\t<li>-1</li>\n",
       "\t<li>-1</li>\n",
       "\t<li>1</li>\n",
       "</ol>\n"
      ],
      "text/latex": [
       "\\begin{enumerate*}\n",
       "\\item -1\n",
       "\\item -1\n",
       "\\item 1\n",
       "\\end{enumerate*}\n"
      ],
      "text/markdown": [
       "1. -1\n",
       "2. -1\n",
       "3. 1\n",
       "\n",
       "\n"
      ],
      "text/plain": [
       "[1] -1 -1  1"
      ]
     },
     "metadata": {},
     "output_type": "display_data"
    },
    {
     "data": {
      "text/html": [
       "3"
      ],
      "text/latex": [
       "3"
      ],
      "text/markdown": [
       "3"
      ],
      "text/plain": [
       "[1] 3"
      ]
     },
     "metadata": {},
     "output_type": "display_data"
    },
    {
     "data": {
      "text/html": [
       "1.73205080756888"
      ],
      "text/latex": [
       "1.73205080756888"
      ],
      "text/markdown": [
       "1.73205080756888"
      ],
      "text/plain": [
       "[1] 1.732051"
      ]
     },
     "metadata": {},
     "output_type": "display_data"
    }
   ],
   "source": [
    "c(1,2,3) - c(2,3,2)                  # vector of differences\n",
    "sum((c(1,2,3) - c(2,3,2))^2)         # the sum of squared differences\n",
    "sqrt(sum((c(1,2,3) - c(2,3,2))^2))   # root sum of squares"
   ]
  },
  {
   "cell_type": "markdown",
   "metadata": {},
   "source": [
    "When there are many pairs, this can be done with the dist() function. Let’s check\n",
    "it first for the simple X,Y example, using rbind() to group these vectors as observations\n",
    "(rows):"
   ]
  },
  {
   "cell_type": "code",
   "execution_count": 15,
   "metadata": {},
   "outputs": [
    {
     "data": {
      "text/plain": [
       "         1\n",
       "2 1.732051"
      ]
     },
     "metadata": {},
     "output_type": "display_data"
    }
   ],
   "source": [
    "dist(rbind(c(1,2,3), c(2,3,2)))"
   ]
  },
  {
   "cell_type": "markdown",
   "metadata": {},
   "source": [
    "> The row and column labels tell us that dist() is returning a matrix for observation\n",
    "1 (column) by observation 2 (row)."
   ]
  },
  {
   "cell_type": "code",
   "execution_count": 16,
   "metadata": {},
   "outputs": [
    {
     "data": {
      "text/plain": [
       "         1        2\n",
       "2 1.414214         \n",
       "3 2.000000 1.414214"
      ]
     },
     "metadata": {},
     "output_type": "display_data"
    }
   ],
   "source": [
    "#if cbind()?\n",
    "dist(cbind(c(1,2,3), c(2,3,2)))"
   ]
  },
  {
   "cell_type": "markdown",
   "metadata": {},
   "source": [
    "A limitation is that Euclidean distance is only defined when observations are numeric If we did\n",
    "not care about the factor variables, then we could compute Euclidean distance using\n",
    "only the numeric columns.\n",
    "- For example, we can select the three numeric columns in seg.df, calculate the distances,\n",
    "and then look at a matrix for just the first five observations as follows:"
   ]
  },
  {
   "cell_type": "code",
   "execution_count": 17,
   "metadata": {},
   "outputs": [
    {
     "data": {
      "text/html": [
       "<table>\n",
       "<thead><tr><th></th><th scope=col>1</th><th scope=col>2</th><th scope=col>3</th><th scope=col>4</th><th scope=col>5</th></tr></thead>\n",
       "<tbody>\n",
       "\t<tr><th scope=row>1</th><td>    0.000</td><td>13936.531</td><td> 5313.626</td><td>31559.178</td><td>29870.205</td></tr>\n",
       "\t<tr><th scope=row>2</th><td>13936.531</td><td>    0.000</td><td> 8622.906</td><td>45495.698</td><td>43806.727</td></tr>\n",
       "\t<tr><th scope=row>3</th><td> 5313.626</td><td> 8622.906</td><td>    0.000</td><td>36872.800</td><td>35183.828</td></tr>\n",
       "\t<tr><th scope=row>4</th><td>31559.178</td><td>45495.698</td><td>36872.800</td><td>    0.000</td><td> 1688.977</td></tr>\n",
       "\t<tr><th scope=row>5</th><td>29870.205</td><td>43806.727</td><td>35183.828</td><td> 1688.977</td><td>    0.000</td></tr>\n",
       "</tbody>\n",
       "</table>\n"
      ],
      "text/latex": [
       "\\begin{tabular}{r|lllll}\n",
       "  & 1 & 2 & 3 & 4 & 5\\\\\n",
       "\\hline\n",
       "\t1 &     0.000 & 13936.531 &  5313.626 & 31559.178 & 29870.205\\\\\n",
       "\t2 & 13936.531 &     0.000 &  8622.906 & 45495.698 & 43806.727\\\\\n",
       "\t3 &  5313.626 &  8622.906 &     0.000 & 36872.800 & 35183.828\\\\\n",
       "\t4 & 31559.178 & 45495.698 & 36872.800 &     0.000 &  1688.977\\\\\n",
       "\t5 & 29870.205 & 43806.727 & 35183.828 &  1688.977 &     0.000\\\\\n",
       "\\end{tabular}\n"
      ],
      "text/markdown": [
       "\n",
       "| <!--/--> | 1 | 2 | 3 | 4 | 5 | \n",
       "|---|---|---|---|---|\n",
       "| 1 |     0.000 | 13936.531 |  5313.626 | 31559.178 | 29870.205 | \n",
       "| 2 | 13936.531 |     0.000 |  8622.906 | 45495.698 | 43806.727 | \n",
       "| 3 |  5313.626 |  8622.906 |     0.000 | 36872.800 | 35183.828 | \n",
       "| 4 | 31559.178 | 45495.698 | 36872.800 |     0.000 |  1688.977 | \n",
       "| 5 | 29870.205 | 43806.727 | 35183.828 |  1688.977 |     0.000 | \n",
       "\n",
       "\n"
      ],
      "text/plain": [
       "  1         2         3         4         5        \n",
       "1     0.000 13936.531  5313.626 31559.178 29870.205\n",
       "2 13936.531     0.000  8622.906 45495.698 43806.727\n",
       "3  5313.626  8622.906     0.000 36872.800 35183.828\n",
       "4 31559.178 45495.698 36872.800     0.000  1688.977\n",
       "5 29870.205 43806.727 35183.828  1688.977     0.000"
      ]
     },
     "metadata": {},
     "output_type": "display_data"
    }
   ],
   "source": [
    "d = dist(seg.df[, c(\"age\", \"income\", \"kids\")])\n",
    "as.matrix(d)[1:5, 1:5]"
   ]
  },
  {
   "cell_type": "markdown",
   "metadata": {},
   "source": [
    "For seg.df we cannot assume that factor variables are irrelevant to our cluster\n",
    "definitions; ***it is better to use all the data. ***\n",
    "- The daisy() function in the cluster\n",
    "package [108] works with mixed data types by rescaling the values, so we use that\n",
    "instead of Euclidean distance:"
   ]
  },
  {
   "cell_type": "code",
   "execution_count": 18,
   "metadata": {},
   "outputs": [],
   "source": [
    "library(cluster)            # daisy works with mixed data types"
   ]
  },
  {
   "cell_type": "code",
   "execution_count": 19,
   "metadata": {},
   "outputs": [
    {
     "data": {
      "text/html": [
       "<table>\n",
       "<thead><tr><th></th><th scope=col>1</th><th scope=col>2</th><th scope=col>3</th><th scope=col>4</th><th scope=col>5</th></tr></thead>\n",
       "<tbody>\n",
       "\t<tr><th scope=row>1</th><td>0.0000000</td><td>0.2532815</td><td>0.2329028</td><td>0.2617250</td><td>0.4161338</td></tr>\n",
       "\t<tr><th scope=row>2</th><td>0.2532815</td><td>0.0000000</td><td>0.0679978</td><td>0.4129493</td><td>0.3014468</td></tr>\n",
       "\t<tr><th scope=row>3</th><td>0.2329028</td><td>0.0679978</td><td>0.0000000</td><td>0.4246012</td><td>0.2932957</td></tr>\n",
       "\t<tr><th scope=row>4</th><td>0.2617250</td><td>0.4129493</td><td>0.4246012</td><td>0.0000000</td><td>0.2265436</td></tr>\n",
       "\t<tr><th scope=row>5</th><td>0.4161338</td><td>0.3014468</td><td>0.2932957</td><td>0.2265436</td><td>0.0000000</td></tr>\n",
       "</tbody>\n",
       "</table>\n"
      ],
      "text/latex": [
       "\\begin{tabular}{r|lllll}\n",
       "  & 1 & 2 & 3 & 4 & 5\\\\\n",
       "\\hline\n",
       "\t1 & 0.0000000 & 0.2532815 & 0.2329028 & 0.2617250 & 0.4161338\\\\\n",
       "\t2 & 0.2532815 & 0.0000000 & 0.0679978 & 0.4129493 & 0.3014468\\\\\n",
       "\t3 & 0.2329028 & 0.0679978 & 0.0000000 & 0.4246012 & 0.2932957\\\\\n",
       "\t4 & 0.2617250 & 0.4129493 & 0.4246012 & 0.0000000 & 0.2265436\\\\\n",
       "\t5 & 0.4161338 & 0.3014468 & 0.2932957 & 0.2265436 & 0.0000000\\\\\n",
       "\\end{tabular}\n"
      ],
      "text/markdown": [
       "\n",
       "| <!--/--> | 1 | 2 | 3 | 4 | 5 | \n",
       "|---|---|---|---|---|\n",
       "| 1 | 0.0000000 | 0.2532815 | 0.2329028 | 0.2617250 | 0.4161338 | \n",
       "| 2 | 0.2532815 | 0.0000000 | 0.0679978 | 0.4129493 | 0.3014468 | \n",
       "| 3 | 0.2329028 | 0.0679978 | 0.0000000 | 0.4246012 | 0.2932957 | \n",
       "| 4 | 0.2617250 | 0.4129493 | 0.4246012 | 0.0000000 | 0.2265436 | \n",
       "| 5 | 0.4161338 | 0.3014468 | 0.2932957 | 0.2265436 | 0.0000000 | \n",
       "\n",
       "\n"
      ],
      "text/plain": [
       "  1         2         3         4         5        \n",
       "1 0.0000000 0.2532815 0.2329028 0.2617250 0.4161338\n",
       "2 0.2532815 0.0000000 0.0679978 0.4129493 0.3014468\n",
       "3 0.2329028 0.0679978 0.0000000 0.4246012 0.2932957\n",
       "4 0.2617250 0.4129493 0.4246012 0.0000000 0.2265436\n",
       "5 0.4161338 0.3014468 0.2932957 0.2265436 0.0000000"
      ]
     },
     "metadata": {},
     "output_type": "display_data"
    }
   ],
   "source": [
    "seg.dist = daisy(seg.df)\n",
    "as.matrix(seg.dist)[1:5, 1:5]"
   ]
  },
  {
   "cell_type": "markdown",
   "metadata": {},
   "source": [
    "> We inspect the distances computed by daisy() by coercing the resulting object to\n",
    "a matrix and selecting the first few rows and columns:\n",
    " - The distances look reasonable (zeroes on the diagonal, symmetric, scaled [0, 1]) "
   ]
  },
  {
   "cell_type": "markdown",
   "metadata": {},
   "source": [
    "So\n",
    "we proceed to the hierarchical cluster method itself, invoking hclust() on the\n",
    "dissimilarity matrix:"
   ]
  },
  {
   "cell_type": "code",
   "execution_count": 20,
   "metadata": {},
   "outputs": [
    {
     "data": {
      "image/png": "[encoded data removed]",
      "text/plain": [
       "Plot with title \"Cluster Dendrogram\""
      ]
     },
     "metadata": {},
     "output_type": "display_data"
    }
   ],
   "source": [
    "seg.hc = hclust(seg.dist, method=\"complete\")\n",
    "plot(seg.hc)"
   ]
  },
  {
   "cell_type": "markdown",
   "metadata": {},
   "source": [
    "We use the complete linkage method, which evaluates the distance between every\n",
    "member when combining observations and groups.\n",
    "- The resulting tree for all N = 300 observations of seg.df is shown in\n",
    "Fig. 11.1.\n",
    "\n",
    "A hierarchical dendrogram is interpreted primarily by height and where observations\n",
    "are joined. The height represents the dissimilarity between elements that are\n",
    "joined.\n",
    "- At the lowest level of the tree in Fig. 11.1 we see that elements are combined\n",
    "into small groups of 2–10 that are relatively similar, and then those groups are\n",
    "successively combined with less similar groups moving up the tree.\n",
    "- The horizontal\n",
    "ordering of branches is not important; branches could exchange places with no\n",
    "change in interpretation."
   ]
  },
  {
   "cell_type": "markdown",
   "metadata": {},
   "source": [
    "Figure 11.1 is difficult to read, so it is helpful to zoom in on one section of the chart.\n",
    "- We can cut it at a specified location and plot just one branch as follows.We coerce it\n",
    "to a dendrogram object (as.dendrogram(. . . )), cut it at a certain height (h=. . . ),\n",
    "and select the resulting branch that we want (. . . $lower[[1]])."
   ]
  },
  {
   "cell_type": "code",
   "execution_count": 21,
   "metadata": {},
   "outputs": [
    {
     "data": {
      "image/png": "[encoded data removed]",
      "text/plain": [
       "plot without title"
      ]
     },
     "metadata": {},
     "output_type": "display_data"
    }
   ],
   "source": [
    "plot(cut(as.dendrogram(seg.hc), h=0.5)$lower[[1]])"
   ]
  },
  {
   "cell_type": "markdown",
   "metadata": {},
   "source": [
    "> The result is shown in Fig. 11.2, where we are now able to read the observation labels\n",
    "(which defaults to the row names—usually the row numbers—of observations\n",
    "in the data frame). Each node at the bottom represents one customer, and the brackets\n",
    "show how each has been grouped progressively with other customers.\n",
    "- We can check the similarity of observations by selecting a few rows listed in\n",
    "Fig. 11.2. Observations 101 and 107 are represented as being quite similar because\n",
    "they are linked at a very low height, as are observations 278 and 294. On the other\n",
    "hand, observations 173 and 141 are only joined at the highest level of this branch\n",
    "and thus should be relatively dissimilar."
   ]
  },
  {
   "cell_type": "code",
   "execution_count": 22,
   "metadata": {},
   "outputs": [
    {
     "data": {
      "text/html": [
       "<table>\n",
       "<thead><tr><th></th><th scope=col>age</th><th scope=col>gender</th><th scope=col>income</th><th scope=col>kids</th><th scope=col>ownHome</th><th scope=col>subscribe</th></tr></thead>\n",
       "<tbody>\n",
       "\t<tr><th scope=row>101</th><td>24.73796</td><td>Male    </td><td>18457.85</td><td>1       </td><td>ownNo   </td><td>subYes  </td></tr>\n",
       "\t<tr><th scope=row>107</th><td>23.19013</td><td>Male    </td><td>17510.28</td><td>1       </td><td>ownNo   </td><td>subYes  </td></tr>\n",
       "</tbody>\n",
       "</table>\n"
      ],
      "text/latex": [
       "\\begin{tabular}{r|llllll}\n",
       "  & age & gender & income & kids & ownHome & subscribe\\\\\n",
       "\\hline\n",
       "\t101 & 24.73796 & Male     & 18457.85 & 1        & ownNo    & subYes  \\\\\n",
       "\t107 & 23.19013 & Male     & 17510.28 & 1        & ownNo    & subYes  \\\\\n",
       "\\end{tabular}\n"
      ],
      "text/markdown": [
       "\n",
       "| <!--/--> | age | gender | income | kids | ownHome | subscribe | \n",
       "|---|---|\n",
       "| 101 | 24.73796 | Male     | 18457.85 | 1        | ownNo    | subYes   | \n",
       "| 107 | 23.19013 | Male     | 17510.28 | 1        | ownNo    | subYes   | \n",
       "\n",
       "\n"
      ],
      "text/plain": [
       "    age      gender income   kids ownHome subscribe\n",
       "101 24.73796 Male   18457.85 1    ownNo   subYes   \n",
       "107 23.19013 Male   17510.28 1    ownNo   subYes   "
      ]
     },
     "metadata": {},
     "output_type": "display_data"
    },
    {
     "data": {
      "text/html": [
       "<table>\n",
       "<thead><tr><th></th><th scope=col>age</th><th scope=col>gender</th><th scope=col>income</th><th scope=col>kids</th><th scope=col>ownHome</th><th scope=col>subscribe</th></tr></thead>\n",
       "<tbody>\n",
       "\t<tr><th scope=row>278</th><td>36.23860</td><td>Female  </td><td>46540.88</td><td>1       </td><td>ownNo   </td><td>subYes  </td></tr>\n",
       "\t<tr><th scope=row>294</th><td>35.79961</td><td>Female  </td><td>52352.69</td><td>1       </td><td>ownNo   </td><td>subYes  </td></tr>\n",
       "</tbody>\n",
       "</table>\n"
      ],
      "text/latex": [
       "\\begin{tabular}{r|llllll}\n",
       "  & age & gender & income & kids & ownHome & subscribe\\\\\n",
       "\\hline\n",
       "\t278 & 36.23860 & Female   & 46540.88 & 1        & ownNo    & subYes  \\\\\n",
       "\t294 & 35.79961 & Female   & 52352.69 & 1        & ownNo    & subYes  \\\\\n",
       "\\end{tabular}\n"
      ],
      "text/markdown": [
       "\n",
       "| <!--/--> | age | gender | income | kids | ownHome | subscribe | \n",
       "|---|---|\n",
       "| 278 | 36.23860 | Female   | 46540.88 | 1        | ownNo    | subYes   | \n",
       "| 294 | 35.79961 | Female   | 52352.69 | 1        | ownNo    | subYes   | \n",
       "\n",
       "\n"
      ],
      "text/plain": [
       "    age      gender income   kids ownHome subscribe\n",
       "278 36.23860 Female 46540.88 1    ownNo   subYes   \n",
       "294 35.79961 Female 52352.69 1    ownNo   subYes   "
      ]
     },
     "metadata": {},
     "output_type": "display_data"
    },
    {
     "data": {
      "text/html": [
       "<table>\n",
       "<thead><tr><th></th><th scope=col>age</th><th scope=col>gender</th><th scope=col>income</th><th scope=col>kids</th><th scope=col>ownHome</th><th scope=col>subscribe</th></tr></thead>\n",
       "<tbody>\n",
       "\t<tr><th scope=row>173</th><td>64.70641</td><td>Male    </td><td>45517.15</td><td>0       </td><td>ownNo   </td><td>subYes  </td></tr>\n",
       "\t<tr><th scope=row>141</th><td>25.17703</td><td>Female  </td><td>20125.80</td><td>2       </td><td>ownNo   </td><td>subYes  </td></tr>\n",
       "</tbody>\n",
       "</table>\n"
      ],
      "text/latex": [
       "\\begin{tabular}{r|llllll}\n",
       "  & age & gender & income & kids & ownHome & subscribe\\\\\n",
       "\\hline\n",
       "\t173 & 64.70641 & Male     & 45517.15 & 0        & ownNo    & subYes  \\\\\n",
       "\t141 & 25.17703 & Female   & 20125.80 & 2        & ownNo    & subYes  \\\\\n",
       "\\end{tabular}\n"
      ],
      "text/markdown": [
       "\n",
       "| <!--/--> | age | gender | income | kids | ownHome | subscribe | \n",
       "|---|---|\n",
       "| 173 | 64.70641 | Male     | 45517.15 | 0        | ownNo    | subYes   | \n",
       "| 141 | 25.17703 | Female   | 20125.80 | 2        | ownNo    | subYes   | \n",
       "\n",
       "\n"
      ],
      "text/plain": [
       "    age      gender income   kids ownHome subscribe\n",
       "173 64.70641 Male   45517.15 0    ownNo   subYes   \n",
       "141 25.17703 Female 20125.80 2    ownNo   subYes   "
      ]
     },
     "metadata": {},
     "output_type": "display_data"
    }
   ],
   "source": [
    "seg.df[c(101, 107), ]                # similar\n",
    "seg.df[c(278, 294), ]                # similar\n",
    "seg.df[c(173, 141), ]                # less similar"
   ]
  },
  {
   "cell_type": "markdown",
   "metadata": {},
   "source": [
    ">The first two sets—observations that are neighbors in the dendrogram—are similar\n",
    "on all variables (age, gender, income, etc.). The third set—observations taken from\n",
    "widely separated branches—differs substantially on the first four variables."
   ]
  },
  {
   "cell_type": "markdown",
   "metadata": {},
   "source": [
    "Finally, we might check one of the goodness-of-fit metrics for a hierarchical cluster\n",
    "solution. \n",
    " - One method is the cophenetic correlation coefficient (CPCC), which\n",
    "assesses how well a dendrogram (in this case seg.hc) matches the true distance\n",
    "metric (seg.dist) [145]. We use cophenetic() to get the distances from the\n",
    "dendrogram, and compare it to the dist() metrics with cor():"
   ]
  },
  {
   "cell_type": "code",
   "execution_count": 23,
   "metadata": {},
   "outputs": [
    {
     "data": {
      "text/html": [
       "0.768243613231283"
      ],
      "text/latex": [
       "0.768243613231283"
      ],
      "text/markdown": [
       "0.768243613231283"
      ],
      "text/plain": [
       "[1] 0.7682436"
      ]
     },
     "metadata": {},
     "output_type": "display_data"
    }
   ],
   "source": [
    "cor(cophenetic(seg.hc), seg.dist)"
   ]
  },
  {
   "cell_type": "markdown",
   "metadata": {},
   "source": [
    "> CPCC is interpreted similarly to Pearson’s r. In this case, CPCC > 0.7 indicates\n",
    "a relatively strong fit, meaning that the hierarchical tree represents the distances\n",
    "between customers well."
   ]
  },
  {
   "cell_type": "markdown",
   "metadata": {},
   "source": [
    "### 11.3.3 Hierarchical Clustering Continued: Groups from hclust()"
   ]
  },
  {
   "cell_type": "markdown",
   "metadata": {},
   "source": [
    "How do we get specific segment assignments? A dendrogram can be cut into clusters\n",
    "at any height desired, resulting in different numbers of groups. \n",
    " - For instance, if\n",
    "Fig. 11.1 is cut at a height of 0.7, there are K = 2 groups (draw a horizontal line at\n",
    "0.7 and count how many branches it intersects; each cluster below is a group), while\n",
    "cutting at height of 0.4 defines K = 7 groups."
   ]
  },
  {
   "cell_type": "markdown",
   "metadata": {},
   "source": [
    "We can see where the dendrogram would be cut by overlaying\n",
    "its plot() with rect.hclust(), specifying the number of groups we want\n",
    "(k=. . . ):"
   ]
  },
  {
   "cell_type": "code",
   "execution_count": 24,
   "metadata": {},
   "outputs": [
    {
     "data": {
      "image/png": "[encoded data removed]",
      "text/plain": [
       "Plot with title \"Cluster Dendrogram\""
      ]
     },
     "metadata": {},
     "output_type": "display_data"
    }
   ],
   "source": [
    "plot(seg.hc)\n",
    "rect.hclust(seg.hc, k=4, border=\"red\")"
   ]
  },
  {
   "cell_type": "markdown",
   "metadata": {},
   "source": [
    "> Fig. 11.3. The result of cutting Fig. 11.1 into K = 4 groups."
   ]
  },
  {
   "cell_type": "markdown",
   "metadata": {},
   "source": [
    "We obtain the assignment vector for observations using cutree():"
   ]
  },
  {
   "cell_type": "code",
   "execution_count": 25,
   "metadata": {},
   "outputs": [
    {
     "data": {
      "text/plain": [
       "seg.hc.segment\n",
       "  1   2   3   4 \n",
       "124 136  18  22 "
      ]
     },
     "metadata": {},
     "output_type": "display_data"
    }
   ],
   "source": [
    "seg.hc.segment = cutree(seg.hc, k=4)     # membership vector for 4 groups\n",
    "table(seg.hc.segment)"
   ]
  },
  {
   "cell_type": "markdown",
   "metadata": {},
   "source": [
    ">We see that groups 1 and 2 dominate the assignment. Note that the class labels\n",
    "(1, 2, 3, 4) are in arbitrary order and are not meaningful in themselves.\n",
    "seg.hc.segment is the vector of group assignments."
   ]
  },
  {
   "cell_type": "markdown",
   "metadata": {},
   "source": [
    "We use our custom summary function seg.summ(), defined above, to inspect the\n",
    "variables in seg.df with reference to the four clusters:"
   ]
  },
  {
   "cell_type": "code",
   "execution_count": 26,
   "metadata": {},
   "outputs": [
    {
     "data": {
      "text/html": [
       "<table>\n",
       "<thead><tr><th scope=col>Group.1</th><th scope=col>age</th><th scope=col>gender</th><th scope=col>income</th><th scope=col>kids</th><th scope=col>ownHome</th><th scope=col>subscribe</th></tr></thead>\n",
       "<tbody>\n",
       "\t<tr><td>1       </td><td>40.78456</td><td>2.000000</td><td>49454.08</td><td>1.314516</td><td>1.467742</td><td>1       </td></tr>\n",
       "\t<tr><td>2       </td><td>42.03492</td><td>1.000000</td><td>53759.62</td><td>1.235294</td><td>1.477941</td><td>1       </td></tr>\n",
       "\t<tr><td>3       </td><td>44.31194</td><td>1.388889</td><td>52628.42</td><td>1.388889</td><td>2.000000</td><td>2       </td></tr>\n",
       "\t<tr><td>4       </td><td>35.82935</td><td>1.545455</td><td>40456.14</td><td>1.136364</td><td>1.000000</td><td>2       </td></tr>\n",
       "</tbody>\n",
       "</table>\n"
      ],
      "text/latex": [
       "\\begin{tabular}{r|lllllll}\n",
       " Group.1 & age & gender & income & kids & ownHome & subscribe\\\\\n",
       "\\hline\n",
       "\t 1        & 40.78456 & 2.000000 & 49454.08 & 1.314516 & 1.467742 & 1       \\\\\n",
       "\t 2        & 42.03492 & 1.000000 & 53759.62 & 1.235294 & 1.477941 & 1       \\\\\n",
       "\t 3        & 44.31194 & 1.388889 & 52628.42 & 1.388889 & 2.000000 & 2       \\\\\n",
       "\t 4        & 35.82935 & 1.545455 & 40456.14 & 1.136364 & 1.000000 & 2       \\\\\n",
       "\\end{tabular}\n"
      ],
      "text/markdown": [
       "\n",
       "Group.1 | age | gender | income | kids | ownHome | subscribe | \n",
       "|---|---|---|---|\n",
       "| 1        | 40.78456 | 2.000000 | 49454.08 | 1.314516 | 1.467742 | 1        | \n",
       "| 2        | 42.03492 | 1.000000 | 53759.62 | 1.235294 | 1.477941 | 1        | \n",
       "| 3        | 44.31194 | 1.388889 | 52628.42 | 1.388889 | 2.000000 | 2        | \n",
       "| 4        | 35.82935 | 1.545455 | 40456.14 | 1.136364 | 1.000000 | 2        | \n",
       "\n",
       "\n"
      ],
      "text/plain": [
       "  Group.1 age      gender   income   kids     ownHome  subscribe\n",
       "1 1       40.78456 2.000000 49454.08 1.314516 1.467742 1        \n",
       "2 2       42.03492 1.000000 53759.62 1.235294 1.477941 1        \n",
       "3 3       44.31194 1.388889 52628.42 1.388889 2.000000 2        \n",
       "4 4       35.82935 1.545455 40456.14 1.136364 1.000000 2        "
      ]
     },
     "metadata": {},
     "output_type": "display_data"
    }
   ],
   "source": [
    "seg.summ(seg.df, seg.hc.segment)"
   ]
  },
  {
   "cell_type": "markdown",
   "metadata": {},
   "source": [
    "> We see that groups 1 and 2 are distinct from 3 and 4 due to subscription status.\n",
    "- Among those who do not subscribe, group 1 is all male (gender=2 as in\n",
    "levels(seg.df$gender)) while group 1 is all female. \n",
    "- Subscribers are differentiated\n",
    "into those who own a home (group 3) or not (group 4)."
   ]
  },
  {
   "cell_type": "markdown",
   "metadata": {},
   "source": [
    "We confirm this with a quick plot of gender by subscribe with all of the observations\n",
    "colored by segment membership. To do this, we use a trick: \n",
    "- we convert the\n",
    "factor variables to numeric, and call the jitter() function to add a bit of noise\n",
    "and prevent all the cases from being plotted at the same positions (namely at exactly\n",
    "four points: (1,1), (1,2), (2,1), and (2,2)). \n",
    "- We color the points by segment with\n",
    "col=seg.hc.segment, and label the axes with more meaningful labels:"
   ]
  },
  {
   "cell_type": "code",
   "execution_count": 27,
   "metadata": {},
   "outputs": [
    {
     "data": {
      "image/png": "[encoded data removed]",
      "text/plain": [
       "plot without title"
      ]
     },
     "metadata": {},
     "output_type": "display_data"
    }
   ],
   "source": [
    "plot(jitter(as.numeric(seg.df$gender))~ jitter(as.numeric(seg.df$subscribe)), \n",
    "     col = seg.hc.segment, yaxt='n', xaxt='n', ylab='', xlab='')\n",
    "axis(1, at=c(1,2), labels=c('Subscribe:No', 'Subscribe:Yes'))\n",
    "axis(2, at=c(1,2), labels=levels(seg.df$gender))"
   ]
  },
  {
   "cell_type": "markdown",
   "metadata": {},
   "source": [
    "> Fig. 11.4. Plotting the 4-segment solution from hclust() by gender and subscription status,\n",
    "with color representing segment membership. We see the uninteresting result that nonsubscribers\n",
    "are simply divided into two segments purely on the basis of gender."
   ]
  },
  {
   "cell_type": "markdown",
   "metadata": {},
   "source": [
    "Why did hclust() find a result that is so uninteresting? That may be answered\n",
    "in several ways. \n",
    " - For one thing, machine learning techniques often take the path of\n",
    "least resistance and serve up obvious results. In this specific case, the scaling in\n",
    "daisy() rescales variables to [0,1] and this will make two-category factors (gender,\n",
    "subscription status, home ownership) more influential. \n",
    " - Overall, this demonstrates\n",
    "why you should expect to try several methods and iterate in order to find\n",
    "something useful."
   ]
  },
  {
   "cell_type": "markdown",
   "metadata": {},
   "source": [
    "### 11.3.4 Mean-Based Clustering: kmeans()"
   ]
  },
  {
   "cell_type": "markdown",
   "metadata": {},
   "source": [
    "K-means clustering attempts to find groups that are most compact, in terms of the\n",
    "mean sum-of-squares deviation of each observation from the multivariate center\n",
    "(centroid) of its assigned group. Like hierarchical clustering, k-means is a very popular\n",
    "approach.\n",
    "- Because it explicitly computes a mean deviation, k-means clustering relies on Euclidean\n",
    "distance. Thus it is only appropriate for numeric data or data that can be\n",
    "reasonably coerced to numeric.\n",
    "- In our seg.df data, we have a mix of numeric\n",
    "and binary factors. Unlike higher-order categorical variables, binary factors can be\n",
    "coerced to numeric with no alteration of meaning."
   ]
  },
  {
   "cell_type": "markdown",
   "metadata": {},
   "source": [
    "Although it is not optimal to cluster binary values with k-means, given that we have\n",
    "a mixture of binary and numeric data, we might attempt it. \n",
    " - Our first step is to create\n",
    "a variant of seg.df that is recoded to numeric. We make a copy of seg.df and\n",
    "use ifelse() to recode the binary factors:"
   ]
  },
  {
   "cell_type": "code",
   "execution_count": 28,
   "metadata": {},
   "outputs": [
    {
     "data": {
      "text/plain": [
       "      age            gender           income            kids     \n",
       " Min.   :19.26   Min.   :0.0000   Min.   : -5183   Min.   :0.00  \n",
       " 1st Qu.:33.01   1st Qu.:0.0000   1st Qu.: 39656   1st Qu.:0.00  \n",
       " Median :39.49   Median :1.0000   Median : 52014   Median :1.00  \n",
       " Mean   :41.20   Mean   :0.5233   Mean   : 50937   Mean   :1.27  \n",
       " 3rd Qu.:47.90   3rd Qu.:1.0000   3rd Qu.: 61403   3rd Qu.:2.00  \n",
       " Max.   :80.49   Max.   :1.0000   Max.   :114278   Max.   :7.00  \n",
       "    ownHome       subscribe     \n",
       " Min.   :0.00   Min.   :0.0000  \n",
       " 1st Qu.:0.00   1st Qu.:0.0000  \n",
       " Median :0.00   Median :0.0000  \n",
       " Mean   :0.47   Mean   :0.1333  \n",
       " 3rd Qu.:1.00   3rd Qu.:0.0000  \n",
       " Max.   :1.00   Max.   :1.0000  "
      ]
     },
     "metadata": {},
     "output_type": "display_data"
    }
   ],
   "source": [
    "seg.df.num = seg.df\n",
    "seg.df.num$gender    = ifelse(seg.df$gender    == 'Male',  0, 1)\n",
    "seg.df.num$ownHome   = ifelse(seg.df$ownHome   == 'ownNo', 0, 1)\n",
    "seg.df.num$subscribe = ifelse(seg.df$subscribe == 'subNo', 0, 1)\n",
    "summary(seg.df.num)\n",
    "\n",
    "# There are several ways to recode data, but ifelse() is simple and explicit "
   ]
  },
  {
   "cell_type": "markdown",
   "metadata": {},
   "source": [
    "We now run the kmeans() algorithm, which specifically requires specifying the\n",
    "number of clusters to find. We ask for four clusters with centers=4:"
   ]
  },
  {
   "cell_type": "code",
   "execution_count": 29,
   "metadata": {},
   "outputs": [
    {
     "data": {
      "text/html": [
       "<table>\n",
       "<thead><tr><th scope=col>Group.1</th><th scope=col>age</th><th scope=col>gender</th><th scope=col>income</th><th scope=col>kids</th><th scope=col>ownHome</th><th scope=col>subscribe</th></tr></thead>\n",
       "<tbody>\n",
       "\t<tr><td>1        </td><td>56.37245 </td><td>1.428571 </td><td>92287.07 </td><td>0.4285714</td><td>1.857143 </td><td>1.142857 </td></tr>\n",
       "\t<tr><td>2        </td><td>29.58704 </td><td>1.571429 </td><td>21631.79 </td><td>1.0634921</td><td>1.301587 </td><td>1.158730 </td></tr>\n",
       "\t<tr><td>3        </td><td>44.42051 </td><td>1.452632 </td><td>64703.76 </td><td>1.2947368</td><td>1.421053 </td><td>1.073684 </td></tr>\n",
       "\t<tr><td>4        </td><td>42.08381 </td><td>1.454545 </td><td>48208.86 </td><td>1.5041322</td><td>1.528926 </td><td>1.165289 </td></tr>\n",
       "</tbody>\n",
       "</table>\n"
      ],
      "text/latex": [
       "\\begin{tabular}{r|lllllll}\n",
       " Group.1 & age & gender & income & kids & ownHome & subscribe\\\\\n",
       "\\hline\n",
       "\t 1         & 56.37245  & 1.428571  & 92287.07  & 0.4285714 & 1.857143  & 1.142857 \\\\\n",
       "\t 2         & 29.58704  & 1.571429  & 21631.79  & 1.0634921 & 1.301587  & 1.158730 \\\\\n",
       "\t 3         & 44.42051  & 1.452632  & 64703.76  & 1.2947368 & 1.421053  & 1.073684 \\\\\n",
       "\t 4         & 42.08381  & 1.454545  & 48208.86  & 1.5041322 & 1.528926  & 1.165289 \\\\\n",
       "\\end{tabular}\n"
      ],
      "text/markdown": [
       "\n",
       "Group.1 | age | gender | income | kids | ownHome | subscribe | \n",
       "|---|---|---|---|\n",
       "| 1         | 56.37245  | 1.428571  | 92287.07  | 0.4285714 | 1.857143  | 1.142857  | \n",
       "| 2         | 29.58704  | 1.571429  | 21631.79  | 1.0634921 | 1.301587  | 1.158730  | \n",
       "| 3         | 44.42051  | 1.452632  | 64703.76  | 1.2947368 | 1.421053  | 1.073684  | \n",
       "| 4         | 42.08381  | 1.454545  | 48208.86  | 1.5041322 | 1.528926  | 1.165289  | \n",
       "\n",
       "\n"
      ],
      "text/plain": [
       "  Group.1 age      gender   income   kids      ownHome  subscribe\n",
       "1 1       56.37245 1.428571 92287.07 0.4285714 1.857143 1.142857 \n",
       "2 2       29.58704 1.571429 21631.79 1.0634921 1.301587 1.158730 \n",
       "3 3       44.42051 1.452632 64703.76 1.2947368 1.421053 1.073684 \n",
       "4 4       42.08381 1.454545 48208.86 1.5041322 1.528926 1.165289 "
      ]
     },
     "metadata": {},
     "output_type": "display_data"
    }
   ],
   "source": [
    "set.seed(96743)\n",
    "seg.k= kmeans(seg.df.num, centers=4)\n",
    "seg.summ(seg.df, seg.k$cluster)"
   ]
  },
  {
   "cell_type": "code",
   "execution_count": 30,
   "metadata": {},
   "outputs": [
    {
     "data": {
      "text/html": [
       "<table>\n",
       "<thead><tr><th scope=col>seg.k$cluster</th><th scope=col>age</th><th scope=col>gender</th><th scope=col>income</th><th scope=col>kids</th><th scope=col>ownHome</th><th scope=col>subscribe</th></tr></thead>\n",
       "<tbody>\n",
       "\t<tr><td>1        </td><td>56.37245 </td><td>1.428571 </td><td>92287.07 </td><td>0.4285714</td><td>1.857143 </td><td>1.142857 </td></tr>\n",
       "\t<tr><td>2        </td><td>29.58704 </td><td>1.571429 </td><td>21631.79 </td><td>1.0634921</td><td>1.301587 </td><td>1.158730 </td></tr>\n",
       "\t<tr><td>3        </td><td>44.42051 </td><td>1.452632 </td><td>64703.76 </td><td>1.2947368</td><td>1.421053 </td><td>1.073684 </td></tr>\n",
       "\t<tr><td>4        </td><td>42.08381 </td><td>1.454545 </td><td>48208.86 </td><td>1.5041322</td><td>1.528926 </td><td>1.165289 </td></tr>\n",
       "</tbody>\n",
       "</table>\n"
      ],
      "text/latex": [
       "\\begin{tabular}{r|lllllll}\n",
       " seg.k\\$cluster & age & gender & income & kids & ownHome & subscribe\\\\\n",
       "\\hline\n",
       "\t 1         & 56.37245  & 1.428571  & 92287.07  & 0.4285714 & 1.857143  & 1.142857 \\\\\n",
       "\t 2         & 29.58704  & 1.571429  & 21631.79  & 1.0634921 & 1.301587  & 1.158730 \\\\\n",
       "\t 3         & 44.42051  & 1.452632  & 64703.76  & 1.2947368 & 1.421053  & 1.073684 \\\\\n",
       "\t 4         & 42.08381  & 1.454545  & 48208.86  & 1.5041322 & 1.528926  & 1.165289 \\\\\n",
       "\\end{tabular}\n"
      ],
      "text/markdown": [
       "\n",
       "seg.k$cluster | age | gender | income | kids | ownHome | subscribe | \n",
       "|---|---|---|---|\n",
       "| 1         | 56.37245  | 1.428571  | 92287.07  | 0.4285714 | 1.857143  | 1.142857  | \n",
       "| 2         | 29.58704  | 1.571429  | 21631.79  | 1.0634921 | 1.301587  | 1.158730  | \n",
       "| 3         | 44.42051  | 1.452632  | 64703.76  | 1.2947368 | 1.421053  | 1.073684  | \n",
       "| 4         | 42.08381  | 1.454545  | 48208.86  | 1.5041322 | 1.528926  | 1.165289  | \n",
       "\n",
       "\n"
      ],
      "text/plain": [
       "  seg.k$cluster age      gender   income   kids      ownHome  subscribe\n",
       "1 1             56.37245 1.428571 92287.07 0.4285714 1.857143 1.142857 \n",
       "2 2             29.58704 1.571429 21631.79 1.0634921 1.301587 1.158730 \n",
       "3 3             44.42051 1.452632 64703.76 1.2947368 1.421053 1.073684 \n",
       "4 4             42.08381 1.454545 48208.86 1.5041322 1.528926 1.165289 "
      ]
     },
     "metadata": {},
     "output_type": "display_data"
    }
   ],
   "source": [
    "aggregate(.~seg.k$cluster, data=seg.df, mean)    # or aggregate()"
   ]
  },
  {
   "cell_type": "markdown",
   "metadata": {},
   "source": [
    "> Unlike with hclust() we now see some interesting differences; the groups appear\n",
    "to vary by age, gender, kids, income, and home ownership. "
   ]
  },
  {
   "cell_type": "markdown",
   "metadata": {},
   "source": [
    "For example, we can\n",
    "visually check the distribution of income according to segment (which kmeans()\n",
    "stored in seg.k$cluster) using boxplot():"
   ]
  },
  {
   "cell_type": "code",
   "execution_count": 31,
   "metadata": {},
   "outputs": [
    {
     "data": {
      "image/png": "[encoded data removed]",
      "text/plain": [
       "plot without title"
      ]
     },
     "metadata": {},
     "output_type": "display_data"
    }
   ],
   "source": [
    "boxplot(seg.df.num$income ~ seg.k$cluster, ylab='Income', xlab='Cluster')"
   ]
  },
  {
   "cell_type": "markdown",
   "metadata": {},
   "source": [
    "> The result is Fig. 11.5, which shows substantial differences in income by segment.\n",
    "Note that in clustering models, the group labels are in arbitrary order, so don’t worry\n",
    "if your solution shows the same pattern with different labels."
   ]
  },
  {
   "cell_type": "markdown",
   "metadata": {},
   "source": [
    "We visualize the clusters by plotting them against a dimensional plot.\n",
    "clusplot() will perform dimensional reduction with principal components or\n",
    "multidimensional scaling as the data warrant, and then plot the observations with\n",
    "cluster membership identified (see Chap. 8 to review principal component analysis\n",
    "and plotting.) \n",
    " - We use clusplot from the cluster package with arguments to\n",
    "color the groups, shade the ellipses for group membership, label only the groups\n",
    "(not the individual points) with labels=4, and omit distance lines between groups\n",
    "(lines=0):"
   ]
  },
  {
   "cell_type": "code",
   "execution_count": 32,
   "metadata": {},
   "outputs": [
    {
     "data": {
      "image/png": "[encoded data removed]",
      "text/plain": [
       "Plot with title \"Kmeans Cluster plot\""
      ]
     },
     "metadata": {},
     "output_type": "display_data"
    }
   ],
   "source": [
    "library(cluster)\n",
    "clusplot(seg.df, seg.k$cluster, color=T, shade=T, labels=4, lines=0, \n",
    "         main='Kmeans Cluster plot')"
   ]
  },
  {
   "cell_type": "markdown",
   "metadata": {},
   "source": [
    "> The code produces the plot in Fig. 11.6, which plots cluster assignment by color and\n",
    "ellipses against the first two principal components of the predictors (see Sect. 8.2.2).\n",
    " - Groups 3 and 4 are largely overlapping (in this dimensional reduction) while group\n",
    "1 and especially group 2 are modestly differentiated."
   ]
  },
  {
   "cell_type": "markdown",
   "metadata": {},
   "source": [
    "1. Overall, this is a far more interesting cluster solution for our segmentation data than\n",
    "the hclust() proposal. The groups here are clearly differentiated on key variables\n",
    "such as age and income.With this information, an analyst might cross-reference the\n",
    "group membership with key variables\n",
    "\n",
    "2. This may suggest a business strategy. \n",
    " - In the present case, for instance, we see\n",
    "that group 1 is modestly well differentiated, and has the highest average income. That may make it a good target for a potential campaign. Many other strategies are possible, too; the key point is that the analysis provides interesting options to\n",
    "consider.\n",
    "\n",
    "3. A limitation of k-means analysis is that it requires specifying the number of clusters,\n",
    "and it can be difficult to determine whether one solution is better than another. \n",
    " - If we\n",
    "were to use k-means for the present problem, we would repeat the analysis for k =3,\n",
    "4, 5, and so forth, and determine which solution gives the most useful result for our\n",
    "business goals."
   ]
  },
  {
   "cell_type": "markdown",
   "metadata": {},
   "source": [
    "### 11.3.5 Model-Based Clustering: Mclust()"
   ]
  },
  {
   "cell_type": "markdown",
   "metadata": {},
   "source": [
    "The key idea for model-based clustering is that observations come from groups\n",
    "with different statistical distributions (such as different means and variances). The\n",
    "algorithms try to find the best set of such underlying distributions to explain the\n",
    "observed data. \n",
    "- We use the mclust package [53, 54] to demonstrate this.\n",
    "\n",
    "Such models are also known as “mixture models” because it is assumed that the\n",
    "data reflect a mixture of observations drawn from different populations, although we\n",
    "don’t know which population each observation was drawn from. We are trying to\n",
    "estimate the underlying population parameters and the mixture proportion. \n",
    "- mclust\n",
    "models such clusters as being drawn from a mixture of ***normal (also known as Gaussian***)\n",
    "distributions."
   ]
  },
  {
   "cell_type": "markdown",
   "metadata": {},
   "source": [
    "As you might guess, because mclust models data with normal distributions, it uses\n",
    "only numeric data. \n",
    " - We use the numeric data frame seg.df.num that we adapted\n",
    "for kmeans() in Sect. 11.3.4; see that section for the code if needed. The model is\n",
    "estimated with Mclust() (note the capital letter for the fitting function, as opposed\n",
    "to the package name):"
   ]
  },
  {
   "cell_type": "code",
   "execution_count": 33,
   "metadata": {},
   "outputs": [
    {
     "name": "stderr",
     "output_type": "stream",
     "text": [
      "Warning message:\n",
      "\"package 'mclust' was built under R version 3.4.4\"Package 'mclust' version 5.4\n",
      "Type 'citation(\"mclust\")' for citing this R package in publications.\n"
     ]
    },
    {
     "data": {
      "text/plain": [
       "----------------------------------------------------\n",
       "Gaussian finite mixture model fitted by EM algorithm \n",
       "----------------------------------------------------\n",
       "\n",
       "Mclust VEV (ellipsoidal, equal shape) model with 3 components:\n",
       "\n",
       " log.likelihood   n df       BIC       ICL\n",
       "      -5137.106 300 73 -10690.59 -10690.59\n",
       "\n",
       "Clustering table:\n",
       "  1   2   3 \n",
       "163  71  66 "
      ]
     },
     "metadata": {},
     "output_type": "display_data"
    }
   ],
   "source": [
    "library(mclust)\n",
    "seg.mc = Mclust(seg.df.num)\n",
    "summary(seg.mc)"
   ]
  },
  {
   "cell_type": "markdown",
   "metadata": {},
   "source": [
    "> This tells us that the data are estimated to have three clusters (components) with\n",
    "the sizes as shown in the table.\n",
    " - Mclust() compared a variety of different mixture\n",
    "shapes and concluded that an ellipsoidal model (modeling the data as multivariate\n",
    "ellipses) fit best.\n",
    " - We also see log-likelihood information, which we can use to compare models"
   ]
  },
  {
   "cell_type": "markdown",
   "metadata": {},
   "source": [
    "We try a 4-cluster solution by telling Mclust() the number of clusters we want with\n",
    "the G=4 argument:"
   ]
  },
  {
   "cell_type": "code",
   "execution_count": 34,
   "metadata": {},
   "outputs": [
    {
     "data": {
      "text/plain": [
       "----------------------------------------------------\n",
       "Gaussian finite mixture model fitted by EM algorithm \n",
       "----------------------------------------------------\n",
       "\n",
       "Mclust VII (spherical, varying volume) model with 4 components:\n",
       "\n",
       " log.likelihood   n df       BIC       ICL\n",
       "      -16862.69 300 31 -33902.19 -33906.18\n",
       "\n",
       "Clustering table:\n",
       "  1   2   3   4 \n",
       "104  66  59  71 "
      ]
     },
     "metadata": {},
     "output_type": "display_data"
    }
   ],
   "source": [
    "seg.mc4 = Mclust(seg.df.num, G=4)\n",
    "summary(seg.mc4)"
   ]
  },
  {
   "cell_type": "markdown",
   "metadata": {},
   "source": [
    ">Forcing it to find four clusters resulted in quite a different model, with lower loglikelihood, different multivariate pattern (diagonal), and no obvious correspondence\n",
    "in the cluster table (for instance, it’s not simply that one of the groups in the\n",
    "3-cluster solution was split into two)."
   ]
  },
  {
   "cell_type": "markdown",
   "metadata": {},
   "source": [
    "### 11.3.6 Comparing Models with BIC()"
   ]
  },
  {
   "cell_type": "markdown",
   "metadata": {},
   "source": [
    "We compare the 3-cluster and 4-cluster models using the Bayesian information criterion\n",
    "(BIC) [129] with BIC(model1, model2):"
   ]
  },
  {
   "cell_type": "code",
   "execution_count": 35,
   "metadata": {},
   "outputs": [
    {
     "data": {
      "text/html": [
       "<table>\n",
       "<thead><tr><th></th><th scope=col>df</th><th scope=col>BIC</th></tr></thead>\n",
       "<tbody>\n",
       "\t<tr><th scope=row>seg.mc</th><td>73      </td><td>10690.59</td></tr>\n",
       "\t<tr><th scope=row>seg.mc4</th><td>31      </td><td>33902.11</td></tr>\n",
       "</tbody>\n",
       "</table>\n"
      ],
      "text/latex": [
       "\\begin{tabular}{r|ll}\n",
       "  & df & BIC\\\\\n",
       "\\hline\n",
       "\tseg.mc & 73       & 10690.59\\\\\n",
       "\tseg.mc4 & 31       & 33902.11\\\\\n",
       "\\end{tabular}\n"
      ],
      "text/markdown": [
       "\n",
       "| <!--/--> | df | BIC | \n",
       "|---|---|\n",
       "| seg.mc | 73       | 10690.59 | \n",
       "| seg.mc4 | 31       | 33902.11 | \n",
       "\n",
       "\n"
      ],
      "text/plain": [
       "        df BIC     \n",
       "seg.mc  73 10690.59\n",
       "seg.mc4 31 33902.11"
      ]
     },
     "metadata": {},
     "output_type": "display_data"
    }
   ],
   "source": [
    "BIC(seg.mc, seg.mc4)"
   ]
  },
  {
   "cell_type": "markdown",
   "metadata": {},
   "source": [
    ">The difference between the models is 181. The key point to interpreting BIC is to\n",
    "remember this: the lower the value of BIC, on an infinite number line, the better. ***BIC\n",
    "of −1,000 is better than BIC of −990***; and BIC of 60 is better than BIC of 90.\n",
    "- There is one important note when interpreting BIC in R: unfortunately, some functions\n",
    "return the negative of BIC, which would then have to be interpreted in the opposite\n",
    "direction.We see above that BIC() reports positive values while Mclust()\n",
    "returns the same values in the negative direction. If you are ever unsure of the direction\n",
    "to interpret, use the BIC() function and interpret as noted (lower values are\n",
    "better). Alternatively, you could also check the log-likelihood values, where higher\n",
    "log-likelihood values are better (e.g., −1,000 is better than −1,100).\n",
    "\n",
    ">With that in mind, differences in BIC may be interpreted as shown in Table 11.1.\n",
    "Comparing the present models, we see that the Mclust() solution with three clusters\n",
    "(BIC = 10,917) is a much stronger fit than the model with 4 clusters (BIC =\n",
    "11,098) because it is lower by 181. That doesn’t mean that the 3-cluster model is\n",
    "correct; there’s no absolute standard for such a statement.\n",
    "- Rather, it means that between\n",
    "just these two models, as found by Mclust(), the 3-cluster solution has\n",
    "much stronger evidence in the data.\n",
    "\n",
    "> Table 11.1. Interpretation of the Bayesian information criterion (BIC) when comparing two\n",
    "models\n",
    "\n",
    "> BIC difference | Odds of model superiority (%) | Strength of the evidence\n",
    "-------------- | ----------------------------- | -------------------------\n",
    "0 ~ 2 | 50 ~ 75 | Weak\n",
    "2 ~ 6 | 75 ~ 95 | Positive\n",
    "6 ~ 10 | 95 ~ 99 | Strong\n",
    "$>$ 10 | > 99 | Very Strong\n",
    "- Lower BIC is better, and the difference in BIC indicates the strength of evidence. Adapted\n",
    "from Raftery [129, p. 139]\n",
    "\n"
   ]
  },
  {
   "cell_type": "markdown",
   "metadata": {},
   "source": [
    "Will the 3-cluster solution provide useful insight for the business? We check the\n",
    "quick summary and plot the clusters:"
   ]
  },
  {
   "cell_type": "code",
   "execution_count": 36,
   "metadata": {},
   "outputs": [
    {
     "data": {
      "text/html": [
       "<table>\n",
       "<thead><tr><th scope=col>Group.1</th><th scope=col>age</th><th scope=col>gender</th><th scope=col>income</th><th scope=col>kids</th><th scope=col>ownHome</th><th scope=col>subscribe</th></tr></thead>\n",
       "<tbody>\n",
       "\t<tr><td>1       </td><td>44.68018</td><td>1.472393</td><td>52980.52</td><td>1.171779</td><td>1.865031</td><td>1.245399</td></tr>\n",
       "\t<tr><td>2       </td><td>38.02229</td><td>1.000000</td><td>51550.98</td><td>1.422535</td><td>1.000000</td><td>1.000000</td></tr>\n",
       "\t<tr><td>3       </td><td>36.02187</td><td>2.000000</td><td>45227.51</td><td>1.348485</td><td>1.000000</td><td>1.000000</td></tr>\n",
       "</tbody>\n",
       "</table>\n"
      ],
      "text/latex": [
       "\\begin{tabular}{r|lllllll}\n",
       " Group.1 & age & gender & income & kids & ownHome & subscribe\\\\\n",
       "\\hline\n",
       "\t 1        & 44.68018 & 1.472393 & 52980.52 & 1.171779 & 1.865031 & 1.245399\\\\\n",
       "\t 2        & 38.02229 & 1.000000 & 51550.98 & 1.422535 & 1.000000 & 1.000000\\\\\n",
       "\t 3        & 36.02187 & 2.000000 & 45227.51 & 1.348485 & 1.000000 & 1.000000\\\\\n",
       "\\end{tabular}\n"
      ],
      "text/markdown": [
       "\n",
       "Group.1 | age | gender | income | kids | ownHome | subscribe | \n",
       "|---|---|---|\n",
       "| 1        | 44.68018 | 1.472393 | 52980.52 | 1.171779 | 1.865031 | 1.245399 | \n",
       "| 2        | 38.02229 | 1.000000 | 51550.98 | 1.422535 | 1.000000 | 1.000000 | \n",
       "| 3        | 36.02187 | 2.000000 | 45227.51 | 1.348485 | 1.000000 | 1.000000 | \n",
       "\n",
       "\n"
      ],
      "text/plain": [
       "  Group.1 age      gender   income   kids     ownHome  subscribe\n",
       "1 1       44.68018 1.472393 52980.52 1.171779 1.865031 1.245399 \n",
       "2 2       38.02229 1.000000 51550.98 1.422535 1.000000 1.000000 \n",
       "3 3       36.02187 2.000000 45227.51 1.348485 1.000000 1.000000 "
      ]
     },
     "metadata": {},
     "output_type": "display_data"
    }
   ],
   "source": [
    "seg.summ(seg.df, seg.mc$class)"
   ]
  },
  {
   "cell_type": "code",
   "execution_count": 38,
   "metadata": {},
   "outputs": [
    {
     "data": {
      "image/png": "[encoded data removed]",
      "text/plain": [
       "Plot with title \"Model-based cluster plot\""
      ]
     },
     "metadata": {},
     "output_type": "display_data"
    }
   ],
   "source": [
    "clusplot(seg.df, seg.mc$class, color=T, shade=T, labels=4, lines=0, \n",
    "         main='Model-based cluster plot')"
   ]
  },
  {
   "cell_type": "markdown",
   "metadata": {},
   "source": [
    "Fig. 11.7. A cluster plot using clusplot() for the 3-cluster\n",
    "model from Mclust()."
   ]
  },
  {
   "cell_type": "markdown",
   "metadata": {},
   "source": [
    "When we compare the Mclust() solution to the one found by kmeans(), there\n",
    "are arguments for and against each. \n",
    " - The 4-cluster k-means solution had much\n",
    "crisper differentiation on demographics (Sect. 11.3.4). On the other hand, the most\n",
    "clearly differentiated segment (segment 2; cf. Fig. 11.6) had the lowest income and\n",
    "thus might be more difficult to sell to (or not—it depends on the product or service).\n",
    "\n",
    "Looking closely at the Mclust() solution, we see that one of the groups is nicely\n",
    "differentiated (group 3), \n",
    " - but the demographic differences reported in seg.summ()\n",
    "are not particularly interesting. Everyone in Group 2 is a non-subscriber, Group 3\n",
    "has no kids, and Group 1 mixes everyone else. \n",
    " - As always, the ultimate value depends\n",
    "more on one’e strategy, business case, and modes available to target respondents\n",
    "than it does on the statistical solution in itself. The statistics provide information\n",
    "about how customers are similar and different, not a definitive answer."
   ]
  },
  {
   "cell_type": "markdown",
   "metadata": {},
   "source": [
    "### 11.3.7 Latent Class Analysis: poLCA()"
   ]
  },
  {
   "cell_type": "markdown",
   "metadata": {},
   "source": [
    "Latent class analysis (LCA) is similar to mixture modeling in the assumption that\n",
    "differences are attributable to unobserved groups that one wishes to uncover. \n",
    " - In\n",
    "this section we take a look at the poLCA package for polytomous (i.e., categorical)\n",
    "LCA [105]."
   ]
  },
  {
   "cell_type": "markdown",
   "metadata": {},
   "source": [
    "Whereas mclust and kmeans() work with numeric data, and hclust() depends\n",
    "on the distance measure, poLCA uses only categorical variables. \n",
    " - To demonstrate\n",
    "it here, we adopt an opposite strategy from our procedure with k-means\n",
    "and mclust and convert our data seg.df to be all categorical data before\n",
    "analyzing it."
   ]
  },
  {
   "cell_type": "markdown",
   "metadata": {},
   "source": [
    "There are several approaches to convert numeric data to factors, but for purposes\n",
    "here we simply recode everything as binary with regard to a specified cutting point\n",
    "(for instance, to recode as 1 for income below some cutoff and 2 above that). \n",
    " - In the\n",
    "present case, we split each variable at the median() and recode using ifelse()\n",
    "and factor() (we’ll see a more general approach to recoding numeric values with\n",
    "cut() in Sect. 12.4.1):"
   ]
  },
  {
   "cell_type": "code",
   "execution_count": 41,
   "metadata": {},
   "outputs": [
    {
     "data": {
      "text/plain": [
       " age        gender    income  kids      ownHome     subscribe  \n",
       " 1:150   Female:157   1:150   1:121   ownNo :159   subNo :260  \n",
       " 2:150   Male  :143   2:150   2:179   ownYes:141   subYes: 40  "
      ]
     },
     "metadata": {},
     "output_type": "display_data"
    }
   ],
   "source": [
    "seg.df.cut         = seg.df\n",
    "seg.df.cut$age     = factor(ifelse(seg.df$age < median(seg.df$age), 1, 2))\n",
    "seg.df.cut$income  = factor(ifelse(seg.df$income < median(seg.df$income), 1, 2))\n",
    "seg.df.cut$kids    = factor(ifelse(seg.df$kids < median(seg.df$kids), 1, 2))\n",
    "summary(seg.df.cut)"
   ]
  },
  {
   "cell_type": "markdown",
   "metadata": {},
   "source": [
    "With the data in place, we specify the model that we want to fit. poLCA can estimate\n",
    "complex models with covariates, but for the present analysis we only wish to examine the effect of cluster membership alone. \n",
    "\n",
    "Thus, we model the dependent\n",
    "variables (all the observed columns) with respect to the model intercepts (i.e., the\n",
    "cluster positions).We use with() to save typing, and ∼1 to specify a formula with\n",
    "intercepts only:"
   ]
  },
  {
   "cell_type": "code",
   "execution_count": 46,
   "metadata": {},
   "outputs": [
    {
     "data": {
      "text/plain": [
       " Length   Class    Mode \n",
       "      3 formula    call "
      ]
     },
     "metadata": {},
     "output_type": "display_data"
    }
   ],
   "source": [
    "seg.f  = with(seg.df.cut,\n",
    "              cbind(age, gender, income, kids, ownHome, subscribe)~1)\n",
    "summary(seg.f)"
   ]
  },
  {
   "cell_type": "markdown",
   "metadata": {},
   "source": [
    "Next we fit poLCA models for K = 3 and K = 4 clusters using poLCA(formula,\n",
    "data, nclass=K):"
   ]
  },
  {
   "cell_type": "code",
   "execution_count": 47,
   "metadata": {},
   "outputs": [
    {
     "name": "stderr",
     "output_type": "stream",
     "text": [
      "Warning message:\n",
      "\"package 'poLCA' was built under R version 3.4.4\"Loading required package: scatterplot3d\n",
      "Warning message:\n",
      "\"package 'scatterplot3d' was built under R version 3.4.4\"Loading required package: MASS\n",
      "Warning message:\n",
      "\"package 'MASS' was built under R version 3.4.4\""
     ]
    },
    {
     "name": "stdout",
     "output_type": "stream",
     "text": [
      "Conditional item response (column) probabilities,\n",
      " by outcome variable, for each class (row) \n",
      " \n",
      "$age\n",
      "               1      2\n",
      "class 1:  1.0000 0.0000\n",
      "class 2:  0.0000 1.0000\n",
      "class 3:  0.6555 0.3445\n",
      "\n",
      "$gender\n",
      "          Female   Male\n",
      "class 1:  0.4211 0.5789\n",
      "class 2:  0.4681 0.5319\n",
      "class 3:  0.6079 0.3921\n",
      "\n",
      "$income\n",
      "               1      2\n",
      "class 1:  1.0000 0.0000\n",
      "class 2:  0.3803 0.6197\n",
      "class 3:  0.3746 0.6254\n",
      "\n",
      "$kids\n",
      "               1      2\n",
      "class 1:  0.2818 0.7182\n",
      "class 2:  0.8065 0.1935\n",
      "class 3:  0.1575 0.8425\n",
      "\n",
      "$ownHome\n",
      "           ownNo ownYes\n",
      "class 1:  0.7289 0.2711\n",
      "class 2:  0.2338 0.7662\n",
      "class 3:  0.6638 0.3362\n",
      "\n",
      "$subscribe\n",
      "           subNo subYes\n",
      "class 1:  0.7496 0.2504\n",
      "class 2:  0.8948 0.1052\n",
      "class 3:  0.8960 0.1040\n",
      "\n",
      "Estimated class population shares \n",
      " 0.1974 0.341 0.4616 \n",
      " \n",
      "Predicted class memberships (by modal posterior prob.) \n",
      " 0.2333 0.3467 0.42 \n",
      " \n",
      "========================================================= \n",
      "Fit for 3 latent classes: \n",
      "========================================================= \n",
      "number of observations: 300 \n",
      "number of estimated parameters: 20 \n",
      "residual degrees of freedom: 43 \n",
      "maximum log-likelihood: -1092.345 \n",
      " \n",
      "AIC(3): 2224.691\n",
      "BIC(3): 2298.767\n",
      "G^2(3): 42.77441 (Likelihood ratio/deviance statistic) \n",
      "X^2(3): 38.47647 (Chi-square goodness of fit) \n",
      " \n"
     ]
    }
   ],
   "source": [
    "library(poLCA)\n",
    "set.seed(02807)\n",
    "seg.LCA3 = poLCA(seg.f, data=seg.df.cut, nclass=3)"
   ]
  },
  {
   "cell_type": "code",
   "execution_count": 48,
   "metadata": {},
   "outputs": [
    {
     "name": "stdout",
     "output_type": "stream",
     "text": [
      "Conditional item response (column) probabilities,\n",
      " by outcome variable, for each class (row) \n",
      " \n",
      "$age\n",
      "               1      2\n",
      "class 1:  0.6823 0.3177\n",
      "class 2:  0.0000 1.0000\n",
      "class 3:  1.0000 0.0000\n",
      "class 4:  1.0000 0.0000\n",
      "\n",
      "$gender\n",
      "          Female   Male\n",
      "class 1:  0.5853 0.4147\n",
      "class 2:  0.4810 0.5190\n",
      "class 3:  0.8466 0.1534\n",
      "class 4:  0.3277 0.6723\n",
      "\n",
      "$income\n",
      "               1      2\n",
      "class 1:  0.4137 0.5863\n",
      "class 2:  0.3701 0.6299\n",
      "class 3:  0.5850 0.4150\n",
      "class 4:  1.0000 0.0000\n",
      "\n",
      "$kids\n",
      "               1      2\n",
      "class 1:  0.0000 1.0000\n",
      "class 2:  0.8114 0.1886\n",
      "class 3:  1.0000 0.0000\n",
      "class 4:  0.2506 0.7494\n",
      "\n",
      "$ownHome\n",
      "           ownNo ownYes\n",
      "class 1:  0.6540 0.3460\n",
      "class 2:  0.2688 0.7312\n",
      "class 3:  0.6537 0.3463\n",
      "class 4:  0.7721 0.2279\n",
      "\n",
      "$subscribe\n",
      "           subNo subYes\n",
      "class 1:  0.8746 0.1254\n",
      "class 2:  0.8965 0.1035\n",
      "class 3:  1.0000 0.0000\n",
      "class 4:  0.7203 0.2797\n",
      "\n",
      "Estimated class population shares \n",
      " 0.4101 0.3697 0.0643 0.1559 \n",
      " \n",
      "Predicted class memberships (by modal posterior prob.) \n",
      " 0.41 0.3733 0.0667 0.15 \n",
      " \n",
      "========================================================= \n",
      "Fit for 4 latent classes: \n",
      "========================================================= \n",
      "number of observations: 300 \n",
      "number of estimated parameters: 27 \n",
      "residual degrees of freedom: 36 \n",
      "maximum log-likelihood: -1088.021 \n",
      " \n",
      "AIC(4): 2230.041\n",
      "BIC(4): 2330.043\n",
      "G^2(4): 34.12473 (Likelihood ratio/deviance statistic) \n",
      "X^2(4): 31.50696 (Chi-square goodness of fit) \n",
      " \n"
     ]
    }
   ],
   "source": [
    "seg.LCA4 <- poLCA(seg.f, data=seg.df.cut, nclass=4)"
   ]
  },
  {
   "cell_type": "markdown",
   "metadata": {},
   "source": [
    "> poLCA() displays voluminous information by default, which we have omitted."
   ]
  },
  {
   "cell_type": "code",
   "execution_count": 49,
   "metadata": {},
   "outputs": [
    {
     "data": {
      "text/html": [
       "2298.76661272514"
      ],
      "text/latex": [
       "2298.76661272514"
      ],
      "text/markdown": [
       "2298.76661272514"
      ],
      "text/plain": [
       "[1] 2298.767"
      ]
     },
     "metadata": {},
     "output_type": "display_data"
    },
    {
     "data": {
      "text/html": [
       "2330.04341046262"
      ],
      "text/latex": [
       "2330.04341046262"
      ],
      "text/markdown": [
       "2330.04341046262"
      ],
      "text/plain": [
       "[1] 2330.043"
      ]
     },
     "metadata": {},
     "output_type": "display_data"
    }
   ],
   "source": [
    "seg.LCA3$bic\n",
    "seg.LCA4$bic"
   ]
  },
  {
   "cell_type": "markdown",
   "metadata": {},
   "source": [
    "> The 3-cluster model shows a lower BIC by 32 and thus a substantially stronger fit\n",
    "to the data (see Table 11.1)."
   ]
  },
  {
   "cell_type": "markdown",
   "metadata": {},
   "source": [
    "As we’ve seen, that is not entirely conclusive as to business\n",
    "utility, so we also examine some other indicators such as the quick summary\n",
    "function and cluster plots:"
   ]
  },
  {
   "cell_type": "code",
   "execution_count": 50,
   "metadata": {},
   "outputs": [
    {
     "data": {
      "text/html": [
       "<table>\n",
       "<thead><tr><th scope=col>Group.1</th><th scope=col>age</th><th scope=col>gender</th><th scope=col>income</th><th scope=col>kids</th><th scope=col>ownHome</th><th scope=col>subscribe</th></tr></thead>\n",
       "<tbody>\n",
       "\t<tr><td>1        </td><td>28.22385 </td><td>1.685714 </td><td>30075.32 </td><td>1.1285714</td><td>1.285714 </td><td>1.271429 </td></tr>\n",
       "\t<tr><td>2        </td><td>54.44407 </td><td>1.576923 </td><td>60082.47 </td><td>0.3846154</td><td>1.769231 </td><td>1.105769 </td></tr>\n",
       "\t<tr><td>3        </td><td>37.47652 </td><td>1.277778 </td><td>54977.08 </td><td>2.0793651</td><td>1.325397 </td><td>1.079365 </td></tr>\n",
       "</tbody>\n",
       "</table>\n"
      ],
      "text/latex": [
       "\\begin{tabular}{r|lllllll}\n",
       " Group.1 & age & gender & income & kids & ownHome & subscribe\\\\\n",
       "\\hline\n",
       "\t 1         & 28.22385  & 1.685714  & 30075.32  & 1.1285714 & 1.285714  & 1.271429 \\\\\n",
       "\t 2         & 54.44407  & 1.576923  & 60082.47  & 0.3846154 & 1.769231  & 1.105769 \\\\\n",
       "\t 3         & 37.47652  & 1.277778  & 54977.08  & 2.0793651 & 1.325397  & 1.079365 \\\\\n",
       "\\end{tabular}\n"
      ],
      "text/markdown": [
       "\n",
       "Group.1 | age | gender | income | kids | ownHome | subscribe | \n",
       "|---|---|---|\n",
       "| 1         | 28.22385  | 1.685714  | 30075.32  | 1.1285714 | 1.285714  | 1.271429  | \n",
       "| 2         | 54.44407  | 1.576923  | 60082.47  | 0.3846154 | 1.769231  | 1.105769  | \n",
       "| 3         | 37.47652  | 1.277778  | 54977.08  | 2.0793651 | 1.325397  | 1.079365  | \n",
       "\n",
       "\n"
      ],
      "text/plain": [
       "  Group.1 age      gender   income   kids      ownHome  subscribe\n",
       "1 1       28.22385 1.685714 30075.32 1.1285714 1.285714 1.271429 \n",
       "2 2       54.44407 1.576923 60082.47 0.3846154 1.769231 1.105769 \n",
       "3 3       37.47652 1.277778 54977.08 2.0793651 1.325397 1.079365 "
      ]
     },
     "metadata": {},
     "output_type": "display_data"
    }
   ],
   "source": [
    "seg.summ(seg.df, seg.LCA3$predclass)"
   ]
  },
  {
   "cell_type": "code",
   "execution_count": 51,
   "metadata": {},
   "outputs": [
    {
     "data": {
      "text/plain": [
       "\n",
       "  1   2   3 \n",
       " 70 104 126 "
      ]
     },
     "metadata": {},
     "output_type": "display_data"
    }
   ],
   "source": [
    "table(seg.LCA3$predclass)"
   ]
  },
  {
   "cell_type": "code",
   "execution_count": 54,
   "metadata": {},
   "outputs": [
    {
     "data": {
      "image/png": "[encoded data removed]",
      "text/plain": [
       "Plot with title \"LCA plot (k=3)\""
      ]
     },
     "metadata": {},
     "output_type": "display_data"
    }
   ],
   "source": [
    "clusplot(seg.df, seg.LCA3$predclass, color=T, shade=T, labels=4, lines=0,\n",
    "         main='LCA plot (k=3)')"
   ]
  },
  {
   "cell_type": "code",
   "execution_count": 58,
   "metadata": {},
   "outputs": [
    {
     "data": {
      "text/html": [
       "<table>\n",
       "<thead><tr><th scope=col>Group.1</th><th scope=col>age</th><th scope=col>gender</th><th scope=col>income</th><th scope=col>kids</th><th scope=col>ownHome</th><th scope=col>subscribe</th></tr></thead>\n",
       "<tbody>\n",
       "\t<tr><td>1        </td><td>36.62554 </td><td>1.349593 </td><td>52080.13 </td><td>2.1951220</td><td>1.349593 </td><td>1.113821 </td></tr>\n",
       "\t<tr><td>2        </td><td>53.64073 </td><td>1.535714 </td><td>60534.17 </td><td>0.5178571</td><td>1.785714 </td><td>1.098214 </td></tr>\n",
       "\t<tr><td>3        </td><td>30.22575 </td><td>1.050000 </td><td>41361.81 </td><td>0.0000000</td><td>1.350000 </td><td>1.000000 </td></tr>\n",
       "\t<tr><td>4        </td><td>27.61506 </td><td>1.866667 </td><td>28178.70 </td><td>1.1777778</td><td>1.066667 </td><td>1.333333 </td></tr>\n",
       "</tbody>\n",
       "</table>\n"
      ],
      "text/latex": [
       "\\begin{tabular}{r|lllllll}\n",
       " Group.1 & age & gender & income & kids & ownHome & subscribe\\\\\n",
       "\\hline\n",
       "\t 1         & 36.62554  & 1.349593  & 52080.13  & 2.1951220 & 1.349593  & 1.113821 \\\\\n",
       "\t 2         & 53.64073  & 1.535714  & 60534.17  & 0.5178571 & 1.785714  & 1.098214 \\\\\n",
       "\t 3         & 30.22575  & 1.050000  & 41361.81  & 0.0000000 & 1.350000  & 1.000000 \\\\\n",
       "\t 4         & 27.61506  & 1.866667  & 28178.70  & 1.1777778 & 1.066667  & 1.333333 \\\\\n",
       "\\end{tabular}\n"
      ],
      "text/markdown": [
       "\n",
       "Group.1 | age | gender | income | kids | ownHome | subscribe | \n",
       "|---|---|---|---|\n",
       "| 1         | 36.62554  | 1.349593  | 52080.13  | 2.1951220 | 1.349593  | 1.113821  | \n",
       "| 2         | 53.64073  | 1.535714  | 60534.17  | 0.5178571 | 1.785714  | 1.098214  | \n",
       "| 3         | 30.22575  | 1.050000  | 41361.81  | 0.0000000 | 1.350000  | 1.000000  | \n",
       "| 4         | 27.61506  | 1.866667  | 28178.70  | 1.1777778 | 1.066667  | 1.333333  | \n",
       "\n",
       "\n"
      ],
      "text/plain": [
       "  Group.1 age      gender   income   kids      ownHome  subscribe\n",
       "1 1       36.62554 1.349593 52080.13 2.1951220 1.349593 1.113821 \n",
       "2 2       53.64073 1.535714 60534.17 0.5178571 1.785714 1.098214 \n",
       "3 3       30.22575 1.050000 41361.81 0.0000000 1.350000 1.000000 \n",
       "4 4       27.61506 1.866667 28178.70 1.1777778 1.066667 1.333333 "
      ]
     },
     "metadata": {},
     "output_type": "display_data"
    }
   ],
   "source": [
    "seg.summ(seg.df, seg.LCA4$predclass)"
   ]
  },
  {
   "cell_type": "code",
   "execution_count": 55,
   "metadata": {},
   "outputs": [
    {
     "data": {
      "text/plain": [
       "\n",
       "  1   2   3   4 \n",
       "123 112  20  45 "
      ]
     },
     "metadata": {},
     "output_type": "display_data"
    }
   ],
   "source": [
    "table(seg.LCA4$predclass)"
   ]
  },
  {
   "cell_type": "code",
   "execution_count": 56,
   "metadata": {},
   "outputs": [
    {
     "data": {
      "image/png": "[encoded data removed]",
      "text/plain": [
       "Plot with title \"LCA plot (k=4)\""
      ]
     },
     "metadata": {},
     "output_type": "display_data"
    }
   ],
   "source": [
    "clusplot(seg.df, seg.LCA4$predclass, color=T, shade=T, labels=4, lines=0,\n",
    "         main='LCA plot (k=4)')"
   ]
  },
  {
   "cell_type": "markdown",
   "metadata": {},
   "source": [
    "> We interpret the LCA results by looking first at the cluster plots (Fig. 11.8). \n",
    " - At a high\n",
    "level, it appears that “Group 2” is similar in both solutions. \n",
    " - The primary difference is\n",
    "that “Group 3” buried inside the overlapping ellipses in the 4-cluster solution could\n",
    "be viewed as being largely carved out of two larger groups (Groups “2” and “3” as\n",
    "labeled in the 3-cluster solution). This is an approximate interpretation of the data\n",
    "visualization, not a perfect correspondence.\n",
    "\n",
    "> Does the additional group in the 4-cluster solution add anything to our interpretation?\n",
    "Turning to the quick summary from seg.summ() in the code block, we\n",
    "see good differentiation of groups in both models. \n",
    " - One argument in favor of the\n",
    "4-cluster solution is that Group 3 has no subscribers (as shown by the mean in the\n",
    "seg.summ() results) and is relatively well identified (mostly younger women with\n",
    "no kids); that might make it an appealing group either for targeting or exclusion, depending\n",
    "on one’s strategy."
   ]
  },
  {
   "cell_type": "markdown",
   "metadata": {},
   "source": [
    "As a final note on model-based clustering (and many other clustering methods such\n",
    "as kmeans()), the solutions are partially dependent on the random number seed. It\n",
    "can be useful to run the models with different random seeds and compare the results.\n",
    "This brings us to our next topic: comparing cluster solutions."
   ]
  },
  {
   "cell_type": "markdown",
   "metadata": {},
   "source": [
    "### 11.3.8 Comparing Cluster Solutions"
   ]
  },
  {
   "cell_type": "markdown",
   "metadata": {},
   "source": [
    "One question we’ve avoided until now is this: given that we know the real group\n",
    "membership in seg.df, how does it compare to the clustering methods’ results?\n",
    "The question is not as simple as counting agreement for two reasons. \n",
    " - First, it is not\n",
    "obvious how to match one cluster solution to another because the order of group\n",
    "labels is arbitrary. “Group 1” in one solution might well be called “Group 2” or\n",
    "“Group C” in another solution.\n",
    " - Second, if we solve the matching problem we still need to adjust for chance agreement.\n",
    "Is an agreement rate of 90% good? It depends on the base rate. If you are\n",
    "attempting to predict the gender of each person in a random sample of Japanese\n",
    "citizens, then 90% accuracy is much better than chance (which would be roughly\n",
    "51 %, the proportion of women). On the other hand, if you are attempting to predict\n",
    "whether each respondent speaks Japanese, then 90% accuracy is terrible (just assigning\n",
    "everyone to “Yes” would achieve nearly perfect prediction, because the true\n",
    "rate is over 99%).\n",
    "\n",
    "The mclust package provides tools to solve both issues. \n",
    "- mapClass() solves\n",
    "the matching problem. It examines all permutations of how two sets of class assignments\n",
    "might be related and selects a mapping that maximizes agreement between\n",
    "the two assignment schemes. \n",
    "- adjustedRandIndex() likewise matches\n",
    "two assignment schemes and then computes the degree of agreement over and above\n",
    "what might be attributed to “chance” by simply assigning all observations to the\n",
    "largest group [81, 131]. Its magnitude may be interpreted similarly to a standard r\n",
    "correlation coefficient."
   ]
  },
  {
   "cell_type": "markdown",
   "metadata": {},
   "source": [
    "We use table() to look at the cross-tabs between the LCA 3-cluster and 4-cluster\n",
    "solutions found above:"
   ]
  },
  {
   "cell_type": "code",
   "execution_count": 60,
   "metadata": {},
   "outputs": [
    {
     "data": {
      "text/plain": [
       "   \n",
       "      1   2   3   4\n",
       "  1  13   0  12  45\n",
       "  2   0 104   0   0\n",
       "  3 110   8   8   0"
      ]
     },
     "metadata": {},
     "output_type": "display_data"
    }
   ],
   "source": [
    "table(seg.LCA3$predclass, seg.LCA4$predclass)"
   ]
  },
  {
   "cell_type": "markdown",
   "metadata": {},
   "source": [
    ">It would appear that observations assigned to “Group 1” in the 3-cluster\n",
    "solution are split between Groups 1, 3, and 4 in the 4-cluster solution, while\n",
    "“Group 3” maps closely to “Group 1” (in the 4 class solution) and “Group\n",
    "2” is predominantly the same in both."
   ]
  },
  {
   "cell_type": "markdown",
   "metadata": {},
   "source": [
    "However, matching groups manually\n",
    "is sometimes unclear and generally error-prone. Instead, we use mapClass\n",
    "(a, b) and adjustedRandIndex(a, b) to compare agreement between the\n",
    "two solutions:"
   ]
  },
  {
   "cell_type": "code",
   "execution_count": 64,
   "metadata": {},
   "outputs": [
    {
     "data": {
      "text/html": [
       "<dl>\n",
       "\t<dt>$aTOb</dt>\n",
       "\t\t<dd><dl>\n",
       "\t<dt>$`1`</dt>\n",
       "\t\t<dd>4</dd>\n",
       "\t<dt>$`2`</dt>\n",
       "\t\t<dd>2</dd>\n",
       "\t<dt>$`3`</dt>\n",
       "\t\t<dd>1</dd>\n",
       "</dl>\n",
       "</dd>\n",
       "\t<dt>$bTOa</dt>\n",
       "\t\t<dd><dl>\n",
       "\t<dt>$`1`</dt>\n",
       "\t\t<dd>3</dd>\n",
       "\t<dt>$`2`</dt>\n",
       "\t\t<dd>2</dd>\n",
       "\t<dt>$`3`</dt>\n",
       "\t\t<dd>1</dd>\n",
       "\t<dt>$`4`</dt>\n",
       "\t\t<dd>1</dd>\n",
       "</dl>\n",
       "</dd>\n",
       "</dl>\n"
      ],
      "text/latex": [
       "\\begin{description}\n",
       "\\item[\\$aTOb] \\begin{description}\n",
       "\\item[\\$`1`] 4\n",
       "\\item[\\$`2`] 2\n",
       "\\item[\\$`3`] 1\n",
       "\\end{description}\n",
       "\n",
       "\\item[\\$bTOa] \\begin{description}\n",
       "\\item[\\$`1`] 3\n",
       "\\item[\\$`2`] 2\n",
       "\\item[\\$`3`] 1\n",
       "\\item[\\$`4`] 1\n",
       "\\end{description}\n",
       "\n",
       "\\end{description}\n"
      ],
      "text/markdown": [
       "$aTOb\n",
       ":   $`1`\n",
       ":   4\n",
       "$`2`\n",
       ":   2\n",
       "$`3`\n",
       ":   1\n",
       "\n",
       "\n",
       "\n",
       "$bTOa\n",
       ":   $`1`\n",
       ":   3\n",
       "$`2`\n",
       ":   2\n",
       "$`3`\n",
       ":   1\n",
       "$`4`\n",
       ":   1\n",
       "\n",
       "\n",
       "\n",
       "\n",
       "\n"
      ],
      "text/plain": [
       "$aTOb\n",
       "$aTOb$`1`\n",
       "[1] 4\n",
       "\n",
       "$aTOb$`2`\n",
       "[1] 2\n",
       "\n",
       "$aTOb$`3`\n",
       "[1] 1\n",
       "\n",
       "\n",
       "$bTOa\n",
       "$bTOa$`1`\n",
       "[1] 3\n",
       "\n",
       "$bTOa$`2`\n",
       "[1] 2\n",
       "\n",
       "$bTOa$`3`\n",
       "[1] 1\n",
       "\n",
       "$bTOa$`4`\n",
       "[1] 1\n",
       "\n"
      ]
     },
     "metadata": {},
     "output_type": "display_data"
    },
    {
     "data": {
      "text/html": [
       "0.728882247291894"
      ],
      "text/latex": [
       "0.728882247291894"
      ],
      "text/markdown": [
       "0.728882247291894"
      ],
      "text/plain": [
       "[1] 0.7288822"
      ]
     },
     "metadata": {},
     "output_type": "display_data"
    }
   ],
   "source": [
    "library(mclust)\n",
    "\n",
    "# [similarly for mapping b to a, omitted]\n",
    "mapClass(seg.LCA3$predclass, seg.LCA4$predclass)\n",
    "\n",
    "adjustedRandIndex(seg.LCA3$predclass, seg.LCA4$predclass)"
   ]
  },
  {
   "cell_type": "markdown",
   "metadata": {},
   "source": [
    "> This tells us that “1” in the LCA3 model (a) maps best to “4” in the LCA4 model\n",
    "(b), and so forth. The adjusted Rand index of 0.729 indicates that the match between\n",
    "the two assignment lists is much better than chance. From a business perspective, it\n",
    "also tells us that the 3-cluster and 4-cluster differ modestly from one another, which\n",
    "provides another perspective on choosing between them."
   ]
  },
  {
   "cell_type": "markdown",
   "metadata": {},
   "source": [
    "By comparison, R makes it easy to see what happens if we were to test a random\n",
    "assignment scheme:"
   ]
  },
  {
   "cell_type": "code",
   "execution_count": 65,
   "metadata": {},
   "outputs": [
    {
     "data": {
      "text/html": [
       "0.00229203112564317"
      ],
      "text/latex": [
       "0.00229203112564317"
      ],
      "text/markdown": [
       "0.00229203112564317"
      ],
      "text/plain": [
       "[1] 0.002292031"
      ]
     },
     "metadata": {},
     "output_type": "display_data"
    }
   ],
   "source": [
    "set.seed(11021)\n",
    "\n",
    "random.data = sample(4, length(seg.LCA4$predclass), replace=T)\n",
    "\n",
    "adjustedRandIndex(random.data, seg.LCA4$predclass)"
   ]
  },
  {
   "cell_type": "markdown",
   "metadata": {},
   "source": [
    "> In this case, the adjusted Rand index is near zero, because the match between the\n",
    "clusters is no better than random chance."
   ]
  },
  {
   "cell_type": "markdown",
   "metadata": {},
   "source": [
    "Finally we compare the LCA 4-cluster solution to the true segments in\n",
    "seg.raw:"
   ]
  },
  {
   "cell_type": "code",
   "execution_count": 67,
   "metadata": {},
   "outputs": [
    {
     "data": {
      "text/plain": [
       "            \n",
       "              1  2  3  4\n",
       "  Moving up  50  4  8  8\n",
       "  Suburb mix 62 29  2  7\n",
       "  Travelers   0 79  1  0\n",
       "  Urban hip  11  0  9 30"
      ]
     },
     "metadata": {},
     "output_type": "display_data"
    }
   ],
   "source": [
    "table(seg.raw$Segment, seg.LCA4$predclass)"
   ]
  },
  {
   "cell_type": "code",
   "execution_count": 68,
   "metadata": {},
   "outputs": [
    {
     "data": {
      "text/html": [
       "0.351303067166982"
      ],
      "text/latex": [
       "0.351303067166982"
      ],
      "text/markdown": [
       "0.351303067166982"
      ],
      "text/plain": [
       "[1] 0.3513031"
      ]
     },
     "metadata": {},
     "output_type": "display_data"
    }
   ],
   "source": [
    "adjustedRandIndex(seg.raw$Segment, seg.LCA4$predclass)"
   ]
  },
  {
   "cell_type": "markdown",
   "metadata": {},
   "source": [
    "> With a Rand index of 0.35, the LCA solution matches the true segment assignments\n",
    "moderately better than chance alone. In many cases, of course, one would not have\n",
    "identified clusters for comparison; but when they are available from other projects\n",
    "or previous efforts, it is helpful to examine correspondence in this way."
   ]
  },
  {
   "cell_type": "markdown",
   "metadata": {},
   "source": [
    "## 11.4 Classification"
   ]
  },
  {
   "cell_type": "markdown",
   "metadata": {},
   "source": [
    "Whereas clustering is the process of discovering group membership, classification\n",
    "is the prediction of membership. In this section we look at two examples of classification:\n",
    " - predicting segment membership, and predicting who is likely to subscribe\n",
    "to a service.\n",
    "\n",
    "Classification uses observations whose status is known to derive predictors, and then\n",
    "applies those predictors to new observations. When working with a single data set it\n",
    "is typically split into a training set that is used to develop the classification model,\n",
    "and a test set that is used to determine performance. It is crucial not to assess performance\n",
    "on the same observations that were used to develop the model."
   ]
  },
  {
   "cell_type": "markdown",
   "metadata": {},
   "source": [
    "A classification project typically includes the following steps at a minimum:\n",
    "- A data set is collected in which group membership for each observation is\n",
    "known or assigned (e.g., assigned by behavioral observation, expert rating, or\n",
    "clustering procedures).\n",
    "- The data set is split into a training set and a test set. A common pattern is\n",
    "to select 50–80% of the observations for the training set (67% seems to be\n",
    "particularly common), and to assign the remaining observations to the test set.\n",
    "- A prediction model is built, with a goal to predict membership in the training\n",
    "data as well as possible.\n",
    "- The resulting model is then assessed for performance using the test data. Performance\n",
    "is assessed to see that it exceeds chance (base rate). Additionally one\n",
    "might assess whether the method performs better than a reasonable alternative\n",
    "(and simpler or better-known) model."
   ]
  },
  {
   "cell_type": "markdown",
   "metadata": {},
   "source": [
    "## 11.4.1 Naive Bayes Classification: naiveBayes()"
   ]
  },
  {
   "cell_type": "markdown",
   "metadata": {},
   "source": [
    "A simple yet powerful classification method is the Naive Bayes (NB) classifier.\n",
    "Naive Bayes uses training data to learn the probability of class membership as a\n",
    "function of ***each predictor variable considered independently (hence “naive”)***. When\n",
    "applied to new data, class membership is assigned to the category considered to be\n",
    "most likely according to the joint probabilities assigned by the combination of predictors.\n",
    "- Several R packages provide NB methods; we use the e1071 package from\n",
    "the Vienna University of Technology (TU Wien) [114].\n",
    "\n",
    "The first step in training a classifier is to split the data into training and test data,\n",
    "which will allow one to check whether the model works on the test data (or is instead\n",
    "overfitted to the training data).\n",
    "- We select 65% of the data to use for training\n",
    "with the sample() function, and keep the unselected cases as holdout (test) data.\n",
    "Note that we select the training and test cases not from seg.df, which omitted\n",
    "the previously known segment assignments, but from the full seg.raw data frame.\n",
    "Classification requires known segment assignments in order to learn how to assign\n",
    "new values."
   ]
  },
  {
   "cell_type": "code",
   "execution_count": 71,
   "metadata": {},
   "outputs": [],
   "source": [
    "set.seed(04625)\n",
    "train.prop   = 0.65\n",
    "train.cases  = sample(nrow(seg.raw), nrow(seg.raw) * train.prop)\n",
    "seg.df.train = seg.raw[train.cases, ]\n",
    "seg.df.test  = seg.raw[-train.cases, ]"
   ]
  },
  {
   "cell_type": "markdown",
   "metadata": {},
   "source": [
    "We then train a naive Bayes classifier to predict Segment membership from all\n",
    "other variables in the training data. This is a very simple command:"
   ]
  },
  {
   "cell_type": "code",
   "execution_count": 72,
   "metadata": {},
   "outputs": [
    {
     "name": "stderr",
     "output_type": "stream",
     "text": [
      "Warning message:\n",
      "\"package 'e1071' was built under R version 3.4.4\""
     ]
    },
    {
     "data": {
      "text/plain": [
       "\n",
       "Naive Bayes Classifier for Discrete Predictors\n",
       "\n",
       "Call:\n",
       "naiveBayes.default(x = X, y = Y, laplace = laplace)\n",
       "\n",
       "A-priori probabilities:\n",
       "Y\n",
       " Moving up Suburb mix  Travelers  Urban hip \n",
       " 0.2512821  0.3025641  0.2615385  0.1846154 \n",
       "\n",
       "Conditional probabilities:\n",
       "            age\n",
       "Y                [,1]     [,2]\n",
       "  Moving up  36.09168 4.167010\n",
       "  Suburb mix 40.14240 5.173803\n",
       "  Travelers  57.47194 8.126370\n",
       "  Urban hip  23.95040 1.798332\n",
       "\n",
       "            gender\n",
       "Y               Female      Male\n",
       "  Moving up  0.6530612 0.3469388\n",
       "  Suburb mix 0.4576271 0.5423729\n",
       "  Travelers  0.4705882 0.5294118\n",
       "  Urban hip  0.3333333 0.6666667\n",
       "\n",
       "            income\n",
       "Y                [,1]      [,2]\n",
       "  Moving up  52880.45  9836.682\n",
       "  Suburb mix 54124.75 11429.940\n",
       "  Travelers  63547.20 23862.123\n",
       "  Urban hip  21285.99  5141.259\n",
       "\n",
       "            kids\n",
       "Y                [,1]     [,2]\n",
       "  Moving up  2.102041 1.489476\n",
       "  Suburb mix 1.694915 1.249196\n",
       "  Travelers  0.000000 0.000000\n",
       "  Urban hip  1.166667 1.108409\n",
       "\n",
       "            ownHome\n",
       "Y                ownNo    ownYes\n",
       "  Moving up  0.6734694 0.3265306\n",
       "  Suburb mix 0.5932203 0.4067797\n",
       "  Travelers  0.2156863 0.7843137\n",
       "  Urban hip  0.8611111 0.1388889\n",
       "\n",
       "            subscribe\n",
       "Y                 subNo     subYes\n",
       "  Moving up  0.79591837 0.20408163\n",
       "  Suburb mix 0.93220339 0.06779661\n",
       "  Travelers  0.92156863 0.07843137\n",
       "  Urban hip  0.77777778 0.22222222\n"
      ]
     },
     "metadata": {},
     "output_type": "display_data"
    }
   ],
   "source": [
    "library(e1071)\n",
    "(seg.nb = naiveBayes(Segment ~ ., data=seg.df.train))"
   ]
  },
  {
   "cell_type": "markdown",
   "metadata": {},
   "source": [
    "> Examining the summary of the model object seg.nb, we see how the NB model\n",
    "works.\n",
    "- First, the a priori likelihood of segment membership—i.e., the estimated\n",
    "odds of membership before any other information is added—is 25.1% for the Moving\n",
    "up segment, 30.2% for the Suburb mix segment, and so forth. \n",
    "- Next we see the\n",
    "probabilities conditional on each predictor. In the code above, we show the probabilities\n",
    "for gender conditional on segment. A member of the Moving up segment\n",
    "has a 65.3% probability of being female in the training data.\n",
    "\n",
    ">The NB classifier starts with the observed probabilities of gender, age, etc., conditional\n",
    "on segment found in the training data. It then uses Bayes’ Rule to compute\n",
    "the probability of segment, conditional on gender, age, etc. This can then be\n",
    "used to estimate segment membership in new observations such as the test data.\n",
    "You have likely seen a description of how Bayes’ Rule works, and we will not\n",
    "repeat it here. For details, refer to a general text on Bayesian methods such as\n",
    "Kruschke [94]."
   ]
  },
  {
   "cell_type": "markdown",
   "metadata": {},
   "source": [
    "Using the classifier model object seg.nb we can predict segment membership in\n",
    "the test data seg.df.test with predict():"
   ]
  },
  {
   "cell_type": "code",
   "execution_count": 73,
   "metadata": {},
   "outputs": [
    {
     "data": {
      "text/html": [
       "<ol class=list-inline>\n",
       "\t<li>Suburb mix</li>\n",
       "\t<li>Travelers</li>\n",
       "\t<li>Suburb mix</li>\n",
       "\t<li>Suburb mix</li>\n",
       "\t<li>Suburb mix</li>\n",
       "\t<li>Suburb mix</li>\n",
       "\t<li>Moving up</li>\n",
       "\t<li>Suburb mix</li>\n",
       "\t<li>Suburb mix</li>\n",
       "\t<li>Suburb mix</li>\n",
       "\t<li>Travelers</li>\n",
       "\t<li>Moving up</li>\n",
       "\t<li>Moving up</li>\n",
       "\t<li>Moving up</li>\n",
       "\t<li>Suburb mix</li>\n",
       "\t<li>Moving up</li>\n",
       "\t<li>Moving up</li>\n",
       "\t<li>Suburb mix</li>\n",
       "\t<li>Suburb mix</li>\n",
       "\t<li>Suburb mix</li>\n",
       "\t<li>Moving up</li>\n",
       "\t<li>Suburb mix</li>\n",
       "\t<li>Suburb mix</li>\n",
       "\t<li>Moving up</li>\n",
       "\t<li>Suburb mix</li>\n",
       "\t<li>Suburb mix</li>\n",
       "\t<li>Moving up</li>\n",
       "\t<li>Suburb mix</li>\n",
       "\t<li>Suburb mix</li>\n",
       "\t<li>Suburb mix</li>\n",
       "\t<li>Suburb mix</li>\n",
       "\t<li>Suburb mix</li>\n",
       "\t<li>Suburb mix</li>\n",
       "\t<li>Moving up</li>\n",
       "\t<li>Suburb mix</li>\n",
       "\t<li>Suburb mix</li>\n",
       "\t<li>Suburb mix</li>\n",
       "\t<li>Suburb mix</li>\n",
       "\t<li>Suburb mix</li>\n",
       "\t<li>Suburb mix</li>\n",
       "\t<li>Suburb mix</li>\n",
       "\t<li>Urban hip</li>\n",
       "\t<li>Urban hip</li>\n",
       "\t<li>Urban hip</li>\n",
       "\t<li>Urban hip</li>\n",
       "\t<li>Urban hip</li>\n",
       "\t<li>Urban hip</li>\n",
       "\t<li>Urban hip</li>\n",
       "\t<li>Urban hip</li>\n",
       "\t<li>Urban hip</li>\n",
       "\t<li>Urban hip</li>\n",
       "\t<li>Moving up</li>\n",
       "\t<li>Urban hip</li>\n",
       "\t<li>Urban hip</li>\n",
       "\t<li>Urban hip</li>\n",
       "\t<li>Travelers</li>\n",
       "\t<li>Travelers</li>\n",
       "\t<li>Travelers</li>\n",
       "\t<li>Travelers</li>\n",
       "\t<li>Travelers</li>\n",
       "\t<li>Travelers</li>\n",
       "\t<li>Travelers</li>\n",
       "\t<li>Travelers</li>\n",
       "\t<li>Travelers</li>\n",
       "\t<li>Travelers</li>\n",
       "\t<li>Travelers</li>\n",
       "\t<li>Travelers</li>\n",
       "\t<li>Travelers</li>\n",
       "\t<li>Travelers</li>\n",
       "\t<li>Travelers</li>\n",
       "\t<li>Travelers</li>\n",
       "\t<li>Travelers</li>\n",
       "\t<li>Travelers</li>\n",
       "\t<li>Travelers</li>\n",
       "\t<li>Travelers</li>\n",
       "\t<li>Travelers</li>\n",
       "\t<li>Travelers</li>\n",
       "\t<li>Travelers</li>\n",
       "\t<li>Travelers</li>\n",
       "\t<li>Travelers</li>\n",
       "\t<li>Travelers</li>\n",
       "\t<li>Travelers</li>\n",
       "\t<li>Travelers</li>\n",
       "\t<li>Travelers</li>\n",
       "\t<li>Suburb mix</li>\n",
       "\t<li>Moving up</li>\n",
       "\t<li>Moving up</li>\n",
       "\t<li>Travelers</li>\n",
       "\t<li>Moving up</li>\n",
       "\t<li>Travelers</li>\n",
       "\t<li>Suburb mix</li>\n",
       "\t<li>Moving up</li>\n",
       "\t<li>Suburb mix</li>\n",
       "\t<li>Travelers</li>\n",
       "\t<li>Moving up</li>\n",
       "\t<li>Travelers</li>\n",
       "\t<li>Moving up</li>\n",
       "\t<li>Moving up</li>\n",
       "\t<li>Moving up</li>\n",
       "\t<li>Moving up</li>\n",
       "\t<li>Moving up</li>\n",
       "\t<li>Moving up</li>\n",
       "\t<li>Moving up</li>\n",
       "\t<li>Travelers</li>\n",
       "\t<li>Moving up</li>\n",
       "</ol>\n"
      ],
      "text/latex": [
       "\\begin{enumerate*}\n",
       "\\item Suburb mix\n",
       "\\item Travelers\n",
       "\\item Suburb mix\n",
       "\\item Suburb mix\n",
       "\\item Suburb mix\n",
       "\\item Suburb mix\n",
       "\\item Moving up\n",
       "\\item Suburb mix\n",
       "\\item Suburb mix\n",
       "\\item Suburb mix\n",
       "\\item Travelers\n",
       "\\item Moving up\n",
       "\\item Moving up\n",
       "\\item Moving up\n",
       "\\item Suburb mix\n",
       "\\item Moving up\n",
       "\\item Moving up\n",
       "\\item Suburb mix\n",
       "\\item Suburb mix\n",
       "\\item Suburb mix\n",
       "\\item Moving up\n",
       "\\item Suburb mix\n",
       "\\item Suburb mix\n",
       "\\item Moving up\n",
       "\\item Suburb mix\n",
       "\\item Suburb mix\n",
       "\\item Moving up\n",
       "\\item Suburb mix\n",
       "\\item Suburb mix\n",
       "\\item Suburb mix\n",
       "\\item Suburb mix\n",
       "\\item Suburb mix\n",
       "\\item Suburb mix\n",
       "\\item Moving up\n",
       "\\item Suburb mix\n",
       "\\item Suburb mix\n",
       "\\item Suburb mix\n",
       "\\item Suburb mix\n",
       "\\item Suburb mix\n",
       "\\item Suburb mix\n",
       "\\item Suburb mix\n",
       "\\item Urban hip\n",
       "\\item Urban hip\n",
       "\\item Urban hip\n",
       "\\item Urban hip\n",
       "\\item Urban hip\n",
       "\\item Urban hip\n",
       "\\item Urban hip\n",
       "\\item Urban hip\n",
       "\\item Urban hip\n",
       "\\item Urban hip\n",
       "\\item Moving up\n",
       "\\item Urban hip\n",
       "\\item Urban hip\n",
       "\\item Urban hip\n",
       "\\item Travelers\n",
       "\\item Travelers\n",
       "\\item Travelers\n",
       "\\item Travelers\n",
       "\\item Travelers\n",
       "\\item Travelers\n",
       "\\item Travelers\n",
       "\\item Travelers\n",
       "\\item Travelers\n",
       "\\item Travelers\n",
       "\\item Travelers\n",
       "\\item Travelers\n",
       "\\item Travelers\n",
       "\\item Travelers\n",
       "\\item Travelers\n",
       "\\item Travelers\n",
       "\\item Travelers\n",
       "\\item Travelers\n",
       "\\item Travelers\n",
       "\\item Travelers\n",
       "\\item Travelers\n",
       "\\item Travelers\n",
       "\\item Travelers\n",
       "\\item Travelers\n",
       "\\item Travelers\n",
       "\\item Travelers\n",
       "\\item Travelers\n",
       "\\item Travelers\n",
       "\\item Travelers\n",
       "\\item Suburb mix\n",
       "\\item Moving up\n",
       "\\item Moving up\n",
       "\\item Travelers\n",
       "\\item Moving up\n",
       "\\item Travelers\n",
       "\\item Suburb mix\n",
       "\\item Moving up\n",
       "\\item Suburb mix\n",
       "\\item Travelers\n",
       "\\item Moving up\n",
       "\\item Travelers\n",
       "\\item Moving up\n",
       "\\item Moving up\n",
       "\\item Moving up\n",
       "\\item Moving up\n",
       "\\item Moving up\n",
       "\\item Moving up\n",
       "\\item Moving up\n",
       "\\item Travelers\n",
       "\\item Moving up\n",
       "\\end{enumerate*}\n"
      ],
      "text/markdown": [
       "1. Suburb mix\n",
       "2. Travelers\n",
       "3. Suburb mix\n",
       "4. Suburb mix\n",
       "5. Suburb mix\n",
       "6. Suburb mix\n",
       "7. Moving up\n",
       "8. Suburb mix\n",
       "9. Suburb mix\n",
       "10. Suburb mix\n",
       "11. Travelers\n",
       "12. Moving up\n",
       "13. Moving up\n",
       "14. Moving up\n",
       "15. Suburb mix\n",
       "16. Moving up\n",
       "17. Moving up\n",
       "18. Suburb mix\n",
       "19. Suburb mix\n",
       "20. Suburb mix\n",
       "21. Moving up\n",
       "22. Suburb mix\n",
       "23. Suburb mix\n",
       "24. Moving up\n",
       "25. Suburb mix\n",
       "26. Suburb mix\n",
       "27. Moving up\n",
       "28. Suburb mix\n",
       "29. Suburb mix\n",
       "30. Suburb mix\n",
       "31. Suburb mix\n",
       "32. Suburb mix\n",
       "33. Suburb mix\n",
       "34. Moving up\n",
       "35. Suburb mix\n",
       "36. Suburb mix\n",
       "37. Suburb mix\n",
       "38. Suburb mix\n",
       "39. Suburb mix\n",
       "40. Suburb mix\n",
       "41. Suburb mix\n",
       "42. Urban hip\n",
       "43. Urban hip\n",
       "44. Urban hip\n",
       "45. Urban hip\n",
       "46. Urban hip\n",
       "47. Urban hip\n",
       "48. Urban hip\n",
       "49. Urban hip\n",
       "50. Urban hip\n",
       "51. Urban hip\n",
       "52. Moving up\n",
       "53. Urban hip\n",
       "54. Urban hip\n",
       "55. Urban hip\n",
       "56. Travelers\n",
       "57. Travelers\n",
       "58. Travelers\n",
       "59. Travelers\n",
       "60. Travelers\n",
       "61. Travelers\n",
       "62. Travelers\n",
       "63. Travelers\n",
       "64. Travelers\n",
       "65. Travelers\n",
       "66. Travelers\n",
       "67. Travelers\n",
       "68. Travelers\n",
       "69. Travelers\n",
       "70. Travelers\n",
       "71. Travelers\n",
       "72. Travelers\n",
       "73. Travelers\n",
       "74. Travelers\n",
       "75. Travelers\n",
       "76. Travelers\n",
       "77. Travelers\n",
       "78. Travelers\n",
       "79. Travelers\n",
       "80. Travelers\n",
       "81. Travelers\n",
       "82. Travelers\n",
       "83. Travelers\n",
       "84. Travelers\n",
       "85. Suburb mix\n",
       "86. Moving up\n",
       "87. Moving up\n",
       "88. Travelers\n",
       "89. Moving up\n",
       "90. Travelers\n",
       "91. Suburb mix\n",
       "92. Moving up\n",
       "93. Suburb mix\n",
       "94. Travelers\n",
       "95. Moving up\n",
       "96. Travelers\n",
       "97. Moving up\n",
       "98. Moving up\n",
       "99. Moving up\n",
       "100. Moving up\n",
       "101. Moving up\n",
       "102. Moving up\n",
       "103. Moving up\n",
       "104. Travelers\n",
       "105. Moving up\n",
       "\n",
       "\n"
      ],
      "text/plain": [
       "  [1] Suburb mix Travelers  Suburb mix Suburb mix Suburb mix Suburb mix\n",
       "  [7] Moving up  Suburb mix Suburb mix Suburb mix Travelers  Moving up \n",
       " [13] Moving up  Moving up  Suburb mix Moving up  Moving up  Suburb mix\n",
       " [19] Suburb mix Suburb mix Moving up  Suburb mix Suburb mix Moving up \n",
       " [25] Suburb mix Suburb mix Moving up  Suburb mix Suburb mix Suburb mix\n",
       " [31] Suburb mix Suburb mix Suburb mix Moving up  Suburb mix Suburb mix\n",
       " [37] Suburb mix Suburb mix Suburb mix Suburb mix Suburb mix Urban hip \n",
       " [43] Urban hip  Urban hip  Urban hip  Urban hip  Urban hip  Urban hip \n",
       " [49] Urban hip  Urban hip  Urban hip  Moving up  Urban hip  Urban hip \n",
       " [55] Urban hip  Travelers  Travelers  Travelers  Travelers  Travelers \n",
       " [61] Travelers  Travelers  Travelers  Travelers  Travelers  Travelers \n",
       " [67] Travelers  Travelers  Travelers  Travelers  Travelers  Travelers \n",
       " [73] Travelers  Travelers  Travelers  Travelers  Travelers  Travelers \n",
       " [79] Travelers  Travelers  Travelers  Travelers  Travelers  Travelers \n",
       " [85] Suburb mix Moving up  Moving up  Travelers  Moving up  Travelers \n",
       " [91] Suburb mix Moving up  Suburb mix Travelers  Moving up  Travelers \n",
       " [97] Moving up  Moving up  Moving up  Moving up  Moving up  Moving up \n",
       "[103] Moving up  Travelers  Moving up \n",
       "Levels: Moving up Suburb mix Travelers Urban hip"
      ]
     },
     "metadata": {},
     "output_type": "display_data"
    }
   ],
   "source": [
    "(seg.nb.class = predict(seg.nb, seg.df.test))"
   ]
  },
  {
   "cell_type": "markdown",
   "metadata": {},
   "source": [
    "We examine the frequencies of predicted membership using table() and\n",
    "prop.table():"
   ]
  },
  {
   "cell_type": "code",
   "execution_count": 75,
   "metadata": {},
   "outputs": [
    {
     "data": {
      "text/plain": [
       "seg.nb.class\n",
       " Moving up Suburb mix  Travelers  Urban hip \n",
       " 0.2285714  0.3047619  0.3428571  0.1238095 "
      ]
     },
     "metadata": {},
     "output_type": "display_data"
    }
   ],
   "source": [
    "prop.table(table(seg.nb.class))"
   ]
  },
  {
   "cell_type": "markdown",
   "metadata": {},
   "source": [
    "A cluster plot of these segments against their principal components is created with\n",
    "the following code and shown in Fig. 11.9. In this case we remove the known segment\n",
    "assignments from the data using [ , -7] because we are using the NB classifications:"
   ]
  },
  {
   "cell_type": "code",
   "execution_count": 76,
   "metadata": {},
   "outputs": [
    {
     "data": {
      "image/png": "[encoded data removed]",
      "text/plain": [
       "Plot with title \"Naive Bayes classification, holdout data\""
      ]
     },
     "metadata": {},
     "output_type": "display_data"
    }
   ],
   "source": [
    "clusplot(seg.df.test[, -7], seg.nb.class, color=T, shade=T, labels=4, lines=0,\n",
    "         main='Naive Bayes classification, holdout data')"
   ]
  },
  {
   "cell_type": "markdown",
   "metadata": {},
   "source": [
    "> How well did the model perform? We compare the predicted membership to the\n",
    "known segments for the 35% holdout (test) data. "
   ]
  },
  {
   "cell_type": "markdown",
   "metadata": {},
   "source": [
    "First we see the raw agreement\n",
    "rate, which is 80% agreement between predicted and actual segment membership:"
   ]
  },
  {
   "cell_type": "code",
   "execution_count": 77,
   "metadata": {},
   "outputs": [
    {
     "data": {
      "text/html": [
       "0.8"
      ],
      "text/latex": [
       "0.8"
      ],
      "text/markdown": [
       "0.8"
      ],
      "text/plain": [
       "[1] 0.8"
      ]
     },
     "metadata": {},
     "output_type": "display_data"
    }
   ],
   "source": [
    "mean(seg.df.test$Segment==seg.nb.class)"
   ]
  },
  {
   "cell_type": "markdown",
   "metadata": {},
   "source": [
    "As we saw in Sect. 11.3.8, instead of raw agreement, one should assess performance\n",
    "above chance. In this case, we see that NB was able to recover the segments in the\n",
    "test data imperfectly but substantially better than chance:"
   ]
  },
  {
   "cell_type": "code",
   "execution_count": 78,
   "metadata": {},
   "outputs": [
    {
     "data": {
      "text/html": [
       "0.562678701999445"
      ],
      "text/latex": [
       "0.562678701999445"
      ],
      "text/markdown": [
       "0.562678701999445"
      ],
      "text/plain": [
       "[1] 0.5626787"
      ]
     },
     "metadata": {},
     "output_type": "display_data"
    }
   ],
   "source": [
    "adjustedRandIndex(seg.nb.class, seg.df.test$Segment)"
   ]
  },
  {
   "cell_type": "markdown",
   "metadata": {},
   "source": [
    "We compare performance for each category using table(). The resulting table is\n",
    "known in machine learning as a confusion matrix:"
   ]
  },
  {
   "cell_type": "code",
   "execution_count": 79,
   "metadata": {},
   "outputs": [
    {
     "data": {
      "text/plain": [
       "            \n",
       "seg.nb.class Moving up Suburb mix Travelers Urban hip\n",
       "  Moving up         13         10         0         1\n",
       "  Suburb mix         3         29         0         0\n",
       "  Travelers          5          2        29         0\n",
       "  Urban hip          0          0         0        13"
      ]
     },
     "metadata": {},
     "output_type": "display_data"
    }
   ],
   "source": [
    "table(seg.nb.class, seg.df.test$Segment)"
   ]
  },
  {
   "cell_type": "markdown",
   "metadata": {},
   "source": [
    "> The NB prediction (shown in the rows) was correct for a majority of observations\n",
    "in each segment, as shown in the diagonal. When we examine individual categories,\n",
    "we see that NB was correct for every proposed member of the Urban hip segment\n",
    "(13 correct out of 13 proposed), and for nearly 90% of the Suburb mix proposals(29 correct out of 32). \n",
    "\n",
    ">However, it incorrectly classified 12 of the actual 41 Suburb\n",
    "mix respondents into other segments, and similarly failed to identify 1 of the true\n",
    "Urban hip segment.\n",
    "- This demonstrates the asymmetry of positive prediction (making a correct claim of inclusion) vs. negative prediction (making a correct claim of exclusion). There is likely to be a different business gain for identifying true positives and true negatives, versus the costs of false positives and false negatives.\n",
    "- If you have estimates of these costs, you can use the confusion matrix to compute a custom metric for evaluating your classification results."
   ]
  },
  {
   "cell_type": "markdown",
   "metadata": {},
   "source": [
    "As we did for clustering, we check the predicted segments’ summary values using\n",
    "our summary function. However, because we now have labeled test data, we can\n",
    "also compare that to the summary values using the true membership:"
   ]
  },
  {
   "cell_type": "code",
   "execution_count": 82,
   "metadata": {},
   "outputs": [
    {
     "data": {
      "text/html": [
       "<table>\n",
       "<thead><tr><th scope=col>Group.1</th><th scope=col>age</th><th scope=col>gender</th><th scope=col>income</th><th scope=col>kids</th><th scope=col>ownHome</th><th scope=col>subscribe</th><th scope=col>Segment</th></tr></thead>\n",
       "<tbody>\n",
       "\t<tr><td>Moving up </td><td>34.29258  </td><td>1.125000  </td><td>51369.52  </td><td>2.2916667 </td><td>1.416667  </td><td>1.250000  </td><td>1.541667  </td></tr>\n",
       "\t<tr><td>Suburb mix</td><td>41.24653  </td><td>1.562500  </td><td>58095.10  </td><td>2.1875000 </td><td>1.562500  </td><td>1.000000  </td><td>1.906250  </td></tr>\n",
       "\t<tr><td>Travelers </td><td>55.08669  </td><td>1.444444  </td><td>58634.10  </td><td>0.0000000 </td><td>1.666667  </td><td>1.166667  </td><td>2.666667  </td></tr>\n",
       "\t<tr><td>Urban hip </td><td>23.36047  </td><td>1.461538  </td><td>22039.69  </td><td>0.8461538 </td><td>1.307692  </td><td>1.153846  </td><td>4.000000  </td></tr>\n",
       "</tbody>\n",
       "</table>\n"
      ],
      "text/latex": [
       "\\begin{tabular}{r|llllllll}\n",
       " Group.1 & age & gender & income & kids & ownHome & subscribe & Segment\\\\\n",
       "\\hline\n",
       "\t Moving up  & 34.29258   & 1.125000   & 51369.52   & 2.2916667  & 1.416667   & 1.250000   & 1.541667  \\\\\n",
       "\t Suburb mix & 41.24653   & 1.562500   & 58095.10   & 2.1875000  & 1.562500   & 1.000000   & 1.906250  \\\\\n",
       "\t Travelers  & 55.08669   & 1.444444   & 58634.10   & 0.0000000  & 1.666667   & 1.166667   & 2.666667  \\\\\n",
       "\t Urban hip  & 23.36047   & 1.461538   & 22039.69   & 0.8461538  & 1.307692   & 1.153846   & 4.000000  \\\\\n",
       "\\end{tabular}\n"
      ],
      "text/markdown": [
       "\n",
       "Group.1 | age | gender | income | kids | ownHome | subscribe | Segment | \n",
       "|---|---|---|---|\n",
       "| Moving up  | 34.29258   | 1.125000   | 51369.52   | 2.2916667  | 1.416667   | 1.250000   | 1.541667   | \n",
       "| Suburb mix | 41.24653   | 1.562500   | 58095.10   | 2.1875000  | 1.562500   | 1.000000   | 1.906250   | \n",
       "| Travelers  | 55.08669   | 1.444444   | 58634.10   | 0.0000000  | 1.666667   | 1.166667   | 2.666667   | \n",
       "| Urban hip  | 23.36047   | 1.461538   | 22039.69   | 0.8461538  | 1.307692   | 1.153846   | 4.000000   | \n",
       "\n",
       "\n"
      ],
      "text/plain": [
       "  Group.1    age      gender   income   kids      ownHome  subscribe Segment \n",
       "1 Moving up  34.29258 1.125000 51369.52 2.2916667 1.416667 1.250000  1.541667\n",
       "2 Suburb mix 41.24653 1.562500 58095.10 2.1875000 1.562500 1.000000  1.906250\n",
       "3 Travelers  55.08669 1.444444 58634.10 0.0000000 1.666667 1.166667  2.666667\n",
       "4 Urban hip  23.36047 1.461538 22039.69 0.8461538 1.307692 1.153846  4.000000"
      ]
     },
     "metadata": {},
     "output_type": "display_data"
    }
   ],
   "source": [
    "# summary data for proposed segments in the test data\n",
    "seg.summ(seg.df.test, seg.nb.class)"
   ]
  },
  {
   "cell_type": "code",
   "execution_count": 83,
   "metadata": {},
   "outputs": [
    {
     "data": {
      "text/html": [
       "<table>\n",
       "<thead><tr><th scope=col>Group.1</th><th scope=col>age</th><th scope=col>gender</th><th scope=col>income</th><th scope=col>kids</th><th scope=col>ownHome</th><th scope=col>subscribe</th><th scope=col>Segment</th></tr></thead>\n",
       "<tbody>\n",
       "\t<tr><td>Moving up </td><td>36.88989  </td><td>1.190476  </td><td>53582.16  </td><td>1.4761905 </td><td>1.333333  </td><td>1.190476  </td><td>1         </td></tr>\n",
       "\t<tr><td>Suburb mix</td><td>39.61984  </td><td>1.487805  </td><td>56341.99  </td><td>2.2439024 </td><td>1.585366  </td><td>1.048780  </td><td>2         </td></tr>\n",
       "\t<tr><td>Travelers </td><td>58.57245  </td><td>1.448276  </td><td>59869.24  </td><td>0.0000000 </td><td>1.689655  </td><td>1.206897  </td><td>3         </td></tr>\n",
       "\t<tr><td>Urban hip </td><td>23.71537  </td><td>1.428571  </td><td>22700.06  </td><td>0.9285714 </td><td>1.357143  </td><td>1.142857  </td><td>4         </td></tr>\n",
       "</tbody>\n",
       "</table>\n"
      ],
      "text/latex": [
       "\\begin{tabular}{r|llllllll}\n",
       " Group.1 & age & gender & income & kids & ownHome & subscribe & Segment\\\\\n",
       "\\hline\n",
       "\t Moving up  & 36.88989   & 1.190476   & 53582.16   & 1.4761905  & 1.333333   & 1.190476   & 1         \\\\\n",
       "\t Suburb mix & 39.61984   & 1.487805   & 56341.99   & 2.2439024  & 1.585366   & 1.048780   & 2         \\\\\n",
       "\t Travelers  & 58.57245   & 1.448276   & 59869.24   & 0.0000000  & 1.689655   & 1.206897   & 3         \\\\\n",
       "\t Urban hip  & 23.71537   & 1.428571   & 22700.06   & 0.9285714  & 1.357143   & 1.142857   & 4         \\\\\n",
       "\\end{tabular}\n"
      ],
      "text/markdown": [
       "\n",
       "Group.1 | age | gender | income | kids | ownHome | subscribe | Segment | \n",
       "|---|---|---|---|\n",
       "| Moving up  | 36.88989   | 1.190476   | 53582.16   | 1.4761905  | 1.333333   | 1.190476   | 1          | \n",
       "| Suburb mix | 39.61984   | 1.487805   | 56341.99   | 2.2439024  | 1.585366   | 1.048780   | 2          | \n",
       "| Travelers  | 58.57245   | 1.448276   | 59869.24   | 0.0000000  | 1.689655   | 1.206897   | 3          | \n",
       "| Urban hip  | 23.71537   | 1.428571   | 22700.06   | 0.9285714  | 1.357143   | 1.142857   | 4          | \n",
       "\n",
       "\n"
      ],
      "text/plain": [
       "  Group.1    age      gender   income   kids      ownHome  subscribe Segment\n",
       "1 Moving up  36.88989 1.190476 53582.16 1.4761905 1.333333 1.190476  1      \n",
       "2 Suburb mix 39.61984 1.487805 56341.99 2.2439024 1.585366 1.048780  2      \n",
       "3 Travelers  58.57245 1.448276 59869.24 0.0000000 1.689655 1.206897  3      \n",
       "4 Urban hip  23.71537 1.428571 22700.06 0.9285714 1.357143 1.142857  4      "
      ]
     },
     "metadata": {},
     "output_type": "display_data"
    }
   ],
   "source": [
    "seg.summ(seg.df.test, seg.df.test$Segment)"
   ]
  },
  {
   "cell_type": "markdown",
   "metadata": {},
   "source": [
    "Overall, we see that the summary of demographics for the proposed segments (the\n",
    "first summary above) is very similar to the values in the true segments (the second\n",
    "summary). Thus, although NB assigned some observations to the wrong segments,\n",
    "its overall model of the segment descriptive values—at least at the mean values—is\n",
    "similar for the proposed and true segments. \n",
    "- By making such a comparison using the\n",
    "test data, we gain confidence that although assignment is not perfect on a case-bycase\n",
    "basis, the overall group definitions are quite similar."
   ]
  },
  {
   "cell_type": "markdown",
   "metadata": {},
   "source": [
    "For naive Bayes models, predict() can estimate not only the most likely segment\n",
    "but also the odds of membership in each segment, using the type=\"raw\"\n",
    "argument:"
   ]
  },
  {
   "cell_type": "code",
   "execution_count": 87,
   "metadata": {},
   "outputs": [
    {
     "data": {
      "text/html": [
       "<table>\n",
       "<thead><tr><th scope=col>Moving up</th><th scope=col>Suburb mix</th><th scope=col>Travelers</th><th scope=col>Urban hip</th></tr></thead>\n",
       "<tbody>\n",
       "\t<tr><td>0.4070779794</td><td>0.592805214 </td><td>4.848358e-05</td><td>6.832328e-05</td></tr>\n",
       "\t<tr><td>0.0002715183</td><td>0.002422066 </td><td>9.973064e-01</td><td>6.143554e-32</td></tr>\n",
       "\t<tr><td>0.2671392917</td><td>0.732689657 </td><td>1.710510e-04</td><td>2.844967e-40</td></tr>\n",
       "\t<tr><td>0.2237216425</td><td>0.774645744 </td><td>1.632613e-03</td><td>7.568258e-37</td></tr>\n",
       "\t<tr><td>0.2255662711</td><td>0.774027968 </td><td>4.057610e-04</td><td>9.030641e-11</td></tr>\n",
       "\t<tr><td>0.2051010831</td><td>0.794804695 </td><td>9.422156e-05</td><td>1.554167e-33</td></tr>\n",
       "\t<tr><td>0.6226982604</td><td>0.377293787 </td><td>7.952188e-06</td><td>1.250892e-24</td></tr>\n",
       "\t<tr><td>0.1429047975</td><td>0.856520036 </td><td>5.751660e-04</td><td>2.667936e-36</td></tr>\n",
       "\t<tr><td>0.2282427082</td><td>0.771646162 </td><td>1.111296e-04</td><td>6.476270e-22</td></tr>\n",
       "\t<tr><td>0.1881605806</td><td>0.811463209 </td><td>3.762108e-04</td><td>2.155829e-33</td></tr>\n",
       "\t<tr><td>0.0014098368</td><td>0.003908209 </td><td>9.946820e-01</td><td>4.248292e-33</td></tr>\n",
       "\t<tr><td>0.8812765536</td><td>0.118717916 </td><td>5.530903e-06</td><td>1.315135e-13</td></tr>\n",
       "\t<tr><td>0.9363446079</td><td>0.061888585 </td><td>1.766807e-03</td><td>2.521926e-19</td></tr>\n",
       "\t<tr><td>0.5935199810</td><td>0.406475876 </td><td>2.932670e-06</td><td>1.210546e-06</td></tr>\n",
       "\t<tr><td>0.4725188217</td><td>0.527424867 </td><td>5.631135e-05</td><td>5.870878e-25</td></tr>\n",
       "\t<tr><td>0.7963637829</td><td>0.203572176 </td><td>6.404062e-05</td><td>1.030205e-20</td></tr>\n",
       "\t<tr><td>0.6477084894</td><td>0.352287054 </td><td>4.456907e-06</td><td>9.790789e-19</td></tr>\n",
       "\t<tr><td>0.0017151410</td><td>0.984052714 </td><td>1.423214e-02</td><td>2.993688e-73</td></tr>\n",
       "\t<tr><td>0.1179408678</td><td>0.881247227 </td><td>8.119052e-04</td><td>1.001008e-39</td></tr>\n",
       "\t<tr><td>0.2893329499</td><td>0.710617174 </td><td>4.987617e-05</td><td>3.384453e-30</td></tr>\n",
       "\t<tr><td>0.5585618387</td><td>0.441370452 </td><td>6.533428e-05</td><td>2.374933e-06</td></tr>\n",
       "\t<tr><td>0.3337821982</td><td>0.666074196 </td><td>1.436054e-04</td><td>9.311995e-32</td></tr>\n",
       "\t<tr><td>0.0824997470</td><td>0.917282446 </td><td>2.178072e-04</td><td>3.649129e-44</td></tr>\n",
       "\t<tr><td>0.5008053412</td><td>0.499189901 </td><td>4.757632e-06</td><td>1.371772e-15</td></tr>\n",
       "\t<tr><td>0.4442622674</td><td>0.555520449 </td><td>2.172838e-04</td><td>3.746701e-33</td></tr>\n",
       "\t<tr><td>0.3586398275</td><td>0.641156903 </td><td>2.032695e-04</td><td>4.374357e-34</td></tr>\n",
       "\t<tr><td>0.9864036398</td><td>0.013311084 </td><td>2.852760e-04</td><td>7.920841e-20</td></tr>\n",
       "\t<tr><td>0.4791362846</td><td>0.520114606 </td><td>7.491095e-04</td><td>6.306240e-32</td></tr>\n",
       "\t<tr><td>0.1719092945</td><td>0.827410191 </td><td>6.805144e-04</td><td>4.384449e-39</td></tr>\n",
       "\t<tr><td>0.2792319476</td><td>0.720714279 </td><td>5.377341e-05</td><td>3.945087e-32</td></tr>\n",
       "\t<tr><td>...</td><td>...</td><td>...</td><td>...</td></tr>\n",
       "\t<tr><td>1.681580e-11 </td><td>3.428651e-07 </td><td>9.999997e-01 </td><td> 1.122044e-90</td></tr>\n",
       "\t<tr><td>1.204774e-06 </td><td>1.381948e-04 </td><td>9.998606e-01 </td><td> 1.868316e-73</td></tr>\n",
       "\t<tr><td>8.299835e-13 </td><td>3.707382e-08 </td><td>1.000000e+00 </td><td> 4.592253e-99</td></tr>\n",
       "\t<tr><td>5.965582e-26 </td><td>3.845277e-15 </td><td>1.000000e+00 </td><td>1.662621e-199</td></tr>\n",
       "\t<tr><td>6.230834e-05 </td><td>1.976800e-03 </td><td>9.979609e-01 </td><td> 1.249634e-53</td></tr>\n",
       "\t<tr><td>2.172137e-09 </td><td>2.501661e-06 </td><td>9.999975e-01 </td><td> 1.545993e-83</td></tr>\n",
       "\t<tr><td>2.948970e-18 </td><td>8.801702e-12 </td><td>1.000000e+00 </td><td>1.907937e-155</td></tr>\n",
       "\t<tr><td>4.223935e-14 </td><td>1.605263e-09 </td><td>1.000000e+00 </td><td>7.259005e-127</td></tr>\n",
       "\t<tr><td>2.087288e-14 </td><td>2.251596e-08 </td><td>1.000000e+00 </td><td>1.373288e-130</td></tr>\n",
       "\t<tr><td>2.799951e-01 </td><td>7.195106e-01 </td><td>4.942965e-04 </td><td> 8.053513e-37</td></tr>\n",
       "\t<tr><td>6.455032e-01 </td><td>3.544805e-01 </td><td>1.631816e-05 </td><td> 3.333431e-12</td></tr>\n",
       "\t<tr><td>8.770655e-01 </td><td>1.229329e-01 </td><td>1.643295e-06 </td><td> 1.032652e-17</td></tr>\n",
       "\t<tr><td>9.124913e-02 </td><td>6.023881e-02 </td><td>8.485121e-01 </td><td> 3.476815e-21</td></tr>\n",
       "\t<tr><td>8.125672e-01 </td><td>1.874132e-01 </td><td>1.963252e-05 </td><td> 2.173069e-23</td></tr>\n",
       "\t<tr><td>1.880513e-03 </td><td>7.330164e-03 </td><td>9.907893e-01 </td><td> 2.953075e-43</td></tr>\n",
       "\t<tr><td>4.978976e-01 </td><td>5.020053e-01 </td><td>9.703109e-05 </td><td> 2.455250e-31</td></tr>\n",
       "\t<tr><td>6.512389e-01 </td><td>3.487564e-01 </td><td>4.661974e-06 </td><td> 5.535521e-20</td></tr>\n",
       "\t<tr><td>4.071302e-01 </td><td>5.928361e-01 </td><td>3.377476e-05 </td><td> 3.364233e-12</td></tr>\n",
       "\t<tr><td>3.936946e-02 </td><td>5.920812e-02 </td><td>9.014224e-01 </td><td> 5.525953e-24</td></tr>\n",
       "\t<tr><td>7.131613e-01 </td><td>2.868359e-01 </td><td>2.722473e-06 </td><td> 2.914527e-14</td></tr>\n",
       "\t<tr><td>1.981632e-04 </td><td>1.915729e-03 </td><td>9.978861e-01 </td><td> 2.559204e-30</td></tr>\n",
       "\t<tr><td>5.536556e-01 </td><td>4.463331e-01 </td><td>1.132570e-05 </td><td> 2.656886e-17</td></tr>\n",
       "\t<tr><td>8.656092e-01 </td><td>1.343837e-01 </td><td>7.053256e-06 </td><td> 2.362430e-13</td></tr>\n",
       "\t<tr><td>8.003381e-01 </td><td>1.988422e-01 </td><td>8.196091e-04 </td><td> 6.861077e-22</td></tr>\n",
       "\t<tr><td>5.230366e-01 </td><td>4.769470e-01 </td><td>1.638791e-05 </td><td> 7.947511e-14</td></tr>\n",
       "\t<tr><td>8.540672e-01 </td><td>1.459302e-01 </td><td>2.573149e-06 </td><td> 1.778876e-15</td></tr>\n",
       "\t<tr><td>5.469917e-01 </td><td>4.529987e-01 </td><td>9.673663e-06 </td><td> 1.779996e-24</td></tr>\n",
       "\t<tr><td>5.725079e-01 </td><td>4.274841e-01 </td><td>8.013238e-06 </td><td> 3.155921e-23</td></tr>\n",
       "\t<tr><td>3.270015e-03 </td><td>6.079785e-03 </td><td>9.906502e-01 </td><td> 5.581108e-30</td></tr>\n",
       "\t<tr><td>8.618555e-01 </td><td>1.381424e-01 </td><td>2.119364e-06 </td><td> 1.540710e-17</td></tr>\n",
       "</tbody>\n",
       "</table>\n"
      ],
      "text/latex": [
       "\\begin{tabular}{llll}\n",
       " Moving up & Suburb mix & Travelers & Urban hip\\\\\n",
       "\\hline\n",
       "\t 0.4070779794 & 0.592805214  & 4.848358e-05 & 6.832328e-05\\\\\n",
       "\t 0.0002715183 & 0.002422066  & 9.973064e-01 & 6.143554e-32\\\\\n",
       "\t 0.2671392917 & 0.732689657  & 1.710510e-04 & 2.844967e-40\\\\\n",
       "\t 0.2237216425 & 0.774645744  & 1.632613e-03 & 7.568258e-37\\\\\n",
       "\t 0.2255662711 & 0.774027968  & 4.057610e-04 & 9.030641e-11\\\\\n",
       "\t 0.2051010831 & 0.794804695  & 9.422156e-05 & 1.554167e-33\\\\\n",
       "\t 0.6226982604 & 0.377293787  & 7.952188e-06 & 1.250892e-24\\\\\n",
       "\t 0.1429047975 & 0.856520036  & 5.751660e-04 & 2.667936e-36\\\\\n",
       "\t 0.2282427082 & 0.771646162  & 1.111296e-04 & 6.476270e-22\\\\\n",
       "\t 0.1881605806 & 0.811463209  & 3.762108e-04 & 2.155829e-33\\\\\n",
       "\t 0.0014098368 & 0.003908209  & 9.946820e-01 & 4.248292e-33\\\\\n",
       "\t 0.8812765536 & 0.118717916  & 5.530903e-06 & 1.315135e-13\\\\\n",
       "\t 0.9363446079 & 0.061888585  & 1.766807e-03 & 2.521926e-19\\\\\n",
       "\t 0.5935199810 & 0.406475876  & 2.932670e-06 & 1.210546e-06\\\\\n",
       "\t 0.4725188217 & 0.527424867  & 5.631135e-05 & 5.870878e-25\\\\\n",
       "\t 0.7963637829 & 0.203572176  & 6.404062e-05 & 1.030205e-20\\\\\n",
       "\t 0.6477084894 & 0.352287054  & 4.456907e-06 & 9.790789e-19\\\\\n",
       "\t 0.0017151410 & 0.984052714  & 1.423214e-02 & 2.993688e-73\\\\\n",
       "\t 0.1179408678 & 0.881247227  & 8.119052e-04 & 1.001008e-39\\\\\n",
       "\t 0.2893329499 & 0.710617174  & 4.987617e-05 & 3.384453e-30\\\\\n",
       "\t 0.5585618387 & 0.441370452  & 6.533428e-05 & 2.374933e-06\\\\\n",
       "\t 0.3337821982 & 0.666074196  & 1.436054e-04 & 9.311995e-32\\\\\n",
       "\t 0.0824997470 & 0.917282446  & 2.178072e-04 & 3.649129e-44\\\\\n",
       "\t 0.5008053412 & 0.499189901  & 4.757632e-06 & 1.371772e-15\\\\\n",
       "\t 0.4442622674 & 0.555520449  & 2.172838e-04 & 3.746701e-33\\\\\n",
       "\t 0.3586398275 & 0.641156903  & 2.032695e-04 & 4.374357e-34\\\\\n",
       "\t 0.9864036398 & 0.013311084  & 2.852760e-04 & 7.920841e-20\\\\\n",
       "\t 0.4791362846 & 0.520114606  & 7.491095e-04 & 6.306240e-32\\\\\n",
       "\t 0.1719092945 & 0.827410191  & 6.805144e-04 & 4.384449e-39\\\\\n",
       "\t 0.2792319476 & 0.720714279  & 5.377341e-05 & 3.945087e-32\\\\\n",
       "\t ... & ... & ... & ...\\\\\n",
       "\t 1.681580e-11  & 3.428651e-07  & 9.999997e-01  &  1.122044e-90\\\\\n",
       "\t 1.204774e-06  & 1.381948e-04  & 9.998606e-01  &  1.868316e-73\\\\\n",
       "\t 8.299835e-13  & 3.707382e-08  & 1.000000e+00  &  4.592253e-99\\\\\n",
       "\t 5.965582e-26  & 3.845277e-15  & 1.000000e+00  & 1.662621e-199\\\\\n",
       "\t 6.230834e-05  & 1.976800e-03  & 9.979609e-01  &  1.249634e-53\\\\\n",
       "\t 2.172137e-09  & 2.501661e-06  & 9.999975e-01  &  1.545993e-83\\\\\n",
       "\t 2.948970e-18  & 8.801702e-12  & 1.000000e+00  & 1.907937e-155\\\\\n",
       "\t 4.223935e-14  & 1.605263e-09  & 1.000000e+00  & 7.259005e-127\\\\\n",
       "\t 2.087288e-14  & 2.251596e-08  & 1.000000e+00  & 1.373288e-130\\\\\n",
       "\t 2.799951e-01  & 7.195106e-01  & 4.942965e-04  &  8.053513e-37\\\\\n",
       "\t 6.455032e-01  & 3.544805e-01  & 1.631816e-05  &  3.333431e-12\\\\\n",
       "\t 8.770655e-01  & 1.229329e-01  & 1.643295e-06  &  1.032652e-17\\\\\n",
       "\t 9.124913e-02  & 6.023881e-02  & 8.485121e-01  &  3.476815e-21\\\\\n",
       "\t 8.125672e-01  & 1.874132e-01  & 1.963252e-05  &  2.173069e-23\\\\\n",
       "\t 1.880513e-03  & 7.330164e-03  & 9.907893e-01  &  2.953075e-43\\\\\n",
       "\t 4.978976e-01  & 5.020053e-01  & 9.703109e-05  &  2.455250e-31\\\\\n",
       "\t 6.512389e-01  & 3.487564e-01  & 4.661974e-06  &  5.535521e-20\\\\\n",
       "\t 4.071302e-01  & 5.928361e-01  & 3.377476e-05  &  3.364233e-12\\\\\n",
       "\t 3.936946e-02  & 5.920812e-02  & 9.014224e-01  &  5.525953e-24\\\\\n",
       "\t 7.131613e-01  & 2.868359e-01  & 2.722473e-06  &  2.914527e-14\\\\\n",
       "\t 1.981632e-04  & 1.915729e-03  & 9.978861e-01  &  2.559204e-30\\\\\n",
       "\t 5.536556e-01  & 4.463331e-01  & 1.132570e-05  &  2.656886e-17\\\\\n",
       "\t 8.656092e-01  & 1.343837e-01  & 7.053256e-06  &  2.362430e-13\\\\\n",
       "\t 8.003381e-01  & 1.988422e-01  & 8.196091e-04  &  6.861077e-22\\\\\n",
       "\t 5.230366e-01  & 4.769470e-01  & 1.638791e-05  &  7.947511e-14\\\\\n",
       "\t 8.540672e-01  & 1.459302e-01  & 2.573149e-06  &  1.778876e-15\\\\\n",
       "\t 5.469917e-01  & 4.529987e-01  & 9.673663e-06  &  1.779996e-24\\\\\n",
       "\t 5.725079e-01  & 4.274841e-01  & 8.013238e-06  &  3.155921e-23\\\\\n",
       "\t 3.270015e-03  & 6.079785e-03  & 9.906502e-01  &  5.581108e-30\\\\\n",
       "\t 8.618555e-01  & 1.381424e-01  & 2.119364e-06  &  1.540710e-17\\\\\n",
       "\\end{tabular}\n"
      ],
      "text/markdown": [
       "\n",
       "Moving up | Suburb mix | Travelers | Urban hip | \n",
       "|---|---|---|---|---|---|---|---|---|---|---|---|---|---|---|---|---|---|---|---|---|---|---|---|---|---|---|---|---|---|---|---|---|---|---|---|---|---|---|---|---|---|---|---|---|---|---|---|---|---|---|---|---|---|---|---|---|---|---|---|---|\n",
       "| 0.4070779794 | 0.592805214  | 4.848358e-05 | 6.832328e-05 | \n",
       "| 0.0002715183 | 0.002422066  | 9.973064e-01 | 6.143554e-32 | \n",
       "| 0.2671392917 | 0.732689657  | 1.710510e-04 | 2.844967e-40 | \n",
       "| 0.2237216425 | 0.774645744  | 1.632613e-03 | 7.568258e-37 | \n",
       "| 0.2255662711 | 0.774027968  | 4.057610e-04 | 9.030641e-11 | \n",
       "| 0.2051010831 | 0.794804695  | 9.422156e-05 | 1.554167e-33 | \n",
       "| 0.6226982604 | 0.377293787  | 7.952188e-06 | 1.250892e-24 | \n",
       "| 0.1429047975 | 0.856520036  | 5.751660e-04 | 2.667936e-36 | \n",
       "| 0.2282427082 | 0.771646162  | 1.111296e-04 | 6.476270e-22 | \n",
       "| 0.1881605806 | 0.811463209  | 3.762108e-04 | 2.155829e-33 | \n",
       "| 0.0014098368 | 0.003908209  | 9.946820e-01 | 4.248292e-33 | \n",
       "| 0.8812765536 | 0.118717916  | 5.530903e-06 | 1.315135e-13 | \n",
       "| 0.9363446079 | 0.061888585  | 1.766807e-03 | 2.521926e-19 | \n",
       "| 0.5935199810 | 0.406475876  | 2.932670e-06 | 1.210546e-06 | \n",
       "| 0.4725188217 | 0.527424867  | 5.631135e-05 | 5.870878e-25 | \n",
       "| 0.7963637829 | 0.203572176  | 6.404062e-05 | 1.030205e-20 | \n",
       "| 0.6477084894 | 0.352287054  | 4.456907e-06 | 9.790789e-19 | \n",
       "| 0.0017151410 | 0.984052714  | 1.423214e-02 | 2.993688e-73 | \n",
       "| 0.1179408678 | 0.881247227  | 8.119052e-04 | 1.001008e-39 | \n",
       "| 0.2893329499 | 0.710617174  | 4.987617e-05 | 3.384453e-30 | \n",
       "| 0.5585618387 | 0.441370452  | 6.533428e-05 | 2.374933e-06 | \n",
       "| 0.3337821982 | 0.666074196  | 1.436054e-04 | 9.311995e-32 | \n",
       "| 0.0824997470 | 0.917282446  | 2.178072e-04 | 3.649129e-44 | \n",
       "| 0.5008053412 | 0.499189901  | 4.757632e-06 | 1.371772e-15 | \n",
       "| 0.4442622674 | 0.555520449  | 2.172838e-04 | 3.746701e-33 | \n",
       "| 0.3586398275 | 0.641156903  | 2.032695e-04 | 4.374357e-34 | \n",
       "| 0.9864036398 | 0.013311084  | 2.852760e-04 | 7.920841e-20 | \n",
       "| 0.4791362846 | 0.520114606  | 7.491095e-04 | 6.306240e-32 | \n",
       "| 0.1719092945 | 0.827410191  | 6.805144e-04 | 4.384449e-39 | \n",
       "| 0.2792319476 | 0.720714279  | 5.377341e-05 | 3.945087e-32 | \n",
       "| ... | ... | ... | ... | \n",
       "| 1.681580e-11  | 3.428651e-07  | 9.999997e-01  |  1.122044e-90 | \n",
       "| 1.204774e-06  | 1.381948e-04  | 9.998606e-01  |  1.868316e-73 | \n",
       "| 8.299835e-13  | 3.707382e-08  | 1.000000e+00  |  4.592253e-99 | \n",
       "| 5.965582e-26  | 3.845277e-15  | 1.000000e+00  | 1.662621e-199 | \n",
       "| 6.230834e-05  | 1.976800e-03  | 9.979609e-01  |  1.249634e-53 | \n",
       "| 2.172137e-09  | 2.501661e-06  | 9.999975e-01  |  1.545993e-83 | \n",
       "| 2.948970e-18  | 8.801702e-12  | 1.000000e+00  | 1.907937e-155 | \n",
       "| 4.223935e-14  | 1.605263e-09  | 1.000000e+00  | 7.259005e-127 | \n",
       "| 2.087288e-14  | 2.251596e-08  | 1.000000e+00  | 1.373288e-130 | \n",
       "| 2.799951e-01  | 7.195106e-01  | 4.942965e-04  |  8.053513e-37 | \n",
       "| 6.455032e-01  | 3.544805e-01  | 1.631816e-05  |  3.333431e-12 | \n",
       "| 8.770655e-01  | 1.229329e-01  | 1.643295e-06  |  1.032652e-17 | \n",
       "| 9.124913e-02  | 6.023881e-02  | 8.485121e-01  |  3.476815e-21 | \n",
       "| 8.125672e-01  | 1.874132e-01  | 1.963252e-05  |  2.173069e-23 | \n",
       "| 1.880513e-03  | 7.330164e-03  | 9.907893e-01  |  2.953075e-43 | \n",
       "| 4.978976e-01  | 5.020053e-01  | 9.703109e-05  |  2.455250e-31 | \n",
       "| 6.512389e-01  | 3.487564e-01  | 4.661974e-06  |  5.535521e-20 | \n",
       "| 4.071302e-01  | 5.928361e-01  | 3.377476e-05  |  3.364233e-12 | \n",
       "| 3.936946e-02  | 5.920812e-02  | 9.014224e-01  |  5.525953e-24 | \n",
       "| 7.131613e-01  | 2.868359e-01  | 2.722473e-06  |  2.914527e-14 | \n",
       "| 1.981632e-04  | 1.915729e-03  | 9.978861e-01  |  2.559204e-30 | \n",
       "| 5.536556e-01  | 4.463331e-01  | 1.132570e-05  |  2.656886e-17 | \n",
       "| 8.656092e-01  | 1.343837e-01  | 7.053256e-06  |  2.362430e-13 | \n",
       "| 8.003381e-01  | 1.988422e-01  | 8.196091e-04  |  6.861077e-22 | \n",
       "| 5.230366e-01  | 4.769470e-01  | 1.638791e-05  |  7.947511e-14 | \n",
       "| 8.540672e-01  | 1.459302e-01  | 2.573149e-06  |  1.778876e-15 | \n",
       "| 5.469917e-01  | 4.529987e-01  | 9.673663e-06  |  1.779996e-24 | \n",
       "| 5.725079e-01  | 4.274841e-01  | 8.013238e-06  |  3.155921e-23 | \n",
       "| 3.270015e-03  | 6.079785e-03  | 9.906502e-01  |  5.581108e-30 | \n",
       "| 8.618555e-01  | 1.381424e-01  | 2.119364e-06  |  1.540710e-17 | \n",
       "\n",
       "\n"
      ],
      "text/plain": [
       "      Moving up    Suburb mix   Travelers    Urban hip    \n",
       " [1,] 0.4070779794 0.592805214  4.848358e-05 6.832328e-05 \n",
       " [2,] 0.0002715183 0.002422066  9.973064e-01 6.143554e-32 \n",
       " [3,] 0.2671392917 0.732689657  1.710510e-04 2.844967e-40 \n",
       " [4,] 0.2237216425 0.774645744  1.632613e-03 7.568258e-37 \n",
       " [5,] 0.2255662711 0.774027968  4.057610e-04 9.030641e-11 \n",
       " [6,] 0.2051010831 0.794804695  9.422156e-05 1.554167e-33 \n",
       " [7,] 0.6226982604 0.377293787  7.952188e-06 1.250892e-24 \n",
       " [8,] 0.1429047975 0.856520036  5.751660e-04 2.667936e-36 \n",
       " [9,] 0.2282427082 0.771646162  1.111296e-04 6.476270e-22 \n",
       "[10,] 0.1881605806 0.811463209  3.762108e-04 2.155829e-33 \n",
       "[11,] 0.0014098368 0.003908209  9.946820e-01 4.248292e-33 \n",
       "[12,] 0.8812765536 0.118717916  5.530903e-06 1.315135e-13 \n",
       "[13,] 0.9363446079 0.061888585  1.766807e-03 2.521926e-19 \n",
       "[14,] 0.5935199810 0.406475876  2.932670e-06 1.210546e-06 \n",
       "[15,] 0.4725188217 0.527424867  5.631135e-05 5.870878e-25 \n",
       "[16,] 0.7963637829 0.203572176  6.404062e-05 1.030205e-20 \n",
       "[17,] 0.6477084894 0.352287054  4.456907e-06 9.790789e-19 \n",
       "[18,] 0.0017151410 0.984052714  1.423214e-02 2.993688e-73 \n",
       "[19,] 0.1179408678 0.881247227  8.119052e-04 1.001008e-39 \n",
       "[20,] 0.2893329499 0.710617174  4.987617e-05 3.384453e-30 \n",
       "[21,] 0.5585618387 0.441370452  6.533428e-05 2.374933e-06 \n",
       "[22,] 0.3337821982 0.666074196  1.436054e-04 9.311995e-32 \n",
       "[23,] 0.0824997470 0.917282446  2.178072e-04 3.649129e-44 \n",
       "[24,] 0.5008053412 0.499189901  4.757632e-06 1.371772e-15 \n",
       "[25,] 0.4442622674 0.555520449  2.172838e-04 3.746701e-33 \n",
       "[26,] 0.3586398275 0.641156903  2.032695e-04 4.374357e-34 \n",
       "[27,] 0.9864036398 0.013311084  2.852760e-04 7.920841e-20 \n",
       "[28,] 0.4791362846 0.520114606  7.491095e-04 6.306240e-32 \n",
       "[29,] 0.1719092945 0.827410191  6.805144e-04 4.384449e-39 \n",
       "[30,] 0.2792319476 0.720714279  5.377341e-05 3.945087e-32 \n",
       "[31,] ...          ...          ...          ...          \n",
       "[32,] 1.681580e-11 3.428651e-07 9.999997e-01  1.122044e-90\n",
       "[33,] 1.204774e-06 1.381948e-04 9.998606e-01  1.868316e-73\n",
       "[34,] 8.299835e-13 3.707382e-08 1.000000e+00  4.592253e-99\n",
       "[35,] 5.965582e-26 3.845277e-15 1.000000e+00 1.662621e-199\n",
       "[36,] 6.230834e-05 1.976800e-03 9.979609e-01  1.249634e-53\n",
       "[37,] 2.172137e-09 2.501661e-06 9.999975e-01  1.545993e-83\n",
       "[38,] 2.948970e-18 8.801702e-12 1.000000e+00 1.907937e-155\n",
       "[39,] 4.223935e-14 1.605263e-09 1.000000e+00 7.259005e-127\n",
       "[40,] 2.087288e-14 2.251596e-08 1.000000e+00 1.373288e-130\n",
       "[41,] 2.799951e-01 7.195106e-01 4.942965e-04  8.053513e-37\n",
       "[42,] 6.455032e-01 3.544805e-01 1.631816e-05  3.333431e-12\n",
       "[43,] 8.770655e-01 1.229329e-01 1.643295e-06  1.032652e-17\n",
       "[44,] 9.124913e-02 6.023881e-02 8.485121e-01  3.476815e-21\n",
       "[45,] 8.125672e-01 1.874132e-01 1.963252e-05  2.173069e-23\n",
       "[46,] 1.880513e-03 7.330164e-03 9.907893e-01  2.953075e-43\n",
       "[47,] 4.978976e-01 5.020053e-01 9.703109e-05  2.455250e-31\n",
       "[48,] 6.512389e-01 3.487564e-01 4.661974e-06  5.535521e-20\n",
       "[49,] 4.071302e-01 5.928361e-01 3.377476e-05  3.364233e-12\n",
       "[50,] 3.936946e-02 5.920812e-02 9.014224e-01  5.525953e-24\n",
       "[51,] 7.131613e-01 2.868359e-01 2.722473e-06  2.914527e-14\n",
       "[52,] 1.981632e-04 1.915729e-03 9.978861e-01  2.559204e-30\n",
       "[53,] 5.536556e-01 4.463331e-01 1.132570e-05  2.656886e-17\n",
       "[54,] 8.656092e-01 1.343837e-01 7.053256e-06  2.362430e-13\n",
       "[55,] 8.003381e-01 1.988422e-01 8.196091e-04  6.861077e-22\n",
       "[56,] 5.230366e-01 4.769470e-01 1.638791e-05  7.947511e-14\n",
       "[57,] 8.540672e-01 1.459302e-01 2.573149e-06  1.778876e-15\n",
       "[58,] 5.469917e-01 4.529987e-01 9.673663e-06  1.779996e-24\n",
       "[59,] 5.725079e-01 4.274841e-01 8.013238e-06  3.155921e-23\n",
       "[60,] 3.270015e-03 6.079785e-03 9.906502e-01  5.581108e-30\n",
       "[61,] 8.618555e-01 1.381424e-01 2.119364e-06  1.540710e-17"
      ]
     },
     "metadata": {},
     "output_type": "display_data"
    }
   ],
   "source": [
    "predict(seg.nb, seg.df.test, type='raw')"
   ]
  },
  {
   "cell_type": "markdown",
   "metadata": {},
   "source": [
    "> This tells us that Respondent 1 is estimated to be about 59%likely to be a member of\n",
    "Suburb mix, yet 40% likely to be in Moving up. Respondent 2 is estimated nearly\n",
    "100% likely to be in Travelers. This kind of individual-level detail can suggest\n",
    "which individuals to target according to the difficulty of targeting and the degree of\n",
    "certainty. \n",
    "- For high-cost campaigns, we might target only those most certain to be in\n",
    "a segment; whereas for low-cost campaigns, we might target people for second-best\n",
    "segment membership in addition to primary segment assignment."
   ]
  },
  {
   "cell_type": "markdown",
   "metadata": {},
   "source": [
    "### 11.4.2 Random Forest Classification: randomForest()"
   ]
  },
  {
   "cell_type": "markdown",
   "metadata": {},
   "source": [
    "A random forest (RF) classifier does not attempt to fit a single model to data but\n",
    "instead builds an ensemble of models that jointly classify the data [19, 104]. RF\n",
    "does this by fitting a large number of classification trees. \n",
    "- In order to find an assortment\n",
    "of models, each tree is optimized to fit only some of the observations (in our\n",
    "case, customers) using only some of the predictors. The ensemble of all trees is the\n",
    "forest.\n",
    "\n",
    "When a new case is predicted, it is predicted by every tree and ***the final decision is\n",
    "awarded to the consensus value*** that receives the most votes. \n",
    "- In this way, a random\n",
    "forest avoids dependencies on precise model specification while remaining resilient\n",
    "in the face of difficult data conditions, such as data that are collinear or wide (more\n",
    "columns than rows). \n",
    "- Random forest models perform well across a wide variety of\n",
    "data sets and problems [48]."
   ]
  },
  {
   "cell_type": "markdown",
   "metadata": {},
   "source": [
    "We use the same seg.df.train training data as in Sect. 11.4.1, and\n",
    "call randomForest() from the (surprise!) randomForest package to fit the\n",
    "classifier:"
   ]
  },
  {
   "cell_type": "code",
   "execution_count": 88,
   "metadata": {},
   "outputs": [
    {
     "name": "stderr",
     "output_type": "stream",
     "text": [
      "Warning message:\n",
      "\"package 'randomForest' was built under R version 3.4.4\"randomForest 4.6-12\n",
      "Type rfNews() to see new features/changes/bug fixes.\n"
     ]
    },
    {
     "data": {
      "text/plain": [
       "\n",
       "Call:\n",
       " randomForest(formula = Segment ~ ., data = seg.df.train, ntree = 3000) \n",
       "               Type of random forest: classification\n",
       "                     Number of trees: 3000\n",
       "No. of variables tried at each split: 2\n",
       "\n",
       "        OOB estimate of  error rate: 24.1%\n",
       "Confusion matrix:\n",
       "           Moving up Suburb mix Travelers Urban hip class.error\n",
       "Moving up         29         19         0         1  0.40816327\n",
       "Suburb mix        20         35         3         1  0.40677966\n",
       "Travelers          0          3        48         0  0.05882353\n",
       "Urban hip          0          0         0        36  0.00000000"
      ]
     },
     "metadata": {},
     "output_type": "display_data"
    }
   ],
   "source": [
    "library(randomForest)\n",
    "set.seed(98040)\n",
    "(seg.rf <- randomForest(Segment ~ ., data=seg.df.train, ntree=3000))"
   ]
  },
  {
   "cell_type": "markdown",
   "metadata": {},
   "source": [
    "> There are two things to note about the call to randomForest(). \n",
    "- First, random\n",
    "forests are random to some extent, as the name says. They select variables and subsets\n",
    "of data probabilistically. Thus, we use set.seed() before modeling. \n",
    "- Second,\n",
    "we added an argument ntree=3000 to specify the number of trees to create in the\n",
    "forest. It is sometimes suggested to have 5–10 trees per observation for small data\n",
    "sets like the present one.\n",
    "\n",
    "> randomForest() returns a confusion matrix of its own based on the training\n",
    "data. How can it do that? \n",
    " - Remember that RF fits many trees, where each tree is\n",
    "optimized for a portion of the data. It uses the remainder of the data—known as\n",
    "“out of bag” or OOB data—to assess the tree’s performance more generally. \n",
    " - In the\n",
    "confusion matrix, we see that the Travelers and Urban hip segments fit well, while\n",
    "the Moving up and Suburb mix segments had 40% error rates in the OOB data. This\n",
    "is an indicator that we may see similar patterns in our holdout data."
   ]
  },
  {
   "cell_type": "markdown",
   "metadata": {},
   "source": [
    "What does a random forest look like? A tree among those\n",
    "we fit above (using visualization code from Caldon [21]). The complete forest comprises\n",
    "3,000 such trees that differ in structure and the predictors used. When an\n",
    "observation is classified, it is assigned to the group that is predicted by the greatest\n",
    "number of trees within the ensemble."
   ]
  },
  {
   "cell_type": "code",
   "execution_count": 90,
   "metadata": {},
   "outputs": [],
   "source": [
    "# Caldon, P. (2013). to.dendrogram. http://stats.stackexchange.com/a/45161.\n",
    "\n",
    "to.dendrogram <- function(dfrep,rownum=1,height.increment=0.1){\n",
    "\n",
    "  if(dfrep[rownum,'status'] == -1){\n",
    "    rval <- list()\n",
    "\n",
    "    attr(rval,\"members\") <- 1\n",
    "    attr(rval,\"height\") <- 0.0\n",
    "    attr(rval,\"label\") <- dfrep[rownum,'prediction']\n",
    "    attr(rval,\"leaf\") <- TRUE\n",
    "\n",
    "  }else{##note the change \"to.dendrogram\" and not \"to.dendogram\"\n",
    "    left <- to.dendrogram(dfrep,dfrep[rownum,'left daughter'],height.increment)\n",
    "    right <- to.dendrogram(dfrep,dfrep[rownum,'right daughter'],height.increment)\n",
    "    rval <- list(left,right)\n",
    "\n",
    "    attr(rval,\"members\") <- attr(left,\"members\") + attr(right,\"members\")\n",
    "    attr(rval,\"height\") <- max(attr(left,\"height\"),attr(right,\"height\")) + height.increment\n",
    "    attr(rval,\"leaf\") <- FALSE\n",
    "    attr(rval,\"edgetext\") <- dfrep[rownum,'split var']\n",
    "    #To add Split Point in Dendrogram\n",
    "    #attr(rval,\"edgetext\") <- paste(dfrep[rownum,'split var'],\"\\n<\",round(dfrep[rownum,'split point'], digits = 2),\"=>\", sep = \" \")\n",
    "  }\n",
    "\n",
    "  class(rval) <- \"dendrogram\"\n",
    "\n",
    "  return(rval)\n",
    "}"
   ]
  },
  {
   "cell_type": "code",
   "execution_count": 93,
   "metadata": {},
   "outputs": [
    {
     "data": {
      "image/png": "[encoded data removed]",
      "text/plain": [
       "plot without title"
      ]
     },
     "metadata": {},
     "output_type": "display_data"
    }
   ],
   "source": [
    "mod  = randomForest(Segment ~ .,data=seg.df.train)\n",
    "tree = getTree(mod, 1, labelVar=TRUE)\n",
    "\n",
    "d    = to.dendrogram(tree)\n",
    "#str(d)\n",
    "plot(d, center=TRUE, leaflab='none', edgePar=list(t.cex=1,p.col=NA,p.lty=0))"
   ]
  },
  {
   "cell_type": "markdown",
   "metadata": {},
   "source": [
    "> Fig. 11.10. Two examples among the 3,000 trees in the ensemble found by\n",
    "randomForest() for segment prediction in seg.df. The trees differ substantially in\n",
    "structure and variable usage. No single tree is expected to be a particularly good predictor in\n",
    "itself, yet the ensemble of all trees may predict well in aggregate by voting on the assignment\n",
    "of observations to outcome groups."
   ]
  },
  {
   "cell_type": "code",
   "execution_count": 97,
   "metadata": {},
   "outputs": [],
   "source": [
    "seg.rf.class = predict(seg.rf, seg.df.test)"
   ]
  },
  {
   "cell_type": "markdown",
   "metadata": {},
   "source": [
    "A cluster plot of predicted segment membership is shown in Fig. 11.11, where we\n",
    "omit the known segment assignments in column 7 of seg.df.test because we\n",
    "want to see the differences on the baseline variables on the basis of segments identified\n",
    "in the RF model:"
   ]
  },
  {
   "cell_type": "code",
   "execution_count": 98,
   "metadata": {},
   "outputs": [
    {
     "data": {
      "image/png": "[encoded data removed]",
      "text/plain": [
       "Plot with title \"Random Forest classification, holdout data\""
      ]
     },
     "metadata": {},
     "output_type": "display_data"
    }
   ],
   "source": [
    "clusplot(seg.df.test[, -7], seg.rf.class, color=TRUE, shade=TRUE, \n",
    "         labels=4, lines=0, main=\"Random Forest classification, holdout data\")"
   ]
  },
  {
   "cell_type": "markdown",
   "metadata": {},
   "source": [
    "> The RF clusters in Fig. 11.11 are quite similar in shape to those found by naive\n",
    "Bayes in Fig. 11.9, with respect to the principal components axes."
   ]
  },
  {
   "cell_type": "markdown",
   "metadata": {},
   "source": [
    "It is possible to inspect the distribution of predictions for individual cases. Add the\n",
    "predict.all=TRUE argument to the predict() call to get the estimate of\n",
    "every tree for every case in the test data.We then apply() the table() function\n",
    "to summarize a few of these:"
   ]
  },
  {
   "cell_type": "code",
   "execution_count": 99,
   "metadata": {},
   "outputs": [
    {
     "data": {
      "text/html": [
       "<table>\n",
       "<thead><tr><th></th><th scope=col>2</th><th scope=col>3</th><th scope=col>4</th><th scope=col>6</th><th scope=col>7</th></tr></thead>\n",
       "<tbody>\n",
       "\t<tr><th scope=row>Moving up</th><td>0.42066667 </td><td>0.076333333</td><td>0.1886667  </td><td>0.1223333  </td><td>0.217      </td></tr>\n",
       "\t<tr><th scope=row>Suburb mix</th><td>0.47266667 </td><td>0.485000000</td><td>0.6930000  </td><td>0.8526667  </td><td>0.340      </td></tr>\n",
       "\t<tr><th scope=row>Travelers</th><td>0.02966667 </td><td>0.436333333</td><td>0.1173333  </td><td>0.0240000  </td><td>0.050      </td></tr>\n",
       "\t<tr><th scope=row>Urban hip</th><td>0.07700000 </td><td>0.002333333</td><td>0.0010000  </td><td>0.0010000  </td><td>0.393      </td></tr>\n",
       "</tbody>\n",
       "</table>\n"
      ],
      "text/latex": [
       "\\begin{tabular}{r|lllll}\n",
       "  & 2 & 3 & 4 & 6 & 7\\\\\n",
       "\\hline\n",
       "\tMoving up & 0.42066667  & 0.076333333 & 0.1886667   & 0.1223333   & 0.217      \\\\\n",
       "\tSuburb mix & 0.47266667  & 0.485000000 & 0.6930000   & 0.8526667   & 0.340      \\\\\n",
       "\tTravelers & 0.02966667  & 0.436333333 & 0.1173333   & 0.0240000   & 0.050      \\\\\n",
       "\tUrban hip & 0.07700000  & 0.002333333 & 0.0010000   & 0.0010000   & 0.393      \\\\\n",
       "\\end{tabular}\n"
      ],
      "text/markdown": [
       "\n",
       "| <!--/--> | 2 | 3 | 4 | 6 | 7 | \n",
       "|---|---|---|---|\n",
       "| Moving up | 0.42066667  | 0.076333333 | 0.1886667   | 0.1223333   | 0.217       | \n",
       "| Suburb mix | 0.47266667  | 0.485000000 | 0.6930000   | 0.8526667   | 0.340       | \n",
       "| Travelers | 0.02966667  | 0.436333333 | 0.1173333   | 0.0240000   | 0.050       | \n",
       "| Urban hip | 0.07700000  | 0.002333333 | 0.0010000   | 0.0010000   | 0.393       | \n",
       "\n",
       "\n"
      ],
      "text/plain": [
       "           2          3           4         6         7    \n",
       "Moving up  0.42066667 0.076333333 0.1886667 0.1223333 0.217\n",
       "Suburb mix 0.47266667 0.485000000 0.6930000 0.8526667 0.340\n",
       "Travelers  0.02966667 0.436333333 0.1173333 0.0240000 0.050\n",
       "Urban hip  0.07700000 0.002333333 0.0010000 0.0010000 0.393"
      ]
     },
     "metadata": {},
     "output_type": "display_data"
    }
   ],
   "source": [
    "seg.rf.class.all = predict(seg.rf, seg.df.test, predict.all = T)\n",
    "apply(seg.rf.class.all$individual[1:5,], 1, table) / 3000"
   ]
  },
  {
   "cell_type": "markdown",
   "metadata": {},
   "source": [
    "> We divide the results of table() by 3,000 to get the percentage of votes across\n",
    "all trees. Cases 2, 3, 4, and 6 are each assigned to the Suburb mix segment as the\n",
    "most likely class (by tiny margins for cases 2 and 3), although only cases 4 and 6 are assigned with an overall majority of the votes. \n",
    "\n",
    "> Case 7 would be assigned to\n",
    "the Urban hip segment as the most likely, although with only an estimated 39%\n",
    "likelihood of that being its true class."
   ]
  },
  {
   "cell_type": "markdown",
   "metadata": {},
   "source": [
    "The proposed and actual segments are quite similar in the mean values of the variables\n",
    "in our summary function:"
   ]
  },
  {
   "cell_type": "code",
   "execution_count": 100,
   "metadata": {},
   "outputs": [
    {
     "data": {
      "text/html": [
       "<table>\n",
       "<thead><tr><th scope=col>Group.1</th><th scope=col>age</th><th scope=col>gender</th><th scope=col>income</th><th scope=col>kids</th><th scope=col>ownHome</th><th scope=col>subscribe</th><th scope=col>Segment</th></tr></thead>\n",
       "<tbody>\n",
       "\t<tr><td>Moving up </td><td>34.60317  </td><td>1.130435  </td><td>52288.38  </td><td>2.39130435</td><td>1.434783  </td><td>1.260870  </td><td>1.608696  </td></tr>\n",
       "\t<tr><td>Suburb mix</td><td>40.83221  </td><td>1.500000  </td><td>57652.19  </td><td>1.65000000</td><td>1.550000  </td><td>1.000000  </td><td>1.850000  </td></tr>\n",
       "\t<tr><td>Travelers </td><td>59.26118  </td><td>1.464286  </td><td>59812.04  </td><td>0.03571429</td><td>1.714286  </td><td>1.214286  </td><td>2.892857  </td></tr>\n",
       "\t<tr><td>Urban hip </td><td>24.37450  </td><td>1.500000  </td><td>21842.73  </td><td>1.00000000</td><td>1.285714  </td><td>1.142857  </td><td>3.857143  </td></tr>\n",
       "</tbody>\n",
       "</table>\n"
      ],
      "text/latex": [
       "\\begin{tabular}{r|llllllll}\n",
       " Group.1 & age & gender & income & kids & ownHome & subscribe & Segment\\\\\n",
       "\\hline\n",
       "\t Moving up  & 34.60317   & 1.130435   & 52288.38   & 2.39130435 & 1.434783   & 1.260870   & 1.608696  \\\\\n",
       "\t Suburb mix & 40.83221   & 1.500000   & 57652.19   & 1.65000000 & 1.550000   & 1.000000   & 1.850000  \\\\\n",
       "\t Travelers  & 59.26118   & 1.464286   & 59812.04   & 0.03571429 & 1.714286   & 1.214286   & 2.892857  \\\\\n",
       "\t Urban hip  & 24.37450   & 1.500000   & 21842.73   & 1.00000000 & 1.285714   & 1.142857   & 3.857143  \\\\\n",
       "\\end{tabular}\n"
      ],
      "text/markdown": [
       "\n",
       "Group.1 | age | gender | income | kids | ownHome | subscribe | Segment | \n",
       "|---|---|---|---|\n",
       "| Moving up  | 34.60317   | 1.130435   | 52288.38   | 2.39130435 | 1.434783   | 1.260870   | 1.608696   | \n",
       "| Suburb mix | 40.83221   | 1.500000   | 57652.19   | 1.65000000 | 1.550000   | 1.000000   | 1.850000   | \n",
       "| Travelers  | 59.26118   | 1.464286   | 59812.04   | 0.03571429 | 1.714286   | 1.214286   | 2.892857   | \n",
       "| Urban hip  | 24.37450   | 1.500000   | 21842.73   | 1.00000000 | 1.285714   | 1.142857   | 3.857143   | \n",
       "\n",
       "\n"
      ],
      "text/plain": [
       "  Group.1    age      gender   income   kids       ownHome  subscribe Segment \n",
       "1 Moving up  34.60317 1.130435 52288.38 2.39130435 1.434783 1.260870  1.608696\n",
       "2 Suburb mix 40.83221 1.500000 57652.19 1.65000000 1.550000 1.000000  1.850000\n",
       "3 Travelers  59.26118 1.464286 59812.04 0.03571429 1.714286 1.214286  2.892857\n",
       "4 Urban hip  24.37450 1.500000 21842.73 1.00000000 1.285714 1.142857  3.857143"
      ]
     },
     "metadata": {},
     "output_type": "display_data"
    }
   ],
   "source": [
    "seg.summ(seg.df.test, seg.rf.class)"
   ]
  },
  {
   "cell_type": "code",
   "execution_count": 101,
   "metadata": {},
   "outputs": [
    {
     "data": {
      "text/html": [
       "<table>\n",
       "<thead><tr><th scope=col>Group.1</th><th scope=col>age</th><th scope=col>gender</th><th scope=col>income</th><th scope=col>kids</th><th scope=col>ownHome</th><th scope=col>subscribe</th><th scope=col>Segment</th></tr></thead>\n",
       "<tbody>\n",
       "\t<tr><td>Moving up </td><td>36.88989  </td><td>1.190476  </td><td>53582.16  </td><td>1.4761905 </td><td>1.333333  </td><td>1.190476  </td><td>1         </td></tr>\n",
       "\t<tr><td>Suburb mix</td><td>39.61984  </td><td>1.487805  </td><td>56341.99  </td><td>2.2439024 </td><td>1.585366  </td><td>1.048780  </td><td>2         </td></tr>\n",
       "\t<tr><td>Travelers </td><td>58.57245  </td><td>1.448276  </td><td>59869.24  </td><td>0.0000000 </td><td>1.689655  </td><td>1.206897  </td><td>3         </td></tr>\n",
       "\t<tr><td>Urban hip </td><td>23.71537  </td><td>1.428571  </td><td>22700.06  </td><td>0.9285714 </td><td>1.357143  </td><td>1.142857  </td><td>4         </td></tr>\n",
       "</tbody>\n",
       "</table>\n"
      ],
      "text/latex": [
       "\\begin{tabular}{r|llllllll}\n",
       " Group.1 & age & gender & income & kids & ownHome & subscribe & Segment\\\\\n",
       "\\hline\n",
       "\t Moving up  & 36.88989   & 1.190476   & 53582.16   & 1.4761905  & 1.333333   & 1.190476   & 1         \\\\\n",
       "\t Suburb mix & 39.61984   & 1.487805   & 56341.99   & 2.2439024  & 1.585366   & 1.048780   & 2         \\\\\n",
       "\t Travelers  & 58.57245   & 1.448276   & 59869.24   & 0.0000000  & 1.689655   & 1.206897   & 3         \\\\\n",
       "\t Urban hip  & 23.71537   & 1.428571   & 22700.06   & 0.9285714  & 1.357143   & 1.142857   & 4         \\\\\n",
       "\\end{tabular}\n"
      ],
      "text/markdown": [
       "\n",
       "Group.1 | age | gender | income | kids | ownHome | subscribe | Segment | \n",
       "|---|---|---|---|\n",
       "| Moving up  | 36.88989   | 1.190476   | 53582.16   | 1.4761905  | 1.333333   | 1.190476   | 1          | \n",
       "| Suburb mix | 39.61984   | 1.487805   | 56341.99   | 2.2439024  | 1.585366   | 1.048780   | 2          | \n",
       "| Travelers  | 58.57245   | 1.448276   | 59869.24   | 0.0000000  | 1.689655   | 1.206897   | 3          | \n",
       "| Urban hip  | 23.71537   | 1.428571   | 22700.06   | 0.9285714  | 1.357143   | 1.142857   | 4          | \n",
       "\n",
       "\n"
      ],
      "text/plain": [
       "  Group.1    age      gender   income   kids      ownHome  subscribe Segment\n",
       "1 Moving up  36.88989 1.190476 53582.16 1.4761905 1.333333 1.190476  1      \n",
       "2 Suburb mix 39.61984 1.487805 56341.99 2.2439024 1.585366 1.048780  2      \n",
       "3 Travelers  58.57245 1.448276 59869.24 0.0000000 1.689655 1.206897  3      \n",
       "4 Urban hip  23.71537 1.428571 22700.06 0.9285714 1.357143 1.142857  4      "
      ]
     },
     "metadata": {},
     "output_type": "display_data"
    }
   ],
   "source": [
    "seg.summ(seg.df.test, seg.df.test$Segment)"
   ]
  },
  {
   "cell_type": "markdown",
   "metadata": {},
   "source": [
    "As suggested by the OOB assessment we saw above for the training data, a confusion\n",
    "matrix reveals which segments were predicted more accurately:"
   ]
  },
  {
   "cell_type": "code",
   "execution_count": 102,
   "metadata": {},
   "outputs": [
    {
     "data": {
      "text/html": [
       "0.742857142857143"
      ],
      "text/latex": [
       "0.742857142857143"
      ],
      "text/markdown": [
       "0.742857142857143"
      ],
      "text/plain": [
       "[1] 0.7428571"
      ]
     },
     "metadata": {},
     "output_type": "display_data"
    },
    {
     "data": {
      "text/plain": [
       "            seg.rf.class\n",
       "             Moving up Suburb mix Travelers Urban hip\n",
       "  Moving up         11          9         1         0\n",
       "  Suburb mix        11         28         1         1\n",
       "  Travelers          0          3        26         0\n",
       "  Urban hip          1          0         0        13"
      ]
     },
     "metadata": {},
     "output_type": "display_data"
    }
   ],
   "source": [
    "mean(seg.df.test$Segment == seg.rf.class)\n",
    "table(seg.df.test$Segment, seg.rf.class)"
   ]
  },
  {
   "cell_type": "markdown",
   "metadata": {},
   "source": [
    ">The segment comparison using mean(.. == ..) calculates that RF correctly\n",
    "assigned 74% of cases to their segments, and the confusion matrix using table()\n",
    "shows that incorrect assignments were mostly in the Moving up and Suburb mix\n",
    "segments."
   ]
  },
  {
   "cell_type": "markdown",
   "metadata": {},
   "source": [
    "Finally, we note that the RF model performed substantially better than\n",
    "chance:"
   ]
  },
  {
   "cell_type": "code",
   "execution_count": 104,
   "metadata": {},
   "outputs": [
    {
     "data": {
      "text/html": [
       "0.46593455804389"
      ],
      "text/latex": [
       "0.46593455804389"
      ],
      "text/markdown": [
       "0.46593455804389"
      ],
      "text/plain": [
       "[1] 0.4659346"
      ]
     },
     "metadata": {},
     "output_type": "display_data"
    }
   ],
   "source": [
    "adjustedRandIndex(seg.df.test$Segment, seg.rf.class)"
   ]
  },
  {
   "cell_type": "markdown",
   "metadata": {},
   "source": [
    "### 11.4.3 Random Forest Variable Importance"
   ]
  },
  {
   "cell_type": "markdown",
   "metadata": {},
   "source": [
    "Random forest models are particularly good for one common marketing problem:\n",
    "estimating the importance of classification variables. Because each tree uses only a subset of variables, RF models are able to handle very wide data\n",
    "where there are more—even many, many more—predictor variables than there are\n",
    "observations.\n",
    "\n",
    "An RF model assesses the importance of a variable in a simple yet powerful way:\n",
    "for each variable, it randomly permutes (sorts) the variable’s values, computes the\n",
    "model accuracy in OOB data using the permuted values, and compares that to the\n",
    "accuracy with the real data. \n",
    "- If the variable is important, then its performance will\n",
    "degrade when its observed values are randomly permuted. If, however, the model\n",
    "remains just as accurate as it is with real data, then the variable in question is not\n",
    "very important [19]."
   ]
  },
  {
   "cell_type": "markdown",
   "metadata": {},
   "source": [
    "To estimate importance, run randomForest() with the importance=TRUE\n",
    "argument. We reset the random seed and run RF again:"
   ]
  },
  {
   "cell_type": "code",
   "execution_count": 106,
   "metadata": {},
   "outputs": [
    {
     "data": {
      "text/plain": [
       "\n",
       "Call:\n",
       " randomForest(formula = Segment ~ ., data = seg.df.train, ntree = 3000,      importance = T) \n",
       "               Type of random forest: classification\n",
       "                     Number of trees: 3000\n",
       "No. of variables tried at each split: 2\n",
       "\n",
       "        OOB estimate of  error rate: 23.59%\n",
       "Confusion matrix:\n",
       "           Moving up Suburb mix Travelers Urban hip class.error\n",
       "Moving up         29         19         0         1  0.40816327\n",
       "Suburb mix        19         36         3         1  0.38983051\n",
       "Travelers          0          3        48         0  0.05882353\n",
       "Urban hip          0          0         0        36  0.00000000"
      ]
     },
     "metadata": {},
     "output_type": "display_data"
    },
    {
     "data": {
      "text/html": [
       "<table>\n",
       "<thead><tr><th></th><th scope=col>Moving up</th><th scope=col>Suburb mix</th><th scope=col>Travelers</th><th scope=col>Urban hip</th><th scope=col>MeanDecreaseAccuracy</th><th scope=col>MeanDecreaseGini</th></tr></thead>\n",
       "<tbody>\n",
       "\t<tr><th scope=row>age</th><td>61.386693  </td><td> 44.653251 </td><td>121.9187436</td><td>86.345025  </td><td>130.712724 </td><td>62.399834  </td></tr>\n",
       "\t<tr><th scope=row>gender</th><td>13.065763  </td><td> -4.266584 </td><td> -1.6609796</td><td> 8.409029  </td><td>  7.382935 </td><td> 3.354667  </td></tr>\n",
       "\t<tr><th scope=row>income</th><td>23.712016  </td><td> 17.428848 </td><td> 15.9978527</td><td>77.258853  </td><td> 68.809768 </td><td>36.439804  </td></tr>\n",
       "\t<tr><th scope=row>kids</th><td>18.476067  </td><td> 14.248174 </td><td> 53.8039237</td><td> 6.308172  </td><td> 52.404913 </td><td>20.081438  </td></tr>\n",
       "\t<tr><th scope=row>ownHome</th><td> 5.212246  </td><td>-11.539183 </td><td> 23.5491524</td><td>20.667305  </td><td> 16.063356 </td><td> 4.898022  </td></tr>\n",
       "\t<tr><th scope=row>subscribe</th><td>16.625874  </td><td>  9.118376 </td><td>  0.8989833</td><td>-3.194460  </td><td> 16.023871 </td><td> 2.965571  </td></tr>\n",
       "</tbody>\n",
       "</table>\n"
      ],
      "text/latex": [
       "\\begin{tabular}{r|llllll}\n",
       "  & Moving up & Suburb mix & Travelers & Urban hip & MeanDecreaseAccuracy & MeanDecreaseGini\\\\\n",
       "\\hline\n",
       "\tage & 61.386693   &  44.653251  & 121.9187436 & 86.345025   & 130.712724  & 62.399834  \\\\\n",
       "\tgender & 13.065763   &  -4.266584  &  -1.6609796 &  8.409029   &   7.382935  &  3.354667  \\\\\n",
       "\tincome & 23.712016   &  17.428848  &  15.9978527 & 77.258853   &  68.809768  & 36.439804  \\\\\n",
       "\tkids & 18.476067   &  14.248174  &  53.8039237 &  6.308172   &  52.404913  & 20.081438  \\\\\n",
       "\townHome &  5.212246   & -11.539183  &  23.5491524 & 20.667305   &  16.063356  &  4.898022  \\\\\n",
       "\tsubscribe & 16.625874   &   9.118376  &   0.8989833 & -3.194460   &  16.023871  &  2.965571  \\\\\n",
       "\\end{tabular}\n"
      ],
      "text/markdown": [
       "\n",
       "| <!--/--> | Moving up | Suburb mix | Travelers | Urban hip | MeanDecreaseAccuracy | MeanDecreaseGini | \n",
       "|---|---|---|---|---|---|\n",
       "| age | 61.386693   |  44.653251  | 121.9187436 | 86.345025   | 130.712724  | 62.399834   | \n",
       "| gender | 13.065763   |  -4.266584  |  -1.6609796 |  8.409029   |   7.382935  |  3.354667   | \n",
       "| income | 23.712016   |  17.428848  |  15.9978527 | 77.258853   |  68.809768  | 36.439804   | \n",
       "| kids | 18.476067   |  14.248174  |  53.8039237 |  6.308172   |  52.404913  | 20.081438   | \n",
       "| ownHome |  5.212246   | -11.539183  |  23.5491524 | 20.667305   |  16.063356  |  4.898022   | \n",
       "| subscribe | 16.625874   |   9.118376  |   0.8989833 | -3.194460   |  16.023871  |  2.965571   | \n",
       "\n",
       "\n"
      ],
      "text/plain": [
       "          Moving up Suburb mix Travelers   Urban hip MeanDecreaseAccuracy\n",
       "age       61.386693  44.653251 121.9187436 86.345025 130.712724          \n",
       "gender    13.065763  -4.266584  -1.6609796  8.409029   7.382935          \n",
       "income    23.712016  17.428848  15.9978527 77.258853  68.809768          \n",
       "kids      18.476067  14.248174  53.8039237  6.308172  52.404913          \n",
       "ownHome    5.212246 -11.539183  23.5491524 20.667305  16.063356          \n",
       "subscribe 16.625874   9.118376   0.8989833 -3.194460  16.023871          \n",
       "          MeanDecreaseGini\n",
       "age       62.399834       \n",
       "gender     3.354667       \n",
       "income    36.439804       \n",
       "kids      20.081438       \n",
       "ownHome    4.898022       \n",
       "subscribe  2.965571       "
      ]
     },
     "metadata": {},
     "output_type": "display_data"
    }
   ],
   "source": [
    "set.seed(98040)\n",
    "(seg.rf = randomForest(Segment ~ ., data=seg.df.train, ntree=3000, \n",
    "                       importance=T))\n",
    "importance(seg.rf)"
   ]
  },
  {
   "cell_type": "markdown",
   "metadata": {},
   "source": [
    "> The upper block shows the variable importance by segment. We see, for example,\n",
    "that age is important for all segments, while gender is not very important.\n",
    "- The lower block shows two overall measures of variable importance, the permutation\n",
    "measure of impact on accuracy (MeanDecreaseAccuracy), and an assessment\n",
    "of the variable’s ability to assist classification better than chance labeling\n",
    "(MeanDecreaseGini, a measure of Gini impurity [19])."
   ]
  },
  {
   "cell_type": "markdown",
   "metadata": {},
   "source": [
    "The randomForest package includes varImpPlot() to plot variable importance:"
   ]
  },
  {
   "cell_type": "code",
   "execution_count": 107,
   "metadata": {},
   "outputs": [
    {
     "data": {
      "image/png": "[encoded data removed]",
      "text/plain": [
       "plot without title"
      ]
     },
     "metadata": {},
     "output_type": "display_data"
    }
   ],
   "source": [
    "varImpPlot(seg.rf, main=\"Variable importance by segment\")"
   ]
  },
  {
   "cell_type": "markdown",
   "metadata": {},
   "source": [
    "> The result is Fig. 11.12. The most important variables in this data set are age,\n",
    "income, and kids."
   ]
  },
  {
   "cell_type": "markdown",
   "metadata": {},
   "source": [
    "We plot the importance for variables by segment with information from\n",
    "importance(MODEL). The variable-by-segment data are in the first four\n",
    "columns of that object (as shown in the code output above). We transpose it to put\n",
    "segments on the rows and use heatmap.2() to plot the values with color:"
   ]
  },
  {
   "cell_type": "code",
   "execution_count": 109,
   "metadata": {},
   "outputs": [
    {
     "data": {
      "image/png": "[encoded data removed]",
      "text/plain": [
       "Plot with title \"Variable importance by segment\""
      ]
     },
     "metadata": {},
     "output_type": "display_data"
    }
   ],
   "source": [
    "library(gplots)\n",
    "library(RColorBrewer)\n",
    "heatmap.2(t(importance(seg.rf)[, 1:4]), \n",
    "          col=brewer.pal(9, 'Blues'),\n",
    "          dend='none', trace='none', key=F,\n",
    "          margins = c(10,10), \n",
    "          main='Variable importance by segment')"
   ]
  },
  {
   "cell_type": "markdown",
   "metadata": {},
   "source": [
    "> The result is Fig. 11.13. We used the gplots package for heatmap.2(),\n",
    "and RColorBrewer to get a color palette. \n",
    " - In the call to heatmap.2(),\n",
    "we specified col=brewer.pal(9, \"Blues\") to get nine shades of blue,\n",
    "dend=\"none\", trace=\"none\", key=FALSE to turn off some plot options\n",
    "we didn’t want (dendrograms and a legend), and margins=c(10, 10) to adjust\n",
    "the margins and make the axes more readable.\n",
    "\n",
    "> Darker shades signify\n",
    "higher importance for the variable\n",
    "(column) in differentiating a\n",
    "segment (row).\n",
    "- Figure 11.13 highlights the importance of age in predicting all of the segments, ***the\n",
    "importance of income to predict Urban hip, of kids to predict Travelers,*** and the\n",
    "relatively low importance of the other predictors."
   ]
  },
  {
   "cell_type": "markdown",
   "metadata": {},
   "source": [
    "## 11.5 Prediction: Identifying Potential Customers*"
   ]
  },
  {
   "cell_type": "markdown",
   "metadata": {},
   "source": [
    "We now turn to another use for classification: to predict potential customers. An\n",
    "important business question—especially in high-churn categories such as mobile\n",
    "subscriptions—is how to reach new customers.\n",
    "- If we have data on past prospects\n",
    "that includes potential predictors such as demographics, and an outcome such as\n",
    "purchase, we can develop a model to identify customers for whom the outcome is\n",
    "most likely among new prospects. In this section, we use a random forest model and\n",
    "attempt to predict subscription status from our data set seg.df."
   ]
  },
  {
   "cell_type": "markdown",
   "metadata": {},
   "source": [
    "As usual with classification problems, we split the data into a training sample and a\n",
    "test sample:"
   ]
  },
  {
   "cell_type": "code",
   "execution_count": 110,
   "metadata": {},
   "outputs": [],
   "source": [
    "set.seed(92118)\n",
    "train.prop   = 0.65\n",
    "train.cases  = sample(nrow(seg.df), nrow(seg.df)*train.prop)\n",
    "sub.df.train = seg.df[train.cases, ]\n",
    "sub.df.test  = seg.df[-train.cases, ]"
   ]
  },
  {
   "cell_type": "markdown",
   "metadata": {},
   "source": [
    "Next, we wonder how difficult it will be to identify potential subscribers. Are\n",
    "subscribers in the training set well differentiated from non-subscribers? We use\n",
    "clusplot() to check the differentiation, removing subscribe from the data\n",
    "with [, -6] and using it instead as the cluster identifier:"
   ]
  },
  {
   "cell_type": "code",
   "execution_count": 111,
   "metadata": {},
   "outputs": [
    {
     "data": {
      "image/png": "[encoded data removed]",
      "text/plain": [
       "Plot with title \"Subscriber clusters. training data\""
      ]
     },
     "metadata": {},
     "output_type": "display_data"
    }
   ],
   "source": [
    "clusplot(sub.df.train[, -6], sub.df.train$subscribe, color=T, shade=T, \n",
    "         labels=4, lines=0, main='Subscriber clusters. training data')"
   ]
  },
  {
   "cell_type": "markdown",
   "metadata": {},
   "source": [
    "> The result in Fig. 11.14 shows that the subscribers and non-subscribers are not well\n",
    "differentiated when plotted against principal components (which reflect almost 56%\n",
    "of the variance in the data). This suggests that the problem will be difficult!"
   ]
  },
  {
   "cell_type": "markdown",
   "metadata": {},
   "source": [
    "We fit an initial RF model to predict subscribe:"
   ]
  },
  {
   "cell_type": "code",
   "execution_count": 112,
   "metadata": {},
   "outputs": [
    {
     "data": {
      "text/plain": [
       "\n",
       "Call:\n",
       " randomForest(formula = subscribe ~ ., data = sub.df.train, ntree = 3000) \n",
       "               Type of random forest: classification\n",
       "                     Number of trees: 3000\n",
       "No. of variables tried at each split: 2\n",
       "\n",
       "        OOB estimate of  error rate: 14.36%\n",
       "Confusion matrix:\n",
       "       subNo subYes class.error\n",
       "subNo    167      3  0.01764706\n",
       "subYes    25      0  1.00000000"
      ]
     },
     "metadata": {},
     "output_type": "display_data"
    }
   ],
   "source": [
    "set.seed(11954)\n",
    "(sub.rf = randomForest(subscribe ~ ., data=sub.df.train, ntree=3000))"
   ]
  },
  {
   "cell_type": "markdown",
   "metadata": {},
   "source": [
    ">The results are not encouraging. Although the error rate might initially sound good\n",
    "at 14.36 %, we have 100% error in predicting subscribers (subYes) with all 25\n",
    "misclassified in the OOB data.\n",
    "- Why? This demonstrates the class ***imbalance problem*** in machine learning. When\n",
    "***one category dominates the data***, it is very difficult to learn to predict other groups.\n",
    "This frequently arises with ***small-proportion problems***, such as predicting the comparatively\n",
    "rare individuals who will purchase a product, who have a medical condition,\n",
    "who are security threats, and so forth.\n",
    "- A general solution is to balance the classes by sampling more from the small group.\n",
    "In RF models, this can be accomplished by telling the classifier to use a balanced\n",
    "group when it samples data to fit each tree."
   ]
  },
  {
   "cell_type": "markdown",
   "metadata": {},
   "source": [
    "We use sampsize=c(25, 25) to\n",
    "draw an equal number of subscribers and non-subscribers when fitting each tree\n",
    "(selecting N = 25 each because we have that many subscribers in the training data;\n",
    "these are sampled with replacement so trees are not all identical):"
   ]
  },
  {
   "cell_type": "code",
   "execution_count": 120,
   "metadata": {},
   "outputs": [
    {
     "data": {
      "text/plain": [
       "\n",
       "Call:\n",
       " randomForest(formula = subscribe ~ ., data = sub.df.train, ntree = 3000,      sampsize = c(25, 25)) \n",
       "               Type of random forest: classification\n",
       "                     Number of trees: 3000\n",
       "No. of variables tried at each split: 2\n",
       "\n",
       "        OOB estimate of  error rate: 34.36%\n",
       "Confusion matrix:\n",
       "       subNo subYes class.error\n",
       "subNo    120     50   0.2941176\n",
       "subYes    17      8   0.6800000"
      ]
     },
     "metadata": {},
     "output_type": "display_data"
    }
   ],
   "source": [
    "set.seed(11954)\n",
    "(sub.rf = randomForest(subscribe ~ ., data=sub.df.train, ntree=3000, \n",
    "                       sampsize=c(25,25)))"
   ]
  },
  {
   "cell_type": "markdown",
   "metadata": {},
   "source": [
    "> Although our overall error rate is substantially higher at 34.36 %, we are successfully\n",
    "predicting 32% (i.e., 1−0.68) of the subscribers in the OOB data, which is\n",
    "greatly improved over zero."
   ]
  },
  {
   "cell_type": "markdown",
   "metadata": {},
   "source": [
    "We use predict() to apply the RF model to the holdout data and examine the\n",
    "confusion matrix:"
   ]
  },
  {
   "cell_type": "code",
   "execution_count": 121,
   "metadata": {},
   "outputs": [
    {
     "data": {
      "text/plain": [
       "          \n",
       "sub.rf.sub subNo subYes\n",
       "    subNo     72      9\n",
       "    subYes    18      6"
      ]
     },
     "metadata": {},
     "output_type": "display_data"
    }
   ],
   "source": [
    "sub.rf.sub = predict(sub.rf, sub.df.test)\n",
    "table(sub.rf.sub, sub.df.test$subscribe)"
   ]
  },
  {
   "cell_type": "markdown",
   "metadata": {},
   "source": [
    ">The model correctly predicts 6 of the 15 subscribers in the holdout data, at a cost\n",
    "of incorrectly predicting 11 others as subscribers who are not. That may be an acceptable\n",
    "tradeoff if we are trying to identify prospects who are worth an effort to\n",
    "reach. \n",
    "- For instance, in the present case, calling all prospects would result in 15/105\n",
    "successes (14% success rate), while calling the suggested ones would result in 6/17\n",
    "successes (35 %). The ultimate value of each strategy—to call of them or not—\n",
    "depends on the cost of calling vs. the value of successful conversion.\n",
    "\n",
    ">Another way to look at the result is this: those that the model said were nonsubscribers\n",
    "were almost 80% correct (72 correct out of 90). If the cost to target\n",
    "customers is high, it may be very useful to predict those not to target with high\n",
    "accuracy."
   ]
  },
  {
   "cell_type": "markdown",
   "metadata": {},
   "source": [
    "Is the model predicting better than chance? We use adjustedRandIndex()\n",
    "to find that performance is modestly better than chance, and we confirm this\n",
    "with cohen.kappa() in the psych package, which provides confidence intervals:"
   ]
  },
  {
   "cell_type": "code",
   "execution_count": 122,
   "metadata": {},
   "outputs": [
    {
     "data": {
      "text/html": [
       "0.0971762910200967"
      ],
      "text/latex": [
       "0.0971762910200967"
      ],
      "text/markdown": [
       "0.0971762910200967"
      ],
      "text/plain": [
       "[1] 0.09717629"
      ]
     },
     "metadata": {},
     "output_type": "display_data"
    }
   ],
   "source": [
    "adjustedRandIndex(sub.rf.sub, sub.df.test$subscribe)"
   ]
  },
  {
   "cell_type": "code",
   "execution_count": 124,
   "metadata": {},
   "outputs": [],
   "source": [
    "library(psych)"
   ]
  },
  {
   "cell_type": "code",
   "execution_count": 125,
   "metadata": {},
   "outputs": [
    {
     "name": "stderr",
     "output_type": "stream",
     "text": [
      "Warning message in any(abs(bounds)):\n",
      "\"coercing argument of type 'double' to logical\""
     ]
    },
    {
     "data": {
      "text/plain": [
       "Call: cohen.kappa1(x = x, w = w, n.obs = n.obs, alpha = alpha, levels = levels)\n",
       "\n",
       "Cohen Kappa and Weighted Kappa correlation coefficients and confidence boundaries \n",
       "                  lower estimate upper\n",
       "unweighted kappa -0.051     0.16  0.37\n",
       "weighted kappa   -0.051     0.16  0.37\n",
       "\n",
       " Number of subjects = 105 "
      ]
     },
     "metadata": {},
     "output_type": "display_data"
    }
   ],
   "source": [
    "cohen.kappa(cbind(sub.rf.sub, sub.df.test$subscribe))"
   ]
  },
  {
   "cell_type": "markdown",
   "metadata": {},
   "source": [
    ">With an adjusted Rand Index = 0.097 and Cohen’s kappa = 0.16 (confidence interval\n",
    "0.025–0.50), the model identifies subscribers in the test data modestly better than\n",
    "chance."
   ]
  },
  {
   "cell_type": "markdown",
   "metadata": {},
   "source": [
    "With a difficult problem—predicting a low incidence group, in data where the\n",
    "groups are not well-differentiated, and with a small sample—the random forest\n",
    "model performs modestly yet perhaps surprisingly well. There are no magic bullets\n",
    "in predictive modeling, but if you use the many tools available in R, avoid pitfalls\n",
    "such as class imbalance, and interpret results in terms of the business action, you\n",
    "will have good odds to achieve positive results."
   ]
  }
 ],
 "metadata": {
  "kernelspec": {
   "display_name": "R",
   "language": "R",
   "name": "ir"
  },
  "language_info": {
   "codemirror_mode": "r",
   "file_extension": ".r",
   "mimetype": "text/x-r-source",
   "name": "R",
   "pygments_lexer": "r",
   "version": "3.4.3"
  }
 },
 "nbformat": 4,
 "nbformat_minor": 2
}
