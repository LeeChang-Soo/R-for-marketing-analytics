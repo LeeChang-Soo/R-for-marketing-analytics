{
 "cells": [
  {
   "cell_type": "markdown",
   "metadata": {},
   "source": [
    "# 7. Identifying Drivers of Outcomes: Linear Models"
   ]
  },
  {
   "cell_type": "markdown",
   "metadata": {},
   "source": [
    "A common\n",
    "application in survey analysis is to model satisfaction with a product in relation\n",
    "to specific elements of the product and its delivery; this is called “satisfaction drivers\n",
    "analysis.” Linear models are also used to understand how price and advertising are\n",
    "related to sales, and this is called “marketing mix modeling.” \n",
    " - There are many other situations in which it is helpful to model an outcome, known formally as a *response or dependent variable*, as a function of predictor variables (also known as *explanatory or independent variables*).\n",
    "\n",
    "An important thing to understand is that driver does not imply causation. A linear\n",
    "model only assumes an association among variables. Consider a survey of automobile\n",
    "purchasers that finds a positive association between satisfaction and price\n",
    "paid.\n",
    "\n",
    "We encourage readers who are\n",
    "unfamiliar with linear modeling to supplement this chapter with a review of ***linear\n",
    "modeling*** in a statistics or marketing research textbook, where it might appear under\n",
    "a name such as ***regression analysis, linear regression, or least-squares fitting.***"
   ]
  },
  {
   "cell_type": "markdown",
   "metadata": {},
   "source": [
    "## 7.1 Amusement Park Data"
   ]
  },
  {
   "cell_type": "code",
   "execution_count": 20,
   "metadata": {},
   "outputs": [
    {
     "name": "stdout",
     "output_type": "stream",
     "text": [
      "'data.frame':\t500 obs. of  8 variables:\n",
      " $ weekend  : Factor w/ 2 levels \"no\",\"yes\": 2 2 1 2 1 1 2 1 1 2 ...\n",
      " $ num.child: int  0 2 1 0 4 5 1 0 0 3 ...\n",
      " $ distance : num  114.6 27 63.3 25.9 54.7 ...\n",
      " $ rides    : int  87 87 85 88 84 81 77 82 90 88 ...\n",
      " $ games    : int  73 78 80 72 87 79 73 70 88 86 ...\n",
      " $ wait     : int  60 76 70 66 74 48 58 70 79 55 ...\n",
      " $ clean    : int  89 87 88 89 87 79 85 83 95 88 ...\n",
      " $ overall  : int  47 65 61 37 68 27 40 30 58 36 ...\n"
     ]
    }
   ],
   "source": [
    "sat.df = read.csv('http://goo.gl/HKnl74')\n",
    "str(sat.df)                  "
   ]
  },
  {
   "cell_type": "markdown",
   "metadata": {},
   "source": [
    "> This data set comprises a few objective measures: whether the\n",
    "respondent visited on a weekend (which will be the variable weekend in the data\n",
    "frame), the number of children brought (num.child), and distance traveled to the\n",
    "park (distance). There are also subjective measures of satisfaction: expressed\n",
    "satisfaction overall (overall) and satisfaction with the rides, games, waiting time,\n",
    "and cleanliness (rides, games, wait, and clean, respectively)."
   ]
  },
  {
   "cell_type": "markdown",
   "metadata": {},
   "source": [
    "### 7.1.1 Simulating the Amusement Park Data"
   ]
  },
  {
   "cell_type": "code",
   "execution_count": 21,
   "metadata": {},
   "outputs": [],
   "source": [
    "set.seed(08226)\n",
    "nresp = 500                  # number of survey respondents"
   ]
  },
  {
   "cell_type": "markdown",
   "metadata": {},
   "source": [
    "Our hypothetical survey includes four questions about a customer’s satisfaction\n",
    "with different dimensions of a visit to the amusement park: satisfaction with rides\n",
    "(rides), games (games), waiting times (wait), and cleanliness (clean), along with a rating of overall satisfaction (overall). In such surveys, respondents\n",
    "*often answer similarly on all satisfaction questions*; this is known as the ***halo\n",
    "effect.***\n",
    "- We simulate a satisfaction halo with a random variable for each customer, halo, that does not appear in the final data but is used to influence the other ratings:"
   ]
  },
  {
   "cell_type": "code",
   "execution_count": 22,
   "metadata": {},
   "outputs": [
    {
     "data": {
      "image/png": "[encoded data removed]",
      "text/plain": [
       "plot without title"
      ]
     },
     "metadata": {},
     "output_type": "display_data"
    }
   ],
   "source": [
    "halo = rnorm(n=nresp, 0, 5)\n",
    "plot(halo)"
   ]
  },
  {
   "cell_type": "markdown",
   "metadata": {},
   "source": [
    "We add a constant just to adjust the range slightly, and convert the continuous values\n",
    "to integers using floor(). This gives us a final value for each satisfaction item on\n",
    "a 100-point scale.\n",
    "- Although scales rating 1–5, 1–7, or 1–11 may be more common in practice, such discrete scales introduce complications that we discuss in 7.9; those would detract from our presentation here. So we assume that the data comes from a 100-point scale. Such near-continuous values might be obtained by measuring where respondents mark levels of satisfaction along a line on paper or by touching\n",
    "a screen."
   ]
  },
  {
   "cell_type": "code",
   "execution_count": 23,
   "metadata": {},
   "outputs": [],
   "source": [
    "rides = floor(halo + rnorm(n=nresp, mean=80, sd=3)+1)\n",
    "games = floor(halo + rnorm(n=nresp, mean=70, sd=7)+5)\n",
    "wait  = floor(halo + rnorm(n=nresp, mean=65, sd=10)+9)\n",
    "clean = floor(halo + rnorm(n=nresp, mean=85, sd=2)+1)"
   ]
  },
  {
   "cell_type": "markdown",
   "metadata": {},
   "source": [
    "> By adding halo to the response for each question, we create positive correlation\n",
    "between the responses. The constants +1, +5, and +9 are arbitrary to adjust the\n",
    "ranges just for appearance."
   ]
  },
  {
   "cell_type": "markdown",
   "metadata": {},
   "source": [
    "You can verify the correlation between variables that\n",
    "share the halo by using cor():"
   ]
  },
  {
   "cell_type": "code",
   "execution_count": 24,
   "metadata": {},
   "outputs": [
    {
     "data": {
      "text/html": [
       "0.453413357894532"
      ],
      "text/latex": [
       "0.453413357894532"
      ],
      "text/markdown": [
       "0.453413357894532"
      ],
      "text/plain": [
       "[1] 0.4534134"
      ]
     },
     "metadata": {},
     "output_type": "display_data"
    }
   ],
   "source": [
    "cor(rides, games)"
   ]
  },
  {
   "cell_type": "markdown",
   "metadata": {},
   "source": [
    "Satisfaction surveys often include other questions related to the customer experience.\n",
    "- For the amusement park data, we include whether the visit was on a weekend,\n",
    "how far the customer traveled to the park in miles, and the number of children in\n",
    "the party. We generate this data using two functions: rlnorm(n, meanlog,\n",
    "sdlog) to sample a lognormal distribution for distance, and sample(x,\n",
    "size, replace) to sample discrete distributions for weekend and number of\n",
    "children (num.child):"
   ]
  },
  {
   "cell_type": "code",
   "execution_count": 25,
   "metadata": {},
   "outputs": [],
   "source": [
    "distance  = rlnorm(nresp, 3, 1)\n",
    "num.child = sample(x=0:5, size=nresp, replace=T, \n",
    "                   prob=c(0.3, 0.15, 0.25, 0.15, 0.1, 0.05))\n",
    "weekend   = as.factor(sample(x=c('yes', 'no'), size=nresp, replace=T, \n",
    "                             prob=c(0.5,0.5)))"
   ]
  },
  {
   "cell_type": "markdown",
   "metadata": {},
   "source": [
    "We create the overall satisfaction rating as a function of ratings for the various aspects\n",
    "of the visit (satisfaction with rides, cleanliness, and so forth), distance traveled,\n",
    "and the number of children:"
   ]
  },
  {
   "cell_type": "code",
   "execution_count": 26,
   "metadata": {},
   "outputs": [],
   "source": [
    "overall = floor(halo + 0.5*rides + 0.1*games + 0.3*wait + 0.2*clean + \n",
    "                0.03*distance + 5*(num.child==0) +0.3*wait*(num.child>0) + \n",
    "                rnorm(nresp, 0, 7) -51)"
   ]
  },
  {
   "cell_type": "markdown",
   "metadata": {},
   "source": [
    "> When a variable like overall is a linear combination of other variables plus random\n",
    "noise, we say that it follows a linear model.\n",
    "\n",
    "Before proceeding, we combine the data points into a data frame and remove unneeded\n",
    "objects from the workspace:"
   ]
  },
  {
   "cell_type": "code",
   "execution_count": 27,
   "metadata": {
    "scrolled": true
   },
   "outputs": [],
   "source": [
    "sat.df = data.frame(weekend, num.child, distance, rides, games, wait, \n",
    "                    clean, overall)"
   ]
  },
  {
   "cell_type": "code",
   "execution_count": 29,
   "metadata": {},
   "outputs": [],
   "source": [
    "rm(nresp, weekend, distance, num.child, halo, rides, games, wait, clean,overall)"
   ]
  },
  {
   "cell_type": "markdown",
   "metadata": {},
   "source": [
    "## 7.2 Fitting Linear Models with lm()"
   ]
  },
  {
   "cell_type": "code",
   "execution_count": 30,
   "metadata": {},
   "outputs": [
    {
     "data": {
      "text/plain": [
       " weekend     num.child        distance            rides           games      \n",
       " no :259   Min.   :0.000   Min.   :  0.5267   Min.   :67.00   Min.   :52.00  \n",
       " yes:241   1st Qu.:0.000   1st Qu.: 10.3181   1st Qu.:77.00   1st Qu.:68.00  \n",
       "           Median :2.000   Median : 19.0191   Median :80.00   Median :74.00  \n",
       "           Mean   :1.738   Mean   : 31.0475   Mean   :80.38   Mean   :74.14  \n",
       "           3rd Qu.:3.000   3rd Qu.: 39.5821   3rd Qu.:84.00   3rd Qu.:80.00  \n",
       "           Max.   :5.000   Max.   :239.1921   Max.   :94.00   Max.   :96.00  \n",
       "      wait            clean          overall      \n",
       " Min.   : 43.00   Min.   :72.00   Min.   :  6.00  \n",
       " 1st Qu.: 65.75   1st Qu.:82.00   1st Qu.: 41.00  \n",
       " Median : 74.00   Median :85.00   Median : 52.00  \n",
       " Mean   : 73.42   Mean   :85.39   Mean   : 52.86  \n",
       " 3rd Qu.: 81.00   3rd Qu.:89.00   3rd Qu.: 63.00  \n",
       " Max.   :103.00   Max.   :98.00   Max.   :102.00  "
      ]
     },
     "metadata": {},
     "output_type": "display_data"
    }
   ],
   "source": [
    "summary(sat.df)"
   ]
  },
  {
   "cell_type": "code",
   "execution_count": 31,
   "metadata": {},
   "outputs": [
    {
     "name": "stdout",
     "output_type": "stream",
     "text": [
      "'data.frame':\t500 obs. of  8 variables:\n",
      " $ weekend  : Factor w/ 2 levels \"no\",\"yes\": 2 2 1 2 1 1 2 1 1 2 ...\n",
      " $ num.child: int  0 2 1 0 4 5 1 0 0 3 ...\n",
      " $ distance : num  114.6 27 63.3 25.9 54.7 ...\n",
      " $ rides    : num  82 82 79 82 78 76 72 77 84 82 ...\n",
      " $ games    : num  68 73 75 68 83 75 69 65 83 81 ...\n",
      " $ wait     : num  64 80 74 69 78 51 62 74 82 58 ...\n",
      " $ clean    : num  86 84 86 87 84 77 83 80 92 85 ...\n",
      " $ overall  : num  49 67 63 37 69 29 43 31 58 37 ...\n"
     ]
    }
   ],
   "source": [
    "str(sat.df)"
   ]
  },
  {
   "cell_type": "markdown",
   "metadata": {},
   "source": [
    "> The data comprise eight variables from a survey of satisfaction with a recent visit to\n",
    "an amusement park. The first three variables describe features of the visit: weekend\n",
    "is a factor with two levels, no and yes; num.child is the number of children in\n",
    "the party, 0–5; and distance is the distance traveled to the park.\n",
    "\n",
    ">The remaining\n",
    "five variables are satisfaction ratings for the customers’ experience of the rides,\n",
    "games, wait times, cleanliness, and overall experience of the park, on a 100 point\n",
    "scale."
   ]
  },
  {
   "cell_type": "markdown",
   "metadata": {},
   "source": [
    "### 7.2.1 Preliminary Data Inspection"
   ]
  },
  {
   "cell_type": "markdown",
   "metadata": {},
   "source": [
    "We do an initial check of the variable distributions and relationships in sat.df\n",
    "using gpairs() as described in Sect. 4.4.2:"
   ]
  },
  {
   "cell_type": "code",
   "execution_count": 33,
   "metadata": {},
   "outputs": [
    {
     "name": "stderr",
     "output_type": "stream",
     "text": [
      "Warning message:\n",
      "\"package 'lattice' was built under R version 3.4.4\""
     ]
    }
   ],
   "source": [
    "library(grid)\n",
    "library(lattice)"
   ]
  },
  {
   "cell_type": "code",
   "execution_count": 35,
   "metadata": {},
   "outputs": [],
   "source": [
    "library(gpairs)"
   ]
  },
  {
   "cell_type": "code",
   "execution_count": 36,
   "metadata": {},
   "outputs": [
    {
     "data": {
      "image/png": "[encoded data removed]",
      "text/plain": [
       "plot without title"
      ]
     },
     "metadata": {},
     "output_type": "display_data"
    }
   ],
   "source": [
    "gpairs(sat.df)"
   ]
  },
  {
   "cell_type": "markdown",
   "metadata": {},
   "source": [
    "> Fig. 7.1. An inspection of data using gpairs() before we perform further modeling. This\n",
    "reveals that distance has a highly skewed distribution and should be transformed before\n",
    "modeling. Additionally, several variables are positively associated and should be examined\n",
    "further for the strength of association."
   ]
  },
  {
   "cell_type": "markdown",
   "metadata": {},
   "source": [
    "For most purposes it is a good idea to transform such a variable to a more\n",
    "normal distribution. As we discussed in Sect. 4.5.4, a common transformation for\n",
    "such data is a logarithmic transform; we take the log() of distance and add\n",
    "that to the data frame:"
   ]
  },
  {
   "cell_type": "code",
   "execution_count": 38,
   "metadata": {},
   "outputs": [],
   "source": [
    "sat.df$logdist <- log(sat.df$distance)"
   ]
  },
  {
   "cell_type": "code",
   "execution_count": 39,
   "metadata": {},
   "outputs": [
    {
     "data": {
      "image/png": "[encoded data removed]",
      "text/plain": [
       "plot without title"
      ]
     },
     "metadata": {},
     "output_type": "display_data"
    }
   ],
   "source": [
    "gpairs(sat.df)"
   ]
  },
  {
   "cell_type": "markdown",
   "metadata": {},
   "source": [
    "> We could then run gpairs(sat.df) again (or run hist(sat.df$logdist))\n",
    "to confirm that the new variable logdist is more normally distributed.\n",
    "\n",
    "> They show few concerns apart from the need to transform\n",
    "distance. For example, the pairwise scatterplots of our continuous measures are\n",
    "generally elliptical in shape, which is a good indication that they are appropriate to\n",
    "use in a linear model. \n",
    " - One question, however, concerns the fact that the variables in the lower right of Fig. 7.1 are positively correlated. Why is this a concern? A common issue with marketing data and especially satisfaction\n",
    "surveys is that variables may be ***highly correlated with one another.***\n",
    " - They may instead form an overall halo rating and rate individual elements of the experience in light of that overall feeling.\n",
    " - The effect can be so severe that ***the relationships become uninterpretable*** without taking some action to\n",
    "handle the high correlations."
   ]
  },
  {
   "cell_type": "code",
   "execution_count": 41,
   "metadata": {},
   "outputs": [],
   "source": [
    "library(corrplot)"
   ]
  },
  {
   "cell_type": "code",
   "execution_count": 42,
   "metadata": {},
   "outputs": [
    {
     "data": {
      "image/png": "[encoded data removed]",
      "text/plain": [
       "Plot with title \"\""
      ]
     },
     "metadata": {},
     "output_type": "display_data"
    }
   ],
   "source": [
    "corrplot.mixed(cor(sat.df[ , c(2, 4:9)]), upper=\"ellipse\")"
   ]
  },
  {
   "cell_type": "markdown",
   "metadata": {},
   "source": [
    "> Fig. 7.2. A correlation plot for the amusement\n",
    "park data. We selected columns c(2, 4:9) to exclude the categorical variable weekend\n",
    "and the raw variable distance that we transformed as logdist.\n",
    "\n",
    ">Inspection of the item\n",
    "associations is always recommended before\n",
    "linear modeling, in order to check\n",
    "for extremely high correlations between\n",
    "items (such as r > 0.9). In the present\n",
    "data, rides and clean are highly related\n",
    "(r = 0.79) but not so strongly that\n",
    "remediation is strictly required. "
   ]
  },
  {
   "cell_type": "markdown",
   "metadata": {},
   "source": [
    "### 7.2.2 Recap: Bivariate Association"
   ]
  },
  {
   "cell_type": "markdown",
   "metadata": {},
   "source": [
    "The goal of a satisfaction drivers analysis is to discover relationships between customers’\n",
    "satisfaction with features of the service (or product) and their overall experience.\n",
    "- For example, to what extent is satisfaction with the park’s rides related to\n",
    "overall experience? Is the relationship strong or weak? One way to assess this is to\n",
    "plot those two variables against each other as we did in Chap. 4:"
   ]
  },
  {
   "cell_type": "code",
   "execution_count": 49,
   "metadata": {},
   "outputs": [
    {
     "data": {
      "image/png": "[encoded data removed]",
      "text/plain": [
       "plot without title"
      ]
     },
     "metadata": {},
     "output_type": "display_data"
    }
   ],
   "source": [
    "plot(overall ~ rides, data=sat.df, \n",
    "     xlab='satisfaction with rides', ylab='overall satisfaction')"
   ]
  },
  {
   "cell_type": "markdown",
   "metadata": {},
   "source": [
    "> The points on the plot show that there is a\n",
    "tendency for people with higher satisfaction with rides to also have higher overall\n",
    "satisfaction."
   ]
  },
  {
   "cell_type": "markdown",
   "metadata": {},
   "source": [
    "### 7.2.3 Linear Model with a Single Predictor"
   ]
  },
  {
   "cell_type": "markdown",
   "metadata": {},
   "source": [
    "A linear model estimates a best fit line through the cloud of points.\n",
    "To estimate a linear model relating overall satisfaction to satisfaction\n",
    "with rides, we write:"
   ]
  },
  {
   "cell_type": "code",
   "execution_count": 50,
   "metadata": {},
   "outputs": [
    {
     "data": {
      "text/plain": [
       "\n",
       "Call:\n",
       "lm(formula = overall ~ rides, data = sat.df)\n",
       "\n",
       "Coefficients:\n",
       "(Intercept)        rides  \n",
       "    -85.013        1.715  \n"
      ]
     },
     "metadata": {},
     "output_type": "display_data"
    }
   ],
   "source": [
    "lm(overall ∼ rides, data=sat.df)"
   ]
  },
  {
   "cell_type": "markdown",
   "metadata": {},
   "source": [
    "### 7.2.4 lm Objects"
   ]
  },
  {
   "cell_type": "markdown",
   "metadata": {},
   "source": [
    "Like most other R functions, lm() returns an object that we can save and use for\n",
    "other purposes."
   ]
  },
  {
   "cell_type": "code",
   "execution_count": 51,
   "metadata": {},
   "outputs": [],
   "source": [
    "m1 <- lm(overall ∼ rides, data=sat.df)"
   ]
  },
  {
   "cell_type": "markdown",
   "metadata": {},
   "source": [
    "We can then reuse the model by accessing m1. If we redraw the scatterplot for\n",
    "overall ∼ rides, we can add the linear fit line using abline(m1):"
   ]
  },
  {
   "cell_type": "code",
   "execution_count": 53,
   "metadata": {},
   "outputs": [
    {
     "data": {
      "image/png": "[encoded data removed]",
      "text/plain": [
       "plot without title"
      ]
     },
     "metadata": {},
     "output_type": "display_data"
    }
   ],
   "source": [
    "plot(overall ~ rides, data=sat.df, \n",
    "     xlab='satisfaction with rides', ylab='overall satisfaction')\n",
    "abline(m1, col='blue')"
   ]
  },
  {
   "cell_type": "code",
   "execution_count": 54,
   "metadata": {},
   "outputs": [
    {
     "name": "stdout",
     "output_type": "stream",
     "text": [
      "List of 12\n",
      " $ coefficients : Named num [1:2] -85.01 1.72\n",
      "  ..- attr(*, \"names\")= chr [1:2] \"(Intercept)\" \"rides\"\n",
      " $ residuals    : Named num [1:500] -6.63 11.37 12.51 -18.63 20.23 ...\n",
      "  ..- attr(*, \"names\")= chr [1:500] \"1\" \"2\" \"3\" \"4\" ...\n",
      " $ effects      : Named num [1:500] -1181.9 -207.5 12.9 -18.5 20.7 ...\n",
      "  ..- attr(*, \"names\")= chr [1:500] \"(Intercept)\" \"rides\" \"\" \"\" ...\n",
      " $ rank         : int 2\n",
      " $ fitted.values: Named num [1:500] 55.6 55.6 50.5 55.6 48.8 ...\n",
      "  ..- attr(*, \"names\")= chr [1:500] \"1\" \"2\" \"3\" \"4\" ...\n",
      " $ assign       : int [1:2] 0 1\n",
      " $ qr           :List of 5\n",
      "  ..$ qr   : num [1:500, 1:2] -22.3607 0.0447 0.0447 0.0447 0.0447 ...\n",
      "  .. ..- attr(*, \"dimnames\")=List of 2\n",
      "  .. .. ..$ : chr [1:500] \"1\" \"2\" \"3\" \"4\" ...\n",
      "  .. .. ..$ : chr [1:2] \"(Intercept)\" \"rides\"\n",
      "  .. ..- attr(*, \"assign\")= int [1:2] 0 1\n",
      "  ..$ qraux: num [1:2] 1.04 1.01\n",
      "  ..$ pivot: int [1:2] 1 2\n",
      "  ..$ tol  : num 1e-07\n",
      "  ..$ rank : int 2\n",
      "  ..- attr(*, \"class\")= chr \"qr\"\n",
      " $ df.residual  : int 498\n",
      " $ xlevels      : Named list()\n",
      " $ call         : language lm(formula = overall ~ rides, data = sat.df)\n",
      " $ terms        :Classes 'terms', 'formula'  language overall ~ rides\n",
      "  .. ..- attr(*, \"variables\")= language list(overall, rides)\n",
      "  .. ..- attr(*, \"factors\")= int [1:2, 1] 0 1\n",
      "  .. .. ..- attr(*, \"dimnames\")=List of 2\n",
      "  .. .. .. ..$ : chr [1:2] \"overall\" \"rides\"\n",
      "  .. .. .. ..$ : chr \"rides\"\n",
      "  .. ..- attr(*, \"term.labels\")= chr \"rides\"\n",
      "  .. ..- attr(*, \"order\")= int 1\n",
      "  .. ..- attr(*, \"intercept\")= int 1\n",
      "  .. ..- attr(*, \"response\")= int 1\n",
      "  .. ..- attr(*, \".Environment\")=<environment: R_GlobalEnv> \n",
      "  .. ..- attr(*, \"predvars\")= language list(overall, rides)\n",
      "  .. ..- attr(*, \"dataClasses\")= Named chr [1:2] \"numeric\" \"numeric\"\n",
      "  .. .. ..- attr(*, \"names\")= chr [1:2] \"overall\" \"rides\"\n",
      " $ model        :'data.frame':\t500 obs. of  2 variables:\n",
      "  ..$ overall: num [1:500] 49 67 63 37 69 29 43 31 58 37 ...\n",
      "  ..$ rides  : num [1:500] 82 82 79 82 78 76 72 77 84 82 ...\n",
      "  ..- attr(*, \"terms\")=Classes 'terms', 'formula'  language overall ~ rides\n",
      "  .. .. ..- attr(*, \"variables\")= language list(overall, rides)\n",
      "  .. .. ..- attr(*, \"factors\")= int [1:2, 1] 0 1\n",
      "  .. .. .. ..- attr(*, \"dimnames\")=List of 2\n",
      "  .. .. .. .. ..$ : chr [1:2] \"overall\" \"rides\"\n",
      "  .. .. .. .. ..$ : chr \"rides\"\n",
      "  .. .. ..- attr(*, \"term.labels\")= chr \"rides\"\n",
      "  .. .. ..- attr(*, \"order\")= int 1\n",
      "  .. .. ..- attr(*, \"intercept\")= int 1\n",
      "  .. .. ..- attr(*, \"response\")= int 1\n",
      "  .. .. ..- attr(*, \".Environment\")=<environment: R_GlobalEnv> \n",
      "  .. .. ..- attr(*, \"predvars\")= language list(overall, rides)\n",
      "  .. .. ..- attr(*, \"dataClasses\")= Named chr [1:2] \"numeric\" \"numeric\"\n",
      "  .. .. .. ..- attr(*, \"names\")= chr [1:2] \"overall\" \"rides\"\n",
      " - attr(*, \"class\")= chr \"lm\"\n"
     ]
    }
   ],
   "source": [
    "str(m1)"
   ]
  },
  {
   "cell_type": "markdown",
   "metadata": {},
   "source": [
    "> This shows us that the m1 object is a list with 12 specific members that contain\n",
    "everything lm() knows about the model. (To refresh yourself on list objects,\n",
    "see Chap. 2.) The first element of this list is $coefficients, which you can\n",
    "inspect:"
   ]
  },
  {
   "cell_type": "code",
   "execution_count": 55,
   "metadata": {},
   "outputs": [
    {
     "data": {
      "text/html": [
       "<dl class=dl-horizontal>\n",
       "\t<dt>(Intercept)</dt>\n",
       "\t\t<dd>-85.013187089864</dd>\n",
       "\t<dt>rides</dt>\n",
       "\t\t<dd>1.71517487857809</dd>\n",
       "</dl>\n"
      ],
      "text/latex": [
       "\\begin{description*}\n",
       "\\item[(Intercept)] -85.013187089864\n",
       "\\item[rides] 1.71517487857809\n",
       "\\end{description*}\n"
      ],
      "text/markdown": [
       "(Intercept)\n",
       ":   -85.013187089864rides\n",
       ":   1.71517487857809\n",
       "\n"
      ],
      "text/plain": [
       "(Intercept)       rides \n",
       " -85.013187    1.715175 "
      ]
     },
     "metadata": {},
     "output_type": "display_data"
    }
   ],
   "source": [
    "m1$coefficients"
   ]
  },
  {
   "cell_type": "code",
   "execution_count": 56,
   "metadata": {},
   "outputs": [
    {
     "data": {
      "text/plain": [
       "\n",
       "Call:\n",
       "lm(formula = overall ~ rides, data = sat.df)\n",
       "\n",
       "Residuals:\n",
       "    Min      1Q  Median      3Q     Max \n",
       "-33.910 -10.131   0.657   8.693  35.375 \n",
       "\n",
       "Coefficients:\n",
       "            Estimate Std. Error t value Pr(>|t|)    \n",
       "(Intercept) -85.0132     8.7575  -9.707   <2e-16 ***\n",
       "rides         1.7152     0.1087  15.779   <2e-16 ***\n",
       "---\n",
       "Signif. codes:  0 '***' 0.001 '**' 0.01 '*' 0.05 '.' 0.1 ' ' 1\n",
       "\n",
       "Residual standard error: 13.15 on 498 degrees of freedom\n",
       "Multiple R-squared:  0.3333,\tAdjusted R-squared:  0.332 \n",
       "F-statistic:   249 on 1 and 498 DF,  p-value: < 2.2e-16\n"
      ]
     },
     "metadata": {},
     "output_type": "display_data"
    }
   ],
   "source": [
    "summary(m1)"
   ]
  },
  {
   "cell_type": "markdown",
   "metadata": {},
   "source": [
    "> The most important section is labeled Coefficients and shows the model coefficients\n",
    "in the Estimate column. \n",
    " - The coefficient for rides is 1.70, so each additional\n",
    "rating point for rides is estimated to result in an increase of 1.7 points of\n",
    "overall rating. (In case you’re wondering, the coefficient for the (Intercept)\n",
    "shows where the linear model line crosses the y-axis, but this is usually not interpretable\n",
    "in a satisfaction drivers analysis—for instance, there is no such thing as\n",
    "a possible negative rating on our scale—so it is generally ignored by marketing\n",
    "analysts.)\n",
    "\n",
    "> The Std. Error column indicates uncertainty in the coefficient estimate, under\n",
    "the assumption that the data are a random sample of a larger population.\n",
    " - The “t value”, p-value (“Pr(>|t|)”), and significance codes indicate a Wald\n",
    "test, which assesses whether the coefficient is significantly different than zero. A\n",
    "traditional estimate of a 95% confidence interval for the coefficient estimate is\n",
    "that it will fall within ±1.96×std.error. In this case, 1.7033±1.96×0.1055 =\n",
    "(1.495,1.910). So we are confident—assuming the model is appropriate and the\n",
    "data are representative—that the coefficient for ride is 1.495–1.910.\n",
    "\n",
    "> The Residuals section in the summary(m1) output tells us how closely the\n",
    "data follow the best fit line. \n",
    " - A residual is the difference between the model-predicted\n",
    "value of a point and its actual value. In Fig. 7.3, this is the vertical distance between\n",
    "a plotted point (actual value) and the blue line (predicted value).\n",
    " - In the summary of m1, we see that the residuals are quite wide, ranging from\n",
    "−33.597 to 34.699, which means our predictions can be quite a bit off for any given\n",
    "data point (more than 30 points on the rating scale). The quartiles of the residuals\n",
    "suggest that they are fairly symmetric around 0. As we discuss in Sect. 7.2.5, that is\n",
    "a good sign that the model is unbiased (although perhaps imprecise).\n",
    "\n",
    "> In the last section of the output, summary(m1) provides measures of how well\n",
    "the model fits the data. The first is the residual standard error, an estimate of the standard error of the residuals. Like the residuals, this is a measure of how close the\n",
    "data points are to the best estimate line. (You can directly check this by examining\n",
    "the standard deviation of the residuals using sd, which will be similar.)\n",
    "\n",
    "> The second line reports the estimate of R-squared, a measure of how much variation\n",
    "in the dependent variable is captured by the model. \n",
    " - In this case, the R-squared\n",
    "is 0.3434, indicating that about a third of the variation in overall satisfaction is explained\n",
    "by variation in satisfaction with rides. When a model includes only a single\n",
    "predictor, R-squared is equal to the square of the correlation coefficient r between\n",
    "the predictor and the outcome:\n",
    "\n",
    "> Finally, the line labeled F-statistic: provides a statistical test of whether the\n",
    "model predicts the data better than simply taking the average of the outcome variable\n",
    "and using that as the single prediction for all the observations. In essence, this\n",
    "test tells whether our model is better than a model that predicts overall satisfaction\n",
    "using no predictors. (For reasons we will not describe in detail, this is the same test\n",
    "reported by the anova() function that we saw in Chap. 5; you could find the same\n",
    "value with anova(m1). Check a statistics textbook for a description of the F-test\n",
    "in more detail.) \n",
    "- In the present case, the F-statistic shows a p-value << .05,\n",
    "so we reject the null hypothesis that a model without predictors performs as well as\n",
    "model m1."
   ]
  },
  {
   "cell_type": "markdown",
   "metadata": {},
   "source": [
    "Once again, R does not make you compute things by hand. confint() reports\n",
    "confidence intervals:"
   ]
  },
  {
   "cell_type": "code",
   "execution_count": 58,
   "metadata": {},
   "outputs": [
    {
     "data": {
      "text/html": [
       "<table>\n",
       "<thead><tr><th></th><th scope=col>2.5 %</th><th scope=col>97.5 %</th></tr></thead>\n",
       "<tbody>\n",
       "\t<tr><th scope=row>(Intercept)</th><td>-102.219442</td><td>-67.806933 </td></tr>\n",
       "\t<tr><th scope=row>rides</th><td>   1.501602</td><td>  1.928748 </td></tr>\n",
       "</tbody>\n",
       "</table>\n"
      ],
      "text/latex": [
       "\\begin{tabular}{r|ll}\n",
       "  & 2.5 \\% & 97.5 \\%\\\\\n",
       "\\hline\n",
       "\t(Intercept) & -102.219442 & -67.806933 \\\\\n",
       "\trides &    1.501602 &   1.928748 \\\\\n",
       "\\end{tabular}\n"
      ],
      "text/markdown": [
       "\n",
       "| <!--/--> | 2.5 % | 97.5 % | \n",
       "|---|---|\n",
       "| (Intercept) | -102.219442 | -67.806933  | \n",
       "| rides |    1.501602 |   1.928748  | \n",
       "\n",
       "\n"
      ],
      "text/plain": [
       "            2.5 %       97.5 %    \n",
       "(Intercept) -102.219442 -67.806933\n",
       "rides          1.501602   1.928748"
      ]
     },
     "metadata": {},
     "output_type": "display_data"
    }
   ],
   "source": [
    "confint(m1)"
   ]
  },
  {
   "cell_type": "markdown",
   "metadata": {},
   "source": [
    "> This confirms our computation by hand that the best estimate for the relationship\n",
    "overall ∼ rides is 1.496–1.911 (with slight differences due to rounding).\n",
    "It is a best practice to report the range of an estimate, not just the single best\n",
    "point."
   ]
  },
  {
   "cell_type": "markdown",
   "metadata": {},
   "source": [
    "### 7.2.5 Checking Model Fit"
   ]
  },
  {
   "cell_type": "markdown",
   "metadata": {},
   "source": [
    "There are several assumptions when a linear model is fitted to data. The first is that\n",
    "the relationship between the predictors and the outcomes is linear. If the relationship\n",
    "is not linear, then the model will make systematic errors.\n",
    "- For example, if we generate\n",
    "data where y is a function of the square of x and then fit a linear model y ∼ x,\n",
    "this will draw a straight line through a cloud of points that is curved."
   ]
  },
  {
   "cell_type": "code",
   "execution_count": 63,
   "metadata": {},
   "outputs": [
    {
     "data": {
      "text/plain": [
       "\n",
       "Call:\n",
       "lm(formula = y ~ x)\n",
       "\n",
       "Residuals:\n",
       "    Min      1Q  Median      3Q     Max \n",
       "-3.6608 -1.0610 -0.2545  0.7747 10.1543 \n",
       "\n",
       "Coefficients:\n",
       "            Estimate Std. Error t value Pr(>|t|)    \n",
       "(Intercept)  1.04618    0.07446  14.051   <2e-16 ***\n",
       "x           -0.02943    0.07520  -0.391    0.696    \n",
       "---\n",
       "Signif. codes:  0 '***' 0.001 '**' 0.01 '*' 0.05 '.' 0.1 ' ' 1\n",
       "\n",
       "Residual standard error: 1.664 on 498 degrees of freedom\n",
       "Multiple R-squared:  0.0003075,\tAdjusted R-squared:  -0.0017 \n",
       "F-statistic: 0.1532 on 1 and 498 DF,  p-value: 0.6957\n"
      ]
     },
     "metadata": {},
     "output_type": "display_data"
    }
   ],
   "source": [
    "x = rnorm(500)\n",
    "y = x^2 + rnorm(500)\n",
    "toy.model = lm(y ~ x)\n",
    "summary(toy.model)"
   ]
  },
  {
   "cell_type": "markdown",
   "metadata": {},
   "source": [
    ">If you inspect the model by typing summary(toy.model), you will see that\n",
    "the fitted coefficient for x is −0.02943 and the Wald significance test indicates that\n",
    "the coefficient is not significantly different from zero. Without model checking, a sloppy analyst might conclude that x is not related to y."
   ]
  },
  {
   "cell_type": "markdown",
   "metadata": {},
   "source": [
    "However, if we plot x\n",
    "versus y and then draw our fitted line on the plot, we can see more clearly what is\n",
    "going on."
   ]
  },
  {
   "cell_type": "code",
   "execution_count": 65,
   "metadata": {},
   "outputs": [
    {
     "data": {
      "image/png": "[encoded data removed]",
      "text/plain": [
       "plot without title"
      ]
     },
     "metadata": {},
     "output_type": "display_data"
    }
   ],
   "source": [
    "plot(y~x)\n",
    "abline(toy.model, col='blue')"
   ]
  },
  {
   "cell_type": "markdown",
   "metadata": {},
   "source": [
    "> The resulting plot is shown on the left side of Fig. 7.4. The plot shows that our fitted\n",
    "linear model (illustrated with a blue line) completely misses the curvature in the\n",
    "relationship between x and y."
   ]
  },
  {
   "cell_type": "markdown",
   "metadata": {},
   "source": [
    "Another assumption of a linear model is that prediction errors—the parts of the data\n",
    "that do not exactly fit the model—are normally distributed and look like random\n",
    "noise with no pattern. One way to examine this is to plot the model’s fitted values\n",
    "(the predictions) versus the residuals (the prediction errors)."
   ]
  },
  {
   "cell_type": "code",
   "execution_count": 66,
   "metadata": {},
   "outputs": [
    {
     "data": {
      "image/png": "[encoded data removed]",
      "text/plain": [
       "plot without title"
      ]
     },
     "metadata": {},
     "output_type": "display_data"
    }
   ],
   "source": [
    "plot(toy.model$fitted.values, toy.model$residuals)"
   ]
  },
  {
   "cell_type": "markdown",
   "metadata": {},
   "source": [
    "> This results in the plot on the right side of Fig. 7.4 and you can see from the plot\n",
    "that there is a clear pattern in the residuals: our model under-predicts the value of\n",
    "y near zero and over-predicts far from zero.\n",
    "\n",
    "> When you come across this problem in\n",
    "real data, the solution is usually to transform x; you can use the methods described\n",
    "in Sect. 4.5.4 to find a transformation that is suitable. If you begin by inspecting\n",
    "scatterplots as we recommend in Sect. 7.2.1, you will be unlikely to commit such\n",
    "a simple error. Still, it is good to know that later checks can help prevent errors\n",
    "as well"
   ]
  },
  {
   "cell_type": "markdown",
   "metadata": {},
   "source": [
    "We can look at this same diagnostic plot for our satisfaction drivers data. R suggests\n",
    "four specific plots to assess the fit of linear model objects and you can look at all\n",
    "four simply by using plot() with any lm object. To see all four plots at once, we\n",
    "type par(mfrow=c(2,2)) first:"
   ]
  },
  {
   "cell_type": "code",
   "execution_count": 68,
   "metadata": {},
   "outputs": [
    {
     "data": {
      "image/png": "[encoded data removed]",
      "text/plain": [
       "Plot with title \"\""
      ]
     },
     "metadata": {},
     "output_type": "display_data"
    }
   ],
   "source": [
    "par(mfrow=c(2,2))\n",
    "plot(m1)"
   ]
  },
  {
   "cell_type": "markdown",
   "metadata": {},
   "source": [
    "> In Fig. 7.5, the first plot (in the upper left corner) shows the fitted values versus\n",
    "residuals for m1, just as we produced manually for our toy y ∼ x model. In Fig. 7.5\n",
    "there is no obvious pattern between the fitted values for overall satisfaction and the\n",
    "residuals; this is consistent with the idea that the residuals are due to random error,\n",
    "and supports the notion that the model is adequate.\n",
    "\n",
    ">The second plot in the lower left of Fig. 7.5 is similar to the first, except that instead\n",
    "of plotting the raw residual value, it plots the square root of the standardized\n",
    "residual. Again, ***there should be no clear pattern; if there were it might indicate a\n",
    "nonlinear relationship***. Observations with high residuals are flagged as potential outliers,\n",
    "and R labels them with row numbers in case we wish to inspect them in the\n",
    "data frame.\n",
    "\n",
    ">A common pattern in residual plots is a cone or funnel, where the range of errors\n",
    "gets progressively larger for larger fitted values. This is called ***heteroskedasticity*** and\n",
    "is a violation of linear model assumptions. A linear model tries to maximize fit to\n",
    "the line; when values in one part of the range have a much larger spread than those\n",
    "in another area, they have undue influence on the estimation of the line. Sometimes\n",
    "a transformation of the predictor or outcome variable will resolve heteroskedasticity\n",
    "(see Sect. 4.5.3).\n",
    "\n",
    "> The third result of plot() for lm objects is a Normal QQ plot, as in the upper right\n",
    "of Fig. 7.5. A QQ plot helps you see whether the residuals follow a normal distribution,\n",
    "another key assumption (see Sect. 3.4.3). It compares the values that residuals\n",
    "would be expected to take if they are normally distributed, versus their actual values.\n",
    "When the model is appropriate, these points are similar and fall close to a diagonal\n",
    "line; when the relationship between the variables is nonlinear or otherwise does not\n",
    "match the assumption, the points deviate from the diagonal line. In the present case,\n",
    "the QQ plot suggests that the data fits the assumption of the model.\n",
    "\n",
    ">The final plot in the lower right panel of Fig. 7.5 again helps to identify potential\n",
    "outliers, observations that may come from a different distribution than the others.\n",
    "Outliers are a problem because, if they are far from other points, they unduly influence\n",
    "the fitted line. We do not want one or a very few observations to have a large\n",
    "effect on the coefficients. The lower right plot in Fig. 7.5 plots the leverage of each\n",
    "point, a measure of how much influence the point has on the model coefficients.\n",
    "When a point has a high residual and high leverage, it indicates that the point has\n",
    "both a different pattern (residual) and undue influence (leverage). One measure of\n",
    "the leverage of a data point is Cook’s distance, an estimate of how much predicted\n",
    "(y) values would change if the model were re-estimated with that point eliminated\n",
    "from the data. If you have observations with high Cook’s distance, this chart would\n",
    "show dotted lines for the distances; in the present case, there are none."
   ]
  },
  {
   "cell_type": "markdown",
   "metadata": {},
   "source": [
    "Still, in the lower right of Fig. 7.5, three points are automatically labeled with row\n",
    "numbers because they are potentially problematic outliers based on high standardized\n",
    "residual distance and leverage on the model. We do not recommend routinely yet we do recommend to inspect them and determine whether\n",
    "there is a problem with the data."
   ]
  },
  {
   "cell_type": "code",
   "execution_count": 70,
   "metadata": {},
   "outputs": [
    {
     "data": {
      "text/html": [
       "<table>\n",
       "<thead><tr><th></th><th scope=col>weekend</th><th scope=col>num.child</th><th scope=col>distance</th><th scope=col>rides</th><th scope=col>games</th><th scope=col>wait</th><th scope=col>clean</th><th scope=col>overall</th><th scope=col>logdist</th></tr></thead>\n",
       "<tbody>\n",
       "\t<tr><th scope=row>57</th><td>yes     </td><td>2       </td><td>63.29248</td><td>92      </td><td>83      </td><td>93      </td><td>98      </td><td>102     </td><td>4.147767</td></tr>\n",
       "\t<tr><th scope=row>129</th><td>yes     </td><td>0       </td><td>11.89550</td><td>70      </td><td>72      </td><td>54      </td><td>74      </td><td>  6     </td><td>2.476161</td></tr>\n",
       "\t<tr><th scope=row>295</th><td>no      </td><td>0       </td><td>11.74474</td><td>93      </td><td>78      </td><td>67      </td><td>89      </td><td> 46     </td><td>2.463406</td></tr>\n",
       "</tbody>\n",
       "</table>\n"
      ],
      "text/latex": [
       "\\begin{tabular}{r|lllllllll}\n",
       "  & weekend & num.child & distance & rides & games & wait & clean & overall & logdist\\\\\n",
       "\\hline\n",
       "\t57 & yes      & 2        & 63.29248 & 92       & 83       & 93       & 98       & 102      & 4.147767\\\\\n",
       "\t129 & yes      & 0        & 11.89550 & 70       & 72       & 54       & 74       &   6      & 2.476161\\\\\n",
       "\t295 & no       & 0        & 11.74474 & 93       & 78       & 67       & 89       &  46      & 2.463406\\\\\n",
       "\\end{tabular}\n"
      ],
      "text/markdown": [
       "\n",
       "| <!--/--> | weekend | num.child | distance | rides | games | wait | clean | overall | logdist | \n",
       "|---|---|---|\n",
       "| 57 | yes      | 2        | 63.29248 | 92       | 83       | 93       | 98       | 102      | 4.147767 | \n",
       "| 129 | yes      | 0        | 11.89550 | 70       | 72       | 54       | 74       |   6      | 2.476161 | \n",
       "| 295 | no       | 0        | 11.74474 | 93       | 78       | 67       | 89       |  46      | 2.463406 | \n",
       "\n",
       "\n"
      ],
      "text/plain": [
       "    weekend num.child distance rides games wait clean overall logdist \n",
       "57  yes     2         63.29248 92    83    93   98    102     4.147767\n",
       "129 yes     0         11.89550 70    72    54   74      6     2.476161\n",
       "295 no      0         11.74474 93    78    67   89     46     2.463406"
      ]
     },
     "metadata": {},
     "output_type": "display_data"
    }
   ],
   "source": [
    "sat.df[c(57, 129, 295),]"
   ]
  },
  {
   "cell_type": "markdown",
   "metadata": {},
   "source": [
    "> In this case, none of the data points is obviously invalid (for instance, with values below\n",
    "1 or greater than 100), although row 129 might be checked for input correctness;\n",
    "an overall rating of 6 on the survey would be unusual although perhaps accurate.We\n",
    "generally do not omit outliers except when they represent obvious errors in the data.\n",
    "In the present case, we would keep all of the observations."
   ]
  },
  {
   "cell_type": "markdown",
   "metadata": {},
   "source": [
    "## 7.3 Fitting Linear Models with Multiple Predictors"
   ]
  },
  {
   "cell_type": "markdown",
   "metadata": {},
   "source": [
    "Now that we’ve covered the basics of linear models using just one predictor, we\n",
    "turn to the problem of assessing multiple drivers of satisfaction. Our goal is to sort\n",
    "through all of the features of the park—rides, games, wait times, and cleanliness—to\n",
    "determine which ones are most closely related to overall satisfaction."
   ]
  },
  {
   "cell_type": "code",
   "execution_count": 71,
   "metadata": {},
   "outputs": [
    {
     "data": {
      "text/plain": [
       "\n",
       "Call:\n",
       "lm(formula = overall ~ rides + games + wait + clean, data = sat.df)\n",
       "\n",
       "Residuals:\n",
       "    Min      1Q  Median      3Q     Max \n",
       "-32.094  -7.054   0.938   7.552  29.026 \n",
       "\n",
       "Coefficients:\n",
       "              Estimate Std. Error t value Pr(>|t|)    \n",
       "(Intercept) -125.16669    8.26913 -15.137  < 2e-16 ***\n",
       "rides          0.53973    0.14761   3.656 0.000283 ***\n",
       "games          0.16294    0.07119   2.289 0.022514 *  \n",
       "wait           0.55688    0.04938  11.277  < 2e-16 ***\n",
       "clean          0.95645    0.16402   5.831 9.94e-09 ***\n",
       "---\n",
       "Signif. codes:  0 '***' 0.001 '**' 0.01 '*' 0.05 '.' 0.1 ' ' 1\n",
       "\n",
       "Residual standard error: 10.92 on 495 degrees of freedom\n",
       "Multiple R-squared:  0.5428,\tAdjusted R-squared:  0.5391 \n",
       "F-statistic: 146.9 on 4 and 495 DF,  p-value: < 2.2e-16\n"
      ]
     },
     "metadata": {},
     "output_type": "display_data"
    }
   ],
   "source": [
    "m2 = lm(overall ∼ rides + games + wait + clean, data=sat.df)\n",
    "summary(m2)"
   ]
  },
  {
   "cell_type": "markdown",
   "metadata": {},
   "source": [
    "> Looking first at the model fit statistics at the bottom of the output, we see that our\n",
    "prediction was improved by including all the satisfaction items in the model. The\n",
    "R-squared increased to 0.5428, meaning that about half of the variation in overall\n",
    "ratings is explained by the ratings for specific features.\n",
    "\n",
    "> The residual standard error\n",
    "is now 10.92, meaning that the predictions are more accurate. Our residuals also\n",
    "appear to be symmetric. As noted above, we recommend also to inspect the model\n",
    "using plot() to confirm that there are no patterns in the residuals indicative of\n",
    "nonlinearity or outliers, although we omit that step here."
   ]
  },
  {
   "cell_type": "markdown",
   "metadata": {},
   "source": [
    "Next we examine the model coefficients. Each coefficient represents the strength\n",
    "of the relationship between satisfaction with that feature and overall satisfaction,\n",
    "conditional on the values of the other predictors."
   ]
  },
  {
   "cell_type": "code",
   "execution_count": 72,
   "metadata": {},
   "outputs": [
    {
     "name": "stderr",
     "output_type": "stream",
     "text": [
      "Warning message:\n",
      "\"package 'coefplot' was built under R version 3.4.4\"Loading required package: ggplot2\n",
      "Warning message:\n",
      "\"package 'ggplot2' was built under R version 3.4.4\""
     ]
    }
   ],
   "source": [
    "library(coefplot) # install if necessary"
   ]
  },
  {
   "cell_type": "code",
   "execution_count": 74,
   "metadata": {},
   "outputs": [
    {
     "data": {},
     "metadata": {},
     "output_type": "display_data"
    },
    {
     "data": {
      "image/png": "[encoded data removed]",
      "text/plain": [
       "plot without title"
      ]
     },
     "metadata": {},
     "output_type": "display_data"
    }
   ],
   "source": [
    "coefplot(m2, intercept=F, outerCI=1.96, lwdouter=1.5, \n",
    "         ylab='Rating of Feature', \n",
    "         xlab='Assocication with overall Satisfaction')"
   ]
  },
  {
   "cell_type": "markdown",
   "metadata": {},
   "source": [
    "> We use coefplot() arguments to set the outer confidence interval to a width\n",
    "of 1.96 standard errors (using outerCI=1.96, which corresponds to a 95%\n",
    "confidence interval) and to increase the size of the plotted lines slightly with\n",
    "lwdOuter=1.5.\n",
    "\n",
    "> The result is shown in Fig. 7.6 where we see that satisfaction with cleanliness is estimated\n",
    "to be the most important feature associated with overall satisfaction, followed\n",
    "by satisfaction with the rides and wait times. Satisfaction with games is estimated\n",
    "to be relatively less important."
   ]
  },
  {
   "cell_type": "markdown",
   "metadata": {},
   "source": [
    "### 7.3.1 Comparing Models"
   ]
  },
  {
   "cell_type": "markdown",
   "metadata": {},
   "source": [
    "Now that we have two model objects, m1 and m2 we might ask which one is better.\n",
    "One way to evaluate models is to compare their R-squared values."
   ]
  },
  {
   "cell_type": "code",
   "execution_count": 77,
   "metadata": {},
   "outputs": [
    {
     "data": {
      "text/html": [
       "0.333299902865695"
      ],
      "text/latex": [
       "0.333299902865695"
      ],
      "text/markdown": [
       "0.333299902865695"
      ],
      "text/plain": [
       "[1] 0.3332999"
      ]
     },
     "metadata": {},
     "output_type": "display_data"
    },
    {
     "data": {
      "text/html": [
       "0.542822494602982"
      ],
      "text/latex": [
       "0.542822494602982"
      ],
      "text/markdown": [
       "0.542822494602982"
      ],
      "text/plain": [
       "[1] 0.5428225"
      ]
     },
     "metadata": {},
     "output_type": "display_data"
    }
   ],
   "source": [
    "summary(m1)$r.squared\n",
    "summary(m2)$r.squared"
   ]
  },
  {
   "cell_type": "markdown",
   "metadata": {},
   "source": [
    "> Based on the R-squared values we can say that m2 explains more of the variation in\n",
    "satisfaction than m1."
   ]
  },
  {
   "cell_type": "markdown",
   "metadata": {},
   "source": [
    "However, a model with more predictors usually has a higher\n",
    "R2, so we could instead compare adjusted R-squared values, which control for the\n",
    "number of predictors in the model."
   ]
  },
  {
   "cell_type": "code",
   "execution_count": 78,
   "metadata": {},
   "outputs": [
    {
     "data": {
      "text/html": [
       "0.331961147650566"
      ],
      "text/latex": [
       "0.331961147650566"
      ],
      "text/markdown": [
       "0.331961147650566"
      ],
      "text/plain": [
       "[1] 0.3319611"
      ]
     },
     "metadata": {},
     "output_type": "display_data"
    },
    {
     "data": {
      "text/html": [
       "0.539128130923006"
      ],
      "text/latex": [
       "0.539128130923006"
      ],
      "text/markdown": [
       "0.539128130923006"
      ],
      "text/plain": [
       "[1] 0.5391281"
      ]
     },
     "metadata": {},
     "output_type": "display_data"
    }
   ],
   "source": [
    "summary(m1)$adj.r.squared\n",
    "summary(m2)$adj.r.squared"
   ]
  },
  {
   "cell_type": "markdown",
   "metadata": {},
   "source": [
    "> The adjusted R-squared still suggests that the m2 explains more of the variation\n",
    "in overall satisfaction, even accounting for the fact that m2 uses more\n",
    "predictors."
   ]
  },
  {
   "cell_type": "markdown",
   "metadata": {},
   "source": [
    "To compare the predictions of the models visually, we plot the fitted versus actual\n",
    "values for each:"
   ]
  },
  {
   "cell_type": "code",
   "execution_count": 80,
   "metadata": {},
   "outputs": [
    {
     "data": {
      "image/png": "[encoded data removed]",
      "text/plain": [
       "plot without title"
      ]
     },
     "metadata": {},
     "output_type": "display_data"
    }
   ],
   "source": [
    "plot(sat.df$overall, fitted(m1), col='red', xlim=c(0,100), ylim=c(0,100), \n",
    "     xlab='Actual Overall Satisfaction', ylab='Fitted Overall Satisfaction')\n",
    "points(sat.df$overall, fitted(m2), col='blue')\n",
    "legend('topleft', legend=c('model 1', 'model 2'), col=c('red', 'blue'), pch=1)"
   ]
  },
  {
   "cell_type": "markdown",
   "metadata": {},
   "source": [
    "> If the model fits the data perfectly, it would fall along a 45◦ line in this plot, but, of\n",
    "course, it is nearly impossible to fit customer satisfaction data perfectly. By comparing\n",
    "the red and the blue points in the resulting plot in Fig. 7.7, you can see that\n",
    "the blue cloud of points is more tightly clustered along a diagonal line, which shows\n",
    "that m2 explains more of the variation in the data than m1."
   ]
  },
  {
   "cell_type": "markdown",
   "metadata": {},
   "source": [
    "For a more formal test, which is possible because the models here are nested (see\n",
    "Sect. 6.5.1), we can use anova() function to determine whether m2 explains more\n",
    "of the variation than m1:"
   ]
  },
  {
   "cell_type": "code",
   "execution_count": 81,
   "metadata": {},
   "outputs": [
    {
     "data": {
      "text/html": [
       "<table>\n",
       "<thead><tr><th scope=col>Res.Df</th><th scope=col>RSS</th><th scope=col>Df</th><th scope=col>Sum of Sq</th><th scope=col>F</th><th scope=col>Pr(&gt;F)</th></tr></thead>\n",
       "<tbody>\n",
       "\t<tr><td>498         </td><td>86102.74    </td><td>NA          </td><td>      NA    </td><td>      NA    </td><td>          NA</td></tr>\n",
       "\t<tr><td>495         </td><td>59043.39    </td><td> 3          </td><td>27059.35    </td><td>75.61883    </td><td>2.809585e-40</td></tr>\n",
       "</tbody>\n",
       "</table>\n"
      ],
      "text/latex": [
       "\\begin{tabular}{r|llllll}\n",
       " Res.Df & RSS & Df & Sum of Sq & F & Pr(>F)\\\\\n",
       "\\hline\n",
       "\t 498          & 86102.74     & NA           &       NA     &       NA     &           NA\\\\\n",
       "\t 495          & 59043.39     &  3           & 27059.35     & 75.61883     & 2.809585e-40\\\\\n",
       "\\end{tabular}\n"
      ],
      "text/markdown": [
       "\n",
       "Res.Df | RSS | Df | Sum of Sq | F | Pr(>F) | \n",
       "|---|---|\n",
       "| 498          | 86102.74     | NA           |       NA     |       NA     |           NA | \n",
       "| 495          | 59043.39     |  3           | 27059.35     | 75.61883     | 2.809585e-40 | \n",
       "\n",
       "\n"
      ],
      "text/plain": [
       "  Res.Df RSS      Df Sum of Sq F        Pr(>F)      \n",
       "1 498    86102.74 NA       NA        NA           NA\n",
       "2 495    59043.39  3 27059.35  75.61883 2.809585e-40"
      ]
     },
     "metadata": {},
     "output_type": "display_data"
    }
   ],
   "source": [
    "anova(m1, m2)"
   ]
  },
  {
   "cell_type": "markdown",
   "metadata": {},
   "source": [
    "> The low p-value indicates that the additional predictors in m2 significantly improve\n",
    "the fit of the model. If these two models were the only ones under consideration, we\n",
    "would interpret m2 instead of m1"
   ]
  },
  {
   "cell_type": "markdown",
   "metadata": {},
   "source": [
    "#### Neither coefficient nor rides is more correct in itself because a coefficient is not right or wrong but part of a larger model. Which model is preferable? Because model m2 has better overall fit, we would interpret its coefficient for rides, but only in the context of the total model."
   ]
  },
  {
   "cell_type": "markdown",
   "metadata": {},
   "source": [
    "### 7.3.2 Using a Model to Make Predictions"
   ]
  },
  {
   "cell_type": "markdown",
   "metadata": {},
   "source": [
    "We could use the model coefficients to predict\n",
    "the overall outcome for different combinations of the explanatory variables."
   ]
  },
  {
   "cell_type": "code",
   "execution_count": 84,
   "metadata": {},
   "outputs": [
    {
     "data": {
      "text/html": [
       "<strong>(Intercept):</strong> 96.4333300077007"
      ],
      "text/latex": [
       "\\textbf{(Intercept):} 96.4333300077007"
      ],
      "text/markdown": [
       "**(Intercept):** 96.4333300077007"
      ],
      "text/plain": [
       "(Intercept) \n",
       "   96.43333 "
      ]
     },
     "metadata": {},
     "output_type": "display_data"
    }
   ],
   "source": [
    "coef(m2)['(Intercept)']+coef(m2)['rides']*100+coef(m2)['games']*100+\n",
    "coef(m2)['wait']*100 + coef(m2)['clean']*100"
   ]
  },
  {
   "cell_type": "markdown",
   "metadata": {},
   "source": [
    "One way is to use matrix operations to multiply coefficients\n",
    "by a vector of predictor values:"
   ]
  },
  {
   "cell_type": "code",
   "execution_count": 85,
   "metadata": {},
   "outputs": [
    {
     "data": {
      "text/html": [
       "<table>\n",
       "<tbody>\n",
       "\t<tr><td>96.43333</td></tr>\n",
       "</tbody>\n",
       "</table>\n"
      ],
      "text/latex": [
       "\\begin{tabular}{l}\n",
       "\t 96.43333\\\\\n",
       "\\end{tabular}\n"
      ],
      "text/markdown": [
       "\n",
       "| 96.43333 | \n",
       "\n",
       "\n"
      ],
      "text/plain": [
       "     [,1]    \n",
       "[1,] 96.43333"
      ]
     },
     "metadata": {},
     "output_type": "display_data"
    }
   ],
   "source": [
    "coef(m2)%*%c(1, 100, 100, 100, 100)"
   ]
  },
  {
   "cell_type": "markdown",
   "metadata": {},
   "source": [
    "We could also use predict(object, newdata) where newdata is a data\n",
    "frame with the same column names as the data that was used to estimate the model."
   ]
  },
  {
   "cell_type": "code",
   "execution_count": 86,
   "metadata": {},
   "outputs": [
    {
     "data": {
      "text/html": [
       "<dl class=dl-horizontal>\n",
       "\t<dt>1</dt>\n",
       "\t\t<dd>48.0660888587486</dd>\n",
       "\t<dt>2</dt>\n",
       "\t\t<dd>55.8780044636275</dd>\n",
       "\t<dt>3</dt>\n",
       "\t\t<dd>53.1563188547875</dd>\n",
       "\t<dt>4</dt>\n",
       "\t\t<dd>51.8069535636709</dd>\n",
       "\t<dt>5</dt>\n",
       "\t\t<dd>54.2347399862881</dd>\n",
       "\t<dt>6</dt>\n",
       "\t\t<dd>30.1207751317964</dd>\n",
       "\t<dt>7</dt>\n",
       "\t\t<dd>38.8486544847582</dd>\n",
       "\t<dt>8</dt>\n",
       "\t\t<dd>44.7087527928543</dd>\n",
       "\t<dt>9</dt>\n",
       "\t\t<dd>67.3522401592261</dd>\n",
       "\t<dt>10</dt>\n",
       "\t\t<dd>45.8865636113711</dd>\n",
       "</dl>\n"
      ],
      "text/latex": [
       "\\begin{description*}\n",
       "\\item[1] 48.0660888587486\n",
       "\\item[2] 55.8780044636275\n",
       "\\item[3] 53.1563188547875\n",
       "\\item[4] 51.8069535636709\n",
       "\\item[5] 54.2347399862881\n",
       "\\item[6] 30.1207751317964\n",
       "\\item[7] 38.8486544847582\n",
       "\\item[8] 44.7087527928543\n",
       "\\item[9] 67.3522401592261\n",
       "\\item[10] 45.8865636113711\n",
       "\\end{description*}\n"
      ],
      "text/markdown": [
       "1\n",
       ":   48.06608885874862\n",
       ":   55.87800446362753\n",
       ":   53.15631885478754\n",
       ":   51.80695356367095\n",
       ":   54.23473998628816\n",
       ":   30.12077513179647\n",
       ":   38.84865448475828\n",
       ":   44.70875279285439\n",
       ":   67.352240159226110\n",
       ":   45.8865636113711\n",
       "\n"
      ],
      "text/plain": [
       "       1        2        3        4        5        6        7        8 \n",
       "48.06609 55.87800 53.15632 51.80695 54.23474 30.12078 38.84865 44.70875 \n",
       "       9       10 \n",
       "67.35224 45.88656 "
      ]
     },
     "metadata": {},
     "output_type": "display_data"
    }
   ],
   "source": [
    "predict(m2, sat.df[1:10,])"
   ]
  },
  {
   "cell_type": "markdown",
   "metadata": {},
   "source": [
    "> This predicts satisfaction for the first ten customers."
   ]
  },
  {
   "cell_type": "markdown",
   "metadata": {},
   "source": [
    "The predictions for observations\n",
    "used to estimate the model are also stored in the model object, and can be accessed\n",
    "with fitted()"
   ]
  },
  {
   "cell_type": "code",
   "execution_count": 87,
   "metadata": {},
   "outputs": [
    {
     "data": {
      "text/html": [
       "<dl class=dl-horizontal>\n",
       "\t<dt>1</dt>\n",
       "\t\t<dd>48.0660888587487</dd>\n",
       "\t<dt>2</dt>\n",
       "\t\t<dd>55.8780044636275</dd>\n",
       "\t<dt>3</dt>\n",
       "\t\t<dd>53.1563188547875</dd>\n",
       "\t<dt>4</dt>\n",
       "\t\t<dd>51.8069535636709</dd>\n",
       "\t<dt>5</dt>\n",
       "\t\t<dd>54.2347399862881</dd>\n",
       "\t<dt>6</dt>\n",
       "\t\t<dd>30.1207751317964</dd>\n",
       "\t<dt>7</dt>\n",
       "\t\t<dd>38.8486544847582</dd>\n",
       "\t<dt>8</dt>\n",
       "\t\t<dd>44.7087527928543</dd>\n",
       "\t<dt>9</dt>\n",
       "\t\t<dd>67.3522401592261</dd>\n",
       "\t<dt>10</dt>\n",
       "\t\t<dd>45.8865636113711</dd>\n",
       "</dl>\n"
      ],
      "text/latex": [
       "\\begin{description*}\n",
       "\\item[1] 48.0660888587487\n",
       "\\item[2] 55.8780044636275\n",
       "\\item[3] 53.1563188547875\n",
       "\\item[4] 51.8069535636709\n",
       "\\item[5] 54.2347399862881\n",
       "\\item[6] 30.1207751317964\n",
       "\\item[7] 38.8486544847582\n",
       "\\item[8] 44.7087527928543\n",
       "\\item[9] 67.3522401592261\n",
       "\\item[10] 45.8865636113711\n",
       "\\end{description*}\n"
      ],
      "text/markdown": [
       "1\n",
       ":   48.06608885874872\n",
       ":   55.87800446362753\n",
       ":   53.15631885478754\n",
       ":   51.80695356367095\n",
       ":   54.23473998628816\n",
       ":   30.12077513179647\n",
       ":   38.84865448475828\n",
       ":   44.70875279285439\n",
       ":   67.352240159226110\n",
       ":   45.8865636113711\n",
       "\n"
      ],
      "text/plain": [
       "       1        2        3        4        5        6        7        8 \n",
       "48.06609 55.87800 53.15632 51.80695 54.23474 30.12078 38.84865 44.70875 \n",
       "       9       10 \n",
       "67.35224 45.88656 "
      ]
     },
     "metadata": {},
     "output_type": "display_data"
    }
   ],
   "source": [
    "fitted(m2)[1:10]"
   ]
  },
  {
   "cell_type": "markdown",
   "metadata": {},
   "source": [
    "### 7.3.3 Standardizing the Predictors"
   ]
  },
  {
   "cell_type": "markdown",
   "metadata": {},
   "source": [
    "If the variables have different\n",
    "scales, such as a survey where rides is rated on a 1–10 scale while cleanliness is\n",
    "rated 1–5 scale, then their coefficient values would not be directly comparable.\n",
    "\n",
    "When you wish to compare coefficients, it can be helpful to standardize data on a\n",
    "common scale before fitting a model (and after transforming any variables to a more\n",
    "normal scale).\n",
    " - The most common standardization converts values to*** zero-centered\n",
    "units of standard deviation***. This subtracts a variable’s mean from each observation\n",
    "and then divides by the standard deviation (sd()). This could be done using math,\n",
    "such as:"
   ]
  },
  {
   "cell_type": "code",
   "execution_count": 92,
   "metadata": {},
   "outputs": [
    {
     "data": {
      "text/html": [
       "<ol class=list-inline>\n",
       "\t<li>0.298797101259072</li>\n",
       "\t<li>0.298797101259072</li>\n",
       "\t<li>-0.255214829381978</li>\n",
       "\t<li>0.298797101259072</li>\n",
       "\t<li>-0.439885472928994</li>\n",
       "\t<li>-0.809226760023028</li>\n",
       "\t<li>-1.54790933421109</li>\n",
       "\t<li>-0.624556116476011</li>\n",
       "\t<li>0.668138388353105</li>\n",
       "\t<li>0.298797101259072</li>\n",
       "</ol>\n"
      ],
      "text/latex": [
       "\\begin{enumerate*}\n",
       "\\item 0.298797101259072\n",
       "\\item 0.298797101259072\n",
       "\\item -0.255214829381978\n",
       "\\item 0.298797101259072\n",
       "\\item -0.439885472928994\n",
       "\\item -0.809226760023028\n",
       "\\item -1.54790933421109\n",
       "\\item -0.624556116476011\n",
       "\\item 0.668138388353105\n",
       "\\item 0.298797101259072\n",
       "\\end{enumerate*}\n"
      ],
      "text/markdown": [
       "1. 0.298797101259072\n",
       "2. 0.298797101259072\n",
       "3. -0.255214829381978\n",
       "4. 0.298797101259072\n",
       "5. -0.439885472928994\n",
       "6. -0.809226760023028\n",
       "7. -1.54790933421109\n",
       "8. -0.624556116476011\n",
       "9. 0.668138388353105\n",
       "10. 0.298797101259072\n",
       "\n",
       "\n"
      ],
      "text/plain": [
       " [1]  0.2987971  0.2987971 -0.2552148  0.2987971 -0.4398855 -0.8092268\n",
       " [7] -1.5479093 -0.6245561  0.6681384  0.2987971"
      ]
     },
     "metadata": {},
     "output_type": "display_data"
    }
   ],
   "source": [
    "head((sat.df$rides - mean(sat.df$rides)) / sd(sat.df$rides), 10)"
   ]
  },
  {
   "cell_type": "markdown",
   "metadata": {},
   "source": [
    "This process is so common that R includes the scale() function to perform\n",
    "it:"
   ]
  },
  {
   "cell_type": "code",
   "execution_count": 91,
   "metadata": {
    "scrolled": true
   },
   "outputs": [
    {
     "data": {
      "text/html": [
       "<table>\n",
       "<tbody>\n",
       "\t<tr><td> 0.2987971</td></tr>\n",
       "\t<tr><td> 0.2987971</td></tr>\n",
       "\t<tr><td>-0.2552148</td></tr>\n",
       "\t<tr><td> 0.2987971</td></tr>\n",
       "\t<tr><td>-0.4398855</td></tr>\n",
       "\t<tr><td>-0.8092268</td></tr>\n",
       "\t<tr><td>-1.5479093</td></tr>\n",
       "\t<tr><td>-0.6245561</td></tr>\n",
       "\t<tr><td> 0.6681384</td></tr>\n",
       "\t<tr><td> 0.2987971</td></tr>\n",
       "</tbody>\n",
       "</table>\n"
      ],
      "text/latex": [
       "\\begin{tabular}{l}\n",
       "\t  0.2987971\\\\\n",
       "\t  0.2987971\\\\\n",
       "\t -0.2552148\\\\\n",
       "\t  0.2987971\\\\\n",
       "\t -0.4398855\\\\\n",
       "\t -0.8092268\\\\\n",
       "\t -1.5479093\\\\\n",
       "\t -0.6245561\\\\\n",
       "\t  0.6681384\\\\\n",
       "\t  0.2987971\\\\\n",
       "\\end{tabular}\n"
      ],
      "text/markdown": [
       "\n",
       "|  0.2987971 | \n",
       "|  0.2987971 | \n",
       "| -0.2552148 | \n",
       "|  0.2987971 | \n",
       "| -0.4398855 | \n",
       "| -0.8092268 | \n",
       "| -1.5479093 | \n",
       "| -0.6245561 | \n",
       "|  0.6681384 | \n",
       "|  0.2987971 | \n",
       "\n",
       "\n"
      ],
      "text/plain": [
       "      [,1]      \n",
       " [1,]  0.2987971\n",
       " [2,]  0.2987971\n",
       " [3,] -0.2552148\n",
       " [4,]  0.2987971\n",
       " [5,] -0.4398855\n",
       " [6,] -0.8092268\n",
       " [7,] -1.5479093\n",
       " [8,] -0.6245561\n",
       " [9,]  0.6681384\n",
       "[10,]  0.2987971"
      ]
     },
     "metadata": {},
     "output_type": "display_data"
    }
   ],
   "source": [
    "head(scale(sat.df$rides), 10)"
   ]
  },
  {
   "cell_type": "markdown",
   "metadata": {},
   "source": [
    "we create a scaled version of sat.df\n",
    "called sat.std:"
   ]
  },
  {
   "cell_type": "code",
   "execution_count": 93,
   "metadata": {},
   "outputs": [
    {
     "data": {
      "text/html": [
       "<table>\n",
       "<thead><tr><th scope=col>weekend</th><th scope=col>num.child</th><th scope=col>rides</th><th scope=col>games</th><th scope=col>wait</th><th scope=col>clean</th><th scope=col>overall</th><th scope=col>logdist</th></tr></thead>\n",
       "<tbody>\n",
       "\t<tr><td>yes        </td><td>0          </td><td> 0.2987971 </td><td>-0.7561865 </td><td>-0.87575676</td><td> 0.1184417 </td><td>-0.2396868 </td><td>1.7886823  </td></tr>\n",
       "\t<tr><td>yes        </td><td>2          </td><td> 0.2987971 </td><td>-0.1408004 </td><td> 0.61236008</td><td>-0.2711692 </td><td> 0.8791830 </td><td>0.3226360  </td></tr>\n",
       "\t<tr><td>no         </td><td>1          </td><td>-0.2552148 </td><td> 0.1053541 </td><td> 0.05431626</td><td> 0.1184417 </td><td> 0.6305453 </td><td>1.1862757  </td></tr>\n",
       "\t<tr><td>yes        </td><td>0          </td><td> 0.2987971 </td><td>-0.7561865 </td><td>-0.41072025</td><td> 0.3132472 </td><td>-0.9856000 </td><td>0.2803106  </td></tr>\n",
       "\t<tr><td>no         </td><td>4          </td><td>-0.4398855 </td><td> 1.0899720 </td><td> 0.42634547</td><td>-0.2711692 </td><td> 1.0035019 </td><td>1.0385034  </td></tr>\n",
       "\t<tr><td>no         </td><td>5          </td><td>-0.8092268 </td><td> 0.1053541 </td><td>-2.08485169</td><td>-1.6348075 </td><td>-1.4828754 </td><td>0.1452467  </td></tr>\n",
       "</tbody>\n",
       "</table>\n"
      ],
      "text/latex": [
       "\\begin{tabular}{r|llllllll}\n",
       " weekend & num.child & rides & games & wait & clean & overall & logdist\\\\\n",
       "\\hline\n",
       "\t yes         & 0           &  0.2987971  & -0.7561865  & -0.87575676 &  0.1184417  & -0.2396868  & 1.7886823  \\\\\n",
       "\t yes         & 2           &  0.2987971  & -0.1408004  &  0.61236008 & -0.2711692  &  0.8791830  & 0.3226360  \\\\\n",
       "\t no          & 1           & -0.2552148  &  0.1053541  &  0.05431626 &  0.1184417  &  0.6305453  & 1.1862757  \\\\\n",
       "\t yes         & 0           &  0.2987971  & -0.7561865  & -0.41072025 &  0.3132472  & -0.9856000  & 0.2803106  \\\\\n",
       "\t no          & 4           & -0.4398855  &  1.0899720  &  0.42634547 & -0.2711692  &  1.0035019  & 1.0385034  \\\\\n",
       "\t no          & 5           & -0.8092268  &  0.1053541  & -2.08485169 & -1.6348075  & -1.4828754  & 0.1452467  \\\\\n",
       "\\end{tabular}\n"
      ],
      "text/markdown": [
       "\n",
       "weekend | num.child | rides | games | wait | clean | overall | logdist | \n",
       "|---|---|---|---|---|---|\n",
       "| yes         | 0           |  0.2987971  | -0.7561865  | -0.87575676 |  0.1184417  | -0.2396868  | 1.7886823   | \n",
       "| yes         | 2           |  0.2987971  | -0.1408004  |  0.61236008 | -0.2711692  |  0.8791830  | 0.3226360   | \n",
       "| no          | 1           | -0.2552148  |  0.1053541  |  0.05431626 |  0.1184417  |  0.6305453  | 1.1862757   | \n",
       "| yes         | 0           |  0.2987971  | -0.7561865  | -0.41072025 |  0.3132472  | -0.9856000  | 0.2803106   | \n",
       "| no          | 4           | -0.4398855  |  1.0899720  |  0.42634547 | -0.2711692  |  1.0035019  | 1.0385034   | \n",
       "| no          | 5           | -0.8092268  |  0.1053541  | -2.08485169 | -1.6348075  | -1.4828754  | 0.1452467   | \n",
       "\n",
       "\n"
      ],
      "text/plain": [
       "  weekend num.child rides      games      wait        clean      overall   \n",
       "1 yes     0          0.2987971 -0.7561865 -0.87575676  0.1184417 -0.2396868\n",
       "2 yes     2          0.2987971 -0.1408004  0.61236008 -0.2711692  0.8791830\n",
       "3 no      1         -0.2552148  0.1053541  0.05431626  0.1184417  0.6305453\n",
       "4 yes     0          0.2987971 -0.7561865 -0.41072025  0.3132472 -0.9856000\n",
       "5 no      4         -0.4398855  1.0899720  0.42634547 -0.2711692  1.0035019\n",
       "6 no      5         -0.8092268  0.1053541 -2.08485169 -1.6348075 -1.4828754\n",
       "  logdist  \n",
       "1 1.7886823\n",
       "2 0.3226360\n",
       "3 1.1862757\n",
       "4 0.2803106\n",
       "5 1.0385034\n",
       "6 0.1452467"
      ]
     },
     "metadata": {},
     "output_type": "display_data"
    }
   ],
   "source": [
    "sat.std = sat.df[ , -3] # sat but remove distance\n",
    "sat.std[ , 3:8] = scale(sat.std[ , 3:8])\n",
    "head(sat.std)"
   ]
  },
  {
   "cell_type": "markdown",
   "metadata": {},
   "source": [
    "> In this code, we first copied sat.df to the new data frame sat.std, dropping\n",
    "the untransformed values of distance with [ , -3] because we use logdist\n",
    "instead. Then we standardized each of the numeric columns. We do not standardize\n",
    "weekend because it is a factor variable rather than numeric.We leave num.child\n",
    "as is for now because we have not yet analyzed it."
   ]
  },
  {
   "cell_type": "markdown",
   "metadata": {},
   "source": [
    "After standardizing, you should check the results. A standardized variable should\n",
    "have a mean of 0 and values within a few units of the mean. Checking the\n",
    "summary():"
   ]
  },
  {
   "cell_type": "code",
   "execution_count": 94,
   "metadata": {},
   "outputs": [
    {
     "data": {
      "text/plain": [
       " weekend     num.child         rides              games         \n",
       " no :259   Min.   :0.000   Min.   :-2.47126   Min.   :-2.72542  \n",
       " yes:241   1st Qu.:0.000   1st Qu.:-0.62456   1st Qu.:-0.75619  \n",
       "           Median :2.000   Median :-0.07054   Median :-0.01772  \n",
       "           Mean   :1.738   Mean   : 0.00000   Mean   : 0.00000  \n",
       "           3rd Qu.:3.000   3rd Qu.: 0.66814   3rd Qu.: 0.72074  \n",
       "           Max.   :5.000   Max.   : 2.51484   Max.   : 2.68998  \n",
       "      wait              clean             overall            logdist        \n",
       " Min.   :-2.82891   Min.   :-2.60883   Min.   :-2.91254   Min.   :-3.67074  \n",
       " 1st Qu.:-0.71299   1st Qu.:-0.66078   1st Qu.:-0.73696   1st Qu.:-0.65352  \n",
       " Median : 0.05432   Median :-0.07636   Median :-0.05321   Median :-0.03327  \n",
       " Mean   : 0.00000   Mean   : 0.00000   Mean   : 0.00000   Mean   : 0.00000  \n",
       " 3rd Qu.: 0.70537   3rd Qu.: 0.70286   3rd Qu.: 0.63055   3rd Qu.: 0.71008  \n",
       " Max.   : 2.75153   Max.   : 2.45611   Max.   : 3.05476   Max.   : 2.53453  "
      ]
     },
     "metadata": {},
     "output_type": "display_data"
    }
   ],
   "source": [
    "summary(sat.std)"
   ]
  },
  {
   "cell_type": "markdown",
   "metadata": {},
   "source": [
    "There is a technical point we should mention when standardizing variables. If the\n",
    "outcome and predictors are all standardized, their means will be zero and thus the\n",
    "intercept will be zero. However, that does not imply that the intercept could be\n",
    "removed from the model. The model is estimated to minimize error in the overall\n",
    "fit, which includes error for the intercept. This implies that the intercept should\n",
    "remain in a model after standardization if it would be there otherwise (as it usually\n",
    "should be; see Sect. 7.5.1)."
   ]
  },
  {
   "cell_type": "markdown",
   "metadata": {},
   "source": [
    "## 7.4 Using Factors as Predictors"
   ]
  },
  {
   "cell_type": "markdown",
   "metadata": {},
   "source": [
    "For the next step, we wonder whether satisfaction is different for customers who\n",
    "come on the weekend, travel farther, or have more children.We add these predictors\n",
    "to the model using the standardized data:"
   ]
  },
  {
   "cell_type": "code",
   "execution_count": 97,
   "metadata": {},
   "outputs": [
    {
     "data": {
      "text/plain": [
       "\n",
       "Call:\n",
       "lm(formula = overall ~ rides + games + wait + clean + weekend + \n",
       "    logdist + num.child, data = sat.std)\n",
       "\n",
       "Residuals:\n",
       "     Min       1Q   Median       3Q      Max \n",
       "-1.59719 -0.40353  0.02127  0.41037  1.69667 \n",
       "\n",
       "Coefficients:\n",
       "            Estimate Std. Error t value Pr(>|t|)    \n",
       "(Intercept) -0.39256    0.04673  -8.400 4.82e-16 ***\n",
       "rides        0.20617    0.04209   4.899 1.31e-06 ***\n",
       "games        0.07229    0.03040   2.378   0.0178 *  \n",
       "wait         0.37979    0.02791  13.609  < 2e-16 ***\n",
       "clean        0.28902    0.04429   6.525 1.69e-10 ***\n",
       "weekendyes  -0.04800    0.05165  -0.929   0.3531    \n",
       "logdist      0.06420    0.02584   2.484   0.0133 *  \n",
       "num.child    0.23918    0.01719  13.914  < 2e-16 ***\n",
       "---\n",
       "Signif. codes:  0 '***' 0.001 '**' 0.01 '*' 0.05 '.' 0.1 ' ' 1\n",
       "\n",
       "Residual standard error: 0.5737 on 492 degrees of freedom\n",
       "Multiple R-squared:  0.6754,\tAdjusted R-squared:  0.6708 \n",
       "F-statistic: 146.3 on 7 and 492 DF,  p-value: < 2.2e-16\n"
      ]
     },
     "metadata": {},
     "output_type": "display_data"
    }
   ],
   "source": [
    "m3 = lm(overall ~ rides + games + wait + clean + weekend + logdist + \n",
    "                  num.child, data=sat.std)\n",
    "summary(m3)"
   ]
  },
  {
   "cell_type": "markdown",
   "metadata": {},
   "source": [
    "> The model summary shows a substantial improvement in fit (R-squared of 0.6786)\n",
    "and the coefficients for logdist and num.child are significantly greater than\n",
    "zero, suggesting that people who travel further and have more children have higher\n",
    "overall satisfaction ratings.\n",
    "\n",
    "> Notice that the coefficient for weekend is labeled weekendyes, which seems a\n",
    "bit unusual. Recall that weekend is a factor variable, but a factor doesn’t fit naturally\n",
    "in our linear model; you can’t multiply yes by a number.\n",
    " - R handles this by converting the data to a numeric value where 1 is assigned to the value of yes and 0 to no. It labels the output so that we know which direction the coefficient applies to.\n",
    " - So, we can interpret the coefficient as meaning that on average those who come on\n",
    "the weekend rate their overall satisfaction −0.048 standard units (standard deviations)\n",
    "lower than those who come on a weekday."
   ]
  },
  {
   "cell_type": "markdown",
   "metadata": {},
   "source": [
    "When your data includes factors, you must be careful about the data type. \n",
    " - For example,\n",
    "num.child is a numeric variable, ranging 0–5, but it doesn’t necessarily\n",
    "make sense to treat it as a number, as we did in m3. In doing so, we implicitly assume\n",
    "that satisfaction goes up or down linearly as a function of the number of children,\n",
    "and that the effect is the same for each additional child.\n",
    "\n",
    "We correct this by converting num.child to a factor and re-estimating the\n",
    "model:"
   ]
  },
  {
   "cell_type": "code",
   "execution_count": 99,
   "metadata": {},
   "outputs": [
    {
     "data": {
      "text/plain": [
       "\n",
       "Call:\n",
       "lm(formula = overall ~ rides + games + wait + clean + weekend + \n",
       "    logdist + num.child.factor, data = sat.std)\n",
       "\n",
       "Residuals:\n",
       "     Min       1Q   Median       3Q      Max \n",
       "-1.24789 -0.32694 -0.00731  0.31878  1.50670 \n",
       "\n",
       "Coefficients:\n",
       "                  Estimate Std. Error t value Pr(>|t|)    \n",
       "(Intercept)       -0.72558    0.04429 -16.383  < 2e-16 ***\n",
       "rides              0.22159    0.03489   6.351 4.91e-10 ***\n",
       "games              0.04378    0.02517   1.740   0.0826 .  \n",
       "wait               0.38332    0.02308  16.607  < 2e-16 ***\n",
       "clean              0.29639    0.03668   8.080 5.11e-15 ***\n",
       "weekendyes        -0.02307    0.04265  -0.541   0.5888    \n",
       "logdist            0.03002    0.02144   1.400   0.1621    \n",
       "num.child.factor1  1.06476    0.07036  15.134  < 2e-16 ***\n",
       "num.child.factor2  1.08735    0.05565  19.540  < 2e-16 ***\n",
       "num.child.factor3  1.02900    0.06933  14.841  < 2e-16 ***\n",
       "num.child.factor4  0.98543    0.07928  12.429  < 2e-16 ***\n",
       "num.child.factor5  1.05185    0.10234  10.278  < 2e-16 ***\n",
       "---\n",
       "Signif. codes:  0 '***' 0.001 '**' 0.01 '*' 0.05 '.' 0.1 ' ' 1\n",
       "\n",
       "Residual standard error: 0.4733 on 488 degrees of freedom\n",
       "Multiple R-squared:  0.7809,\tAdjusted R-squared:  0.7759 \n",
       "F-statistic: 158.1 on 11 and 488 DF,  p-value: < 2.2e-16\n"
      ]
     },
     "metadata": {},
     "output_type": "display_data"
    }
   ],
   "source": [
    "sat.std$num.child.factor = factor(sat.std$num.child)\n",
    "m4 = lm(overall ∼ rides + games + wait + clean + weekend + logdist + \n",
    "                  num.child.factor, data=sat.std)\n",
    "summary(m4)"
   ]
  },
  {
   "cell_type": "markdown",
   "metadata": {},
   "source": [
    "> We now see that there are five fitted coefficients for num.child.factor: one\n",
    "for parties with one child, one for parties with two children, etc. There is not a coefficient for num.child.factor0, because it is the baseline level to which\n",
    "the other coefficients are added when they apply. \n",
    "\n",
    "> We interpret each coefficient as the difference between that level of the factor and the baseline level. So, parties with 1 child rate their overall satisfaction on average 1.06476 standard deviations higher\n",
    "than parties without children.\n",
    "- Internally, R has created a new variable num.child.factor1 that is equal to 1\n",
    "for those cases where num.child.factor represents one child (a factor level of\n",
    "“1”), and is 0 otherwise. Similarly, num.child.factor2 is 1 for cases with two\n",
    "children, and 0 otherwise, and so forth. The coefficient for num.child.factor2\n",
    "is 1.08735, meaning that people with two children rate their overall satisfaction on\n",
    "average a full standard deviation higher than those with no children.\n",
    "\n",
    "> A striking thing about m4 is that the increase in overall satisfaction is about the\n",
    "same regardless of how many children there are in the party—about one standard\n",
    "deviation higher for any number of children. \n",
    " - This suggests that we don’t actually\n",
    "need to estimate a different increase for each number of children. In fact, if the\n",
    "increase is the same for one child as for five children, attempting to fit a model that\n",
    "scales increasingly per child would result in a less accurate estimate."
   ]
  },
  {
   "cell_type": "markdown",
   "metadata": {},
   "source": [
    "Instead, we declare a new variable called has.child that is TRUE when the party\n",
    "has children in it and FALSE when the party does not have children. We then\n",
    "estimate the model using that new factor variable.We also drop weekend from the\n",
    "model because it doesn’t seem to be a significant predictor:"
   ]
  },
  {
   "cell_type": "code",
   "execution_count": 100,
   "metadata": {},
   "outputs": [
    {
     "data": {
      "text/plain": [
       "\n",
       "Call:\n",
       "lm(formula = overall ~ rides + games + wait + clean + logdist + \n",
       "    has.child, data = sat.std)\n",
       "\n",
       "Residuals:\n",
       "     Min       1Q   Median       3Q      Max \n",
       "-1.25789 -0.33632 -0.00457  0.33153  1.44988 \n",
       "\n",
       "Coefficients:\n",
       "              Estimate Std. Error t value Pr(>|t|)    \n",
       "(Intercept)   -0.73693    0.03856 -19.113  < 2e-16 ***\n",
       "rides          0.22074    0.03461   6.378 4.14e-10 ***\n",
       "games          0.04517    0.02506   1.803    0.072 .  \n",
       "wait           0.38441    0.02296  16.745  < 2e-16 ***\n",
       "clean          0.29650    0.03643   8.139 3.27e-15 ***\n",
       "logdist        0.03323    0.02120   1.567    0.118    \n",
       "has.childTRUE  1.05577    0.04622  22.841  < 2e-16 ***\n",
       "---\n",
       "Signif. codes:  0 '***' 0.001 '**' 0.01 '*' 0.05 '.' 0.1 ' ' 1\n",
       "\n",
       "Residual standard error: 0.472 on 493 degrees of freedom\n",
       "Multiple R-squared:  0.7799,\tAdjusted R-squared:  0.7772 \n",
       "F-statistic: 291.1 on 6 and 493 DF,  p-value: < 2.2e-16\n"
      ]
     },
     "metadata": {},
     "output_type": "display_data"
    }
   ],
   "source": [
    "sat.std$has.child = factor(sat.std$num.child > 0)\n",
    "m5 = lm(overall ∼ rides + games + wait + clean + logdist + has.child,\n",
    "                  data=sat.std)\n",
    "summary(m5)"
   ]
  },
  {
   "cell_type": "markdown",
   "metadata": {},
   "source": [
    "> The change in R-squared between model m4 and\n",
    "m5 is negligible, suggesting that our simplification did not deteriorate the\n",
    "model fit.\n",
    "\n",
    "> Model m5 estimates overall satisfaction to be about one standard deviation higher\n",
    "for parties with children. However, one might now wonder how children influence\n",
    "other aspects of the ratings. \n",
    " - For instance, is the relationship between satisfaction\n",
    "and waiting times different for parties with and without children? One might guess\n",
    "from experience that wait time would be more important to parties with children. To\n",
    "explore this question, we need to incorporate ***interactions*** into the model."
   ]
  },
  {
   "cell_type": "markdown",
   "metadata": {},
   "source": [
    "## 7.5 Interaction Terms"
   ]
  },
  {
   "cell_type": "markdown",
   "metadata": {},
   "source": [
    "We can include an interaction of two terms by using the **:** operator between variables\n",
    "in a formula.\n",
    "\n",
    "We create a new model with interactions between the satisfaction ratings and two\n",
    "variables that describe the visit: no.child and weekend:"
   ]
  },
  {
   "cell_type": "code",
   "execution_count": 104,
   "metadata": {},
   "outputs": [
    {
     "data": {
      "text/plain": [
       "\n",
       "Call:\n",
       "lm(formula = overall ~ rides + games + wait + clean + weekend + \n",
       "    logdist + has.child + rides:has.child + games:has.child + \n",
       "    wait:has.child + clean:has.child + rides:weekend + games:weekend + \n",
       "    wait:weekend + clean:weekend, data = sat.std)\n",
       "\n",
       "Residuals:\n",
       "     Min       1Q   Median       3Q      Max \n",
       "-1.20261 -0.30320  0.00773  0.29361  1.45689 \n",
       "\n",
       "Coefficients:\n",
       "                     Estimate Std. Error t value Pr(>|t|)    \n",
       "(Intercept)         -0.713325   0.042449 -16.804  < 2e-16 ***\n",
       "rides                0.148643   0.067163   2.213 0.027351 *  \n",
       "games                0.078536   0.048690   1.613 0.107400    \n",
       "wait                 0.132495   0.043805   3.025 0.002621 ** \n",
       "clean                0.295242   0.078623   3.755 0.000194 ***\n",
       "weekendyes          -0.020619   0.040716  -0.506 0.612804    \n",
       "logdist              0.024894   0.020425   1.219 0.223508    \n",
       "has.childTRUE        1.046062   0.044278  23.625  < 2e-16 ***\n",
       "rides:has.childTRUE  0.055652   0.072014   0.773 0.440021    \n",
       "games:has.childTRUE -0.064009   0.052184  -1.227 0.220568    \n",
       "wait:has.childTRUE   0.342187   0.046784   7.314 1.08e-12 ***\n",
       "clean:has.childTRUE  0.008419   0.078426   0.107 0.914560    \n",
       "rides:weekendyes     0.066933   0.066793   1.002 0.316800    \n",
       "games:weekendyes     0.022869   0.048446   0.472 0.637099    \n",
       "wait:weekendyes      0.035290   0.043935   0.803 0.422240    \n",
       "clean:weekendyes    -0.037137   0.070036  -0.530 0.596174    \n",
       "---\n",
       "Signif. codes:  0 '***' 0.001 '**' 0.01 '*' 0.05 '.' 0.1 ' ' 1\n",
       "\n",
       "Residual standard error: 0.4465 on 484 degrees of freedom\n",
       "Multiple R-squared:  0.8067,\tAdjusted R-squared:  0.8007 \n",
       "F-statistic: 134.6 on 15 and 484 DF,  p-value: < 2.2e-16\n"
      ]
     },
     "metadata": {},
     "output_type": "display_data"
    }
   ],
   "source": [
    "m6 = lm(overall~rides + games + wait + clean + weekend + logdist + \n",
    "                has.child + rides:has.child + games:has.child +wait:has.child+  \n",
    "                clean:has.child + rides:weekend + games:weekend +wait:weekend+  \n",
    "                clean:weekend, data=sat.std)\n",
    "summary(m6)"
   ]
  },
  {
   "cell_type": "markdown",
   "metadata": {},
   "source": [
    "> The model object m6 now includes eight interaction terms between ratings for features\n",
    "of the park and no.child and weekend. Only one of these interactions\n",
    "is significant: the wait:no.child interaction\n",
    " - This suggests we could drop the\n",
    "non-significant interactions to create a new model m7:"
   ]
  },
  {
   "cell_type": "code",
   "execution_count": 106,
   "metadata": {},
   "outputs": [
    {
     "data": {
      "text/plain": [
       "\n",
       "Call:\n",
       "lm(formula = overall ~ rides + games + wait + clean + logdist + \n",
       "    has.child + wait:has.child, data = sat.std)\n",
       "\n",
       "Residuals:\n",
       "     Min       1Q   Median       3Q      Max \n",
       "-1.18307 -0.30375 -0.00022  0.32294  1.41932 \n",
       "\n",
       "Coefficients:\n",
       "                   Estimate Std. Error t value Pr(>|t|)    \n",
       "(Intercept)        -0.72869    0.03639 -20.023  < 2e-16 ***\n",
       "rides               0.21428    0.03267   6.560 1.37e-10 ***\n",
       "games               0.04970    0.02365   2.102   0.0361 *  \n",
       "wait                0.15195    0.03666   4.145 3.99e-05 ***\n",
       "clean               0.28797    0.03439   8.374 5.84e-16 ***\n",
       "logdist             0.02767    0.02002   1.382   0.1676    \n",
       "has.childTRUE       1.04898    0.04362  24.047  < 2e-16 ***\n",
       "wait:has.childTRUE  0.34105    0.04339   7.861 2.43e-14 ***\n",
       "---\n",
       "Signif. codes:  0 '***' 0.001 '**' 0.01 '*' 0.05 '.' 0.1 ' ' 1\n",
       "\n",
       "Residual standard error: 0.4453 on 492 degrees of freedom\n",
       "Multiple R-squared:  0.8045,\tAdjusted R-squared:  0.8017 \n",
       "F-statistic: 289.1 on 7 and 492 DF,  p-value: < 2.2e-16\n"
      ]
     },
     "metadata": {},
     "output_type": "display_data"
    }
   ],
   "source": [
    "m7 = lm(overall ~ rides + games + wait + clean + logdist + has.child + \n",
    "                  wait:has.child, data=sat.std)\n",
    "summary(m7)"
   ]
  },
  {
   "cell_type": "markdown",
   "metadata": {},
   "source": [
    "> In these results, we see that attending the park with children is a predictor of higher\n",
    "satisfaction, and ***waiting time is more important predictor among those with children (wait:has.childTRUE) than those without children***.We don’t know the reason\n",
    "for this, but perhaps children go on more rides and their parents are therefore more\n",
    "influenced by wait times."
   ]
  },
  {
   "cell_type": "markdown",
   "metadata": {},
   "source": [
    "There are many more such questions one could pose from results like these; a crucial\n",
    "step in analysis is to think carefully about the implications and where one might\n",
    "be able to make a product or market intervention. When considering actions to take,\n",
    "it is especially important to remember that ***the model assesses association, not causation.***\n",
    "Possible changes in outcome should be viewed as hypotheses suggested by\n",
    "the model, to be confirmed separately."
   ]
  },
  {
   "cell_type": "code",
   "execution_count": 108,
   "metadata": {},
   "outputs": [],
   "source": [
    "library(coefplot)"
   ]
  },
  {
   "cell_type": "code",
   "execution_count": 109,
   "metadata": {},
   "outputs": [
    {
     "data": {},
     "metadata": {},
     "output_type": "display_data"
    },
    {
     "data": {
      "image/png": "[encoded data removed]",
      "text/plain": [
       "plot without title"
      ]
     },
     "metadata": {},
     "output_type": "display_data"
    }
   ],
   "source": [
    "coefplot(m7, intercept=F, outerCI =1.96, lwdOuter=1.5, \n",
    "         ylab='Rating of Feature', xlab='Association with overall Satisfaction')"
   ]
  },
  {
   "cell_type": "markdown",
   "metadata": {},
   "source": [
    "> Fig. 7.8. Satisfaction drivers for visitors to an amusement park (simulated). The model reveals\n",
    "that the variable most strongly (and positively) associated with satisfaction is visiting the park\n",
    "with children. Satisfaction with waiting time is a stronger predictor of overall satisfaction\n",
    "among visitors with children than those without, as shown in the wait:has.childTRUE\n",
    "interaction. Of the individual park features, satisfaction with cleanliness is most associated\n",
    "with overall satisfaction."
   ]
  },
  {
   "cell_type": "markdown",
   "metadata": {},
   "source": [
    "### 7.5.1 Language Brief: Advanced Formula Syntax*"
   ]
  },
  {
   "cell_type": "markdown",
   "metadata": {},
   "source": [
    "As we’ve seen, you can include an interaction between x and z by including x:z in\n",
    "the formula. If you want to include two variables along with their interaction, you\n",
    "can use x*z, which is the equivalent to writingx + z + x:z.\n",
    "\n",
    "To include all of the predictors in your data frame in the model, use a . , writing\n",
    "write y ∼ .. You can also omit any variable using -x. Thus, y ∼ . - xmeans\n",
    "“include all the variables except x.”"
   ]
  },
  {
   "cell_type": "markdown",
   "metadata": {},
   "source": [
    "## 7.6 Caution! Overfitting"
   ]
  },
  {
   "cell_type": "markdown",
   "metadata": {},
   "source": [
    "Now that we’ve seen the complete process of creating a model, from initial data\n",
    "inspection to the potential implications, we have a caution about linear models. As\n",
    "you become more comfortable with linear models, you may want to put more and\n",
    "more predictors into your equation. Be careful about that.\n",
    "\n",
    "This process of adding too many variables and ending up with a less precise or inappropriate\n",
    "model is called overfitting. \n",
    " - One way to avoid it is to keep a close eye\n",
    "on the standard errors for the coefficients; small standard errors are an indicator that\n",
    "there is sufficient data to estimate the model. \n",
    " - Another approach is to select a subset\n",
    "of the data to hold out and not use to estimate the model. After fitting the model, use\n",
    "predict() on the hold out data and see how well it performs. Overfitted models\n",
    "will perform poorly when predicting outcomes for holdout data. \n",
    "\n",
    "Stepwise model selection is a traditional approach to select variables while attempting to avoid overfitting;\n",
    "the step() function we saw in Sect. 6.5.3 works for lm objects the same\n",
    "as for aov models.\n",
    "\n",
    "We recommend to keep models as parsimonious as possible. Although it is tempting\n",
    "to create large, impressive, omnibus models, it is usually more valuable in\n",
    "marketing practice to identify a few interventions with clear and confident interpretations."
   ]
  },
  {
   "cell_type": "markdown",
   "metadata": {},
   "source": [
    "## 7.7 Recommended Procedure for Linear Model Fitting"
   ]
  },
  {
   "cell_type": "markdown",
   "metadata": {},
   "source": [
    "We followed a lengthy process to arrive at the final model m7, and it is helpful to\n",
    "recount the general steps we recommend in creating such a linear model.\n",
    "\n",
    "1. Inspect the data to make sure it is clean and has the structure you expect, following\n",
    "the outline in Sect. 3.3.3.\n",
    "\n",
    "2. Check the distributions of the variables to make sure they are not highly skewed\n",
    "(Sect. 7.2.1). If one is skewed, consider transforming it (Sect. 4.5.4).\n",
    "\n",
    "3. Examine the bivariate scatterplots and correlation matrix (Sect. 7.2.1) to see\n",
    "whether there are any extremely correlated variables (such as r > 0.9, or several\n",
    "with r > 0.8). If so, omit some variables or consider transforming them if\n",
    "needed; see Sect. 9.1 for further discussion.\n",
    "\n",
    "4. If you wish to estimate coefficients on a consistent scale, standardize the data\n",
    "with scale() (Sect. 7.3.3).\n",
    "\n",
    "5. After fitting a model, check the residual quantiles in the output. The residuals\n",
    "show how well the model accounts for the individual observations (Sect. 7.2.4).\n",
    "\n",
    "6. Check the standard model plots using plot(), which will help you judge\n",
    "whether a linear model is appropriate or whether there is nonlinearity, and will\n",
    "identify potential outliers in the data (Sect. 7.2.4).\n",
    "\n",
    "7. Try several models and compare them for overall interpretability and model fit\n",
    "by inspecting the residuals’ spread and overall R2 (Sect. 7.3.1). If the models\n",
    "are nested, you could also use anova() for comparison (Sect. 6.5.1) .\n",
    "\n",
    "8. Report the confidence intervals of the estimates with your interpretation and\n",
    "recommendations (Sect. 7.3)."
   ]
  },
  {
   "cell_type": "markdown",
   "metadata": {},
   "source": [
    "# 7.8 Bayesian Linear Models with MCMCregress()*"
   ]
  },
  {
   "cell_type": "markdown",
   "metadata": {},
   "source": [
    "In this section, we review how the satisfaction analysis could be performed with\n",
    "Bayesian methods. The Bayesian method does this by ***sampling the posterior distribution of estimated\n",
    "model parameters*** (Sect. 6.6.2), using a procedure known as Markov-chain Monte\n",
    "Carlo (MCMC)\n",
    "- The package MCMCpack includes MCMCregress(), which estimates Bayesian\n",
    "linear models using samples from the posterior distribution; it makes a Bayesian\n",
    "estimation of the model as easy as calling lm()."
   ]
  },
  {
   "cell_type": "code",
   "execution_count": 117,
   "metadata": {},
   "outputs": [
    {
     "name": "stderr",
     "output_type": "stream",
     "text": [
      "Warning message:\n",
      "\"package 'MCMCpack' was built under R version 3.4.4\"Loading required package: coda\n",
      "Warning message:\n",
      "\"package 'coda' was built under R version 3.4.4\"Loading required package: MASS\n",
      "Warning message:\n",
      "\"package 'MASS' was built under R version 3.4.4\"##\n",
      "## Markov Chain Monte Carlo Package (MCMCpack)\n",
      "## Copyright (C) 2003-2018 Andrew D. Martin, Kevin M. Quinn, and Jong Hee Park\n",
      "##\n",
      "## Support provided by the U.S. National Science Foundation\n",
      "## (Grants SES-0350646 and SES-0350613)\n",
      "##\n"
     ]
    }
   ],
   "source": [
    "library(MCMCpack)"
   ]
  },
  {
   "cell_type": "code",
   "execution_count": 125,
   "metadata": {},
   "outputs": [
    {
     "data": {
      "text/plain": [
       "\n",
       "Iterations = 1001:11000\n",
       "Thinning interval = 1 \n",
       "Number of chains = 1 \n",
       "Sample size per chain = 10000 \n",
       "\n",
       "1. Empirical mean and standard deviation for each variable,\n",
       "   plus standard error of the mean:\n",
       "\n",
       "                       Mean      SD  Naive SE Time-series SE\n",
       "(Intercept)        -0.72884 0.03657 0.0003657      0.0003657\n",
       "rides               0.21426 0.03304 0.0003304      0.0003256\n",
       "games               0.04985 0.02371 0.0002371      0.0002371\n",
       "wait                0.15196 0.03661 0.0003661      0.0003661\n",
       "clean               0.28759 0.03468 0.0003468      0.0003468\n",
       "logdist             0.02739 0.02005 0.0002005      0.0002005\n",
       "has.childTRUE       1.04906 0.04386 0.0004386      0.0004386\n",
       "wait:has.childTRUE  0.34149 0.04317 0.0004317      0.0004317\n",
       "sigma2              0.19884 0.01274 0.0001274      0.0001274\n",
       "\n",
       "2. Quantiles for each variable:\n",
       "\n",
       "                        2.5%      25%      50%      75%   97.5%\n",
       "(Intercept)        -0.798838 -0.75363 -0.72898 -0.70444 -0.6565\n",
       "rides               0.148305  0.19214  0.21455  0.23633  0.2791\n",
       "games               0.003118  0.03404  0.04974  0.06534  0.0971\n",
       "wait                0.080936  0.12738  0.15162  0.17672  0.2240\n",
       "clean               0.219686  0.26419  0.28771  0.31103  0.3554\n",
       "logdist            -0.011915  0.01404  0.02730  0.04093  0.0667\n",
       "has.childTRUE       0.961883  1.01996  1.04924  1.07833  1.1346\n",
       "wait:has.childTRUE  0.256077  0.31228  0.34129  0.37110  0.4255\n",
       "sigma2              0.175458  0.18986  0.19823  0.20702  0.2254\n"
      ]
     },
     "metadata": {},
     "output_type": "display_data"
    }
   ],
   "source": [
    "m7.bayes = MCMCregress(overall ~ rides + games + wait + clean + logdist +\n",
    "                                 has.child + wait:has.child, data=sat.std)\n",
    "summary(m7.bayes)"
   ]
  },
  {
   "cell_type": "markdown",
   "metadata": {},
   "source": [
    "> The important thing to understand is that MCMCregress()\n",
    "has drawn 10,000 samples from the estimated distribution of possible coefficients\n",
    "for model m7. It then describes those 10,000 sets of estimates in two ways: \n",
    "- using ***central tendency statistics*** (mean and standard deviation, in the output section labeled “1.”), \n",
    "- and again using distribution quantiles (in output section “2.”).\n",
    "\n",
    "> There, we\n",
    "saw that rides had an estimated coefficient of 0.21428; here, the mean of the\n",
    "Bayesian estimates is 0.21426 and the median is 0.21455. Similarly, lm() estimated\n",
    "wait:has.child as 0.34105; the mean Bayesian estimate is 0.34149 and the median\n",
    "is  0.34129. The coefficients estimated by the classical and Bayesian models are\n",
    "nearly identical.\n",
    "\n",
    "> Despite the similar model coefficients, there are two notable differences between\n",
    "this output and the output from lm(). \n",
    " - First, it includes 2. Quantiles ...\n",
    "because the Bayesian posterior distribution may be asymmetric; the distribution of\n",
    "estimates could be skewed if that provided a better fit to the data.\n",
    " - Second, the Bayesian output does not include statistical tests or p-values; null\n",
    "hypothesis tests are not emphasized in the Bayesian paradigm. Instead, to determine whether a parameter is likely to be non-zero (or to compare it to any\n",
    "other value), check the 2.5 and 97.5 %’iles and directly interpret the credible interval.\n",
    "   * For instance, in the quantiles above, the 2.5–97.5 %’iles for logdist range\n",
    "(−0.01092,0.06869) and we conclude that the coefficient for logdist is not credibly\n",
    "different from 0 at a level of 95% confidence. However, all of the other coefficients\n",
    "are different from zero."
   ]
  },
  {
   "cell_type": "markdown",
   "metadata": {},
   "source": [
    "If the Bayesian estimates are so similar to those from lm(), what is the advantage?\n",
    "The results here are similar for two reasons. \n",
    " - First, we have plenty of data and a\n",
    "well-behaved model. \n",
    " - Second, classical methods such as lm() are eminently suited\n",
    "to estimation of linear models. In Chap. 9 we examine hierarchical Bayesian models,\n",
    "in which more advantages of the Bayesian approach emerge; we later continue that\n",
    "investigation with choice models in Chap. 13.\n",
    "\n",
    "We also believe, as noted in Sect. 6.6.1, that inferences such as hypothesis testing\n",
    "are clearer and more interpretable in the Bayesian approach. In fitting models, it is\n",
    "not always the case that classical and Bayesian estimates are so similar, and when\n",
    "they differ, we are ***more inclined to trust the Bayesian estimates.***"
   ]
  }
 ],
 "metadata": {
  "kernelspec": {
   "display_name": "R",
   "language": "R",
   "name": "ir"
  },
  "language_info": {
   "codemirror_mode": "r",
   "file_extension": ".r",
   "mimetype": "text/x-r-source",
   "name": "R",
   "pygments_lexer": "r",
   "version": "3.4.3"
  }
 },
 "nbformat": 4,
 "nbformat_minor": 2
}
